{
  "nbformat": 4,
  "nbformat_minor": 0,
  "metadata": {
    "colab": {
      "name": "SJ2 Airbnb Price Predictions Based on Season.ipynb",
      "version": "0.3.2",
      "provenance": [],
      "include_colab_link": true
    },
    "kernelspec": {
      "name": "python3",
      "display_name": "Python 3"
    },
    "accelerator": "GPU"
  },
  "cells": [
    {
      "cell_type": "markdown",
      "metadata": {
        "id": "view-in-github",
        "colab_type": "text"
      },
      "source": [
        "<a href=\"https://colab.research.google.com/github/ShreyasJothish/airbnb_pricing_DS/blob/master/SJ2_Airbnb_Price_Predictions_Based_on_Season.ipynb\" target=\"_parent\"><img src=\"https://colab.research.google.com/assets/colab-badge.svg\" alt=\"Open In Colab\"/></a>"
      ]
    },
    {
      "cell_type": "markdown",
      "metadata": {
        "id": "G2I2ists0gbO",
        "colab_type": "text"
      },
      "source": [
        "# Airbnb Price Predictions based on season.\n",
        "\n",
        "[Inside AirBnB](http://insideairbnb.com) have curated data that allows us to explore how Airbnb is really being used in cities around the world. For our analysis, we shall be using publicly available information about **Los Angeles, California, United States** Airbnb's listings as of **2019-05-05**.\n",
        "\n",
        "This specific notebook tries to explore the relationship between AirBnB pricing with respect to seasonality.\n",
        "\n",
        "**Date Compiled**: \n",
        "05 May, 2019\n",
        "\n",
        "**Country/City**:\n",
        "Los Angeles\n",
        "\n",
        "**File Name**:\n",
        "[calendar.csv.gz](http://data.insideairbnb.com/united-states/ca/los-angeles/2019-05-05/data/calendar.csv.gz)\n",
        "\n",
        "**Description**:\n",
        "Detailed Calendar Data for listings in Los Angeles\n",
        "\n"
      ]
    },
    {
      "cell_type": "markdown",
      "metadata": {
        "id": "CmKW7rCZ5vFD",
        "colab_type": "text"
      },
      "source": [
        "## Exploratory Data Analysis (EDA)\n",
        "\n",
        "**Reference**:\n",
        "https://nbviewer.jupyter.org/github/PBPatil/Exploratory_Data_Analysis-Wine_Quality_Dataset/blob/master/winequality_white.ipynb\n",
        "\n",
        "\n"
      ]
    },
    {
      "cell_type": "markdown",
      "metadata": {
        "id": "FG7mhJ-R67P_",
        "colab_type": "text"
      },
      "source": [
        "### Generic imports\n",
        "\n",
        "Importanting most common libraries which shall be used for EDA."
      ]
    },
    {
      "cell_type": "code",
      "metadata": {
        "id": "Cb8Y320n7SkP",
        "colab_type": "code",
        "colab": {
          "base_uri": "https://localhost:8080/",
          "height": 245
        },
        "outputId": "4185942b-9aa5-413a-9198-9cbbd8518d7d"
      },
      "source": [
        "!pip install -U seaborn"
      ],
      "execution_count": 1,
      "outputs": [
        {
          "output_type": "stream",
          "text": [
            "Requirement already up-to-date: seaborn in /usr/local/lib/python3.6/dist-packages (0.9.0)\n",
            "Requirement already satisfied, skipping upgrade: numpy>=1.9.3 in /usr/local/lib/python3.6/dist-packages (from seaborn) (1.16.4)\n",
            "Requirement already satisfied, skipping upgrade: pandas>=0.15.2 in /usr/local/lib/python3.6/dist-packages (from seaborn) (0.24.2)\n",
            "Requirement already satisfied, skipping upgrade: scipy>=0.14.0 in /usr/local/lib/python3.6/dist-packages (from seaborn) (1.3.0)\n",
            "Requirement already satisfied, skipping upgrade: matplotlib>=1.4.3 in /usr/local/lib/python3.6/dist-packages (from seaborn) (3.0.3)\n",
            "Requirement already satisfied, skipping upgrade: pytz>=2011k in /usr/local/lib/python3.6/dist-packages (from pandas>=0.15.2->seaborn) (2018.9)\n",
            "Requirement already satisfied, skipping upgrade: python-dateutil>=2.5.0 in /usr/local/lib/python3.6/dist-packages (from pandas>=0.15.2->seaborn) (2.5.3)\n",
            "Requirement already satisfied, skipping upgrade: kiwisolver>=1.0.1 in /usr/local/lib/python3.6/dist-packages (from matplotlib>=1.4.3->seaborn) (1.1.0)\n",
            "Requirement already satisfied, skipping upgrade: pyparsing!=2.0.4,!=2.1.2,!=2.1.6,>=2.0.1 in /usr/local/lib/python3.6/dist-packages (from matplotlib>=1.4.3->seaborn) (2.4.0)\n",
            "Requirement already satisfied, skipping upgrade: cycler>=0.10 in /usr/local/lib/python3.6/dist-packages (from matplotlib>=1.4.3->seaborn) (0.10.0)\n",
            "Requirement already satisfied, skipping upgrade: six>=1.5 in /usr/local/lib/python3.6/dist-packages (from python-dateutil>=2.5.0->pandas>=0.15.2->seaborn) (1.12.0)\n",
            "Requirement already satisfied, skipping upgrade: setuptools in /usr/local/lib/python3.6/dist-packages (from kiwisolver>=1.0.1->matplotlib>=1.4.3->seaborn) (41.0.1)\n"
          ],
          "name": "stdout"
        }
      ]
    },
    {
      "cell_type": "code",
      "metadata": {
        "id": "hN-YFLXJId8x",
        "colab_type": "code",
        "colab": {}
      },
      "source": [
        "import pandas as pd\n",
        "import numpy as np\n",
        "import seaborn as sns\n",
        "import matplotlib.pyplot as plt"
      ],
      "execution_count": 0,
      "outputs": []
    },
    {
      "cell_type": "markdown",
      "metadata": {
        "id": "hLj7DLcm7bsb",
        "colab_type": "text"
      },
      "source": [
        "### Data Fetching\n",
        "\n",
        "Get the **calendar.csv.gz** from Inside AirBnB and extract it."
      ]
    },
    {
      "cell_type": "code",
      "metadata": {
        "id": "yUWM4v-ok7Gw",
        "colab_type": "code",
        "outputId": "b2c85fd7-7db0-412c-bf5c-3a5790ec24a1",
        "colab": {
          "base_uri": "https://localhost:8080/",
          "height": 208
        }
      },
      "source": [
        "!wget \"http://data.insideairbnb.com/united-states/ca/los-angeles/2019-05-05/data/calendar.csv.gz\"\n",
        "!gunzip calendar.csv.gz"
      ],
      "execution_count": 3,
      "outputs": [
        {
          "output_type": "stream",
          "text": [
            "--2019-06-28 02:34:47--  http://data.insideairbnb.com/united-states/ca/los-angeles/2019-05-05/data/calendar.csv.gz\n",
            "Resolving data.insideairbnb.com (data.insideairbnb.com)... 52.216.169.114\n",
            "Connecting to data.insideairbnb.com (data.insideairbnb.com)|52.216.169.114|:80... connected.\n",
            "HTTP request sent, awaiting response... 200 OK\n",
            "Length: 47960382 (46M) [application/x-gzip]\n",
            "Saving to: ‘calendar.csv.gz’\n",
            "\n",
            "calendar.csv.gz     100%[===================>]  45.74M  24.9MB/s    in 1.8s    \n",
            "\n",
            "2019-06-28 02:34:50 (24.9 MB/s) - ‘calendar.csv.gz’ saved [47960382/47960382]\n",
            "\n"
          ],
          "name": "stdout"
        }
      ]
    },
    {
      "cell_type": "markdown",
      "metadata": {
        "id": "BdwEhuB08jVr",
        "colab_type": "text"
      },
      "source": [
        "### Load Dataset"
      ]
    },
    {
      "cell_type": "code",
      "metadata": {
        "id": "-zRqQHw9Pfrd",
        "colab_type": "code",
        "colab": {
          "base_uri": "https://localhost:8080/",
          "height": 202
        },
        "outputId": "a594b752-ffa6-4a3a-d0ad-1f30ed0846f6"
      },
      "source": [
        "df_cal = pd.read_csv('calendar.csv')\n",
        "df_cal.head()"
      ],
      "execution_count": 4,
      "outputs": [
        {
          "output_type": "execute_result",
          "data": {
            "text/html": [
              "<div>\n",
              "<style scoped>\n",
              "    .dataframe tbody tr th:only-of-type {\n",
              "        vertical-align: middle;\n",
              "    }\n",
              "\n",
              "    .dataframe tbody tr th {\n",
              "        vertical-align: top;\n",
              "    }\n",
              "\n",
              "    .dataframe thead th {\n",
              "        text-align: right;\n",
              "    }\n",
              "</style>\n",
              "<table border=\"1\" class=\"dataframe\">\n",
              "  <thead>\n",
              "    <tr style=\"text-align: right;\">\n",
              "      <th></th>\n",
              "      <th>listing_id</th>\n",
              "      <th>date</th>\n",
              "      <th>available</th>\n",
              "      <th>price</th>\n",
              "      <th>adjusted_price</th>\n",
              "      <th>minimum_nights</th>\n",
              "      <th>maximum_nights</th>\n",
              "    </tr>\n",
              "  </thead>\n",
              "  <tbody>\n",
              "    <tr>\n",
              "      <th>0</th>\n",
              "      <td>35922</td>\n",
              "      <td>2019-05-05</td>\n",
              "      <td>t</td>\n",
              "      <td>$900.00</td>\n",
              "      <td>$900.00</td>\n",
              "      <td>31.0</td>\n",
              "      <td>1125.0</td>\n",
              "    </tr>\n",
              "    <tr>\n",
              "      <th>1</th>\n",
              "      <td>85246</td>\n",
              "      <td>2019-05-05</td>\n",
              "      <td>f</td>\n",
              "      <td>$97.00</td>\n",
              "      <td>$97.00</td>\n",
              "      <td>5.0</td>\n",
              "      <td>190.0</td>\n",
              "    </tr>\n",
              "    <tr>\n",
              "      <th>2</th>\n",
              "      <td>85246</td>\n",
              "      <td>2019-05-06</td>\n",
              "      <td>f</td>\n",
              "      <td>$97.00</td>\n",
              "      <td>$97.00</td>\n",
              "      <td>5.0</td>\n",
              "      <td>190.0</td>\n",
              "    </tr>\n",
              "    <tr>\n",
              "      <th>3</th>\n",
              "      <td>85246</td>\n",
              "      <td>2019-05-07</td>\n",
              "      <td>f</td>\n",
              "      <td>$97.00</td>\n",
              "      <td>$97.00</td>\n",
              "      <td>5.0</td>\n",
              "      <td>190.0</td>\n",
              "    </tr>\n",
              "    <tr>\n",
              "      <th>4</th>\n",
              "      <td>85246</td>\n",
              "      <td>2019-05-08</td>\n",
              "      <td>f</td>\n",
              "      <td>$97.00</td>\n",
              "      <td>$97.00</td>\n",
              "      <td>5.0</td>\n",
              "      <td>190.0</td>\n",
              "    </tr>\n",
              "  </tbody>\n",
              "</table>\n",
              "</div>"
            ],
            "text/plain": [
              "   listing_id        date  ... minimum_nights maximum_nights\n",
              "0       35922  2019-05-05  ...           31.0         1125.0\n",
              "1       85246  2019-05-05  ...            5.0          190.0\n",
              "2       85246  2019-05-06  ...            5.0          190.0\n",
              "3       85246  2019-05-07  ...            5.0          190.0\n",
              "4       85246  2019-05-08  ...            5.0          190.0\n",
              "\n",
              "[5 rows x 7 columns]"
            ]
          },
          "metadata": {
            "tags": []
          },
          "execution_count": 4
        }
      ]
    },
    {
      "cell_type": "markdown",
      "metadata": {
        "id": "7POYSV6r84FV",
        "colab_type": "text"
      },
      "source": [
        "### Data Insights\n",
        "\n",
        "* Dimension of data.\n",
        "* Different features available.\n",
        "* Data types of  features available.\n",
        "* Check for NaN values.\n",
        "* Unique listing IDs."
      ]
    },
    {
      "cell_type": "code",
      "metadata": {
        "id": "WvBL3ZcC9iHh",
        "colab_type": "code",
        "colab": {
          "base_uri": "https://localhost:8080/",
          "height": 35
        },
        "outputId": "bfcce92d-a102-4486-ba5c-f3433feb13d1"
      },
      "source": [
        "df_cal.shape"
      ],
      "execution_count": 5,
      "outputs": [
        {
          "output_type": "execute_result",
          "data": {
            "text/plain": [
              "(16043437, 7)"
            ]
          },
          "metadata": {
            "tags": []
          },
          "execution_count": 5
        }
      ]
    },
    {
      "cell_type": "code",
      "metadata": {
        "id": "0rIyFhKm9lcC",
        "colab_type": "code",
        "colab": {
          "base_uri": "https://localhost:8080/",
          "height": 52
        },
        "outputId": "721a2a56-dd75-4e73-f75a-db04828ff689"
      },
      "source": [
        "df_cal.columns.values"
      ],
      "execution_count": 6,
      "outputs": [
        {
          "output_type": "execute_result",
          "data": {
            "text/plain": [
              "array(['listing_id', 'date', 'available', 'price', 'adjusted_price',\n",
              "       'minimum_nights', 'maximum_nights'], dtype=object)"
            ]
          },
          "metadata": {
            "tags": []
          },
          "execution_count": 6
        }
      ]
    },
    {
      "cell_type": "code",
      "metadata": {
        "id": "EIAjH01-Wcaf",
        "colab_type": "code",
        "outputId": "458120f7-1a5c-4711-91c6-4f7fc66a067a",
        "colab": {
          "base_uri": "https://localhost:8080/",
          "height": 156
        }
      },
      "source": [
        "df_cal.dtypes"
      ],
      "execution_count": 7,
      "outputs": [
        {
          "output_type": "execute_result",
          "data": {
            "text/plain": [
              "listing_id          int64\n",
              "date               object\n",
              "available          object\n",
              "price              object\n",
              "adjusted_price     object\n",
              "minimum_nights    float64\n",
              "maximum_nights    float64\n",
              "dtype: object"
            ]
          },
          "metadata": {
            "tags": []
          },
          "execution_count": 7
        }
      ]
    },
    {
      "cell_type": "code",
      "metadata": {
        "id": "uHs5ZFasXevY",
        "colab_type": "code",
        "outputId": "3ce32961-a93a-4a41-cdb8-28518bddca10",
        "colab": {
          "base_uri": "https://localhost:8080/",
          "height": 156
        }
      },
      "source": [
        "df_cal.isnull().sum()"
      ],
      "execution_count": 8,
      "outputs": [
        {
          "output_type": "execute_result",
          "data": {
            "text/plain": [
              "listing_id          0\n",
              "date                0\n",
              "available           0\n",
              "price             365\n",
              "adjusted_price    365\n",
              "minimum_nights      6\n",
              "maximum_nights      6\n",
              "dtype: int64"
            ]
          },
          "metadata": {
            "tags": []
          },
          "execution_count": 8
        }
      ]
    },
    {
      "cell_type": "code",
      "metadata": {
        "id": "GPBNHUh6VxJY",
        "colab_type": "code",
        "outputId": "55592c13-26aa-4c00-97d1-86e342dd9de9",
        "colab": {
          "base_uri": "https://localhost:8080/",
          "height": 35
        }
      },
      "source": [
        "df_cal.listing_id.nunique()"
      ],
      "execution_count": 9,
      "outputs": [
        {
          "output_type": "execute_result",
          "data": {
            "text/plain": [
              "43954"
            ]
          },
          "metadata": {
            "tags": []
          },
          "execution_count": 9
        }
      ]
    },
    {
      "cell_type": "markdown",
      "metadata": {
        "id": "ItV6Dz_R-r0L",
        "colab_type": "text"
      },
      "source": [
        "#### Key Observations\n",
        "\n",
        "* Data has few object type values which needs to be converted to numerical values. \n",
        "* There  are two fields with respect to pricing (our targe variable).\n",
        "* There are few features with null/missing values."
      ]
    },
    {
      "cell_type": "markdown",
      "metadata": {
        "id": "Uqof2TkIHafi",
        "colab_type": "text"
      },
      "source": [
        "### Data Wrangling\n",
        "\n",
        "Convert object data types to more numerical data types.\n",
        "\n",
        "* Convert **price** and **adjusted price** feature to float.\n",
        "\n",
        "> To ensure reduced impact due to outliers, using median value to fill NaN for price and adjusted price. To calculate the median value initially by setting NaN to 0 and based on resulting median both price and adjusted price NaN values are initialized to 115.0.\n",
        "\n",
        "```python\n",
        "df_cal.price.fillna(value='$'+str(0.0), inplace=True)\n",
        "df_cal.price = df_cal.price.apply(lambda x: float(str(x)[1:].replace(',','')))\n",
        "\n",
        "df_cal.price.median()\n",
        "```\n",
        "\n",
        "* Convert **available** feature to int.\n",
        "\n",
        "* Fill NaN values in **minimum_nights** and **maximum_nights** with forward fill.\n",
        "\n",
        "> This is not important since the number of missing values are less. So either drop records or retain it with fillna.\n",
        "\n",
        "* Extract season related information from **date** feature.\n",
        "\n",
        "> This is done by extracting Month, Day of the Month and Day of the Week information."
      ]
    },
    {
      "cell_type": "code",
      "metadata": {
        "id": "WRiovT_xDaAp",
        "colab_type": "code",
        "colab": {}
      },
      "source": [
        "# Convert price to float\n",
        "df_cal.price.fillna(value='$'+str(115.0), inplace=True)\n",
        "df_cal.price = df_cal.price.apply(lambda x: float(str(x)[1:].replace(',','')))\n",
        "\n",
        "df_cal.adjusted_price.fillna(value='$'+str(115.0), inplace=True)\n",
        "df_cal.adjusted_price = \\\n",
        "    df_cal.adjusted_price.apply(lambda x: float(str(x)[1:].replace(',','')))\n",
        "\n",
        "# Update to numerical form\n",
        "df_cal['available'] = \\\n",
        "   df_cal['available'].apply(lambda x: 1 if x == 't' else 0)\n",
        "\n",
        "# Handle NaN values\n",
        "df_cal.minimum_nights.fillna(method='ffill', inplace=True)\n",
        "df_cal.maximum_nights.fillna(method='ffill', inplace=True)\n",
        "\n",
        "# Add data and season related information\n",
        "df_cal['date'] = pd.to_datetime(df_cal['date'])\n",
        "df_cal['month'] = df_cal['date'].dt.month\n",
        "df_cal['day_of_month'] = df_cal['date'].dt.day\n",
        "df_cal['day_of_week'] = df_cal['date'].dt.weekday"
      ],
      "execution_count": 0,
      "outputs": []
    },
    {
      "cell_type": "markdown",
      "metadata": {
        "id": "Bs_nVzzXlyz1",
        "colab_type": "text"
      },
      "source": [
        "### Summary Statistics"
      ]
    },
    {
      "cell_type": "code",
      "metadata": {
        "id": "NgAiWxTJl8Jr",
        "colab_type": "code",
        "colab": {
          "base_uri": "https://localhost:8080/",
          "height": 294
        },
        "outputId": "9198bbdb-a78c-4c0e-e5c9-649b4e9d6c38"
      },
      "source": [
        "df_cal.describe()"
      ],
      "execution_count": 11,
      "outputs": [
        {
          "output_type": "execute_result",
          "data": {
            "text/html": [
              "<div>\n",
              "<style scoped>\n",
              "    .dataframe tbody tr th:only-of-type {\n",
              "        vertical-align: middle;\n",
              "    }\n",
              "\n",
              "    .dataframe tbody tr th {\n",
              "        vertical-align: top;\n",
              "    }\n",
              "\n",
              "    .dataframe thead th {\n",
              "        text-align: right;\n",
              "    }\n",
              "</style>\n",
              "<table border=\"1\" class=\"dataframe\">\n",
              "  <thead>\n",
              "    <tr style=\"text-align: right;\">\n",
              "      <th></th>\n",
              "      <th>listing_id</th>\n",
              "      <th>available</th>\n",
              "      <th>price</th>\n",
              "      <th>adjusted_price</th>\n",
              "      <th>minimum_nights</th>\n",
              "      <th>maximum_nights</th>\n",
              "      <th>month</th>\n",
              "      <th>day_of_month</th>\n",
              "      <th>day_of_week</th>\n",
              "    </tr>\n",
              "  </thead>\n",
              "  <tbody>\n",
              "    <tr>\n",
              "      <th>count</th>\n",
              "      <td>1.604344e+07</td>\n",
              "      <td>1.604344e+07</td>\n",
              "      <td>1.604344e+07</td>\n",
              "      <td>1.604344e+07</td>\n",
              "      <td>1.604344e+07</td>\n",
              "      <td>1.604344e+07</td>\n",
              "      <td>1.604344e+07</td>\n",
              "      <td>1.604344e+07</td>\n",
              "      <td>1.604344e+07</td>\n",
              "    </tr>\n",
              "    <tr>\n",
              "      <th>mean</th>\n",
              "      <td>2.006356e+07</td>\n",
              "      <td>4.435412e-01</td>\n",
              "      <td>2.109703e+02</td>\n",
              "      <td>2.108694e+02</td>\n",
              "      <td>5.731630e+00</td>\n",
              "      <td>6.640367e+02</td>\n",
              "      <td>6.517787e+00</td>\n",
              "      <td>1.578745e+01</td>\n",
              "      <td>2.999604e+00</td>\n",
              "    </tr>\n",
              "    <tr>\n",
              "      <th>std</th>\n",
              "      <td>9.871730e+06</td>\n",
              "      <td>4.968022e-01</td>\n",
              "      <td>5.117769e+02</td>\n",
              "      <td>5.117214e+02</td>\n",
              "      <td>2.292801e+01</td>\n",
              "      <td>4.853246e+03</td>\n",
              "      <td>3.455028e+00</td>\n",
              "      <td>8.803930e+00</td>\n",
              "      <td>2.003439e+00</td>\n",
              "    </tr>\n",
              "    <tr>\n",
              "      <th>min</th>\n",
              "      <td>1.090000e+02</td>\n",
              "      <td>0.000000e+00</td>\n",
              "      <td>0.000000e+00</td>\n",
              "      <td>0.000000e+00</td>\n",
              "      <td>1.000000e+00</td>\n",
              "      <td>1.000000e+00</td>\n",
              "      <td>1.000000e+00</td>\n",
              "      <td>1.000000e+00</td>\n",
              "      <td>0.000000e+00</td>\n",
              "    </tr>\n",
              "    <tr>\n",
              "      <th>25%</th>\n",
              "      <td>1.295381e+07</td>\n",
              "      <td>0.000000e+00</td>\n",
              "      <td>7.300000e+01</td>\n",
              "      <td>7.300000e+01</td>\n",
              "      <td>1.000000e+00</td>\n",
              "      <td>3.000000e+01</td>\n",
              "      <td>4.000000e+00</td>\n",
              "      <td>8.000000e+00</td>\n",
              "      <td>1.000000e+00</td>\n",
              "    </tr>\n",
              "    <tr>\n",
              "      <th>50%</th>\n",
              "      <td>2.137141e+07</td>\n",
              "      <td>0.000000e+00</td>\n",
              "      <td>1.150000e+02</td>\n",
              "      <td>1.150000e+02</td>\n",
              "      <td>2.000000e+00</td>\n",
              "      <td>1.125000e+03</td>\n",
              "      <td>7.000000e+00</td>\n",
              "      <td>1.600000e+01</td>\n",
              "      <td>3.000000e+00</td>\n",
              "    </tr>\n",
              "    <tr>\n",
              "      <th>75%</th>\n",
              "      <td>2.867831e+07</td>\n",
              "      <td>1.000000e+00</td>\n",
              "      <td>1.950000e+02</td>\n",
              "      <td>1.950000e+02</td>\n",
              "      <td>3.000000e+00</td>\n",
              "      <td>1.125000e+03</td>\n",
              "      <td>1.000000e+01</td>\n",
              "      <td>2.300000e+01</td>\n",
              "      <td>5.000000e+00</td>\n",
              "    </tr>\n",
              "    <tr>\n",
              "      <th>max</th>\n",
              "      <td>3.442641e+07</td>\n",
              "      <td>1.000000e+00</td>\n",
              "      <td>2.500000e+04</td>\n",
              "      <td>2.500000e+04</td>\n",
              "      <td>3.000000e+03</td>\n",
              "      <td>1.000000e+06</td>\n",
              "      <td>1.200000e+01</td>\n",
              "      <td>3.100000e+01</td>\n",
              "      <td>6.000000e+00</td>\n",
              "    </tr>\n",
              "  </tbody>\n",
              "</table>\n",
              "</div>"
            ],
            "text/plain": [
              "         listing_id     available  ...  day_of_month   day_of_week\n",
              "count  1.604344e+07  1.604344e+07  ...  1.604344e+07  1.604344e+07\n",
              "mean   2.006356e+07  4.435412e-01  ...  1.578745e+01  2.999604e+00\n",
              "std    9.871730e+06  4.968022e-01  ...  8.803930e+00  2.003439e+00\n",
              "min    1.090000e+02  0.000000e+00  ...  1.000000e+00  0.000000e+00\n",
              "25%    1.295381e+07  0.000000e+00  ...  8.000000e+00  1.000000e+00\n",
              "50%    2.137141e+07  0.000000e+00  ...  1.600000e+01  3.000000e+00\n",
              "75%    2.867831e+07  1.000000e+00  ...  2.300000e+01  5.000000e+00\n",
              "max    3.442641e+07  1.000000e+00  ...  3.100000e+01  6.000000e+00\n",
              "\n",
              "[8 rows x 9 columns]"
            ]
          },
          "metadata": {
            "tags": []
          },
          "execution_count": 11
        }
      ]
    },
    {
      "cell_type": "code",
      "metadata": {
        "id": "2WQVnT8Sloop",
        "colab_type": "code",
        "colab": {
          "base_uri": "https://localhost:8080/",
          "height": 208
        },
        "outputId": "dd100470-4b42-4ef5-ba0e-c5e541ab2fc4"
      },
      "source": [
        "# Check for NaN values\n",
        "df_cal.isnull().sum()"
      ],
      "execution_count": 12,
      "outputs": [
        {
          "output_type": "execute_result",
          "data": {
            "text/plain": [
              "listing_id        0\n",
              "date              0\n",
              "available         0\n",
              "price             0\n",
              "adjusted_price    0\n",
              "minimum_nights    0\n",
              "maximum_nights    0\n",
              "month             0\n",
              "day_of_month      0\n",
              "day_of_week       0\n",
              "dtype: int64"
            ]
          },
          "metadata": {
            "tags": []
          },
          "execution_count": 12
        }
      ]
    },
    {
      "cell_type": "markdown",
      "metadata": {
        "id": "6nZs5LpWj-to",
        "colab_type": "text"
      },
      "source": [
        "### Check correlation\n",
        "\n",
        "It is important to check correlation of features with target and between themselves for better modeling."
      ]
    },
    {
      "cell_type": "code",
      "metadata": {
        "id": "p0m-7ycbClsz",
        "colab_type": "code",
        "colab": {
          "base_uri": "https://localhost:8080/",
          "height": 347
        },
        "outputId": "9e39dc93-20b2-498f-a102-3b7b3c22bfb8"
      },
      "source": [
        "plt.figure(figsize=(6,4))\n",
        "sns.heatmap(df_cal.corr(),cmap='Blues',annot=False);"
      ],
      "execution_count": 13,
      "outputs": [
        {
          "output_type": "display_data",
          "data": {
            "image/png": "[encoded data removed]",
            "text/plain": [
              "<Figure size 432x288 with 2 Axes>"
            ]
          },
          "metadata": {
            "tags": []
          }
        }
      ]
    },
    {
      "cell_type": "code",
      "metadata": {
        "id": "oWlL2EhbGtKk",
        "colab_type": "code",
        "colab": {
          "base_uri": "https://localhost:8080/",
          "height": 455
        },
        "outputId": "5d024d3a-e50c-4c21-88f0-9713d1c06605"
      },
      "source": [
        "#Price correlation matrix\n",
        "k = 10 #number of variables for heatmap\n",
        "cols = df_cal.corr().nlargest(k, 'price')['price'].index\n",
        "cm = df_cal[cols].corr()\n",
        "plt.figure(figsize=(10,6))\n",
        "sns.heatmap(cm, annot=True, cmap = 'viridis');"
      ],
      "execution_count": 14,
      "outputs": [
        {
          "output_type": "display_data",
          "data": {
            "image/png": "[encoded data removed]",
            "text/plain": [
              "<Figure size 720x432 with 2 Axes>"
            ]
          },
          "metadata": {
            "tags": []
          }
        }
      ]
    },
    {
      "cell_type": "code",
      "metadata": {
        "id": "u8v1nSvTPzS8",
        "colab_type": "code",
        "outputId": "ffcd0d16-e9b0-4730-947b-3a39e41b163d",
        "colab": {
          "base_uri": "https://localhost:8080/",
          "height": 35
        }
      },
      "source": [
        "df_cal_price_diff = df_cal[df_cal[\"adjusted_price\"] != df_cal[\"price\"]]\n",
        "df_cal_price_diff.listing_id.nunique()"
      ],
      "execution_count": 15,
      "outputs": [
        {
          "output_type": "execute_result",
          "data": {
            "text/plain": [
              "996"
            ]
          },
          "metadata": {
            "tags": []
          },
          "execution_count": 15
        }
      ]
    },
    {
      "cell_type": "code",
      "metadata": {
        "id": "gwWVQc06RYXW",
        "colab_type": "code",
        "outputId": "bb10a2a1-cfcb-4bcc-9374-f962f30e7116",
        "colab": {
          "base_uri": "https://localhost:8080/",
          "height": 35
        }
      },
      "source": [
        "df_cal.listing_id.nunique()"
      ],
      "execution_count": 16,
      "outputs": [
        {
          "output_type": "execute_result",
          "data": {
            "text/plain": [
              "43954"
            ]
          },
          "metadata": {
            "tags": []
          },
          "execution_count": 16
        }
      ]
    },
    {
      "cell_type": "markdown",
      "metadata": {
        "id": "_wJWHT69nDQE",
        "colab_type": "text"
      },
      "source": [
        "#### Key Observations\n",
        "\n",
        "* **adjusted_price** feature and **price** feature are highly correlated. So we can choose either one.\n",
        "\n",
        "* **listing_id** feature is unique identifier of the listings. So shall not be included in modeling.\n",
        "\n",
        "* **date** feature has been feature engineered to fetch needed information. So can be dropped too."
      ]
    },
    {
      "cell_type": "code",
      "metadata": {
        "id": "xzLhj_b7R1dc",
        "colab_type": "code",
        "colab": {}
      },
      "source": [
        "columns = ['adjusted_price', 'listing_id', 'date']\n",
        "df_cal.drop(columns=columns, inplace=True)"
      ],
      "execution_count": 0,
      "outputs": []
    },
    {
      "cell_type": "code",
      "metadata": {
        "id": "HaQhCu1Ntwi6",
        "colab_type": "code",
        "colab": {
          "base_uri": "https://localhost:8080/",
          "height": 1000
        },
        "outputId": "ccde4ace-a25e-41b3-f418-0ef380897144"
      },
      "source": [
        "# red_square = dict(markerfacecolor='r', marker='s')\n",
        "columns = df_cal.columns.values\n",
        "\n",
        "for column in columns:\n",
        "  fig, ax = plt.subplots()\n",
        "  ax.set_title(column)\n",
        "  ax.boxplot(df_cal[column])"
      ],
      "execution_count": 18,
      "outputs": [
        {
          "output_type": "display_data",
          "data": {
            "image/png": "[encoded data removed]",
            "text/plain": [
              "<Figure size 432x288 with 1 Axes>"
            ]
          },
          "metadata": {
            "tags": []
          }
        },
        {
          "output_type": "display_data",
          "data": {
            "image/png": "[encoded data removed]",
            "text/plain": [
              "<Figure size 432x288 with 1 Axes>"
            ]
          },
          "metadata": {
            "tags": []
          }
        },
        {
          "output_type": "display_data",
          "data": {
            "image/png": "[encoded data removed]",
            "text/plain": [
              "<Figure size 432x288 with 1 Axes>"
            ]
          },
          "metadata": {
            "tags": []
          }
        },
        {
          "output_type": "display_data",
          "data": {
            "image/png": "[encoded data removed]",
            "text/plain": [
              "<Figure size 432x288 with 1 Axes>"
            ]
          },
          "metadata": {
            "tags": []
          }
        },
        {
          "output_type": "display_data",
          "data": {
            "image/png": "[encoded data removed]",
            "text/plain": [
              "<Figure size 432x288 with 1 Axes>"
            ]
          },
          "metadata": {
            "tags": []
          }
        },
        {
          "output_type": "display_data",
          "data": {
            "image/png": "[encoded data removed]",
            "text/plain": [
              "<Figure size 432x288 with 1 Axes>"
            ]
          },
          "metadata": {
            "tags": []
          }
        },
        {
          "output_type": "display_data",
          "data": {
            "image/png": "[encoded data removed]",
            "text/plain": [
              "<Figure size 432x288 with 1 Axes>"
            ]
          },
          "metadata": {
            "tags": []
          }
        }
      ]
    },
    {
      "cell_type": "markdown",
      "metadata": {
        "id": "eU0zBkeIqql-",
        "colab_type": "text"
      },
      "source": [
        "### Check Target"
      ]
    },
    {
      "cell_type": "code",
      "metadata": {
        "id": "06-h6cCSq0Lp",
        "colab_type": "code",
        "colab": {
          "base_uri": "https://localhost:8080/",
          "height": 35
        },
        "outputId": "2cde151f-03c4-44d7-f9e4-3d2c3e2a19bc"
      },
      "source": [
        "df_cal.price.nunique()"
      ],
      "execution_count": 19,
      "outputs": [
        {
          "output_type": "execute_result",
          "data": {
            "text/plain": [
              "4496"
            ]
          },
          "metadata": {
            "tags": []
          },
          "execution_count": 19
        }
      ]
    },
    {
      "cell_type": "code",
      "metadata": {
        "id": "5ZOWpfYKqQ_Q",
        "colab_type": "code",
        "colab": {
          "base_uri": "https://localhost:8080/",
          "height": 283
        },
        "outputId": "bee1c83f-3466-4629-8ade-1ab06cfb7a23"
      },
      "source": [
        "sns.distplot(df_cal['price'],kde=True);"
      ],
      "execution_count": 20,
      "outputs": [
        {
          "output_type": "display_data",
          "data": {
            "image/png": "[encoded data removed]",
            "text/plain": [
              "<Figure size 432x288 with 1 Axes>"
            ]
          },
          "metadata": {
            "tags": []
          }
        }
      ]
    },
    {
      "cell_type": "markdown",
      "metadata": {
        "id": "Jx9tekCVu4vW",
        "colab_type": "text"
      },
      "source": [
        "One particular listing has price set to 0. This is making log transformation fail with error \"RuntimeWarning: divide by zero encountered in log\". So dropping such entries."
      ]
    },
    {
      "cell_type": "code",
      "metadata": {
        "id": "x6iovsxjuxCA",
        "colab_type": "code",
        "colab": {}
      },
      "source": [
        "df_cal = df_cal[df_cal['price'] > 0]"
      ],
      "execution_count": 0,
      "outputs": []
    },
    {
      "cell_type": "code",
      "metadata": {
        "id": "0VspgWRTvEJd",
        "colab_type": "code",
        "colab": {
          "base_uri": "https://localhost:8080/",
          "height": 173
        },
        "outputId": "4f6d5324-2214-4272-8ea2-5b4144be2c05"
      },
      "source": [
        "df_cal.price.describe()"
      ],
      "execution_count": 22,
      "outputs": [
        {
          "output_type": "execute_result",
          "data": {
            "text/plain": [
              "count    1.604309e+07\n",
              "mean     2.109749e+02\n",
              "std      5.117815e+02\n",
              "min      1.000000e+01\n",
              "25%      7.300000e+01\n",
              "50%      1.150000e+02\n",
              "75%      1.950000e+02\n",
              "max      2.500000e+04\n",
              "Name: price, dtype: float64"
            ]
          },
          "metadata": {
            "tags": []
          },
          "execution_count": 22
        }
      ]
    },
    {
      "cell_type": "code",
      "metadata": {
        "id": "9a_XGhT-l6Tw",
        "colab_type": "code",
        "colab": {
          "base_uri": "https://localhost:8080/",
          "height": 381
        },
        "outputId": "674edd0c-a39d-4225-be13-2c8c9ae8af74"
      },
      "source": [
        "df_cal.price.value_counts().head(20)"
      ],
      "execution_count": 23,
      "outputs": [
        {
          "output_type": "execute_result",
          "data": {
            "text/plain": [
              "100.0    341470\n",
              "150.0    312127\n",
              "75.0     308083\n",
              "85.0     272616\n",
              "50.0     268350\n",
              "99.0     260216\n",
              "80.0     259814\n",
              "125.0    253113\n",
              "65.0     244700\n",
              "60.0     239240\n",
              "95.0     236656\n",
              "120.0    224037\n",
              "90.0     217412\n",
              "55.0     203878\n",
              "70.0     198884\n",
              "45.0     190867\n",
              "200.0    190106\n",
              "110.0    178870\n",
              "250.0    176674\n",
              "89.0     158916\n",
              "Name: price, dtype: int64"
            ]
          },
          "metadata": {
            "tags": []
          },
          "execution_count": 23
        }
      ]
    },
    {
      "cell_type": "code",
      "metadata": {
        "id": "jTX6PjaPmjvX",
        "colab_type": "code",
        "colab": {}
      },
      "source": [
        "bins = [ 0.,  20., 40.,  60., 80., 100.,\n",
        "        150., 200., 500., 1000., 25000.]\n",
        "\n",
        "labels=[\"0 to 20\",\n",
        "        \"> 20 to 40\",\n",
        "        \"> 40 to 60\",\n",
        "        \"> 60 to 80\",\n",
        "        \"> 80 to 100\", \n",
        "        \"> 100 to 150\", \n",
        "        \"> 150 to 200\", \n",
        "        \"> 200 to 500\", \n",
        "        \"> 500 to 1000\",\n",
        "        \"> 1000\"\n",
        "       ]\n",
        "\n",
        "df_cal['cost_group'] = pd.cut(df_cal['price'], bins=bins, labels=labels)"
      ],
      "execution_count": 0,
      "outputs": []
    },
    {
      "cell_type": "code",
      "metadata": {
        "id": "i5IBJBxv7Lss",
        "colab_type": "code",
        "colab": {
          "base_uri": "https://localhost:8080/",
          "height": 988
        },
        "outputId": "bcd8ebf9-d943-4a02-eb76-33337c756739"
      },
      "source": [
        "columns = ['month','day_of_week','day_of_month']\n",
        "\n",
        "for column in columns:\n",
        "  print(df_cal.groupby([column])['price'].mean())"
      ],
      "execution_count": 25,
      "outputs": [
        {
          "output_type": "stream",
          "text": [
            "month\n",
            "1     212.546353\n",
            "2     212.930694\n",
            "3     213.174139\n",
            "4     212.807211\n",
            "5     200.774341\n",
            "6     209.442949\n",
            "7     213.758445\n",
            "8     212.657304\n",
            "9     206.052415\n",
            "10    210.664543\n",
            "11    212.412440\n",
            "12    214.173641\n",
            "Name: price, dtype: float64\n",
            "day_of_week\n",
            "0    208.079218\n",
            "1    207.861881\n",
            "2    208.149688\n",
            "3    208.931622\n",
            "4    217.217664\n",
            "5    217.691523\n",
            "6    208.940520\n",
            "Name: price, dtype: float64\n",
            "day_of_month\n",
            "1     212.981911\n",
            "2     211.533448\n",
            "3     211.680523\n",
            "4     212.664789\n",
            "5     209.771819\n",
            "6     210.488390\n",
            "7     211.172222\n",
            "8     209.845962\n",
            "9     209.176772\n",
            "10    210.585172\n",
            "11    210.810859\n",
            "12    209.344690\n",
            "13    210.666792\n",
            "14    211.440055\n",
            "15    210.119110\n",
            "16    209.277668\n",
            "17    210.681965\n",
            "18    210.913663\n",
            "19    209.410327\n",
            "20    210.845263\n",
            "21    212.045391\n",
            "22    210.739832\n",
            "23    209.974166\n",
            "24    211.557030\n",
            "25    211.924842\n",
            "26    210.579639\n",
            "27    211.841071\n",
            "28    212.920468\n",
            "29    211.788115\n",
            "30    211.185402\n",
            "31    213.221509\n",
            "Name: price, dtype: float64\n"
          ],
          "name": "stdout"
        }
      ]
    },
    {
      "cell_type": "code",
      "metadata": {
        "id": "1lsMdBlx27kh",
        "colab_type": "code",
        "colab": {
          "base_uri": "https://localhost:8080/",
          "height": 433
        },
        "outputId": "57d1e48c-f7f2-4509-bd9e-c6747b0711e5"
      },
      "source": [
        "columns = ['cost_group']\n",
        "\n",
        "for column in columns:\n",
        "  print(df_cal.groupby([column])['price'].mean())\n",
        "  print(df_cal.groupby([column])['price'].count())"
      ],
      "execution_count": 26,
      "outputs": [
        {
          "output_type": "stream",
          "text": [
            "cost_group\n",
            "0 to 20            16.287260\n",
            "> 20 to 40         33.200498\n",
            "> 40 to 60         51.692381\n",
            "> 60 to 80         71.878274\n",
            "> 80 to 100        92.438962\n",
            "> 100 to 150      126.048846\n",
            "> 150 to 200      177.716193\n",
            "> 200 to 500      305.196281\n",
            "> 500 to 1000     716.601018\n",
            "> 1000           2545.854298\n",
            "Name: price, dtype: float64\n",
            "cost_group\n",
            "0 to 20           103429\n",
            "> 20 to 40        920898\n",
            "> 40 to 60       1913603\n",
            "> 60 to 80       2009453\n",
            "> 80 to 100      2172860\n",
            "> 100 to 150     3418031\n",
            "> 150 to 200     1895819\n",
            "> 200 to 500     2698792\n",
            "> 500 to 1000     546914\n",
            "> 1000            363289\n",
            "Name: price, dtype: int64\n"
          ],
          "name": "stdout"
        }
      ]
    },
    {
      "cell_type": "code",
      "metadata": {
        "id": "XzAtbTbk6QZf",
        "colab_type": "code",
        "colab": {
          "base_uri": "https://localhost:8080/",
          "height": 355
        },
        "outputId": "476444a2-cf67-4234-bffb-ace83da625fa"
      },
      "source": [
        "df_plot = df_cal.groupby([column], as_index=False)['price'].count()\n",
        "df_plot"
      ],
      "execution_count": 27,
      "outputs": [
        {
          "output_type": "execute_result",
          "data": {
            "text/html": [
              "<div>\n",
              "<style scoped>\n",
              "    .dataframe tbody tr th:only-of-type {\n",
              "        vertical-align: middle;\n",
              "    }\n",
              "\n",
              "    .dataframe tbody tr th {\n",
              "        vertical-align: top;\n",
              "    }\n",
              "\n",
              "    .dataframe thead th {\n",
              "        text-align: right;\n",
              "    }\n",
              "</style>\n",
              "<table border=\"1\" class=\"dataframe\">\n",
              "  <thead>\n",
              "    <tr style=\"text-align: right;\">\n",
              "      <th></th>\n",
              "      <th>cost_group</th>\n",
              "      <th>price</th>\n",
              "    </tr>\n",
              "  </thead>\n",
              "  <tbody>\n",
              "    <tr>\n",
              "      <th>0</th>\n",
              "      <td>0 to 20</td>\n",
              "      <td>103429</td>\n",
              "    </tr>\n",
              "    <tr>\n",
              "      <th>1</th>\n",
              "      <td>&gt; 20 to 40</td>\n",
              "      <td>920898</td>\n",
              "    </tr>\n",
              "    <tr>\n",
              "      <th>2</th>\n",
              "      <td>&gt; 40 to 60</td>\n",
              "      <td>1913603</td>\n",
              "    </tr>\n",
              "    <tr>\n",
              "      <th>3</th>\n",
              "      <td>&gt; 60 to 80</td>\n",
              "      <td>2009453</td>\n",
              "    </tr>\n",
              "    <tr>\n",
              "      <th>4</th>\n",
              "      <td>&gt; 80 to 100</td>\n",
              "      <td>2172860</td>\n",
              "    </tr>\n",
              "    <tr>\n",
              "      <th>5</th>\n",
              "      <td>&gt; 100 to 150</td>\n",
              "      <td>3418031</td>\n",
              "    </tr>\n",
              "    <tr>\n",
              "      <th>6</th>\n",
              "      <td>&gt; 150 to 200</td>\n",
              "      <td>1895819</td>\n",
              "    </tr>\n",
              "    <tr>\n",
              "      <th>7</th>\n",
              "      <td>&gt; 200 to 500</td>\n",
              "      <td>2698792</td>\n",
              "    </tr>\n",
              "    <tr>\n",
              "      <th>8</th>\n",
              "      <td>&gt; 500 to 1000</td>\n",
              "      <td>546914</td>\n",
              "    </tr>\n",
              "    <tr>\n",
              "      <th>9</th>\n",
              "      <td>&gt; 1000</td>\n",
              "      <td>363289</td>\n",
              "    </tr>\n",
              "  </tbody>\n",
              "</table>\n",
              "</div>"
            ],
            "text/plain": [
              "      cost_group    price\n",
              "0        0 to 20   103429\n",
              "1     > 20 to 40   920898\n",
              "2     > 40 to 60  1913603\n",
              "3     > 60 to 80  2009453\n",
              "4    > 80 to 100  2172860\n",
              "5   > 100 to 150  3418031\n",
              "6   > 150 to 200  1895819\n",
              "7   > 200 to 500  2698792\n",
              "8  > 500 to 1000   546914\n",
              "9         > 1000   363289"
            ]
          },
          "metadata": {
            "tags": []
          },
          "execution_count": 27
        }
      ]
    },
    {
      "cell_type": "code",
      "metadata": {
        "id": "k9ELnY9vbuwx",
        "colab_type": "code",
        "colab": {}
      },
      "source": [
        "df_plot['price'] = df_plot.price.apply(lambda x: x/100000.0)"
      ],
      "execution_count": 0,
      "outputs": []
    },
    {
      "cell_type": "code",
      "metadata": {
        "id": "i_vP53kXbRGh",
        "colab_type": "code",
        "colab": {
          "base_uri": "https://localhost:8080/",
          "height": 617
        },
        "outputId": "071fa413-9a68-4ad8-ceff-94fddebd918e"
      },
      "source": [
        "sns.set(style=\"whitegrid\")\n",
        "\n",
        "# Initialize the matplotlib figure\n",
        "f, ax = plt.subplots(figsize=(6, 10))\n",
        "\n",
        "# Plot the total crashes\n",
        "sns.set_color_codes(\"pastel\")\n",
        "sns.barplot(x=\"price\", y=\"cost_group\", data=df_plot, color=\"b\")\n",
        "plt.ylabel(\"Cost group\")\n",
        "plt.xlabel(\"Price (in 100K)\")\n",
        "plt.show()"
      ],
      "execution_count": 29,
      "outputs": [
        {
          "output_type": "display_data",
          "data": {
            "image/png": "[encoded data removed]",
            "text/plain": [
              "<Figure size 432x720 with 1 Axes>"
            ]
          },
          "metadata": {
            "tags": []
          }
        }
      ]
    },
    {
      "cell_type": "markdown",
      "metadata": {
        "id": "Pw4sK5GTriT8",
        "colab_type": "text"
      },
      "source": [
        "#### Key Observations\n",
        "\n",
        "* Target data i.e. **price** appears to be having many outliers and skewed to right. So log normalization is needed.\n",
        "\n",
        "* Drop the original **price** column."
      ]
    },
    {
      "cell_type": "code",
      "metadata": {
        "id": "3nGWyKQFrQdz",
        "colab_type": "code",
        "colab": {}
      },
      "source": [
        "df_cal['logprice'] = np.log(df_cal['price'])\n",
        "df_cal.drop(columns=['price'], inplace=True)"
      ],
      "execution_count": 0,
      "outputs": []
    },
    {
      "cell_type": "markdown",
      "metadata": {
        "id": "2OrkeLO7FUh_",
        "colab_type": "text"
      },
      "source": [
        "## Data Modelling\n",
        "\n",
        "We shall now work with different Machine Learning models and check for feature importance.\n",
        "\n",
        "Here we are dealing with regression problem so to start with we can use Linear models like Linear Regression and Ridge Regression (since there are many outliers).\n",
        "\n",
        "Followed by Tree ensembles (Random Forest Regressor) and boosting models (XGB Regressor).\n",
        "\n",
        "For metrics we shall use R^2 (coefficient of determination) regression score function."
      ]
    },
    {
      "cell_type": "markdown",
      "metadata": {
        "id": "uspEH2jzLKdu",
        "colab_type": "text"
      },
      "source": [
        "### Model Preprocessing"
      ]
    },
    {
      "cell_type": "markdown",
      "metadata": {
        "id": "h20cX1PeLefR",
        "colab_type": "text"
      },
      "source": [
        "Split data into features and target."
      ]
    },
    {
      "cell_type": "code",
      "metadata": {
        "id": "i3vDBBBDLiCq",
        "colab_type": "code",
        "colab": {}
      },
      "source": [
        "X = df_cal.drop(columns=['logprice','cost_group'])\n",
        "y = df_cal['logprice']"
      ],
      "execution_count": 0,
      "outputs": []
    },
    {
      "cell_type": "code",
      "metadata": {
        "id": "Zepf0APheiZ1",
        "colab_type": "code",
        "colab": {
          "base_uri": "https://localhost:8080/",
          "height": 202
        },
        "outputId": "a9b4c0e4-d812-4721-b291-71432e64466c"
      },
      "source": [
        "X.head()"
      ],
      "execution_count": 32,
      "outputs": [
        {
          "output_type": "execute_result",
          "data": {
            "text/html": [
              "<div>\n",
              "<style scoped>\n",
              "    .dataframe tbody tr th:only-of-type {\n",
              "        vertical-align: middle;\n",
              "    }\n",
              "\n",
              "    .dataframe tbody tr th {\n",
              "        vertical-align: top;\n",
              "    }\n",
              "\n",
              "    .dataframe thead th {\n",
              "        text-align: right;\n",
              "    }\n",
              "</style>\n",
              "<table border=\"1\" class=\"dataframe\">\n",
              "  <thead>\n",
              "    <tr style=\"text-align: right;\">\n",
              "      <th></th>\n",
              "      <th>available</th>\n",
              "      <th>minimum_nights</th>\n",
              "      <th>maximum_nights</th>\n",
              "      <th>month</th>\n",
              "      <th>day_of_month</th>\n",
              "      <th>day_of_week</th>\n",
              "    </tr>\n",
              "  </thead>\n",
              "  <tbody>\n",
              "    <tr>\n",
              "      <th>0</th>\n",
              "      <td>1</td>\n",
              "      <td>31.0</td>\n",
              "      <td>1125.0</td>\n",
              "      <td>5</td>\n",
              "      <td>5</td>\n",
              "      <td>6</td>\n",
              "    </tr>\n",
              "    <tr>\n",
              "      <th>1</th>\n",
              "      <td>0</td>\n",
              "      <td>5.0</td>\n",
              "      <td>190.0</td>\n",
              "      <td>5</td>\n",
              "      <td>5</td>\n",
              "      <td>6</td>\n",
              "    </tr>\n",
              "    <tr>\n",
              "      <th>2</th>\n",
              "      <td>0</td>\n",
              "      <td>5.0</td>\n",
              "      <td>190.0</td>\n",
              "      <td>5</td>\n",
              "      <td>6</td>\n",
              "      <td>0</td>\n",
              "    </tr>\n",
              "    <tr>\n",
              "      <th>3</th>\n",
              "      <td>0</td>\n",
              "      <td>5.0</td>\n",
              "      <td>190.0</td>\n",
              "      <td>5</td>\n",
              "      <td>7</td>\n",
              "      <td>1</td>\n",
              "    </tr>\n",
              "    <tr>\n",
              "      <th>4</th>\n",
              "      <td>0</td>\n",
              "      <td>5.0</td>\n",
              "      <td>190.0</td>\n",
              "      <td>5</td>\n",
              "      <td>8</td>\n",
              "      <td>2</td>\n",
              "    </tr>\n",
              "  </tbody>\n",
              "</table>\n",
              "</div>"
            ],
            "text/plain": [
              "   available  minimum_nights  maximum_nights  month  day_of_month  day_of_week\n",
              "0          1            31.0          1125.0      5             5            6\n",
              "1          0             5.0           190.0      5             5            6\n",
              "2          0             5.0           190.0      5             6            0\n",
              "3          0             5.0           190.0      5             7            1\n",
              "4          0             5.0           190.0      5             8            2"
            ]
          },
          "metadata": {
            "tags": []
          },
          "execution_count": 32
        }
      ]
    },
    {
      "cell_type": "code",
      "metadata": {
        "id": "srfUSmAyej-V",
        "colab_type": "code",
        "colab": {
          "base_uri": "https://localhost:8080/",
          "height": 121
        },
        "outputId": "b08bad02-a530-4563-918b-411e53aa59a0"
      },
      "source": [
        "y.head()"
      ],
      "execution_count": 33,
      "outputs": [
        {
          "output_type": "execute_result",
          "data": {
            "text/plain": [
              "0    6.802395\n",
              "1    4.574711\n",
              "2    4.574711\n",
              "3    4.574711\n",
              "4    4.574711\n",
              "Name: logprice, dtype: float64"
            ]
          },
          "metadata": {
            "tags": []
          },
          "execution_count": 33
        }
      ]
    },
    {
      "cell_type": "code",
      "metadata": {
        "id": "nD5TDGlfeneY",
        "colab_type": "code",
        "colab": {
          "base_uri": "https://localhost:8080/",
          "height": 52
        },
        "outputId": "598a8068-1a08-4121-ba72-a6d6b3041cb6"
      },
      "source": [
        "print(X.shape)\n",
        "print(y.shape)"
      ],
      "execution_count": 34,
      "outputs": [
        {
          "output_type": "stream",
          "text": [
            "(16043088, 6)\n",
            "(16043088,)\n"
          ],
          "name": "stdout"
        }
      ]
    },
    {
      "cell_type": "markdown",
      "metadata": {
        "id": "5g5wtY27LBF5",
        "colab_type": "text"
      },
      "source": [
        "Split data into train and test using k-fold cross-validation with independent test data set."
      ]
    },
    {
      "cell_type": "code",
      "metadata": {
        "id": "rrn3ugKoK7Ti",
        "colab_type": "code",
        "colab": {}
      },
      "source": [
        "from sklearn.model_selection import train_test_split\n",
        "\n",
        "X_train, X_test, y_train, y_test = train_test_split(X, y, \n",
        "                                                    test_size=0.25,\n",
        "                                                    shuffle=True,\n",
        "                                                    random_state=42\n",
        "                                                   )"
      ],
      "execution_count": 0,
      "outputs": []
    },
    {
      "cell_type": "markdown",
      "metadata": {
        "id": "c9AVHNIGF2sN",
        "colab_type": "text"
      },
      "source": [
        "### Linear Regression"
      ]
    },
    {
      "cell_type": "code",
      "metadata": {
        "id": "RDJ0blAaJeOr",
        "colab_type": "code",
        "colab": {}
      },
      "source": [
        "from sklearn.pipeline import make_pipeline\n",
        "from sklearn.preprocessing import RobustScaler\n",
        "\n",
        "from sklearn.model_selection import GridSearchCV\n",
        "\n",
        "from sklearn.metrics import r2_score, mean_squared_error"
      ],
      "execution_count": 0,
      "outputs": []
    },
    {
      "cell_type": "code",
      "metadata": {
        "id": "tppHY-X1xfiO",
        "colab_type": "code",
        "colab": {}
      },
      "source": [
        "from sklearn.linear_model import LinearRegression\n",
        "\n",
        "pipeline = make_pipeline(RobustScaler(),\n",
        "                         LinearRegression())"
      ],
      "execution_count": 0,
      "outputs": []
    },
    {
      "cell_type": "code",
      "metadata": {
        "id": "FOp7Ot4ILAeU",
        "colab_type": "code",
        "colab": {
          "base_uri": "https://localhost:8080/",
          "height": 503
        },
        "outputId": "9d432efe-236a-4701-af7c-e606723af9fe"
      },
      "source": [
        "param_grid = {\n",
        "}\n",
        "\n",
        "gridsearch = GridSearchCV(pipeline, param_grid=param_grid, cv=3, \n",
        "                         scoring='r2', verbose=20)\n",
        "\n",
        "gridsearch.fit(X_train, y_train)"
      ],
      "execution_count": 38,
      "outputs": [
        {
          "output_type": "stream",
          "text": [
            "Fitting 3 folds for each of 1 candidates, totalling 3 fits\n"
          ],
          "name": "stdout"
        },
        {
          "output_type": "stream",
          "text": [
            "[Parallel(n_jobs=1)]: Using backend SequentialBackend with 1 concurrent workers.\n"
          ],
          "name": "stderr"
        },
        {
          "output_type": "stream",
          "text": [
            "[CV]  ................................................................\n",
            "[CV] .................................... , score=0.012, total=   5.1s\n",
            "[CV]  ................................................................\n"
          ],
          "name": "stdout"
        },
        {
          "output_type": "stream",
          "text": [
            "[Parallel(n_jobs=1)]: Done   1 out of   1 | elapsed:    5.1s remaining:    0.0s\n"
          ],
          "name": "stderr"
        },
        {
          "output_type": "stream",
          "text": [
            "[CV] .................................... , score=0.013, total=   4.3s\n",
            "[CV]  ................................................................\n"
          ],
          "name": "stdout"
        },
        {
          "output_type": "stream",
          "text": [
            "[Parallel(n_jobs=1)]: Done   2 out of   2 | elapsed:    9.5s remaining:    0.0s\n"
          ],
          "name": "stderr"
        },
        {
          "output_type": "stream",
          "text": [
            "[CV] .................................... , score=0.013, total=   4.3s\n"
          ],
          "name": "stdout"
        },
        {
          "output_type": "stream",
          "text": [
            "[Parallel(n_jobs=1)]: Done   3 out of   3 | elapsed:   13.8s remaining:    0.0s\n",
            "[Parallel(n_jobs=1)]: Done   3 out of   3 | elapsed:   13.8s finished\n"
          ],
          "name": "stderr"
        },
        {
          "output_type": "execute_result",
          "data": {
            "text/plain": [
              "GridSearchCV(cv=3, error_score='raise-deprecating',\n",
              "             estimator=Pipeline(memory=None,\n",
              "                                steps=[('robustscaler',\n",
              "                                        RobustScaler(copy=True,\n",
              "                                                     quantile_range=(25.0,\n",
              "                                                                     75.0),\n",
              "                                                     with_centering=True,\n",
              "                                                     with_scaling=True)),\n",
              "                                       ('linearregression',\n",
              "                                        LinearRegression(copy_X=True,\n",
              "                                                         fit_intercept=True,\n",
              "                                                         n_jobs=None,\n",
              "                                                         normalize=False))],\n",
              "                                verbose=False),\n",
              "             iid='warn', n_jobs=None, param_grid={}, pre_dispatch='2*n_jobs',\n",
              "             refit=True, return_train_score=False, scoring='r2', verbose=20)"
            ]
          },
          "metadata": {
            "tags": []
          },
          "execution_count": 38
        }
      ]
    },
    {
      "cell_type": "code",
      "metadata": {
        "id": "u97P2Bl4-UI7",
        "colab_type": "code",
        "colab": {
          "base_uri": "https://localhost:8080/",
          "height": 35
        },
        "outputId": "173ad193-70a6-471f-dda3-860852cb8cde"
      },
      "source": [
        "# Best cross validation score\n",
        "print('Cross Validation Score:', gridsearch.best_score_)"
      ],
      "execution_count": 39,
      "outputs": [
        {
          "output_type": "stream",
          "text": [
            "Cross Validation Score: 0.012530784982855092\n"
          ],
          "name": "stdout"
        }
      ]
    },
    {
      "cell_type": "code",
      "metadata": {
        "id": "VYYUpo9M_F_P",
        "colab_type": "code",
        "colab": {
          "base_uri": "https://localhost:8080/",
          "height": 35
        },
        "outputId": "befca00f-29af-4103-9e2f-ec078607fa5e"
      },
      "source": [
        "#Get the best model and check it against test data set.\n",
        "\n",
        "# Predict with X_test features\n",
        "y_pred = gridsearch.predict(X_test)\n",
        "\n",
        "# Compare predictions to y_test labels\n",
        "test_score = r2_score(y_test, y_pred)\n",
        "print('R^2 Score on test data set:', test_score)"
      ],
      "execution_count": 40,
      "outputs": [
        {
          "output_type": "stream",
          "text": [
            "R^2 Score on test data set: 0.012509629420891732\n"
          ],
          "name": "stdout"
        }
      ]
    },
    {
      "cell_type": "code",
      "metadata": {
        "id": "ILFyT2ZoAl8u",
        "colab_type": "code",
        "colab": {
          "base_uri": "https://localhost:8080/",
          "height": 87
        },
        "outputId": "c7d2c1f7-853e-4fbf-c023-8d99d0977bcf"
      },
      "source": [
        "from sklearn.linear_model import LinearRegression\n",
        "\n",
        "model = LinearRegression()\n",
        "model.fit(X_train, y_train)\n",
        "\n",
        "print(\"Slope Coefficient: \", model.coef_)\n",
        "print(\"\\nIntercept Value: \", model.intercept_)\n",
        "\n",
        "beta_0 = model.intercept_\n",
        "beta_i = model.coef_"
      ],
      "execution_count": 41,
      "outputs": [
        {
          "output_type": "stream",
          "text": [
            "Slope Coefficient:  [ 1.85771587e-01  6.32397816e-04  1.98090817e-06 -2.19295486e-03\n",
            " -1.15851335e-04  5.15120017e-03]\n",
            "\n",
            "Intercept Value:  4.742546145039939\n"
          ],
          "name": "stdout"
        }
      ]
    },
    {
      "cell_type": "code",
      "metadata": {
        "id": "OpL9ZoaAAtou",
        "colab_type": "code",
        "colab": {
          "base_uri": "https://localhost:8080/",
          "height": 69
        },
        "outputId": "178d731c-58bc-42aa-f619-347755f342dd"
      },
      "source": [
        "y_test_predict = model.predict(X_test)\n",
        "\n",
        "MSE = mean_squared_error(y_test, y_test_predict)\n",
        "\n",
        "RMSE = (np.sqrt(MSE))\n",
        "\n",
        "print('MSE is {}'.format(MSE))\n",
        "print('RMSE is {}'.format(RMSE))\n",
        "\n",
        "R2 = r2_score(y_test, y_test_predict)\n",
        "\n",
        "print('R^2 is {}'.format(R2))"
      ],
      "execution_count": 42,
      "outputs": [
        {
          "output_type": "stream",
          "text": [
            "MSE is 0.713483669395738\n",
            "RMSE is 0.8446796252992835\n",
            "R^2 is 0.012509629420891732\n"
          ],
          "name": "stdout"
        }
      ]
    },
    {
      "cell_type": "markdown",
      "metadata": {
        "id": "DIfnThywh7IX",
        "colab_type": "text"
      },
      "source": [
        "#### Key Observations\n",
        "\n",
        "* Based on above observation it appears. We cannot model the price based on avaiable features. So would not proceed with other models like Ridge Regression, Random Forest and XG Boost"
      ]
    }
  ]
}