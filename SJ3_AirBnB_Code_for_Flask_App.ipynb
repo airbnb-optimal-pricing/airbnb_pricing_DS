{
  "nbformat": 4,
  "nbformat_minor": 0,
  "metadata": {
    "colab": {
      "name": "SJ3 AirBnB Code for Flask App.ipynb",
      "version": "0.3.2",
      "provenance": [],
      "include_colab_link": true
    },
    "kernelspec": {
      "name": "python3",
      "display_name": "Python 3"
    }
  },
  "cells": [
    {
      "cell_type": "markdown",
      "metadata": {
        "id": "view-in-github",
        "colab_type": "text"
      },
      "source": [
        "<a href=\"https://colab.research.google.com/github/ShreyasJothish/airbnb_pricing_DS/blob/master/SJ3_AirBnB_Code_for_Flask_App.ipynb\" target=\"_parent\"><img src=\"https://colab.research.google.com/assets/colab-badge.svg\" alt=\"Open In Colab\"/></a>"
      ]
    },
    {
      "cell_type": "code",
      "metadata": {
        "id": "Cy1AKCK4g4JQ",
        "colab_type": "code",
        "colab": {}
      },
      "source": [
        "import requests\n",
        "from bs4 import BeautifulSoup\n",
        "import time\n",
        "import gzip\n",
        "import pandas as pd\n",
        "import os\n",
        "\n",
        "\n",
        "def download_data():\n",
        "    page = requests.get(\"http://insideairbnb.com/get-the-data.html\")\n",
        "\n",
        "    if page.status_code != 200:\n",
        "        print(\"Error: Request to InsideAirBnB is failing\")\n",
        "        return pd.DataFrame()\n",
        "\n",
        "    soup = BeautifulSoup(page.content, 'html.parser')\n",
        "\n",
        "    # On exploring the web site structure it is found the url links to download\n",
        "    # the data is present in under tags **td**. Here we shall extract the data\n",
        "    # based on this **td** tag. The **td** tags contain information for\n",
        "    # archieved data across years for the same city and this is ignored.\n",
        "    #\n",
        "    # Here we are interested in fetching only Listing information in each city.\n",
        "    # So only url to **listings.csv.gz** is used.\n",
        "    td_tags = soup.find_all('td')\n",
        "\n",
        "    # To ensure only the latest data for a particular city is used.\n",
        "    city_set = set()\n",
        "\n",
        "    # To maintain city level summary for data fetched.\n",
        "    city_data = []\n",
        "\n",
        "    for td_tag in td_tags:\n",
        "        link_list = [a['href'] for a in td_tag.find_all('a', href=True)]\n",
        "\n",
        "        # Fetch only listings.csv.gz data.\n",
        "        if (len(link_list) > 0  and (link_list[0].find('united-states') != -1) \n",
        "            and (link_list[0].find('listings.csv.gz') != -1)):\n",
        "            url = link_list[0]\n",
        "            \n",
        "            # Summary for each city is got by parsing the url itself.\n",
        "            url_split = link_list[0].split('/')\n",
        "\n",
        "            # InsideAirBnB follows a particular url format which is used\n",
        "            # as reference for parsing.\n",
        "            if len(url_split) != 9:\n",
        "                print(f\"Error: URL not following the format {url}\")\n",
        "\n",
        "                # It is seen the data for ireland is fetched but the\n",
        "                # url format is different as compared to others. So\n",
        "                # this special handling is needed.\n",
        "                if url_split[3] == \"ireland\":\n",
        "                    print(\"Info: Special handling for Ireland\")\n",
        "                    country = url_split[3]\n",
        "                    region = url_split[3]\n",
        "                    city = url_split[3]\n",
        "                    date = url_split[4]\n",
        "\n",
        "                    if city not in city_set:\n",
        "                        city_set.add(city)\n",
        "                        print([country, region, city, date, url])\n",
        "                        city_data.append([country, region, city, date, url])\n",
        "            else:\n",
        "                country = url_split[3]\n",
        "                region = url_split[4]\n",
        "                city = url_split[5]\n",
        "                date = url_split[6]\n",
        "\n",
        "                if city not in city_set:\n",
        "                    city_set.add(city)\n",
        "                    city_data.append([country, region, city, date, url])\n",
        "\n",
        "    # Check summary information of each city.\n",
        "    print(f\"Total number of city information fetched: {len(city_data)}\")\n",
        "    print(\"Info: Start summary information of each city\")\n",
        "    for city in city_data:\n",
        "        print(city)\n",
        "    print(\"Info: Completed summary information of each city \")\n",
        "\n",
        "    # Consolidated data frame to hold data for all cities together.\n",
        "    df_all = pd.DataFrame()\n",
        "\n",
        "    for city in city_data:\n",
        "        city_name = city[2]\n",
        "        url = city[4]\n",
        "        print(f\"Info: Downloading data for {city_name} with url {url}\")\n",
        "\n",
        "        r = requests.get(url)\n",
        "\n",
        "        # Retrieve HTTP meta-data.\n",
        "        if r.status_code != 200:\n",
        "            print(f\"Error: Request to {url} failed with status \"\n",
        "                  f\"{r.status_code}\")\n",
        "            continue\n",
        "\n",
        "        # Fetch the data locally.\n",
        "        file_name = f\"{city_name}_listings.csv.gz\"\n",
        "        with open(file_name, 'wb') as f:\n",
        "            f.write(r.content)\n",
        "\n",
        "        # Unzip and load the file to data frame.\n",
        "        with gzip.open(file_name) as f:\n",
        "            df = pd.read_csv(f)\n",
        "\n",
        "            print(f\"Info: Shape of data within {file_name}: {df.shape}\")\n",
        "\n",
        "            if df_all.empty:\n",
        "                df_all = df\n",
        "            else:\n",
        "                df_all = pd.concat([df_all, df])\n",
        "\n",
        "        print(f\"Info: Shape of concatenated dataframe: {df_all.shape}\")\n",
        "\n",
        "        # Remove file\n",
        "        os.remove(file_name)\n",
        "        print(f\"Info: Removed {file_name}!\")\n",
        "\n",
        "        # Sleep for short duration to ensure server is not loaded\n",
        "        time.sleep(10)\n",
        "\n",
        "    return df_all"
      ],
      "execution_count": 0,
      "outputs": []
    },
    {
      "cell_type": "code",
      "metadata": {
        "id": "TtK1T9PVg-7A",
        "colab_type": "code",
        "colab": {
          "base_uri": "https://localhost:8080/",
          "height": 1000
        },
        "outputId": "0991b044-32eb-4124-97c9-ab28e26e99e4"
      },
      "source": [
        "consolidated_df = download_data()\n",
        "\n",
        "if not consolidated_df.empty:\n",
        "    print(consolidated_df.shape)"
      ],
      "execution_count": 6,
      "outputs": [
        {
          "output_type": "stream",
          "text": [
            "Error: URL not following the format http://data.insideairbnb.com/united-states/2016-04-18/data/listings.csv.gz\n",
            "Total number of city information fetched: 27\n",
            "Info: Start summary information of each city\n",
            "['united-states', 'nc', 'asheville', '2019-06-26', 'http://data.insideairbnb.com/united-states/nc/asheville/2019-06-26/data/listings.csv.gz']\n",
            "['united-states', 'tx', 'austin', '2019-05-14', 'http://data.insideairbnb.com/united-states/tx/austin/2019-05-14/data/listings.csv.gz']\n",
            "['united-states', 'ma', 'boston', '2019-05-19', 'http://data.insideairbnb.com/united-states/ma/boston/2019-05-19/data/listings.csv.gz']\n",
            "['united-states', 'fl', 'broward-county', '2019-05-19', 'http://data.insideairbnb.com/united-states/fl/broward-county/2019-05-19/data/listings.csv.gz']\n",
            "['united-states', 'ma', 'cambridge', '2019-06-24', 'http://data.insideairbnb.com/united-states/ma/cambridge/2019-06-24/data/listings.csv.gz']\n",
            "['united-states', 'il', 'chicago', '2019-05-19', 'http://data.insideairbnb.com/united-states/il/chicago/2019-05-19/data/listings.csv.gz']\n",
            "['united-states', 'nv', 'clark-county-nv', '2019-06-25', 'http://data.insideairbnb.com/united-states/nv/clark-county-nv/2019-06-25/data/listings.csv.gz']\n",
            "['united-states', 'oh', 'columbus', '2019-05-18', 'http://data.insideairbnb.com/united-states/oh/columbus/2019-05-18/data/listings.csv.gz']\n",
            "['united-states', 'co', 'denver', '2019-05-29', 'http://data.insideairbnb.com/united-states/co/denver/2019-05-29/data/listings.csv.gz']\n",
            "['united-states', 'hi', 'hawaii', '2019-06-03', 'http://data.insideairbnb.com/united-states/hi/hawaii/2019-06-03/data/listings.csv.gz']\n",
            "['united-states', 'nj', 'jersey-city', '2019-06-29', 'http://data.insideairbnb.com/united-states/nj/jersey-city/2019-06-29/data/listings.csv.gz']\n",
            "['united-states', 'ca', 'los-angeles', '2019-05-05', 'http://data.insideairbnb.com/united-states/ca/los-angeles/2019-05-05/data/listings.csv.gz']\n",
            "['united-states', 'tn', 'nashville', '2019-06-11', 'http://data.insideairbnb.com/united-states/tn/nashville/2019-06-11/data/listings.csv.gz']\n",
            "['united-states', 'la', 'new-orleans', '2019-05-05', 'http://data.insideairbnb.com/united-states/la/new-orleans/2019-05-05/data/listings.csv.gz']\n",
            "['united-states', 'ny', 'new-york-city', '2019-06-02', 'http://data.insideairbnb.com/united-states/ny/new-york-city/2019-06-02/data/listings.csv.gz']\n",
            "['united-states', 'ca', 'oakland', '2019-05-18', 'http://data.insideairbnb.com/united-states/ca/oakland/2019-05-18/data/listings.csv.gz']\n",
            "['united-states', 'ca', 'pacific-grove', '2019-05-31', 'http://data.insideairbnb.com/united-states/ca/pacific-grove/2019-05-31/data/listings.csv.gz']\n",
            "['united-states', 'or', 'portland', '2019-06-07', 'http://data.insideairbnb.com/united-states/or/portland/2019-06-07/data/listings.csv.gz']\n",
            "['united-states', 'ri', 'rhode-island', '2019-06-30', 'http://data.insideairbnb.com/united-states/ri/rhode-island/2019-06-30/data/listings.csv.gz']\n",
            "['united-states', 'or', 'salem-or', '2019-06-06', 'http://data.insideairbnb.com/united-states/or/salem-or/2019-06-06/data/listings.csv.gz']\n",
            "['united-states', 'ca', 'san-diego', '2019-05-18', 'http://data.insideairbnb.com/united-states/ca/san-diego/2019-05-18/data/listings.csv.gz']\n",
            "['united-states', 'ca', 'san-francisco', '2019-06-02', 'http://data.insideairbnb.com/united-states/ca/san-francisco/2019-06-02/data/listings.csv.gz']\n",
            "['united-states', 'ca', 'santa-clara-county', '2019-06-06', 'http://data.insideairbnb.com/united-states/ca/santa-clara-county/2019-06-06/data/listings.csv.gz']\n",
            "['united-states', 'ca', 'santa-cruz-county', '2019-06-30', 'http://data.insideairbnb.com/united-states/ca/santa-cruz-county/2019-06-30/data/listings.csv.gz']\n",
            "['united-states', 'wa', 'seattle', '2019-05-18', 'http://data.insideairbnb.com/united-states/wa/seattle/2019-05-18/data/listings.csv.gz']\n",
            "['united-states', 'mn', 'twin-cities-msa', '2019-06-02', 'http://data.insideairbnb.com/united-states/mn/twin-cities-msa/2019-06-02/data/listings.csv.gz']\n",
            "['united-states', 'dc', 'washington-dc', '2019-06-16', 'http://data.insideairbnb.com/united-states/dc/washington-dc/2019-06-16/data/listings.csv.gz']\n",
            "Info: Completed summary information of each city \n",
            "Info: Downloading data for asheville with url http://data.insideairbnb.com/united-states/nc/asheville/2019-06-26/data/listings.csv.gz\n",
            "Info: Shape of data within asheville_listings.csv.gz: (2170, 106)\n",
            "Info: Shape of concatenated dataframe: (2170, 106)\n",
            "Info: Removed asheville_listings.csv.gz!\n",
            "Info: Downloading data for austin with url http://data.insideairbnb.com/united-states/tx/austin/2019-05-14/data/listings.csv.gz\n",
            "Info: Shape of data within austin_listings.csv.gz: (11792, 106)\n",
            "Info: Shape of concatenated dataframe: (13962, 106)\n",
            "Info: Removed austin_listings.csv.gz!\n",
            "Info: Downloading data for boston with url http://data.insideairbnb.com/united-states/ma/boston/2019-05-19/data/listings.csv.gz\n",
            "Info: Shape of data within boston_listings.csv.gz: (6241, 106)\n",
            "Info: Shape of concatenated dataframe: (20203, 106)\n",
            "Info: Removed boston_listings.csv.gz!\n",
            "Info: Downloading data for broward-county with url http://data.insideairbnb.com/united-states/fl/broward-county/2019-05-19/data/listings.csv.gz\n"
          ],
          "name": "stdout"
        },
        {
          "output_type": "stream",
          "text": [
            "/usr/local/lib/python3.6/dist-packages/IPython/core/interactiveshell.py:2822: DtypeWarning: Columns (43,61,62) have mixed types. Specify dtype option on import or set low_memory=False.\n",
            "  if self.run_code(code, result):\n"
          ],
          "name": "stderr"
        },
        {
          "output_type": "stream",
          "text": [
            "Info: Shape of data within broward-county_listings.csv.gz: (9165, 106)\n",
            "Info: Shape of concatenated dataframe: (29368, 106)\n",
            "Info: Removed broward-county_listings.csv.gz!\n",
            "Info: Downloading data for cambridge with url http://data.insideairbnb.com/united-states/ma/cambridge/2019-06-24/data/listings.csv.gz\n",
            "Info: Shape of data within cambridge_listings.csv.gz: (1369, 106)\n",
            "Info: Shape of concatenated dataframe: (30737, 106)\n",
            "Info: Removed cambridge_listings.csv.gz!\n",
            "Info: Downloading data for chicago with url http://data.insideairbnb.com/united-states/il/chicago/2019-05-19/data/listings.csv.gz\n",
            "Info: Shape of data within chicago_listings.csv.gz: (8169, 106)\n",
            "Info: Shape of concatenated dataframe: (38906, 106)\n",
            "Info: Removed chicago_listings.csv.gz!\n",
            "Info: Downloading data for clark-county-nv with url http://data.insideairbnb.com/united-states/nv/clark-county-nv/2019-06-25/data/listings.csv.gz\n"
          ],
          "name": "stdout"
        },
        {
          "output_type": "stream",
          "text": [
            "/usr/local/lib/python3.6/dist-packages/IPython/core/interactiveshell.py:2822: DtypeWarning: Columns (61,62) have mixed types. Specify dtype option on import or set low_memory=False.\n",
            "  if self.run_code(code, result):\n"
          ],
          "name": "stderr"
        },
        {
          "output_type": "stream",
          "text": [
            "Info: Shape of data within clark-county-nv_listings.csv.gz: (9369, 106)\n",
            "Info: Shape of concatenated dataframe: (48275, 106)\n",
            "Info: Removed clark-county-nv_listings.csv.gz!\n",
            "Info: Downloading data for columbus with url http://data.insideairbnb.com/united-states/oh/columbus/2019-05-18/data/listings.csv.gz\n",
            "Info: Shape of data within columbus_listings.csv.gz: (1363, 106)\n",
            "Info: Shape of concatenated dataframe: (49638, 106)\n",
            "Info: Removed columbus_listings.csv.gz!\n",
            "Info: Downloading data for denver with url http://data.insideairbnb.com/united-states/co/denver/2019-05-29/data/listings.csv.gz\n",
            "Info: Shape of data within denver_listings.csv.gz: (4659, 106)\n",
            "Info: Shape of concatenated dataframe: (54297, 106)\n",
            "Info: Removed denver_listings.csv.gz!\n",
            "Info: Downloading data for hawaii with url http://data.insideairbnb.com/united-states/hi/hawaii/2019-06-03/data/listings.csv.gz\n"
          ],
          "name": "stdout"
        },
        {
          "output_type": "stream",
          "text": [
            "/usr/local/lib/python3.6/dist-packages/IPython/core/interactiveshell.py:2822: DtypeWarning: Columns (61,62,95) have mixed types. Specify dtype option on import or set low_memory=False.\n",
            "  if self.run_code(code, result):\n"
          ],
          "name": "stderr"
        },
        {
          "output_type": "stream",
          "text": [
            "Info: Shape of data within hawaii_listings.csv.gz: (25706, 106)\n",
            "Info: Shape of concatenated dataframe: (80003, 106)\n",
            "Info: Removed hawaii_listings.csv.gz!\n",
            "Info: Downloading data for jersey-city with url http://data.insideairbnb.com/united-states/nj/jersey-city/2019-06-29/data/listings.csv.gz\n",
            "Info: Shape of data within jersey-city_listings.csv.gz: (2877, 106)\n",
            "Info: Shape of concatenated dataframe: (82880, 106)\n",
            "Info: Removed jersey-city_listings.csv.gz!\n",
            "Info: Downloading data for los-angeles with url http://data.insideairbnb.com/united-states/ca/los-angeles/2019-05-05/data/listings.csv.gz\n"
          ],
          "name": "stdout"
        },
        {
          "output_type": "stream",
          "text": [
            "/usr/local/lib/python3.6/dist-packages/IPython/core/interactiveshell.py:2822: DtypeWarning: Columns (43) have mixed types. Specify dtype option on import or set low_memory=False.\n",
            "  if self.run_code(code, result):\n"
          ],
          "name": "stderr"
        },
        {
          "output_type": "stream",
          "text": [
            "Info: Shape of data within los-angeles_listings.csv.gz: (43954, 106)\n",
            "Info: Shape of concatenated dataframe: (126834, 106)\n",
            "Info: Removed los-angeles_listings.csv.gz!\n",
            "Info: Downloading data for nashville with url http://data.insideairbnb.com/united-states/tn/nashville/2019-06-11/data/listings.csv.gz\n",
            "Info: Shape of data within nashville_listings.csv.gz: (6962, 106)\n",
            "Info: Shape of concatenated dataframe: (133796, 106)\n",
            "Info: Removed nashville_listings.csv.gz!\n",
            "Info: Downloading data for new-orleans with url http://data.insideairbnb.com/united-states/la/new-orleans/2019-05-05/data/listings.csv.gz\n",
            "Info: Shape of data within new-orleans_listings.csv.gz: (6962, 106)\n",
            "Info: Shape of concatenated dataframe: (140758, 106)\n",
            "Info: Removed new-orleans_listings.csv.gz!\n",
            "Info: Downloading data for new-york-city with url http://data.insideairbnb.com/united-states/ny/new-york-city/2019-06-02/data/listings.csv.gz\n"
          ],
          "name": "stdout"
        },
        {
          "output_type": "stream",
          "text": [
            "/usr/local/lib/python3.6/dist-packages/IPython/core/interactiveshell.py:2822: DtypeWarning: Columns (43,61,62,94,95) have mixed types. Specify dtype option on import or set low_memory=False.\n",
            "  if self.run_code(code, result):\n"
          ],
          "name": "stderr"
        },
        {
          "output_type": "stream",
          "text": [
            "Info: Shape of data within new-york-city_listings.csv.gz: (48801, 106)\n",
            "Info: Shape of concatenated dataframe: (189559, 106)\n",
            "Info: Removed new-york-city_listings.csv.gz!\n",
            "Info: Downloading data for oakland with url http://data.insideairbnb.com/united-states/ca/oakland/2019-05-18/data/listings.csv.gz\n",
            "Info: Shape of data within oakland_listings.csv.gz: (3167, 106)\n",
            "Info: Shape of concatenated dataframe: (192726, 106)\n",
            "Info: Removed oakland_listings.csv.gz!\n",
            "Info: Downloading data for pacific-grove with url http://data.insideairbnb.com/united-states/ca/pacific-grove/2019-05-31/data/listings.csv.gz\n",
            "Info: Shape of data within pacific-grove_listings.csv.gz: (228, 106)\n",
            "Info: Shape of concatenated dataframe: (192954, 106)\n",
            "Info: Removed pacific-grove_listings.csv.gz!\n",
            "Info: Downloading data for portland with url http://data.insideairbnb.com/united-states/or/portland/2019-06-07/data/listings.csv.gz\n",
            "Info: Shape of data within portland_listings.csv.gz: (5585, 106)\n",
            "Info: Shape of concatenated dataframe: (198539, 106)\n",
            "Info: Removed portland_listings.csv.gz!\n",
            "Info: Downloading data for rhode-island with url http://data.insideairbnb.com/united-states/ri/rhode-island/2019-06-30/data/listings.csv.gz\n",
            "Info: Shape of data within rhode-island_listings.csv.gz: (3588, 106)\n",
            "Info: Shape of concatenated dataframe: (202127, 106)\n",
            "Info: Removed rhode-island_listings.csv.gz!\n",
            "Info: Downloading data for salem-or with url http://data.insideairbnb.com/united-states/or/salem-or/2019-06-06/data/listings.csv.gz\n",
            "Info: Shape of data within salem-or_listings.csv.gz: (185, 106)\n",
            "Info: Shape of concatenated dataframe: (202312, 106)\n",
            "Info: Removed salem-or_listings.csv.gz!\n",
            "Info: Downloading data for san-diego with url http://data.insideairbnb.com/united-states/ca/san-diego/2019-05-18/data/listings.csv.gz\n",
            "Info: Shape of data within san-diego_listings.csv.gz: (12333, 106)\n",
            "Info: Shape of concatenated dataframe: (214645, 106)\n",
            "Info: Removed san-diego_listings.csv.gz!\n",
            "Info: Downloading data for san-francisco with url http://data.insideairbnb.com/united-states/ca/san-francisco/2019-06-02/data/listings.csv.gz\n",
            "Info: Shape of data within san-francisco_listings.csv.gz: (7575, 106)\n",
            "Info: Shape of concatenated dataframe: (222220, 106)\n",
            "Info: Removed san-francisco_listings.csv.gz!\n",
            "Info: Downloading data for santa-clara-county with url http://data.insideairbnb.com/united-states/ca/santa-clara-county/2019-06-06/data/listings.csv.gz\n",
            "Info: Shape of data within santa-clara-county_listings.csv.gz: (6972, 106)\n",
            "Info: Shape of concatenated dataframe: (229192, 106)\n",
            "Info: Removed santa-clara-county_listings.csv.gz!\n",
            "Info: Downloading data for santa-cruz-county with url http://data.insideairbnb.com/united-states/ca/santa-cruz-county/2019-06-30/data/listings.csv.gz\n",
            "Info: Shape of data within santa-cruz-county_listings.csv.gz: (1744, 106)\n",
            "Info: Shape of concatenated dataframe: (230936, 106)\n",
            "Info: Removed santa-cruz-county_listings.csv.gz!\n",
            "Info: Downloading data for seattle with url http://data.insideairbnb.com/united-states/wa/seattle/2019-05-18/data/listings.csv.gz\n",
            "Info: Shape of data within seattle_listings.csv.gz: (8926, 106)\n",
            "Info: Shape of concatenated dataframe: (239862, 106)\n",
            "Info: Removed seattle_listings.csv.gz!\n",
            "Info: Downloading data for twin-cities-msa with url http://data.insideairbnb.com/united-states/mn/twin-cities-msa/2019-06-02/data/listings.csv.gz\n",
            "Info: Shape of data within twin-cities-msa_listings.csv.gz: (6607, 106)\n",
            "Info: Shape of concatenated dataframe: (246469, 106)\n",
            "Info: Removed twin-cities-msa_listings.csv.gz!\n",
            "Info: Downloading data for washington-dc with url http://data.insideairbnb.com/united-states/dc/washington-dc/2019-06-16/data/listings.csv.gz\n",
            "Info: Shape of data within washington-dc_listings.csv.gz: (8994, 106)\n",
            "Info: Shape of concatenated dataframe: (255463, 106)\n",
            "Info: Removed washington-dc_listings.csv.gz!\n",
            "(255463, 106)\n"
          ],
          "name": "stdout"
        }
      ]
    },
    {
      "cell_type": "code",
      "metadata": {
        "id": "CPLwDhrlzitH",
        "colab_type": "code",
        "colab": {}
      },
      "source": [
        "\"\"\"\n",
        "# To save the data frame and compress it\n",
        "consolidated_df.to_csv('consolidated_data.csv', index = False, header=True)\n",
        "!gzip consolidated_data.csv\n",
        "\n",
        "# To load the data frame and uncompress it\n",
        "!gunzip consolidated_data.csv.gz\n",
        "consolidated_df = pd.read_csv(\"consolidated_data.csv\")\n",
        "\"\"\"\n",
        "consolidated_df.to_csv('consolidated_data.csv', index = False, header=True)"
      ],
      "execution_count": 0,
      "outputs": []
    },
    {
      "cell_type": "code",
      "metadata": {
        "id": "asbrQBET2t0K",
        "colab_type": "code",
        "colab": {
          "base_uri": "https://localhost:8080/",
          "height": 35
        },
        "outputId": "19fd04fc-e2da-482a-d0ce-a6f6e90abf24"
      },
      "source": [
        "consolidated_df.country.unique()"
      ],
      "execution_count": 23,
      "outputs": [
        {
          "output_type": "execute_result",
          "data": {
            "text/plain": [
              "array(['United States'], dtype=object)"
            ]
          },
          "metadata": {
            "tags": []
          },
          "execution_count": 23
        }
      ]
    },
    {
      "cell_type": "code",
      "metadata": {
        "id": "04tW1KzjxxaB",
        "colab_type": "code",
        "colab": {
          "base_uri": "https://localhost:8080/",
          "height": 35
        },
        "outputId": "329b31d9-3b94-495f-cf81-31bc1966aebb"
      },
      "source": [
        "consolidated_df.country_code.unique()"
      ],
      "execution_count": 22,
      "outputs": [
        {
          "output_type": "execute_result",
          "data": {
            "text/plain": [
              "array(['US'], dtype=object)"
            ]
          },
          "metadata": {
            "tags": []
          },
          "execution_count": 22
        }
      ]
    },
    {
      "cell_type": "code",
      "metadata": {
        "id": "R5vBavlT2-0O",
        "colab_type": "code",
        "colab": {}
      },
      "source": [
        "consolidated_df = consolidated_df[consolidated_df['country'] == 'United States']"
      ],
      "execution_count": 0,
      "outputs": []
    },
    {
      "cell_type": "code",
      "metadata": {
        "id": "2orgE6cN73cr",
        "colab_type": "code",
        "colab": {
          "base_uri": "https://localhost:8080/",
          "height": 35
        },
        "outputId": "425fb9fc-50ad-4e02-fa85-98670cde4edd"
      },
      "source": [
        "consolidated_df.country.isnull().sum()"
      ],
      "execution_count": 24,
      "outputs": [
        {
          "output_type": "execute_result",
          "data": {
            "text/plain": [
              "0"
            ]
          },
          "metadata": {
            "tags": []
          },
          "execution_count": 24
        }
      ]
    },
    {
      "cell_type": "code",
      "metadata": {
        "id": "Pguv7hKU3wa6",
        "colab_type": "code",
        "colab": {
          "base_uri": "https://localhost:8080/",
          "height": 1000
        },
        "outputId": "19b20ee4-6e69-46d1-bd33-ae4605a71154"
      },
      "source": [
        "consolidated_df.city.value_counts()"
      ],
      "execution_count": 29,
      "outputs": [
        {
          "output_type": "execute_result",
          "data": {
            "text/plain": [
              "Los Angeles                     27639\n",
              "New York                        22077\n",
              "Brooklyn                        18849\n",
              "Austin                          11636\n",
              "San Diego                       11579\n",
              "Seattle                          8909\n",
              "Washington                       8853\n",
              "Las Vegas                        8479\n",
              "Chicago                          8142\n",
              "San Francisco                    7520\n",
              "New Orleans                      6940\n",
              "Nashville                        6853\n",
              "Boston                           6036\n",
              "Honolulu                         5826\n",
              "Portland                         5576\n",
              "Denver                           4603\n",
              "Queens                           4231\n",
              "Minneapolis                      3558\n",
              "Oakland                          3047\n",
              "Kihei                            2910\n",
              "Jersey City                      2833\n",
              "San Jose                         2774\n",
              "Lahaina                          2761\n",
              "Hollywood                        2543\n",
              "Fort Lauderdale                  2166\n",
              "Asheville                        1910\n",
              "Long Beach                       1555\n",
              "Kailua-Kona                      1515\n",
              "Cambridge                        1316\n",
              "Columbus                         1264\n",
              "                                ...  \n",
              "Bayside, Queens                     1\n",
              "Long Island City, New York,         1\n",
              "Rockaway beach                      1\n",
              "Queens ,East Elmhurst .             1\n",
              "tarzana                             1\n",
              "Weekapaug                           1\n",
              "Chelsea, New York                   1\n",
              "LA VERNE                            1\n",
              "Lawai                               1\n",
              "Astoria/Queens                      1\n",
              "Pukoo                               1\n",
              "Lazy Lake                           1\n",
              "Pflugerville                        1\n",
              "Northfield                          1\n",
              "Gahanna                             1\n",
              "Weaverville                         1\n",
              "Chicago,                            1\n",
              " Venice                             1\n",
              "Malibu                              1\n",
              "Providence County                   1\n",
              "Temple Hills                        1\n",
              "Canola Park                         1\n",
              " North Truro                        1\n",
              "Sunset Beach                        1\n",
              "Anini                               1\n",
              "Westerly, Rhode Island, US          1\n",
              "West Park                           1\n",
              "Лос-Анджелес                        1\n",
              "Mattapan                            1\n",
              "Searchlight                         1\n",
              "Name: city, Length: 1681, dtype: int64"
            ]
          },
          "metadata": {
            "tags": []
          },
          "execution_count": 29
        }
      ]
    },
    {
      "cell_type": "code",
      "metadata": {
        "id": "ppB4TEUB91Kh",
        "colab_type": "code",
        "colab": {
          "base_uri": "https://localhost:8080/",
          "height": 35
        },
        "outputId": "30a348bf-8f19-4f13-8168-de95915f25a1"
      },
      "source": [
        "consolidated_df.city.isnull().sum()"
      ],
      "execution_count": 25,
      "outputs": [
        {
          "output_type": "execute_result",
          "data": {
            "text/plain": [
              "119"
            ]
          },
          "metadata": {
            "tags": []
          },
          "execution_count": 25
        }
      ]
    },
    {
      "cell_type": "code",
      "metadata": {
        "id": "Fqg-i7Xj93or",
        "colab_type": "code",
        "colab": {
          "base_uri": "https://localhost:8080/",
          "height": 35
        },
        "outputId": "478921c7-6c01-4610-a046-703a12384a0b"
      },
      "source": [
        "consolidated_df.zipcode.isnull().sum()"
      ],
      "execution_count": 26,
      "outputs": [
        {
          "output_type": "execute_result",
          "data": {
            "text/plain": [
              "3134"
            ]
          },
          "metadata": {
            "tags": []
          },
          "execution_count": 26
        }
      ]
    },
    {
      "cell_type": "code",
      "metadata": {
        "id": "KAf9ztuh-BFN",
        "colab_type": "code",
        "colab": {
          "base_uri": "https://localhost:8080/",
          "height": 35
        },
        "outputId": "60f843a9-1fef-4982-90ba-8c6c75ed7175"
      },
      "source": [
        "# Cleans up NaN values and sends sorted list of country names.\n",
        "def getcountries(df):\n",
        "    country_df = df[df['country'].notnull()]\n",
        "    countries = sorted(list(country_df.country.unique()))\n",
        "  \n",
        "    return countries\n",
        "\n",
        "getcountries(consolidated_df)"
      ],
      "execution_count": 30,
      "outputs": [
        {
          "output_type": "execute_result",
          "data": {
            "text/plain": [
              "['United States']"
            ]
          },
          "metadata": {
            "tags": []
          },
          "execution_count": 30
        }
      ]
    },
    {
      "cell_type": "code",
      "metadata": {
        "id": "ZeODj3zzBwfM",
        "colab_type": "code",
        "colab": {}
      },
      "source": [
        "# Fetches cities for given country.\n",
        "# Cleans up NaN values and sends sorted list of city names.\n",
        "def get_cities_for_country(df, country):\n",
        "    country_df = df[df['country'] == country]\n",
        "    \n",
        "    city_df = country_df[country_df['city'].notnull()]\n",
        "    cities = sorted(list(city_df.city.unique()))\n",
        "  \n",
        "    return cities\n",
        "  \n",
        "cities = get_cities_for_country(consolidated_df, 'United States')\n",
        "cities"
      ],
      "execution_count": 0,
      "outputs": []
    },
    {
      "cell_type": "code",
      "metadata": {
        "id": "mdKlC5GRYGmQ",
        "colab_type": "code",
        "colab": {
          "base_uri": "https://localhost:8080/",
          "height": 297
        },
        "outputId": "aa97463e-75b5-4a1e-9445-bf1765dbeb73"
      },
      "source": [
        "countries = getcountries(consolidated_df)\n",
        "\n",
        "for country in countries:\n",
        "  print(\"-----------------------Start----------------------------\")\n",
        "  print(f\"Finding duplicate cities in {country}\")\n",
        "  cities = get_cities_for_country(consolidated_df, country)\n",
        "  \n",
        "  # Code to find simplify finding duplicate city names.\n",
        "  city_prefix_duplicates = {}\n",
        "  for city in cities:\n",
        "    city = city.strip()\n",
        "  \n",
        "    if len(city) < 3:\n",
        "      print(f\"{city} is less than 3 characters\")\n",
        "      continue\n",
        "  \n",
        "    city_prefix = city.lower()[:3]\n",
        "  \n",
        "    if city_prefix in city_prefix_duplicates:\n",
        "      city_prefix_duplicates[city_prefix].add(city)\n",
        "    else:\n",
        "      new_set = set()\n",
        "      new_set.add(city)\n",
        "      city_prefix_duplicates[city_prefix] = new_set\n",
        "\n",
        "  print(city_prefix_duplicates)\n",
        "  print(\"-----------------------End------------------------------\")"
      ],
      "execution_count": 32,
      "outputs": [
        {
          "output_type": "stream",
          "text": [
            "-----------------------Start----------------------------\n",
            "Finding duplicate cities in United States\n",
            " is less than 3 characters\n",
            ". is less than 3 characters\n",
            "CA is less than 3 characters\n",
            "DC is less than 3 characters\n",
            "LA is less than 3 characters\n",
            "La is less than 3 characters\n",
            "NY is less than 3 characters\n",
            "NY is less than 3 characters\n",
            "Ny is less than 3 characters\n",
            "P is less than 3 characters\n",
            "纽约 is less than 3 characters\n",
            "{'mir': {'Miramar'}, 'ast': {'Astoria', 'ASTORIA', 'Astoria, Queens', 'ASTORIA/LIC', 'Astoria,Queens', 'Astoria - New York', 'astoria', 'Astoria Queens', 'Astoria/Queens'}, 'bro': {'Broward', 'Brookdale', 'Brookyn', 'Brooklyn Park', 'Brookyln', 'Bronx New York', 'Brooklyn (Williamsburg)', 'Brooklyn, NY 11221', 'Brookly,', 'Brooklyn,  Ny 11221', 'bronx', 'Broward County', 'Brooklyn New York', 'Brooklyn NY', 'Bronx ny', 'Brooklyn,  NY', 'Brooklyn', 'Bronx', 'Bronx NY', 'brooklyn', 'Bronx, NY', 'Broome', 'Brooklyn Center', 'Brookly', 'BRONX', 'BROOKLYN', 'Bronxville', 'Brookline', 'Brooklyn\\nBrooklyn', 'Brooklyn, Bedford Stuyvesant', 'Brooklyn, New York', 'BROOKLYN  Park Slope', 'Brooklyn Heights', 'Bronx/ City Island'}, 'bus': {'Bushwick, Brooklyn', 'Bushwick,Brooklyn', 'Bushwick'}, 'cro': {'Crown Heights,NY'}, 'enc': {'Encino, Los Angeles', 'Encino', 'Encino Ca'}, 'for': {'Fort Lauderdale, Florida, US', 'Fort Lauderdale', 'forest hills', 'fort lauderdale', 'FOREST HILLS', 'Fort Greene, Brooklyn', 'Forest Hills', 'forest hills/corona', 'Forest Lake', 'Forest hills'}, 'hol': {'Hollywood Lakes', 'Hollywood', 'Hollywood Hills, Los Angeles', 'Hollywood Heights', 'Hollister', 'Holualoa', 'Hollywood Hills', 'Hollis', 'Hollywood Beach'}, 'jer': {'Jersey City', 'Jersey City Heights', 'Jersey city'}, 'kai': {'Kailua Kona', 'Kailua Beach', 'Kailua-Kona', 'Kailua', 'KAILUA-KONA', 'Kailua - Kona'}, 'la ': {'LA JOLLA', 'La Jolla', 'La Habra Heights', 'La Puente', 'La Selva Beach', 'La Jolla, San Diego', 'La Verne', 'La Jolla Shores', 'La Crescenta-Montrose', 'La jolla', 'LA VERNE', 'La Jolla Cove', 'La Mesa', 'La puente', 'La Mirada', 'La Habra', 'La Cañada Flintridge'}, 'los': {'Los Altos', 'Los Angeles / Beverly Hills', 'Los Angeles/ Hollywood', 'Los Altos Hills', 'Los Angeles, CA`', 'Los Gatos', 'los angeles', 'Los Angeles, Hollywood Hills', 'Los Angeles (Elysian Valley)', 'Los Feliz, Los Angeles', 'Los Angeles, Tarzana', 'Los Angeles, NoHo Art District', 'Lost Angeles', 'Los Angeles, Woodland Hills', 'Los Angeles', 'LOS ANGELES CA', 'Los Angeles/Burbank/Toluca Lake', 'Los Angeles City', 'Los Angeles County', 'Los Angeles ca', 'Los Angeles / Hollywood', 'Los Angeles (Montecito Heights)', 'Los Angeles, Studio City, Tujunga Village'}, \"ma'\": {\"Ma'alaea, Wailuku\", \"Ma'alaea\"}, 'new': {'NEW YORK', 'New York , East Elmhurst', 'New York,Manhattan', 'New Richmond', 'New Germany', 'New Prague', 'New Shoreham', 'New York,', 'New-York', 'New Hope', 'new york', 'Newyork', 'New York - Astoria', 'New York City', 'New Brighton', 'NewYork', 'New York city', 'New Albany', 'New York, US', 'New York', 'New york', 'Newport', 'New Orleans', 'New York East Elmhurst', 'New Orleans, Louisiana, US', 'Newton'}, 'nor': {'Northridge', 'North Las Vegas', 'NORTH HOLLYWOOD', 'North Kingstown', 'North Saint Paul', 'North Hollywood (Toluca Lake)', 'Northfield', 'North Kona', 'Norwalk', 'North Truro', 'North Branch', 'North Providence', 'North Lauderdale, Florida, US', 'North Hollywood', 'North Lauderdale', 'North Prividence', 'North Bergen', 'North Oaks', 'north hollywood', 'North hills', 'North hollywood', 'North Smithfield', 'North Hills', 'Norridge', 'North Hollywood Los Angeles Studio City'}, 'san': {'SAN PEDRO', 'Santee', 'San Diego, CA, United States', 'San Pedro', 'Santa Clarita', 'Santa Monica', 'San Diego County', 'Santa Clara County', 'San Francisco', 'Santa Clara', 'San Fernando Valley', 'San Marino', 'San Leandro', 'san Gabriel/Rosemead', 'Sandy Valley', 'San Martin', 'San Fernando', 'San Jose', 'San Dimas', 'San Francisco, Hayes Valley', 'San DIego', 'san jose', 'San diego', 'san gabriel', 'Santa Cruz', 'San Gabriel', 'San Diego', 'SAN DIEGO', 'San Pedro, Los Angeles', 'San Jose, California, US', 'San Diego, California, US', 'san pedro', 'San Pedro Los Angeles'}, 'upt': {'Uptown, New Orleans'}, 'ven': {'Venice Beach, Los Angeles', 'Venice , Los Angeles', 'Venice Los Angeles', 'Venice beach', 'venice beach', 'Venice (Los Angeles)', 'Venice', 'Venice, Los Angeles', 'venice', 'Venice Beach'}, '842': {'8425 Elmhurst avenue'}, 'all': {'ALLSTON', 'Allston'}, 'aus': {'Austin Tx', 'Austin', 'austin', 'Austin, TX - Lake Travis', 'AUSTIN'}, 'act': {'Acton'}, 'aft': {'Afton'}, 'ago': {'Agoura Hills-Malibu', 'Agoura Hills'}, 'agu': {'Agua Dulce'}, 'aie': {'Aiea'}, 'alb': {'Albertville'}, 'alh': {'Alhambra'}, 'alp': {'Alpine'}, 'alt': {'Altadena'}, 'ana': {'Anahola'}, 'and': {'Andover'}, 'ani': {'Anini'}, 'ann': {'Annandale'}, 'ano': {'Anoka'}, 'ant': {'Antioch'}, 'app': {'Apple Valley'}, 'apt': {'Aptos Hills', 'Aptos', 'Aptos Hills-Larkin Valley'}, 'ara': {'Arabi'}, 'arc': {'arcadia', 'Arcadia'}, 'ard': {'Arden/Asheville', 'Arden Hills', 'Arden, Ashville', 'Arden', 'Arden, NC 28704, USA'}, 'arl': {'Arlington', 'Arleta'}, 'art': {'Artesia'}, 'arv': {'Arverne'}, 'ash': {'Asheville', 'Ashland City', 'Ashville'}, 'aub': {'Auburndale'}, 'aur': {'Aurora'}, 'ava': {'Avalon'}, 'ave': {'Avery Creek'}, 'avo': {'Avocado Heights'}, 'azu': {'Azusa'}, 'blo': {'Bloomington', 'Block Island', 'BLOCK ISLAND'}, 'bos': {'Boston,', 'Boston (Jamaica Plain)', 'Boston', 'BOSTON', 'boston', 'Boston (Charlestown)'}, 'bal': {'Ballard, Seattle', 'Ballard Seattle', 'Baldwin Park'}, 'bar': {'Barrington'}, 'bay': {'Bayonne', 'Bayside', 'Bayside, Queens', 'Bayport'}, 'bec': {'Becker'}, 'bed': {'Bedford-Stuyvesant'}, 'bee': {'Bee Cave'}, 'bel': {'Belle harbor', 'Belle Plaine', 'Belle Harbor', 'Bell', 'Belmont', 'Bellflower', 'Bell Gardens', 'Bel Air'}, 'ben': {'Ben Lomond'}, 'ber': {'Berkeley', 'Bernal Heights, San Francisco', 'Berry Hill'}, 'bet': {'Bethel', 'Bethesda'}, 'bev': {'Beverly Hills/ Los Angeles', 'beverly hills', 'Beverly Grove', 'Beverly Hills'}, 'big': {'Big Island', 'Big Lake'}, 'bix': {'Bixby Knolls'}, 'bkl': {'Bklyn NY'}, 'bla': {'Blackstone', 'Blaine', 'Blacklick'}, 'boc': {'Boca Raton'}, 'bon': {'Bonita', 'Bonny doon / Santa cruz', 'Bonny Doon'}, 'bou': {'Boulder City', 'Boulder Creek', 'Bouldin, Austin'}, 'bra': {'Braham', 'Bradbury', 'Bradford Township'}, 'bre': {'Brentwood'}, 'bri': {'Bristol', 'Briarwood', 'Brighton'}, 'buf': {'Buffalo'}, 'bul': {'Bullhead City'}, 'bun': {'Bunkerville'}, 'bur': {'Burbank, Los Angeles', 'burbank', 'Burnsville', 'Burbank', 'Burrillville'}, 'byw': {'ByWater-Marigny, New Orleans'}, 'chi': {'Chicago Heights', 'chicago', 'Chisago City', 'Chillum', 'CHICAGO', 'Chicago', 'Chicago,'}, 'cal': {'Calabasas'}, 'cam': {'Cambria heights', 'Cambria  Heights, Queens', 'Campbell', 'Cambridge'}, 'can': {'Canal Winchester', 'Cane Ridge', 'Candler', 'Canoga Park', 'Canola Park', 'Canyon country', 'Cannon Falls'}, 'cap': {'Capitola', 'Capitol Hill, Washington', 'Capitol Heights', 'Captain Cook', 'Capitol Hill, Seattle'}, 'car': {'Carver', 'Carson', 'Carroll Gardens,Brooklyn, NYC'}, 'cas': {'Castaic'}, 'cen': {'Center City', 'Century city', 'Central Park North, Harlem', 'Central Falls'}, 'cer': {'Cerritos'}, 'cha': {'Charlestown', 'Champlin', 'Chatsworth', 'Chanhassen', 'Chaska'}, 'che': {'Chevy Chase', 'Chepachet', 'Chelsea, New York'}, 'chu': {'Chula Vista', 'Chula Vista (Eastlake)', 'Chula Vista,'}, 'cir': {'Circle Pines'}, 'cit': {'City of Industry', 'City Island'}, 'cla': {'Claremont'}, 'cle': {'Clearwater', 'Clear Lake'}, 'cli': {'Clinton Hill Brooklyn'}, 'coc': {'Coconut creek', 'Coconut Creek'}, 'col': {'columbus', 'Columbus', 'College Point', 'Columbia Heights, middle of DC!', 'Cologne', 'Columbia Heights'}, 'com': {'Commerce', 'Compton'}, 'coo': {'Cooper city', 'Cooper City', 'Coon Rapids'}, 'cor': {'Coral Springs', 'Coronado', 'Corralitos', 'Corona'}, 'cot': {'Cottage Grove'}, 'cov': {'Covina', 'Coventry', 'Covina Hills'}, 'cra': {'Cranston'}, 'cry': {'Crystal'}, 'cud': {'Cudahy'}, 'cul': {'Culver City'}, 'cum': {'Cumberland'}, 'cup': {'Cupertino'}, 'cyp': {'Cypress'}, 'dan': {'DANIA BEACH', 'Dania Beach'}, 'dia': {'diamond bar', 'DIAMOND  BAR', 'Diamond Bar', 'Diamond Bluff', 'Diamond'}, 'dor': {'DORCHESTR CTR', 'Dorchster', 'Dorchester Center', 'Dorchester'}, 'dal': {'Daly City'}, 'dav': {'Davenport', 'Davidson County', 'Davie'}, 'day': {'Dayton'}, 'dee': {'Deerfield Beach'}, 'del': {'Del Monte Forest', 'Del Mar Highlands', 'Del Aire', 'Delano', 'Del Valle', 'Del Mar'}, 'den': {'Denmark Twp', 'Denver', 'Denver, Colorado, US'}, 'det': {'Detroit Lakes'}, 'dou': {'Douglaston'}, 'dow': {'Downtown Los Angeles', 'Downey', 'Downtown Austin'}, 'dr.': {'Dr. Chicago'}, 'dri': {'Dripping Springs', 'Driftwood'}, 'dua': {'Duarte'}, 'dub': {'Dublin'}, 'dup': {'Dupont Circle', 'Dupont Circle, Washington'}, 'eas': {'East Providence', 'East Cambridge', 'East Greenwich', 'East Elmhurst (Queens)', 'East Boston', 'East Elmhurst or Flushing', 'East Austin', 'East Bethel', 'East elmhurst', 'East Los Angeles', 'East Honolulu', 'East Palo Alto', 'East Williamsburg', 'East Elmhurst', 'East Foothills', 'east edna PI.Covina', 'east Boston', 'EAST ELMHURST'}, 'eag': {'Eagan'}, 'ech': {'Echo Park', 'echo park', 'Echo Park, Los Angeles'}, 'ede': {'Eden Prairie', 'Eden Roc'}, 'edi': {'Edina'}, 'el ': {'El Segundo, California, US', 'El Monte', 'El Camino Village', 'el monte', 'El Segundo'}, 'eli': {'Elizabeth Lake'}, 'elk': {'Elk River', 'Elko New Market'}, 'elm': {'Elmhurst', 'Elmhutst', 'Elmhurst/Jackson Heights', 'Elmhurts', 'elmhurst Queens', 'Elmwood Park'}, 'ely': {'Elysian'}, 'eme': {'Emeryville'}, 'eng': {'Englewood'}, 'ent': {'Enterprise'}, 'esc': {'Escondido'}, 'eva': {'Evanston'}, 'eve': {'Everett', 'Evergreen Park'}, 'ewa': {'Ewa Beach', 'Ewa beach'}, 'exc': {'Excelsior'}, 'exe': {'Exeter'}, 'flu': {'Flushing /Kew Gardens Hills', 'Flushing or east Elmhurst', 'FLushing', 'Flushing ,East Elmhurst', 'Flushing NY', 'flushing', 'Flushing', 'Flush', 'FLUSHING'}, 'fal': {'Fall River', 'Falcon Heights'}, 'far': {'Farmington', 'Far Rockaway , Bayswater', 'Far Rockaway', 'Far rockaway'}, 'fel': {'Felton'}, 'fer': {'Fern Forest'}, 'fle': {'Fletcher'}, 'flo': {'Floral Park', 'Florida'}, 'fos': {'Foster'}, 'fre': {'Fresh Meadows', 'Fredericksburg', 'Fresh meadows', 'Freedom'}, 'fri': {'Fridley'}, 'ft ': {'Ft Lauderdale', 'Ft lauderdale', 'Ft Lauradale'}, 'ft.': {'Ft. Lauderdale', 'Ft.Lauderdale'}, 'gra': {'Granada Hills, (Los Angeles)', 'Gravesend Brooklyn', 'GRANADA HILLS', 'Granada Hills'}, 'gah': {'Gahanna'}, 'gal': {'Galloway'}, 'gar': {'Gardena', 'Garrison', 'gardena'}, 'gas': {'Gas lamp San Diego'}, 'gat': {'Gatlinburg'}, 'geo': {'Georgetown'}, 'gil': {'Gilroy'}, 'gle': {'Glendale, California, US', 'Glendale', 'Glendora'}, 'glo': {'Glocester'}, 'gol': {'Golden Valley'}, 'goo': {'Goodlettsville'}, 'gre': {'Greenbrier', 'Greenpoint, Brooklyn', 'Green Hill', 'Green Valley', 'Gretna', 'Greenpoint'}, 'gro': {'Grove City', 'Groveport'}, 'hal': {'Hallandale Beach', 'HALNDLE BCH', 'Hallandale beach', 'HALLANDALE BEACH', 'Hallandale Beach, Florida, US', 'Hallandale', 'Hallendale', 'Haleiwa'}, 'har': {'Harlem', 'HARBOR CITY', 'Harbor City', 'Harris'}, 'hil': {'Hilo', 'Hillsboro Beach', 'Hilliard', 'HILO', 'Hillcrest Heights'}, 'hon': {'HONOLULU', 'Honolulu, Hawaii, US', 'Honaunau-Napoopoo', 'Honolulu County', 'honolulu', \"Honoka'a\", 'Honolulu,', 'Honokowai', 'Honauanu', 'Honokaa', 'Honalo', 'Honolulu', 'Honolulu (Waikiki)', 'Honomu', 'Honululu'}, 'hac': {'Hacienda Heights', 'Hacienda heights'}, 'hae': {'Haena', 'Haena Kauai'}, 'hag': {'Hager City'}, 'hai': {'Haiku/Huelo', 'Haiku, Maui', 'Haiku', 'Haiku- Pauwela', 'Haiku-Pauwela'}, 'hak': {'Hakalau'}, 'ham': {'Ham Lake'}, 'han': {'Hanover', 'Hanalei', 'Hana'}, 'hap': {'Happy Valley'}, 'has': {'Hastings'}, 'hau': {'Hauula', \"Hau'ula\"}, 'haw': {'Hawaii', 'Hawaiian Paradise Park', 'Hawthorne', 'Hawaiian Acres', 'Hawaii County', 'Hawaii Volcanoes National Park', 'Hawi', 'Hawaiian Beaches'}, 'hen': {'Henderson', 'Hennepin County'}, 'her': {'Hermosa Beach', 'Hermitage'}, 'hic': {'Hicksville'}, 'hob': {'Hoboken'}, 'hop': {'Hopkinton', 'Hopkins'}, 'hou': {'Houlton'}, 'how': {'Howard Beach', 'Howard Lake'}, 'hud': {'Hudson'}, 'hug': {'Hugo'}, 'hun': {'Huntington Park'}, 'hur': {'Huron Village'}, 'hya': {'Hyattsville'}, 'hyd': {'Hyde Park'}, 'hān': {'Hāna'}, 'hōl': {'Hōlualoa'}, 'inv': {'Inverrary', 'INVER GROVE', 'Inver Grove Heights'}, 'ind': {'Independence', 'Indio'}, 'ing': {'Inglewood'}, 'irv': {'Irvine'}, 'isa': {'Isanti'}, 'isl': {'Isle'}, 'jac': {'Jackson heights', 'jackson heights', 'Jackson Heights', 'Jackson Heights, Queens', 'JACKSON HEIGHTS'}, 'jam': {'Jamaica queens', 'Jamestown', 'Jamaica', 'Jamaica Plain, Boston', 'Jamaica Plain', 'Jamaica Queens'}, 'jea': {'Jean'}, 'joh': {'Johnston'}, 'jor': {'Jordan'}, 'kap': {'Kapaa, Kauai', 'kapaa', 'Kapaa', 'Kapolei', 'Kapa`a', 'Kapoho', 'Kappaau', \"Kapa'a\", 'KAPAA', 'Kapaʻa', 'Kapalua', 'Kapaau'}, 'kau': {'KAUNAKAKAI', 'Kaua’i', 'Kauai', 'Kaunakakai'}, 'kih': {'Kihei, Maui', 'Kihei-Wailea', 'KIHEI', 'Kihei'}, 'kol': {'Koloa', 'KOLOA, KAUAI', 'Koloa/Poipu', 'koloa', 'Koloa`', 'Koloa/Poipu, Kauai'}, \"ka'\": {\"Ka'anapali\"}, 'kaa': {'Kaanapali', 'Kaanapali Beach', 'Kaaawa'}, 'kah': {'Kahuku', 'Kahana Reef, Maui', 'Kahana', 'Kahana, Maui', 'Kahaluu-Keauhou', 'Kahului'}, 'kal': {'Kalaoa', 'Kalua Koi', 'Kalaheo', 'Kalapana'}, 'kam': {'Kamuela', 'Kamuela,'}, 'kan': {'Kanaanapali', 'Kaneohe'}, 'kaw': {'Kawaihae'}, 'kea': {'Kea’au', 'Keaau', 'Kealakekua Bay', 'Kealakekua', 'Keauhou', \"Kea'au\"}, 'keh': {'Kehena'}, 'kek': {'Kekaha'}, 'kew': {'Kew Gardens'}, 'kie': {'Kiehi'}, 'kil': {'Kilauea'}, 'kip': {'Kips Bay'}, 'ko ': {'Ko Olina', 'Ko Olina Beach'}, \"ko'\": {\"Ko'Olina, Kapolei\", \"Ko'olina Resort\"}, 'koh': {'Kohala Coast - Kamuela', 'Kohala Ranch', 'Kohala Coast'}, 'kon': {'Kona'}, 'kul': {'Kula'}, 'kur': {'Kurtistown'}, 'kīh': {'Kīhei'}, 'lah': {'Lahaina, Maui', 'Lahaina', 'LAHAINA', 'Lahiana', 'lahaina'}, 'las': {'Las Vegas\\u200e', 'LAS VEGAS', 'Las Vegas, Nevada, US', 'Las Vegas', 'Las Vega', 'las vegas', 'Lasvegas', 'LasVegas', 'Las vegas'}, 'lau': {'Laughlin', 'LAUDERDALE BY THE SEA', 'Lauderdale By The Sea', 'Lauderdale by the Sea', 'Lauderdale-By-The-Sea', 'Laupahoehoe', 'Lauderdale', 'Lauderhill', 'Lauderdale-by-the-Sea', 'Lauderdale Lakes', 'LAUD BY SEA', 'Laupāhoehoe', 'Laurelton'}, 'lic': {'LIC'}, 'lih': {'LIHUE, KAUAI', 'Lihue', 'lihue'}, 'lon': {'Long Island', 'Long Island City', 'Long Beach', 'long beach', 'Long Island City, New York,', 'LONG BEACH', 'LONG ISLAND CITY', 'Long Island city', 'long island city', 'Long Lake', 'Long Island CIty', 'Long island city'}, 'lat': {'LaTuna Canyon'}, 'lai': {'Laie'}, 'lak': {'Lakeville', 'Lake Wylie', 'Lakeway', 'lake las vegas', 'Lake Las Vegas', 'Lake Los Angeles', 'Lake Balboa', 'Lake Hughes', 'Lake Travis', 'Lake Minnetonka', 'Lake Wales', 'Lake Oswego', 'Lakewood', 'Lakeland', 'Lake Elmo', 'Lake Forest Park'}, 'lan': {'Lanai City', 'Lancaster', 'Lanai city'}, 'law': {'Lawrence', 'Lawndale', 'Lawai'}, 'laz': {'Lazy Lake'}, 'le ': {'Le Sueur'}, 'lei': {'Leicester'}, 'lem': {'Lemon Grove'}, 'len': {'Lennox'}, 'leo': {'Leona Valley'}, 'lew': {'Lewis Center'}, 'lig': {'Lighthouse Point'}, 'lin': {'Lino Lakes', 'Lincoln', 'Lincoln Park', 'Lindstrom', 'Lincoln heights'}, 'lit': {'Little Canada', 'Littleton', 'Little Compton', 'Little neck', 'Littlerock'}, 'lla': {'Llano'}, 'lom': {'Lomita'}, 'lyn': {'Lynwood'}, 'līh': {'Līhuʻe'}, 'mau': {'Maui County', 'Maunoloa', 'Maunawili', 'Mauna Lani', 'Maui/Kaanapali', 'Maui', 'Maunaloa', 'MAUNALOA MOLOKAI', 'Maunaloa Molokai', 'Mauna Lani Resort'}, 'mid': {'MIDDLE VILLAGE', 'Middletown/Newport', 'Middle Village', 'Middle village', 'Middlesex County', 'Mid-Cambridge', 'Middletown'}, 'maa': {'Maalaea Bay', 'Maalaea'}, 'mad': {'Madison', 'Madison Lake'}, 'mah': {'Mahtomedi'}, 'mai': {'Maiden Rock'}, 'mak': {'Makaha Valley', 'Makakilo/Kapolei/Honokai Hale', 'Makaha, Waiʻanae', 'Makawao', 'Makaha', 'Makena', 'Makena, Maui', 'Makaha valley'}, 'mal': {'Malibu', 'Malibu Beach', 'Malibu Canyon/Monte Nido'}, 'man': {'Manhattan', 'Manhattan NY', 'Manhattan Beach', 'Manhattan, New York', 'Manchaca'}, 'map': {'Maple Lake', 'Maplewood', 'Maple Plain', 'Maple Grove'}, 'mar': {'Marina del rey', 'Marine on St. Croix', 'Marina del Rey, Venice, Los Angeles', 'Marina del Rey', 'Margate', 'Marine on Saint Croix', 'Marina Del Rey', 'Mar Vista'}, 'mas': {'Maspeth'}, 'mat': {'Mattapan'}, 'may': {'Maywood'}, 'med': {'Medina'}, 'men': {'Mendota Heights', 'Menlo Park', 'Mendota'}, 'mes': {'Mesquite'}, 'met': {'Metairie'}, 'mia': {'Miami Gardens', 'Miami Beach', 'Miami'}, 'mil': {'Milaca', 'Mililani', 'Milpitas', 'Milton', 'Milwaukie', 'Mililani Town', 'Millbrae'}, 'min': {'Minnetonka', 'Minnetrista', 'Minneapolis', 'minnetonka'}, 'mis': {'Mission Hills', 'Mission Beach', 'Mission Bay', 'Misquamicut'}, 'moa': {'Moapa Valley'}, 'mok': {'Mokuleia'}, 'mon': {'Monterey', 'Monticello', 'Monterey Hill. Los Angeles', 'Monterey Park', 'Monte Sereno', 'Monrovia', 'Montrose', 'Montebello', 'Montgomery', 'Monterey park'}, 'mor': {'Morgan Hill'}, 'mot': {'Mott Haven'}, 'mou': {'Mount Rainier', 'Mounds View', 'Mountain View, Hawaii, US', 'Mount Hermon', 'Mountain View', 'Mound', 'Mount Vernon', 'Mount Baldy'}, 'mt.': {'Mt. View'}, 'māk': {'Mākaha Valley', 'Mākaha'}, 'n h': {'N Hollywood'}, 'n?n': {'N?nole'}, 'nue': {'NUEVA YORK', 'Nueva York'}, 'nyc': {'NYC', 'nyc', 'Nyc'}, 'na`': {'Na`alehu'}, 'naa': {'Naalehu'}, 'nan': {'Nanakuli'}, 'nap': {'Napili', 'Napili-Honokowai'}, 'nar': {'Narragansett'}, 'nas': {'Nashville', 'nashville', 'Nashville\\nHermitage'}, 'nat': {'National City'}, 'nep': {'Neponsit'}, 'nin': {'Ninole'}, 'no ': {'No Hollywood'}, 'noe': {'Noe Valley - San Francisco'}, 'nov': {'Nova York'}, 'now': {'Nowthen'}, 'nīn': {'Nīnole'}, 'oah': {'Oahu'}, 'oak': {'Oak Park Heights', 'Oakland Park', 'Oakdale', 'Oak Park', 'Oakland Gardens', 'Oak Grove', 'Oakland'}, 'oce': {'Ocean View', 'Ocean Beach, San Diego', 'Oceanside', 'Ocean Beach', 'Ocean view', 'Ocean view estates Hawaii'}, 'old': {'Old Hickory', 'Old hickory'}, 'ona': {'Onamia'}, 'ook': {'Ookala'}, 'oro': {'Orono'}, 'oss': {'Osseo'}, 'ots': {'Otsego'}, 'ozo': {'Ozone Park', 'Ozone park', 'ozone park queens', 'Ozon Park'}, 'pah': {'Pahala', 'PAHOA', 'Pahoa'}, 'pec': {'PECK SLIP'}, 'poi': {'Poipu', 'POIPU, KAUAI', 'Poipu/ Koloa', 'Poipu/Koloa, HI, USA', 'Poipu, Koloa', 'Poipu Koloa'}, 'pri': {\"Princeville, Kaua'i\", 'Prior Lake', 'Princeville', 'Princeville, Kauai', 'Princville', 'Princeton', 'Private Room near USC', 'PRINCE'}, 'paa': {'Paauilo'}, 'pac': {'Pacific Grove', 'Pacific Palisades, Los Angeles', 'Pacoima', 'Pacific Plsds', 'pacific palisades', 'Pacific Palisades'}, 'pai': {'Paia'}, 'paj': {'Pajaro Dunes'}, 'pal': {'Palos Verdes Peninsula', 'Palos Verdes Estates', 'Palm Springs', 'Palmdale', 'Palo Alto'}, 'pan': {'Panorama City'}, 'pap': {'Papaaloa', 'Papaikou/Hilohilo', 'Papaikou', 'Papaaloa,'}, 'par': {'Paramount', 'Parkchester', 'Paradise', 'Park slope', 'Parkland', 'Park Slope, Brooklyn'}, 'pas': {'Pasadena', 'Pasadena, Los Angeles'}, 'paw': {'Pawtucket'}, 'pea': {'Pearl City'}, 'peg': {'Pegram'}, 'pem': {'Pembroke Park', 'Pembroke Pines'}, 'pen': {'Pensacola Beach'}, 'pep': {'Pepekeeo', 'Pepeekeo'}, 'pes': {'Pescadero'}, 'pfl': {'Pflugerville'}, 'phi': {'Phillips Ranch'}, 'pic': {'Pico Rivera'}, 'pie': {'Piedmont'}, 'pil': {'Pilsen, Chicago'}, 'pla': {'Playa Del Rey', 'Playa', 'Playa Vista', 'plantation', 'Plantation', 'Playa del Rey', 'Playa del rey'}, 'plu': {'Plum City, Maiden Rock'}, 'ply': {'Plymouth'}, 'pom': {'Pompano Beach,', 'Pompano Beach', 'Pomona', 'pompano beach', 'Pompano beach'}, 'por': {'Portland', 'Portsmouth', 'Porter ranch', 'Portola Valley', 'Porter Ranch'}, 'pow': {'Powell'}, 'pre': {'Prescott'}, 'pro': {'Providence', 'Providence County'}, 'pru': {'Prudence Island'}, 'pua': {'Puako'}, 'puk': {'Pukoo'}, 'pun': {'Punaluu', \"Punalu'u/Hauula\"}, 'pāh': {'Pāhala', 'Pāhoa'}, 'pāp': {'Pāpa‘aloa'}, 'qua': {'Quartz Hill'}, 'que': {'Quenns', 'Queens, Flushing', 'Queens Village', 'Queens', 'Queens NY', 'Queens ,East Elmhurst .', 'Queens village', 'Queensvillage', 'queens', 'Queens Astoria', 'Queens/Corona/New York'}, 'riv': {'Riverside', 'Riverdale', 'RIVERDALE', 'River Falls'}, 'rid': {'Ridgewood', 'Ridgewood Queens.', 'RIdgewood'}, 'row': {'Rowland height', 'Rowland Heigh', 'Rowland Heights / Hacienda Heights', 'Rowland Heights', 'Rowland heights', 'rowland heights', 'ROWLAND HGHTS', 'Rowland Hghts', 'Rowland Helghts'}, 'rox': {'Roxbury Crossing', 'ROXBURY CROSSING', 'Roxbury'}, 'ram': {'Ramsey'}, 'ran': {'Rancho Palos Verdes'}, 'red': {'Redo do beach', 'Redmond', 'Redondo Beach', 'Red Hook, Brooklyn'}, 'reg': {'Rego Park Queens', 'Rego park', 'Rego Park', 'Regó park'}, 'res': {'Reseda, Los Angeles', 'Reseda', 'Reseda , los Angeles', 'Reseda,Los Angeles', 'Reseda , Los Angeles'}, 'rev': {'Revere'}, 'rey': {'Reynoldsburg'}, 'ric': {'Richmond', 'Richmond hill', 'Richmond Hill, Jamaica, Queens', 'richmond hill', 'Richfield', 'Richmond Hill'}, 'rob': {'Robbinsdale', 'Roberts'}, 'roc': {'Rockaway beach', 'Rockford', 'Rockaway Beach', 'Rockridge, Oakland'}, 'rog': {'Rogers', 'Rogers Park'}, 'rol': {'Rolling Hills Estates', 'Rollingwood', 'Rolling Hills'}, 'ros': {'Rosemead', 'rosemead', 'Rosedale, Jamaica', 'Rosedale Jamaica', 'Roseville', 'Rosemount', 'Roslindale', 'Roslindale, Boston', 'Rosedale'}, 'rou': {'Round Rock'}, 'rus': {'Rush City'}, 'stu': {'STUDIO CITY', 'studio city', 'Studio city', 'Studio City'}, 'sun': {'Sunnyvale', 'Sunset Beach', 'Sunnyside Queens', 'Sunrise', 'Sunland', 'SUNNYSIDE, LONG ISLAND CITY', 'SUNNYSID, LONG ISLAND CITY', 'Sun valley', 'Sunnyside, Queens', 'Sun Valley', 'Sunny Isles Beach', 'Sunnyside', 'SUNNYSIDE', 'Sunset Valley'}, 'sai': {'Saint Paul', 'Saint Louis Park', 'Saint Albans', 'Saint Michael', 'Saint Bonifacius', 'Saint Anthony', 'Saint Paul Park', 'Saint Albans(Queens)', 'Saint Peter'}, 'sal': {'Salem'}, 'sar': {'Saratoga'}, 'sau': {'Saunderstown'}, 'sav': {'Savage'}, 'sca': {'Scandia'}, 'sci': {'Scituate'}, 'sco': {'Scotts Valley'}, 'sea': {'Seattle', 'Seattle, Washington, US', 'Searchlight'}, 'sel': {'Select Cities'}, 'sha': {'Shakopee', 'Shafer'}, 'she': {'Sherman Oaks, Los Angeles', 'sherman oaks', 'Sherwood Forest', 'Sherman Oaks,', 'Sherman Oaks', 'Sherman oaks'}, 'sho': {'Shorewood', 'Shoreview', 'Shoreline'}, 'sie': {'Sierra Madre'}, 'sig': {'Signal Hill'}, 'sil': {'Silver Lake', 'Silver Spring', 'Silver Lake, Los Angeles'}, 'sim': {'Simi Valley'}, 'sli': {'Slidell'}, 'smi': {'Smithfield'}, 'sol': {'Solana Beach'}, 'som': {'Somerville', 'Somerset'}, 'soq': {'Soquel'}, 'sou': {'South Gate', 'South El Monte', 'South Saint Paul', 'South Kingstown', 'South San Francisco', 'Southwest Ranches', 'South Bay', 'South Bend', 'South Pasadena', 'South Richmond Hill', 'South San Gabriel', 'South Boston', 'South Ozone Park', 'South Point', 'South Haven', 'South Kingston', 'South Kohala', 'South ozone park'}, 'spi': {'Spicewood'}, 'spr': {'Springfield gardens', 'Spring Park', 'Springfield Gardens', 'Spring Valley'}, 'st ': {'St Paul'}, 'st.': {'St. Paul', 'St. Louis Park', 'St. Cloud', 'St. Albans'}, 'sta': {'Staten Island', 'Stanchfield', 'Staten island', 'Stanford', 'Stapleton, Denver'}, 'ste': {'Stevenson Ranch'}, 'sti': {'Stillwater'}, 'sto': {'Stockholm', 'Stonington'}, 'syl': {'Sylmar'}, 'tor': {'Torrance', 'TORRANCE'}, 'tak': {'Takoma Park'}, 'tam': {'Tamarac'}, 'tar': {'Tarzana', 'tarzana'}, 'tay': {'Taylors Falls'}, 'tem': {'temple city', 'Temple Hills', 'tempcity', 'Temple city', 'Temple City'}, 'the': {'The Hills', 'The Bronx'}, 'tiv': {'Tiverton'}, 'tol': {'Toluca', 'Toluca Lake (Los Angeles area)', 'toluca lake', 'Toluca lake', 'Toluca Lake'}, 'top': {'Topanga Canyon', 'Topanga'}, 'tow': {'Town of South Kingstown'}, 'tuj': {'Tujunga'}, 'tuk': {'Tukwila'}, 'ual': {'Ualapue'}, 'ula': {'Ula‘ula'}, 'uni': {'University heights', 'Universal City', 'Union City'}, 'upl': {'Upland'}, 'vad': {'Vadnais Heights'}, 'val': {'Valley Glen', 'Valcano', 'valley village', 'Valley Village', 'valley glen', 'Valencia', 'Valyermo', 'Val Verde', 'valencia', 'Valley village'}, 'van': {'Van nuys', 'Van Nuys', 'Van Nuys, Los Angeles'}, 'vic': {'Victoria'}, 'vie': {'View Park', 'View Park-Windsor Hills'}, 'vol': {'Volcano', 'Volcano Village', 'volcano'}, 'wai': {'Waimanalo Beach', 'Waikele', 'Waikiki, Honolulu', 'Wainiha', 'Waialua', 'WAIKOLOA', 'Waimānalo', 'Waikoloa Beach Resort', 'Wailea, Maui,', 'Wailuku', 'Wailuku. Maui', 'Waipahu', 'Waikiki', 'Wailea, Maui', 'Waiʻanae', 'Waikoloa', 'Waikoloa Beach', 'Waimea', 'Waikoloa Village,', 'Wailea-Makena', 'Waianae', 'Waimanalo', 'Wailea', 'Waikoloa Village', 'Waiohinu', 'WAILEA'}, 'wak': {'Wakefield', 'WAKEFIELD'}, 'wes': {'Westlake Hills', 'West Warwick', 'West covina', 'west hollywood', 'Westminster', 'West Los Angeles', 'Weston', 'Westchester', 'Westwood', 'West Seattle', 'WEST HOLLYWOOD HILLS', 'West Hills', 'west new york', 'West Park', 'West Saint Paul', 'west hills,Los Angeles', 'Westerly', 'West Kingston', 'West Puente Valley', 'West hollywood', 'Westlake Village', 'West Lake Hills', 'Westerville', 'West LA', 'West Hollywood', 'West Roxbury', 'west hills ,los Angeles', 'Westlake Hills, Austin', 'West hills', 'West Covina', 'West Carson', 'West Greenwich', 'Westerly, Rhode Island, US'}, 'wac': {'Waconia'}, 'wad': {'Wadsworth Terrace, Manhattan, New York'}, 'wah': {'Wahiawa', 'Wahkon'}, 'wal': {'walnut', 'Walnut'}, 'war': {'Warwick', 'Warren'}, 'was': {'Washington County', 'Washington dc', 'Washington, NE', 'Washington D.C.', 'Washington', 'Washington, District of Columbia, US', 'Washington DC', 'Washington, D.C.', 'Washinton DC'}, 'wat': {'Watertown', 'Watsonville', 'Waterville', 'Watch Hill'}, 'wav': {'Waverly'}, 'way': {'Wayzata'}, 'wea': {'Weaverville'}, 'web': {'Webster'}, 'wee': {'Weekapaug'}, 'wel': {'Welch'}, 'whe': {'Wheat Ridge'}, 'whi': {'Whitestone', 'White Bear Lake', 'Whittier', 'Whites Creek'}, 'wic': {'Wickford'}, 'wil': {'Williamsburg bk', 'Williamsburg Brooklyn', 'Williamsburg,Brooklyn', 'wilton manors', 'Willernie', 'Williamsburg, Brooklyn', 'Williamsburg', 'Wilmington', 'Wilton Manors'}, 'win': {'Windsor Hills', 'Winnetka'}, 'woo': {'Woodside, Queens', 'Woodhaven', 'Woodbury', 'Woodland Hills, Los Angeles', 'Woodfin', 'Woodland hills', 'woodland hills', 'woodside', 'Woodland Hls', 'Woodland Hills (Los Angeles)', 'Woodside', 'Woodland Hills', 'Woonsocket'}, 'wor': {'Worthington'}, 'wri': {'Wrightwood'}, 'wyo': {'Wyoming'}, 'yon': {'Yonkers'}, 'zim': {'Zimmerman'}, 'dep': {'depends on your choice'}, 'olu': {'olumbus'}, 'roe': {'roesmead'}, 'лос': {'Лос-Анджелес'}, 'хал': {'Халландейл Бич'}, 'سان': {'سان دييغو'}, '哈仙达': {'哈仙达岗'}, '因達斯': {'因達斯特里'}, '拉斯维': {'拉斯维加斯'}, '檀香山': {'檀香山'}, '沃尔纳': {'沃尔纳特'}, '波士顿': {'波士顿'}, '洛杉矶': {'洛杉矶'}, '纽约市': {'纽约市'}, '纽约法': {'纽约法拉盛'}, '罗兰岗': {'罗兰岗'}, '罗兰高': {'罗兰高地'}, '艾尔蒙': {'艾尔蒙地'}, '蒙特利': {'蒙特利帕克'}, '西雅图': {'西雅图'}}\n",
            "-----------------------End------------------------------\n"
          ],
          "name": "stdout"
        }
      ]
    },
    {
      "cell_type": "code",
      "metadata": {
        "id": "Qhe8Kdfv-YqG",
        "colab_type": "code",
        "colab": {
          "base_uri": "https://localhost:8080/",
          "height": 35
        },
        "outputId": "2bc83037-21e0-4652-be11-38b8542d2a34"
      },
      "source": [
        "# Fetches zipcodes for given city.\n",
        "# Cleans up NaN values and sends sorted list of zipcode names.\n",
        "def get_zipcodes_for_city(df, city):\n",
        "    city_df = df[df['city'] == city]\n",
        "    \n",
        "    zipcode_df = city_df[city_df['zipcode'].notnull()]\n",
        "    zipcodes = sorted(list(zipcode_df.zipcode.unique()))\n",
        "  \n",
        "    return zipcodes\n",
        "  \n",
        "get_zipcodes_for_city(consolidated_df, 'New Hope')"
      ],
      "execution_count": 15,
      "outputs": [
        {
          "output_type": "execute_result",
          "data": {
            "text/plain": [
              "['55427', '55428']"
            ]
          },
          "metadata": {
            "tags": []
          },
          "execution_count": 15
        }
      ]
    },
    {
      "cell_type": "code",
      "metadata": {
        "id": "X7I59y344bgq",
        "colab_type": "code",
        "colab": {
          "base_uri": "https://localhost:8080/",
          "height": 35
        },
        "outputId": "de30f473-ba2f-47d6-fe2a-b5c8bb0aadce"
      },
      "source": [
        "consolidated_df.zipcode.isnull().sum()"
      ],
      "execution_count": 33,
      "outputs": [
        {
          "output_type": "execute_result",
          "data": {
            "text/plain": [
              "3134"
            ]
          },
          "metadata": {
            "tags": []
          },
          "execution_count": 33
        }
      ]
    },
    {
      "cell_type": "code",
      "metadata": {
        "id": "FT1TJ-ll4hm7",
        "colab_type": "code",
        "colab": {
          "base_uri": "https://localhost:8080/",
          "height": 1000
        },
        "outputId": "90d57b67-2daf-476f-e433-8af2fa431534"
      },
      "source": [
        "consolidated_df.zipcode.value_counts()"
      ],
      "execution_count": 34,
      "outputs": [
        {
          "output_type": "execute_result",
          "data": {
            "text/plain": [
              "96815                     4181\n",
              "96753                     3495\n",
              "96761                     3011\n",
              "92109.0                   2551\n",
              "78704.0                   2315\n",
              "96740                     2010\n",
              "11211                     1911\n",
              "92101.0                   1898\n",
              "89109.0                   1746\n",
              "78702.0                   1599\n",
              "90291                     1593\n",
              "11221                     1485\n",
              "20002                     1389\n",
              "33019                     1349\n",
              "90046                     1285\n",
              "11206                     1280\n",
              "90028                     1267\n",
              "20009                     1178\n",
              "20001                     1166\n",
              "70119                     1166\n",
              "89103.0                   1159\n",
              "11216                     1115\n",
              "10019                     1100\n",
              "37203                     1090\n",
              "10002                     1089\n",
              "90026                     1033\n",
              "96722                     1020\n",
              "70130                     1016\n",
              "11238                      999\n",
              "10009                      988\n",
              "                          ... \n",
              "10470.0                      1\n",
              "90002.0                      1\n",
              "900                          1\n",
              "95215                        1\n",
              "56386                        1\n",
              "55367                        1\n",
              "91350.0                      1\n",
              "depends on your choice       1\n",
              "70159                        1\n",
              "55341                        1\n",
              "55005                        1\n",
              "70135                        1\n",
              "95815                        1\n",
              "91362.0                      1\n",
              "91361.0                      1\n",
              "70139                        1\n",
              "70136                        1\n",
              "60612-2062                   1\n",
              "02898                        1\n",
              "91340.0                      1\n",
              "11801                        1\n",
              "CA 91765                     1\n",
              "70170                        1\n",
              "70146                        1\n",
              "95019                        1\n",
              "07093                        1\n",
              "95063                        1\n",
              "70140                        1\n",
              "70153                        1\n",
              "07302-8544                   1\n",
              "Name: zipcode, Length: 2264, dtype: int64"
            ]
          },
          "metadata": {
            "tags": []
          },
          "execution_count": 34
        }
      ]
    }
  ]
}