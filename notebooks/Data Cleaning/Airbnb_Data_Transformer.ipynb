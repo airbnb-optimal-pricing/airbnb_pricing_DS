{
 "cells": [
  {
   "cell_type": "code",
   "execution_count": 462,
   "metadata": {},
   "outputs": [],
   "source": [
    "import pandas as pd\n",
    "import numpy as np\n",
    "import matplotlib.pyplot as plt\n",
    "import math\n",
    "pd.options.display.max_rows = 999"
   ]
  },
  {
   "cell_type": "code",
   "execution_count": 463,
   "metadata": {},
   "outputs": [],
   "source": [
    "df = pd.read_csv('listings_clean.csv', dtype={'zip': 'str'})"
   ]
  },
  {
   "cell_type": "markdown",
   "metadata": {},
   "source": [
    "## Zipcodes"
   ]
  },
  {
   "cell_type": "code",
   "execution_count": 464,
   "metadata": {},
   "outputs": [],
   "source": [
    "def clean_zips(df):\n",
    "    \"\"\"A helper function to clean zip code columns for Los Angeles Airbnb Data\"\"\"\n",
    "    \n",
    "    def first_ele(df):\n",
    "        for i in df:\n",
    "            return i\n",
    "    \n",
    "    def first_five(df):\n",
    "        return df[:5]\n",
    "    \n",
    "    # Strips entries containing 'CA'\n",
    "    df = df.str.strip('CA')\n",
    "    \n",
    "    # Splits data for entries containing period\n",
    "    df = df.str.split('.')\n",
    "    \n",
    "    # Takes the split data and returns the data before the period\n",
    "    df = df.map(first_ele)\n",
    "    \n",
    "    # Returns only the first five characters\n",
    "    df = df.map(first_five)\n",
    "    \n",
    "    return df\n",
    "    \n",
    "    "
   ]
  },
  {
   "cell_type": "code",
   "execution_count": 465,
   "metadata": {},
   "outputs": [],
   "source": [
    "df['zipcode'] = clean_zips(df['zipcode'])"
   ]
  },
  {
   "cell_type": "code",
   "execution_count": 466,
   "metadata": {},
   "outputs": [
    {
     "data": {
      "text/html": [
       "<div>\n",
       "<style scoped>\n",
       "    .dataframe tbody tr th:only-of-type {\n",
       "        vertical-align: middle;\n",
       "    }\n",
       "\n",
       "    .dataframe tbody tr th {\n",
       "        vertical-align: top;\n",
       "    }\n",
       "\n",
       "    .dataframe thead th {\n",
       "        text-align: right;\n",
       "    }\n",
       "</style>\n",
       "<table border=\"1\" class=\"dataframe\">\n",
       "  <thead>\n",
       "    <tr style=\"text-align: right;\">\n",
       "      <th></th>\n",
       "      <th>id</th>\n",
       "      <th>zipcode</th>\n",
       "      <th>property_type</th>\n",
       "      <th>room_type</th>\n",
       "      <th>accommodates</th>\n",
       "      <th>bathrooms</th>\n",
       "      <th>bedrooms</th>\n",
       "      <th>beds</th>\n",
       "      <th>bed_type</th>\n",
       "      <th>amenities</th>\n",
       "      <th>total_price</th>\n",
       "      <th>price_log</th>\n",
       "    </tr>\n",
       "  </thead>\n",
       "  <tbody>\n",
       "    <tr>\n",
       "      <th>0</th>\n",
       "      <td>20862235</td>\n",
       "      <td>90402</td>\n",
       "      <td>Apartment</td>\n",
       "      <td>Entire home/apt</td>\n",
       "      <td>2</td>\n",
       "      <td>1.0</td>\n",
       "      <td>0.0</td>\n",
       "      <td>2.0</td>\n",
       "      <td>Real Bed</td>\n",
       "      <td>{TV,Wifi,Kitchen,\"Pets allowed\",\"Free street p...</td>\n",
       "      <td>225.0</td>\n",
       "      <td>5.416100</td>\n",
       "    </tr>\n",
       "    <tr>\n",
       "      <th>1</th>\n",
       "      <td>26165453</td>\n",
       "      <td>90291</td>\n",
       "      <td>Cottage</td>\n",
       "      <td>Entire home/apt</td>\n",
       "      <td>2</td>\n",
       "      <td>1.0</td>\n",
       "      <td>1.0</td>\n",
       "      <td>1.0</td>\n",
       "      <td>Real Bed</td>\n",
       "      <td>{TV,\"Cable TV\",Internet,Wifi,Kitchen,\"Free par...</td>\n",
       "      <td>270.0</td>\n",
       "      <td>5.598422</td>\n",
       "    </tr>\n",
       "    <tr>\n",
       "      <th>2</th>\n",
       "      <td>23371066</td>\n",
       "      <td>90403</td>\n",
       "      <td>Apartment</td>\n",
       "      <td>Private room</td>\n",
       "      <td>2</td>\n",
       "      <td>1.0</td>\n",
       "      <td>1.0</td>\n",
       "      <td>1.0</td>\n",
       "      <td>Real Bed</td>\n",
       "      <td>{TV,Wifi,Kitchen,\"Free street parking\",\"Indoor...</td>\n",
       "      <td>120.0</td>\n",
       "      <td>4.787492</td>\n",
       "    </tr>\n",
       "    <tr>\n",
       "      <th>3</th>\n",
       "      <td>29922373</td>\n",
       "      <td>90272</td>\n",
       "      <td>Villa</td>\n",
       "      <td>Entire home/apt</td>\n",
       "      <td>8</td>\n",
       "      <td>6.0</td>\n",
       "      <td>5.0</td>\n",
       "      <td>5.0</td>\n",
       "      <td>Real Bed</td>\n",
       "      <td>{TV,Wifi,\"Air conditioning\",Pool,Kitchen,\"Free...</td>\n",
       "      <td>5000.0</td>\n",
       "      <td>8.517193</td>\n",
       "    </tr>\n",
       "    <tr>\n",
       "      <th>4</th>\n",
       "      <td>20541717</td>\n",
       "      <td>90401</td>\n",
       "      <td>Apartment</td>\n",
       "      <td>Entire home/apt</td>\n",
       "      <td>2</td>\n",
       "      <td>1.0</td>\n",
       "      <td>1.0</td>\n",
       "      <td>0.0</td>\n",
       "      <td>Real Bed</td>\n",
       "      <td>{TV,Wifi,\"Air conditioning\",Kitchen,\"Free park...</td>\n",
       "      <td>185.0</td>\n",
       "      <td>5.220356</td>\n",
       "    </tr>\n",
       "  </tbody>\n",
       "</table>\n",
       "</div>"
      ],
      "text/plain": [
       "         id zipcode property_type        room_type  accommodates  bathrooms  \\\n",
       "0  20862235   90402     Apartment  Entire home/apt             2        1.0   \n",
       "1  26165453   90291       Cottage  Entire home/apt             2        1.0   \n",
       "2  23371066   90403     Apartment     Private room             2        1.0   \n",
       "3  29922373   90272         Villa  Entire home/apt             8        6.0   \n",
       "4  20541717   90401     Apartment  Entire home/apt             2        1.0   \n",
       "\n",
       "   bedrooms  beds  bed_type  \\\n",
       "0       0.0   2.0  Real Bed   \n",
       "1       1.0   1.0  Real Bed   \n",
       "2       1.0   1.0  Real Bed   \n",
       "3       5.0   5.0  Real Bed   \n",
       "4       1.0   0.0  Real Bed   \n",
       "\n",
       "                                           amenities  total_price  price_log  \n",
       "0  {TV,Wifi,Kitchen,\"Pets allowed\",\"Free street p...        225.0   5.416100  \n",
       "1  {TV,\"Cable TV\",Internet,Wifi,Kitchen,\"Free par...        270.0   5.598422  \n",
       "2  {TV,Wifi,Kitchen,\"Free street parking\",\"Indoor...        120.0   4.787492  \n",
       "3  {TV,Wifi,\"Air conditioning\",Pool,Kitchen,\"Free...       5000.0   8.517193  \n",
       "4  {TV,Wifi,\"Air conditioning\",Kitchen,\"Free park...        185.0   5.220356  "
      ]
     },
     "execution_count": 466,
     "metadata": {},
     "output_type": "execute_result"
    }
   ],
   "source": [
    "df.head()"
   ]
  },
  {
   "cell_type": "markdown",
   "metadata": {},
   "source": [
    "## Property Types"
   ]
  },
  {
   "cell_type": "code",
   "execution_count": null,
   "metadata": {},
   "outputs": [],
   "source": []
  },
  {
   "cell_type": "markdown",
   "metadata": {},
   "source": [
    "Apartment Category\n",
    "- Serviced Apartment\n",
    "\n",
    "House Category\n",
    "- Bungalow\n",
    "\n",
    "Condominium <br>\n",
    "Guesthouse <br>\n",
    "Guest suite <br>\n",
    "Townhouse <br>\n",
    "Villa <br>\n",
    "Loft\n",
    "\n",
    "Other Category\n",
    "- Train\n",
    "- Cave\n",
    "- Minsu (Taiwan)\n",
    "- Island\n",
    "- Treehouse\n",
    "- Tipi\n",
    "- Barn\n",
    "- Dome house\n",
    "- Dorm\n",
    "- Other\n",
    "- Casa particular (Cuba)\n",
    "- Houseboat\n",
    "- Bus\n",
    "- Hut\n",
    "- Resort\n",
    "- Campsite\n",
    "- Chalet\n",
    "- Castle\n",
    "- Earth house\n",
    "- Yurt\n",
    "- Tent\n",
    "- Boat\n",
    "- Aparthotel\n",
    "- Farm stay\n",
    "- Hotel\n",
    "- Tiny house\n",
    "- Cabin\n",
    "- Boutique hotel\n",
    "- Campter/RV\n",
    "- Bed and breakfast\n",
    "- Cottage\n",
    "- \n",
    "\n"
   ]
  },
  {
   "cell_type": "code",
   "execution_count": 305,
   "metadata": {},
   "outputs": [
    {
     "data": {
      "text/plain": [
       "Apartment                 16101\n",
       "House                     14667\n",
       "Condominium                2483\n",
       "Guesthouse                 2276\n",
       "Guest suite                1408\n",
       "Townhouse                  1366\n",
       "Bungalow                   1223\n",
       "Loft                        985\n",
       "Villa                       903\n",
       "Serviced apartment          366\n",
       "Hostel                      319\n",
       "Cottage                     190\n",
       "Bed and breakfast           189\n",
       "Camper/RV                   176\n",
       "Other                       139\n",
       "Boutique hotel              131\n",
       "Cabin                        80\n",
       "Tiny house                   68\n",
       "Hotel                        44\n",
       "Farm stay                    35\n",
       "Aparthotel                   35\n",
       "Boat                         30\n",
       "Tent                         25\n",
       "Yurt                         17\n",
       "Earth house                  16\n",
       "Castle                       15\n",
       "Treehouse                    14\n",
       "Chalet                       12\n",
       "Tipi                         10\n",
       "Barn                          6\n",
       "Campsite                      6\n",
       "Dorm                          4\n",
       "Dome house                    4\n",
       "Casa particular (Cuba)        4\n",
       "Resort                        3\n",
       "Hut                           3\n",
       "Bus                           3\n",
       "Houseboat                     2\n",
       "Cave                          2\n",
       "Island                        2\n",
       "Minsu (Taiwan)                2\n",
       "Train                         1\n",
       "Name: property_type, dtype: int64"
      ]
     },
     "execution_count": 305,
     "metadata": {},
     "output_type": "execute_result"
    }
   ],
   "source": [
    "df['property_type'].value_counts()"
   ]
  },
  {
   "cell_type": "markdown",
   "metadata": {},
   "source": [
    "## Transforming Data "
   ]
  },
  {
   "cell_type": "code",
   "execution_count": 467,
   "metadata": {},
   "outputs": [
    {
     "data": {
      "text/plain": [
       "Index(['id', 'zipcode', 'property_type', 'room_type', 'accommodates',\n",
       "       'bathrooms', 'bedrooms', 'beds', 'bed_type', 'amenities', 'total_price',\n",
       "       'price_log'],\n",
       "      dtype='object')"
      ]
     },
     "execution_count": 467,
     "metadata": {},
     "output_type": "execute_result"
    }
   ],
   "source": [
    "df.columns"
   ]
  },
  {
   "cell_type": "code",
   "execution_count": 307,
   "metadata": {},
   "outputs": [],
   "source": [
    "# One-Hot-Encoding for Categorical Variables\n",
    "\n",
    "zip_dummies = pd.get_dummies(df['zipcode'])\n",
    "property_dummies = pd.get_dummies(df['property_type'])\n",
    "room_dummies = pd.get_dummies(df['room_type'])\n",
    "bed_dummies = pd.get_dummies(df['bed_type'])\n",
    "\n",
    "df = df.drop(['zipcode', 'property_type', 'room_type', 'bed_type'], axis=1)\n",
    "df = pd.concat((df, zip_dummies, property_dummies, room_dummies, bed_dummies), axis=1)"
   ]
  },
  {
   "cell_type": "code",
   "execution_count": 308,
   "metadata": {},
   "outputs": [],
   "source": [
    "# Scaling for numerical variables\n",
    "from sklearn.preprocessing import StandardScaler\n",
    "scaler = StandardScaler()\n",
    "\n",
    "test_df = df[['accommodates', 'bathrooms', 'bedrooms', 'beds']]\n",
    "df = df.drop(['accommodates', 'bathrooms', 'bedrooms', 'beds'], axis=1)"
   ]
  },
  {
   "cell_type": "code",
   "execution_count": 309,
   "metadata": {},
   "outputs": [
    {
     "name": "stderr",
     "output_type": "stream",
     "text": [
      "/anaconda3/lib/python3.7/site-packages/sklearn/preprocessing/data.py:625: DataConversionWarning: Data with input dtype int64, float64 were all converted to float64 by StandardScaler.\n",
      "  return self.partial_fit(X, y)\n"
     ]
    },
    {
     "data": {
      "text/plain": [
       "StandardScaler(copy=True, with_mean=True, with_std=True)"
      ]
     },
     "execution_count": 309,
     "metadata": {},
     "output_type": "execute_result"
    }
   ],
   "source": [
    "scaler.fit(test_df)\n",
    "test_df = scaler.transform(test_df)"
   ]
  },
  {
   "cell_type": "code",
   "execution_count": 311,
   "metadata": {},
   "outputs": [],
   "source": [
    "test_df = pd.DataFrame(test_df, columns = ['accommodates', 'bathrooms', 'bedrooms', 'beds'])\n",
    "df = pd.concat((df, test_df), axis=1)"
   ]
  },
  {
   "cell_type": "code",
   "execution_count": 314,
   "metadata": {
    "scrolled": true
   },
   "outputs": [
    {
     "data": {
      "text/html": [
       "<div>\n",
       "<style scoped>\n",
       "    .dataframe tbody tr th:only-of-type {\n",
       "        vertical-align: middle;\n",
       "    }\n",
       "\n",
       "    .dataframe tbody tr th {\n",
       "        vertical-align: top;\n",
       "    }\n",
       "\n",
       "    .dataframe thead th {\n",
       "        text-align: right;\n",
       "    }\n",
       "</style>\n",
       "<table border=\"1\" class=\"dataframe\">\n",
       "  <thead>\n",
       "    <tr style=\"text-align: right;\">\n",
       "      <th></th>\n",
       "      <th>id</th>\n",
       "      <th>amenities</th>\n",
       "      <th>total_price</th>\n",
       "      <th>price_log</th>\n",
       "      <th>9176</th>\n",
       "      <th>0</th>\n",
       "      <th>10019</th>\n",
       "      <th>10023</th>\n",
       "      <th>139 S</th>\n",
       "      <th>37738</th>\n",
       "      <th>...</th>\n",
       "      <th>Shared room</th>\n",
       "      <th>Airbed</th>\n",
       "      <th>Couch</th>\n",
       "      <th>Futon</th>\n",
       "      <th>Pull-out Sofa</th>\n",
       "      <th>Real Bed</th>\n",
       "      <th>accommodates</th>\n",
       "      <th>bathrooms</th>\n",
       "      <th>bedrooms</th>\n",
       "      <th>beds</th>\n",
       "    </tr>\n",
       "  </thead>\n",
       "  <tbody>\n",
       "    <tr>\n",
       "      <th>0</th>\n",
       "      <td>20862235</td>\n",
       "      <td>{TV,Wifi,Kitchen,\"Pets allowed\",\"Free street p...</td>\n",
       "      <td>225.0</td>\n",
       "      <td>5.416100</td>\n",
       "      <td>0</td>\n",
       "      <td>0</td>\n",
       "      <td>0</td>\n",
       "      <td>0</td>\n",
       "      <td>0</td>\n",
       "      <td>0</td>\n",
       "      <td>...</td>\n",
       "      <td>0</td>\n",
       "      <td>0</td>\n",
       "      <td>0</td>\n",
       "      <td>0</td>\n",
       "      <td>0</td>\n",
       "      <td>1</td>\n",
       "      <td>-0.631105</td>\n",
       "      <td>-0.475643</td>\n",
       "      <td>-1.301959</td>\n",
       "      <td>0.026511</td>\n",
       "    </tr>\n",
       "    <tr>\n",
       "      <th>1</th>\n",
       "      <td>26165453</td>\n",
       "      <td>{TV,\"Cable TV\",Internet,Wifi,Kitchen,\"Free par...</td>\n",
       "      <td>270.0</td>\n",
       "      <td>5.598422</td>\n",
       "      <td>0</td>\n",
       "      <td>0</td>\n",
       "      <td>0</td>\n",
       "      <td>0</td>\n",
       "      <td>0</td>\n",
       "      <td>0</td>\n",
       "      <td>...</td>\n",
       "      <td>0</td>\n",
       "      <td>0</td>\n",
       "      <td>0</td>\n",
       "      <td>0</td>\n",
       "      <td>0</td>\n",
       "      <td>1</td>\n",
       "      <td>-0.631105</td>\n",
       "      <td>-0.475643</td>\n",
       "      <td>-0.382544</td>\n",
       "      <td>-0.584999</td>\n",
       "    </tr>\n",
       "    <tr>\n",
       "      <th>2</th>\n",
       "      <td>23371066</td>\n",
       "      <td>{TV,Wifi,Kitchen,\"Free street parking\",\"Indoor...</td>\n",
       "      <td>120.0</td>\n",
       "      <td>4.787492</td>\n",
       "      <td>0</td>\n",
       "      <td>0</td>\n",
       "      <td>0</td>\n",
       "      <td>0</td>\n",
       "      <td>0</td>\n",
       "      <td>0</td>\n",
       "      <td>...</td>\n",
       "      <td>0</td>\n",
       "      <td>0</td>\n",
       "      <td>0</td>\n",
       "      <td>0</td>\n",
       "      <td>0</td>\n",
       "      <td>1</td>\n",
       "      <td>-0.631105</td>\n",
       "      <td>-0.475643</td>\n",
       "      <td>-0.382544</td>\n",
       "      <td>-0.584999</td>\n",
       "    </tr>\n",
       "    <tr>\n",
       "      <th>3</th>\n",
       "      <td>29922373</td>\n",
       "      <td>{TV,Wifi,\"Air conditioning\",Pool,Kitchen,\"Free...</td>\n",
       "      <td>5000.0</td>\n",
       "      <td>8.517193</td>\n",
       "      <td>0</td>\n",
       "      <td>0</td>\n",
       "      <td>0</td>\n",
       "      <td>0</td>\n",
       "      <td>0</td>\n",
       "      <td>0</td>\n",
       "      <td>...</td>\n",
       "      <td>0</td>\n",
       "      <td>0</td>\n",
       "      <td>0</td>\n",
       "      <td>0</td>\n",
       "      <td>0</td>\n",
       "      <td>1</td>\n",
       "      <td>1.650944</td>\n",
       "      <td>4.883494</td>\n",
       "      <td>3.295118</td>\n",
       "      <td>1.861040</td>\n",
       "    </tr>\n",
       "    <tr>\n",
       "      <th>4</th>\n",
       "      <td>20541717</td>\n",
       "      <td>{TV,Wifi,\"Air conditioning\",Kitchen,\"Free park...</td>\n",
       "      <td>185.0</td>\n",
       "      <td>5.220356</td>\n",
       "      <td>0</td>\n",
       "      <td>0</td>\n",
       "      <td>0</td>\n",
       "      <td>0</td>\n",
       "      <td>0</td>\n",
       "      <td>0</td>\n",
       "      <td>...</td>\n",
       "      <td>0</td>\n",
       "      <td>0</td>\n",
       "      <td>0</td>\n",
       "      <td>0</td>\n",
       "      <td>0</td>\n",
       "      <td>1</td>\n",
       "      <td>-0.631105</td>\n",
       "      <td>-0.475643</td>\n",
       "      <td>-0.382544</td>\n",
       "      <td>-1.196509</td>\n",
       "    </tr>\n",
       "  </tbody>\n",
       "</table>\n",
       "<p>5 rows × 357 columns</p>\n",
       "</div>"
      ],
      "text/plain": [
       "         id                                          amenities  total_price  \\\n",
       "0  20862235  {TV,Wifi,Kitchen,\"Pets allowed\",\"Free street p...        225.0   \n",
       "1  26165453  {TV,\"Cable TV\",Internet,Wifi,Kitchen,\"Free par...        270.0   \n",
       "2  23371066  {TV,Wifi,Kitchen,\"Free street parking\",\"Indoor...        120.0   \n",
       "3  29922373  {TV,Wifi,\"Air conditioning\",Pool,Kitchen,\"Free...       5000.0   \n",
       "4  20541717  {TV,Wifi,\"Air conditioning\",Kitchen,\"Free park...        185.0   \n",
       "\n",
       "   price_log   9176  0  10019  10023  139 S  37738    ...     Shared room  \\\n",
       "0   5.416100      0  0      0      0      0      0    ...               0   \n",
       "1   5.598422      0  0      0      0      0      0    ...               0   \n",
       "2   4.787492      0  0      0      0      0      0    ...               0   \n",
       "3   8.517193      0  0      0      0      0      0    ...               0   \n",
       "4   5.220356      0  0      0      0      0      0    ...               0   \n",
       "\n",
       "   Airbed  Couch  Futon  Pull-out Sofa  Real Bed  accommodates  bathrooms  \\\n",
       "0       0      0      0              0         1     -0.631105  -0.475643   \n",
       "1       0      0      0              0         1     -0.631105  -0.475643   \n",
       "2       0      0      0              0         1     -0.631105  -0.475643   \n",
       "3       0      0      0              0         1      1.650944   4.883494   \n",
       "4       0      0      0              0         1     -0.631105  -0.475643   \n",
       "\n",
       "   bedrooms      beds  \n",
       "0 -1.301959  0.026511  \n",
       "1 -0.382544 -0.584999  \n",
       "2 -0.382544 -0.584999  \n",
       "3  3.295118  1.861040  \n",
       "4 -0.382544 -1.196509  \n",
       "\n",
       "[5 rows x 357 columns]"
      ]
     },
     "execution_count": 314,
     "metadata": {},
     "output_type": "execute_result"
    }
   ],
   "source": [
    "df.head()"
   ]
  },
  {
   "cell_type": "code",
   "execution_count": 315,
   "metadata": {},
   "outputs": [],
   "source": [
    "df.to_csv('../model_ready.csv', index=False)"
   ]
  },
  {
   "cell_type": "code",
   "execution_count": 326,
   "metadata": {},
   "outputs": [
    {
     "data": {
      "text/html": [
       "<div>\n",
       "<style scoped>\n",
       "    .dataframe tbody tr th:only-of-type {\n",
       "        vertical-align: middle;\n",
       "    }\n",
       "\n",
       "    .dataframe tbody tr th {\n",
       "        vertical-align: top;\n",
       "    }\n",
       "\n",
       "    .dataframe thead th {\n",
       "        text-align: right;\n",
       "    }\n",
       "</style>\n",
       "<table border=\"1\" class=\"dataframe\">\n",
       "  <thead>\n",
       "    <tr style=\"text-align: right;\">\n",
       "      <th></th>\n",
       "      <th>id</th>\n",
       "      <th>zipcode</th>\n",
       "      <th>property_type</th>\n",
       "      <th>room_type</th>\n",
       "      <th>accommodates</th>\n",
       "      <th>bathrooms</th>\n",
       "      <th>bedrooms</th>\n",
       "      <th>beds</th>\n",
       "      <th>bed_type</th>\n",
       "      <th>amenities</th>\n",
       "      <th>total_price</th>\n",
       "      <th>price_log</th>\n",
       "    </tr>\n",
       "  </thead>\n",
       "  <tbody>\n",
       "    <tr>\n",
       "      <th>0</th>\n",
       "      <td>20862235</td>\n",
       "      <td>90402</td>\n",
       "      <td>Apartment</td>\n",
       "      <td>Entire home/apt</td>\n",
       "      <td>2</td>\n",
       "      <td>1.0</td>\n",
       "      <td>0.0</td>\n",
       "      <td>2.0</td>\n",
       "      <td>Real Bed</td>\n",
       "      <td>{TV,Wifi,Kitchen,\"Pets allowed\",\"Free street p...</td>\n",
       "      <td>225.0</td>\n",
       "      <td>5.416100</td>\n",
       "    </tr>\n",
       "    <tr>\n",
       "      <th>1</th>\n",
       "      <td>26165453</td>\n",
       "      <td>90291</td>\n",
       "      <td>Cottage</td>\n",
       "      <td>Entire home/apt</td>\n",
       "      <td>2</td>\n",
       "      <td>1.0</td>\n",
       "      <td>1.0</td>\n",
       "      <td>1.0</td>\n",
       "      <td>Real Bed</td>\n",
       "      <td>{TV,\"Cable TV\",Internet,Wifi,Kitchen,\"Free par...</td>\n",
       "      <td>270.0</td>\n",
       "      <td>5.598422</td>\n",
       "    </tr>\n",
       "    <tr>\n",
       "      <th>2</th>\n",
       "      <td>23371066</td>\n",
       "      <td>90403</td>\n",
       "      <td>Apartment</td>\n",
       "      <td>Private room</td>\n",
       "      <td>2</td>\n",
       "      <td>1.0</td>\n",
       "      <td>1.0</td>\n",
       "      <td>1.0</td>\n",
       "      <td>Real Bed</td>\n",
       "      <td>{TV,Wifi,Kitchen,\"Free street parking\",\"Indoor...</td>\n",
       "      <td>120.0</td>\n",
       "      <td>4.787492</td>\n",
       "    </tr>\n",
       "    <tr>\n",
       "      <th>3</th>\n",
       "      <td>29922373</td>\n",
       "      <td>90272</td>\n",
       "      <td>Villa</td>\n",
       "      <td>Entire home/apt</td>\n",
       "      <td>8</td>\n",
       "      <td>6.0</td>\n",
       "      <td>5.0</td>\n",
       "      <td>5.0</td>\n",
       "      <td>Real Bed</td>\n",
       "      <td>{TV,Wifi,\"Air conditioning\",Pool,Kitchen,\"Free...</td>\n",
       "      <td>5000.0</td>\n",
       "      <td>8.517193</td>\n",
       "    </tr>\n",
       "    <tr>\n",
       "      <th>4</th>\n",
       "      <td>20541717</td>\n",
       "      <td>90401</td>\n",
       "      <td>Apartment</td>\n",
       "      <td>Entire home/apt</td>\n",
       "      <td>2</td>\n",
       "      <td>1.0</td>\n",
       "      <td>1.0</td>\n",
       "      <td>0.0</td>\n",
       "      <td>Real Bed</td>\n",
       "      <td>{TV,Wifi,\"Air conditioning\",Kitchen,\"Free park...</td>\n",
       "      <td>185.0</td>\n",
       "      <td>5.220356</td>\n",
       "    </tr>\n",
       "  </tbody>\n",
       "</table>\n",
       "</div>"
      ],
      "text/plain": [
       "         id zipcode property_type        room_type  accommodates  bathrooms  \\\n",
       "0  20862235   90402     Apartment  Entire home/apt             2        1.0   \n",
       "1  26165453   90291       Cottage  Entire home/apt             2        1.0   \n",
       "2  23371066   90403     Apartment     Private room             2        1.0   \n",
       "3  29922373   90272         Villa  Entire home/apt             8        6.0   \n",
       "4  20541717   90401     Apartment  Entire home/apt             2        1.0   \n",
       "\n",
       "   bedrooms  beds  bed_type  \\\n",
       "0       0.0   2.0  Real Bed   \n",
       "1       1.0   1.0  Real Bed   \n",
       "2       1.0   1.0  Real Bed   \n",
       "3       5.0   5.0  Real Bed   \n",
       "4       1.0   0.0  Real Bed   \n",
       "\n",
       "                                           amenities  total_price  price_log  \n",
       "0  {TV,Wifi,Kitchen,\"Pets allowed\",\"Free street p...        225.0   5.416100  \n",
       "1  {TV,\"Cable TV\",Internet,Wifi,Kitchen,\"Free par...        270.0   5.598422  \n",
       "2  {TV,Wifi,Kitchen,\"Free street parking\",\"Indoor...        120.0   4.787492  \n",
       "3  {TV,Wifi,\"Air conditioning\",Pool,Kitchen,\"Free...       5000.0   8.517193  \n",
       "4  {TV,Wifi,\"Air conditioning\",Kitchen,\"Free park...        185.0   5.220356  "
      ]
     },
     "execution_count": 326,
     "metadata": {},
     "output_type": "execute_result"
    }
   ],
   "source": [
    "df.head()"
   ]
  },
  {
   "cell_type": "markdown",
   "metadata": {},
   "source": [
    "## Pipeline Test"
   ]
  },
  {
   "cell_type": "code",
   "execution_count": 330,
   "metadata": {},
   "outputs": [],
   "source": [
    "from sklearn.preprocessing import StandardScaler\n",
    "from sklearn.pipeline import make_pipeline\n",
    "import category_encoders as ce\n",
    "from sklearn.linear_model import RidgeCV"
   ]
  },
  {
   "cell_type": "code",
   "execution_count": 468,
   "metadata": {},
   "outputs": [],
   "source": [
    "df = df.drop(['amenities', 'id'], axis=1)"
   ]
  },
  {
   "cell_type": "code",
   "execution_count": 469,
   "metadata": {},
   "outputs": [],
   "source": [
    "df.to_csv('../flask_ready.csv', index=False)"
   ]
  },
  {
   "cell_type": "markdown",
   "metadata": {},
   "source": [
    "## Start Here after inputting \"flask_ready.csv\""
   ]
  },
  {
   "cell_type": "code",
   "execution_count": 384,
   "metadata": {},
   "outputs": [],
   "source": [
    "# Split data into X and y\n",
    "\n",
    "X = df.drop(['total_price', 'price_log'], axis=1)\n",
    "y_log = df['price_log']\n",
    "y = df['total_price']"
   ]
  },
  {
   "cell_type": "code",
   "execution_count": 385,
   "metadata": {},
   "outputs": [],
   "source": [
    "num_cols = ['accommodates', 'bathrooms', 'bedrooms', 'beds']\n",
    "cat_cols = ['zipcode', 'property_type', 'room_type','bed_type']"
   ]
  },
  {
   "cell_type": "code",
   "execution_count": 386,
   "metadata": {},
   "outputs": [],
   "source": [
    "df_num = df[num_cols]\n",
    "df_cat = df[cat_cols]"
   ]
  },
  {
   "cell_type": "code",
   "execution_count": 387,
   "metadata": {},
   "outputs": [],
   "source": [
    "cat_preprocessor = make_pipeline(\n",
    "    ce.OneHotEncoder(use_cat_names=True) \n",
    ")\n",
    "\n",
    "num_preprocessor = make_pipeline(\n",
    "    StandardScaler()\n",
    ")"
   ]
  },
  {
   "cell_type": "code",
   "execution_count": 388,
   "metadata": {},
   "outputs": [],
   "source": [
    "cat_transformed = cat_preprocessor.fit_transform(df_cat)"
   ]
  },
  {
   "cell_type": "code",
   "execution_count": 389,
   "metadata": {},
   "outputs": [
    {
     "name": "stderr",
     "output_type": "stream",
     "text": [
      "/anaconda3/lib/python3.7/site-packages/sklearn/preprocessing/data.py:625: DataConversionWarning: Data with input dtype int64, float64 were all converted to float64 by StandardScaler.\n",
      "  return self.partial_fit(X, y)\n",
      "/anaconda3/lib/python3.7/site-packages/sklearn/base.py:462: DataConversionWarning: Data with input dtype int64, float64 were all converted to float64 by StandardScaler.\n",
      "  return self.fit(X, **fit_params).transform(X)\n"
     ]
    }
   ],
   "source": [
    "num_transformed = num_preprocessor.fit_transform(df_num)"
   ]
  },
  {
   "cell_type": "code",
   "execution_count": 390,
   "metadata": {},
   "outputs": [],
   "source": [
    "num_transformed = pd.DataFrame(num_transformed, columns=['accommodates', 'bathrooms', 'bedrooms', 'beds'])"
   ]
  },
  {
   "cell_type": "code",
   "execution_count": 392,
   "metadata": {},
   "outputs": [
    {
     "data": {
      "text/plain": [
       "((43365, 349), (43365, 4))"
      ]
     },
     "execution_count": 392,
     "metadata": {},
     "output_type": "execute_result"
    }
   ],
   "source": [
    "cat_transformed.shape, num_transformed.shape"
   ]
  },
  {
   "cell_type": "code",
   "execution_count": 393,
   "metadata": {},
   "outputs": [],
   "source": [
    "df = pd.concat((num_transformed, cat_transformed), axis=1)"
   ]
  },
  {
   "cell_type": "code",
   "execution_count": 394,
   "metadata": {},
   "outputs": [
    {
     "data": {
      "text/html": [
       "<div>\n",
       "<style scoped>\n",
       "    .dataframe tbody tr th:only-of-type {\n",
       "        vertical-align: middle;\n",
       "    }\n",
       "\n",
       "    .dataframe tbody tr th {\n",
       "        vertical-align: top;\n",
       "    }\n",
       "\n",
       "    .dataframe thead th {\n",
       "        text-align: right;\n",
       "    }\n",
       "</style>\n",
       "<table border=\"1\" class=\"dataframe\">\n",
       "  <thead>\n",
       "    <tr style=\"text-align: right;\">\n",
       "      <th></th>\n",
       "      <th>accommodates</th>\n",
       "      <th>bathrooms</th>\n",
       "      <th>bedrooms</th>\n",
       "      <th>beds</th>\n",
       "      <th>zipcode_90402</th>\n",
       "      <th>zipcode_90291</th>\n",
       "      <th>zipcode_90403</th>\n",
       "      <th>zipcode_90272</th>\n",
       "      <th>zipcode_90401</th>\n",
       "      <th>zipcode_90025</th>\n",
       "      <th>...</th>\n",
       "      <th>property_type_Hut</th>\n",
       "      <th>property_type_Minsu (Taiwan)</th>\n",
       "      <th>room_type_Entire home/apt</th>\n",
       "      <th>room_type_Private room</th>\n",
       "      <th>room_type_Shared room</th>\n",
       "      <th>bed_type_Real Bed</th>\n",
       "      <th>bed_type_Couch</th>\n",
       "      <th>bed_type_Futon</th>\n",
       "      <th>bed_type_Pull-out Sofa</th>\n",
       "      <th>bed_type_Airbed</th>\n",
       "    </tr>\n",
       "  </thead>\n",
       "  <tbody>\n",
       "    <tr>\n",
       "      <th>0</th>\n",
       "      <td>-0.631105</td>\n",
       "      <td>-0.475643</td>\n",
       "      <td>-1.301959</td>\n",
       "      <td>0.026511</td>\n",
       "      <td>1</td>\n",
       "      <td>0</td>\n",
       "      <td>0</td>\n",
       "      <td>0</td>\n",
       "      <td>0</td>\n",
       "      <td>0</td>\n",
       "      <td>...</td>\n",
       "      <td>0</td>\n",
       "      <td>0</td>\n",
       "      <td>1</td>\n",
       "      <td>0</td>\n",
       "      <td>0</td>\n",
       "      <td>1</td>\n",
       "      <td>0</td>\n",
       "      <td>0</td>\n",
       "      <td>0</td>\n",
       "      <td>0</td>\n",
       "    </tr>\n",
       "    <tr>\n",
       "      <th>1</th>\n",
       "      <td>-0.631105</td>\n",
       "      <td>-0.475643</td>\n",
       "      <td>-0.382544</td>\n",
       "      <td>-0.584999</td>\n",
       "      <td>0</td>\n",
       "      <td>1</td>\n",
       "      <td>0</td>\n",
       "      <td>0</td>\n",
       "      <td>0</td>\n",
       "      <td>0</td>\n",
       "      <td>...</td>\n",
       "      <td>0</td>\n",
       "      <td>0</td>\n",
       "      <td>1</td>\n",
       "      <td>0</td>\n",
       "      <td>0</td>\n",
       "      <td>1</td>\n",
       "      <td>0</td>\n",
       "      <td>0</td>\n",
       "      <td>0</td>\n",
       "      <td>0</td>\n",
       "    </tr>\n",
       "    <tr>\n",
       "      <th>2</th>\n",
       "      <td>-0.631105</td>\n",
       "      <td>-0.475643</td>\n",
       "      <td>-0.382544</td>\n",
       "      <td>-0.584999</td>\n",
       "      <td>0</td>\n",
       "      <td>0</td>\n",
       "      <td>1</td>\n",
       "      <td>0</td>\n",
       "      <td>0</td>\n",
       "      <td>0</td>\n",
       "      <td>...</td>\n",
       "      <td>0</td>\n",
       "      <td>0</td>\n",
       "      <td>0</td>\n",
       "      <td>1</td>\n",
       "      <td>0</td>\n",
       "      <td>1</td>\n",
       "      <td>0</td>\n",
       "      <td>0</td>\n",
       "      <td>0</td>\n",
       "      <td>0</td>\n",
       "    </tr>\n",
       "    <tr>\n",
       "      <th>3</th>\n",
       "      <td>1.650944</td>\n",
       "      <td>4.883494</td>\n",
       "      <td>3.295118</td>\n",
       "      <td>1.861040</td>\n",
       "      <td>0</td>\n",
       "      <td>0</td>\n",
       "      <td>0</td>\n",
       "      <td>1</td>\n",
       "      <td>0</td>\n",
       "      <td>0</td>\n",
       "      <td>...</td>\n",
       "      <td>0</td>\n",
       "      <td>0</td>\n",
       "      <td>1</td>\n",
       "      <td>0</td>\n",
       "      <td>0</td>\n",
       "      <td>1</td>\n",
       "      <td>0</td>\n",
       "      <td>0</td>\n",
       "      <td>0</td>\n",
       "      <td>0</td>\n",
       "    </tr>\n",
       "    <tr>\n",
       "      <th>4</th>\n",
       "      <td>-0.631105</td>\n",
       "      <td>-0.475643</td>\n",
       "      <td>-0.382544</td>\n",
       "      <td>-1.196509</td>\n",
       "      <td>0</td>\n",
       "      <td>0</td>\n",
       "      <td>0</td>\n",
       "      <td>0</td>\n",
       "      <td>1</td>\n",
       "      <td>0</td>\n",
       "      <td>...</td>\n",
       "      <td>0</td>\n",
       "      <td>0</td>\n",
       "      <td>1</td>\n",
       "      <td>0</td>\n",
       "      <td>0</td>\n",
       "      <td>1</td>\n",
       "      <td>0</td>\n",
       "      <td>0</td>\n",
       "      <td>0</td>\n",
       "      <td>0</td>\n",
       "    </tr>\n",
       "  </tbody>\n",
       "</table>\n",
       "<p>5 rows × 353 columns</p>\n",
       "</div>"
      ],
      "text/plain": [
       "   accommodates  bathrooms  bedrooms      beds  zipcode_90402  zipcode_90291  \\\n",
       "0     -0.631105  -0.475643 -1.301959  0.026511              1              0   \n",
       "1     -0.631105  -0.475643 -0.382544 -0.584999              0              1   \n",
       "2     -0.631105  -0.475643 -0.382544 -0.584999              0              0   \n",
       "3      1.650944   4.883494  3.295118  1.861040              0              0   \n",
       "4     -0.631105  -0.475643 -0.382544 -1.196509              0              0   \n",
       "\n",
       "   zipcode_90403  zipcode_90272  zipcode_90401  zipcode_90025  \\\n",
       "0              0              0              0              0   \n",
       "1              0              0              0              0   \n",
       "2              1              0              0              0   \n",
       "3              0              1              0              0   \n",
       "4              0              0              1              0   \n",
       "\n",
       "        ...         property_type_Hut  property_type_Minsu (Taiwan)  \\\n",
       "0       ...                         0                             0   \n",
       "1       ...                         0                             0   \n",
       "2       ...                         0                             0   \n",
       "3       ...                         0                             0   \n",
       "4       ...                         0                             0   \n",
       "\n",
       "   room_type_Entire home/apt  room_type_Private room  room_type_Shared room  \\\n",
       "0                          1                       0                      0   \n",
       "1                          1                       0                      0   \n",
       "2                          0                       1                      0   \n",
       "3                          1                       0                      0   \n",
       "4                          1                       0                      0   \n",
       "\n",
       "   bed_type_Real Bed  bed_type_Couch  bed_type_Futon  bed_type_Pull-out Sofa  \\\n",
       "0                  1               0               0                       0   \n",
       "1                  1               0               0                       0   \n",
       "2                  1               0               0                       0   \n",
       "3                  1               0               0                       0   \n",
       "4                  1               0               0                       0   \n",
       "\n",
       "   bed_type_Airbed  \n",
       "0                0  \n",
       "1                0  \n",
       "2                0  \n",
       "3                0  \n",
       "4                0  \n",
       "\n",
       "[5 rows x 353 columns]"
      ]
     },
     "execution_count": 394,
     "metadata": {},
     "output_type": "execute_result"
    }
   ],
   "source": [
    "df.head()"
   ]
  },
  {
   "cell_type": "code",
   "execution_count": 417,
   "metadata": {},
   "outputs": [],
   "source": [
    "cols = df.columns"
   ]
  },
  {
   "cell_type": "code",
   "execution_count": null,
   "metadata": {},
   "outputs": [],
   "source": [
    "# Split data into X and y\n",
    "\n",
    "X = df.drop(['total_price', 'price_log'], axis=1)\n",
    "y_log = df['price_log']\n",
    "y = df['total_price']"
   ]
  },
  {
   "cell_type": "code",
   "execution_count": 396,
   "metadata": {},
   "outputs": [],
   "source": [
    "from sklearn.model_selection import train_test_split\n",
    "X_train, X_test, y_train, y_test = train_test_split(df, y_log, test_size=0.35)"
   ]
  },
  {
   "cell_type": "code",
   "execution_count": 397,
   "metadata": {},
   "outputs": [
    {
     "data": {
      "text/plain": [
       "RidgeCV(alphas=array([1.00000e-10, 4.64159e-09, 2.15443e-07, 1.00000e-05, 4.64159e-04,\n",
       "       2.15443e-02, 1.00000e+00, 4.64159e+01, 2.15443e+03, 1.00000e+05]),\n",
       "    cv=5, fit_intercept=True, gcv_mode=None, normalize=False, scoring=None,\n",
       "    store_cv_values=False)"
      ]
     },
     "execution_count": 397,
     "metadata": {},
     "output_type": "execute_result"
    }
   ],
   "source": [
    "reg_params = 10.**np.linspace(-10, 5, 10)\n",
    "model = RidgeCV(alphas=reg_params, fit_intercept=True, cv=5)\n",
    "model.fit(X_train, y_train)"
   ]
  },
  {
   "cell_type": "markdown",
   "metadata": {},
   "source": [
    "## Data Transform Function"
   ]
  },
  {
   "cell_type": "code",
   "execution_count": 482,
   "metadata": {},
   "outputs": [],
   "source": [
    "def predict(data):\n",
    "    \n",
    "    # Create dataframe from JSON dict\n",
    "    data = pd.DataFrame.from_dict([data])\n",
    "    \n",
    "    num_cols = ['accommodates', 'bathrooms', 'bedrooms', 'beds']\n",
    "    cat_cols = ['zipcode', 'property_type', 'room_type','bed_type']\n",
    "    \n",
    "    # Seperate into Numeric and Categorical columns\n",
    "    df_num = data[num_cols]\n",
    "    df_cat = data[cat_cols]\n",
    "     \n",
    "    # Use train data preprocessor\n",
    "    cat_transformed = cat_preprocessor.transform(df_cat)\n",
    "    \n",
    "    # Use train data preprocessor\n",
    "    num_transformed = num_preprocessor.transform(df_num)\n",
    "    num_transformed = pd.DataFrame(num_transformed, columns=num_cols)\n",
    "    \n",
    "    # Concatenate numeric and categorical dataframes\n",
    "    df_transformed = pd.concat((num_transformed, cat_transformed), axis=1)\n",
    "    # Create blank dataframe using columns from transformed train data\n",
    "    df_blank = pd.DataFrame(columns=cols)\n",
    "    \n",
    "    # Concatenate  \n",
    "    df_model = pd.concat((df_blank, df_transformed))\n",
    "    df_model = df_model.replace(np.nan, 0)\n",
    "    \n",
    "    y_pred = model.predict(df_model)\n",
    "    prediction = math.exp(y_pred[0])\n",
    "      \n",
    "    return prediction"
   ]
  },
  {
   "cell_type": "markdown",
   "metadata": {},
   "source": [
    "## Test Data Entry"
   ]
  },
  {
   "cell_type": "code",
   "execution_count": 521,
   "metadata": {},
   "outputs": [],
   "source": [
    "test_data = {\"zipcode\" : \"90402\",\n",
    "             \"property_type\": \"Apartment\",\n",
    "             \"room_type\" : \"Entire home/apt\",\n",
    "             \"accommodates\": 5,\n",
    "             \"bathrooms\": 4.0,\n",
    "             \"bedrooms\": 4.0,\n",
    "             \"beds\": 4.0,\n",
    "             \"bed_type\": \"Real Bed\"}"
   ]
  },
  {
   "cell_type": "code",
   "execution_count": 522,
   "metadata": {},
   "outputs": [
    {
     "name": "stderr",
     "output_type": "stream",
     "text": [
      "/anaconda3/lib/python3.7/site-packages/sklearn/pipeline.py:451: DataConversionWarning: Data with input dtype int64, float64 were all converted to float64 by StandardScaler.\n",
      "  Xt = transform.transform(Xt)\n",
      "/anaconda3/lib/python3.7/site-packages/ipykernel_launcher.py:26: FutureWarning: Sorting because non-concatenation axis is not aligned. A future version\n",
      "of pandas will change to not sort by default.\n",
      "\n",
      "To accept the future behavior, pass 'sort=False'.\n",
      "\n",
      "To retain the current behavior and silence the warning, pass 'sort=True'.\n",
      "\n"
     ]
    },
    {
     "data": {
      "text/plain": [
       "592.6608919481653"
      ]
     },
     "execution_count": 522,
     "metadata": {},
     "output_type": "execute_result"
    }
   ],
   "source": [
    "predict(test_data)"
   ]
  },
  {
   "cell_type": "code",
   "execution_count": null,
   "metadata": {},
   "outputs": [],
   "source": []
  }
 ],
 "metadata": {
  "kernelspec": {
   "display_name": "Python 3",
   "language": "python",
   "name": "python3"
  },
  "language_info": {
   "codemirror_mode": {
    "name": "ipython",
    "version": 3
   },
   "file_extension": ".py",
   "mimetype": "text/x-python",
   "name": "python",
   "nbconvert_exporter": "python",
   "pygments_lexer": "ipython3",
   "version": "3.7.1"
  }
 },
 "nbformat": 4,
 "nbformat_minor": 2
}
