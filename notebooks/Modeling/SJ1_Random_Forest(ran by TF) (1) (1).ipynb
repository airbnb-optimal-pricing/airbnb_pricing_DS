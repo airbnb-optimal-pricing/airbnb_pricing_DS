{
 "cells": [
  {
   "cell_type": "code",
   "execution_count": 2,
   "metadata": {
    "colab": {},
    "colab_type": "code",
    "id": "hN-YFLXJId8x"
   },
   "outputs": [],
   "source": [
    "# Generic imports\n",
    "import pandas as pd\n",
    "import numpy as np\n",
    "import matplotlib.pyplot as plt\n",
    "import seaborn as sns"
   ]
  },
  {
   "cell_type": "code",
   "execution_count": 203,
   "metadata": {},
   "outputs": [
    {
     "name": "stdout",
     "output_type": "stream",
     "text": [
      "Collecting xgboost\n",
      "\u001b[?25l  Downloading https://files.pythonhosted.org/packages/c1/24/5fe7237b2eca13ee0cfb100bec8c23f4e69ce9df852a64b0493d49dae4e0/xgboost-0.90-py2.py3-none-manylinux1_x86_64.whl (142.8MB)\n",
      "\u001b[K    100% |████████████████████████████████| 142.8MB 350kB/s eta 0:00:01\n",
      "\u001b[?25hRequirement already satisfied: scipy in /home/ec2-user/anaconda3/envs/python3/lib/python3.6/site-packages (from xgboost) (1.1.0)\n",
      "Requirement already satisfied: numpy in /home/ec2-user/anaconda3/envs/python3/lib/python3.6/site-packages (from xgboost) (1.15.4)\n",
      "Installing collected packages: xgboost\n",
      "Successfully installed xgboost-0.90\n",
      "\u001b[33mYou are using pip version 10.0.1, however version 19.1.1 is available.\n",
      "You should consider upgrading via the 'pip install --upgrade pip' command.\u001b[0m\n"
     ]
    }
   ],
   "source": [
    "!pip install xgboost"
   ]
  },
  {
   "cell_type": "code",
   "execution_count": 2,
   "metadata": {
    "colab": {
     "base_uri": "https://localhost:8080/",
     "height": 399
    },
    "colab_type": "code",
    "id": "Pu_kvcZqoibT",
    "outputId": "8e065d0c-5300-4abf-d166-a5c321dda356"
   },
   "outputs": [
    {
     "name": "stdout",
     "output_type": "stream",
     "text": [
      "Collecting category_encoders\n",
      "\u001b[?25l  Downloading https://files.pythonhosted.org/packages/6e/a1/f7a22f144f33be78afeb06bfa78478e8284a64263a3c09b1ef54e673841e/category_encoders-2.0.0-py2.py3-none-any.whl (87kB)\n",
      "\u001b[K    100% |████████████████████████████████| 92kB 4.0MB/s ta 0:00:011\n",
      "\u001b[?25hRequirement already satisfied: patsy>=0.4.1 in /home/ec2-user/anaconda3/envs/python3/lib/python3.6/site-packages (from category_encoders) (0.5.0)\n",
      "Requirement already satisfied: scikit-learn>=0.20.0 in /home/ec2-user/anaconda3/envs/python3/lib/python3.6/site-packages (from category_encoders) (0.20.3)\n",
      "Requirement already satisfied: scipy>=0.19.0 in /home/ec2-user/anaconda3/envs/python3/lib/python3.6/site-packages (from category_encoders) (1.1.0)\n",
      "Requirement already satisfied: statsmodels>=0.6.1 in /home/ec2-user/anaconda3/envs/python3/lib/python3.6/site-packages (from category_encoders) (0.9.0)\n",
      "Requirement already satisfied: numpy>=1.11.3 in /home/ec2-user/anaconda3/envs/python3/lib/python3.6/site-packages (from category_encoders) (1.15.4)\n",
      "Requirement already satisfied: pandas>=0.21.1 in /home/ec2-user/anaconda3/envs/python3/lib/python3.6/site-packages (from category_encoders) (0.24.2)\n",
      "Requirement already satisfied: six in /home/ec2-user/anaconda3/envs/python3/lib/python3.6/site-packages (from patsy>=0.4.1->category_encoders) (1.11.0)\n",
      "Requirement already satisfied: python-dateutil>=2.5.0 in /home/ec2-user/anaconda3/envs/python3/lib/python3.6/site-packages (from pandas>=0.21.1->category_encoders) (2.7.3)\n",
      "Requirement already satisfied: pytz>=2011k in /home/ec2-user/anaconda3/envs/python3/lib/python3.6/site-packages (from pandas>=0.21.1->category_encoders) (2018.4)\n",
      "Installing collected packages: category-encoders\n",
      "Successfully installed category-encoders-2.0.0\n",
      "\u001b[33mYou are using pip version 10.0.1, however version 19.1.1 is available.\n",
      "You should consider upgrading via the 'pip install --upgrade pip' command.\u001b[0m\n",
      "Collecting geocoder\n",
      "\u001b[?25l  Downloading https://files.pythonhosted.org/packages/4f/6b/13166c909ad2f2d76b929a4227c952630ebaf0d729f6317eb09cbceccbab/geocoder-1.38.1-py2.py3-none-any.whl (98kB)\n",
      "\u001b[K    100% |████████████████████████████████| 102kB 3.2MB/s a 0:00:011\n",
      "\u001b[?25hRequirement already satisfied: click in /home/ec2-user/anaconda3/envs/python3/lib/python3.6/site-packages (from geocoder) (6.7)\n",
      "Requirement already satisfied: requests in /home/ec2-user/anaconda3/envs/python3/lib/python3.6/site-packages (from geocoder) (2.20.0)\n",
      "Requirement already satisfied: six in /home/ec2-user/anaconda3/envs/python3/lib/python3.6/site-packages (from geocoder) (1.11.0)\n",
      "Collecting future (from geocoder)\n",
      "\u001b[?25l  Downloading https://files.pythonhosted.org/packages/90/52/e20466b85000a181e1e144fd8305caf2cf475e2f9674e797b222f8105f5f/future-0.17.1.tar.gz (829kB)\n",
      "\u001b[K    100% |████████████████████████████████| 829kB 22.8MB/s ta 0:00:01\n",
      "\u001b[?25hCollecting ratelim (from geocoder)\n",
      "  Downloading https://files.pythonhosted.org/packages/f2/98/7e6d147fd16a10a5f821db6e25f192265d6ecca3d82957a4fdd592cad49c/ratelim-0.1.6-py2.py3-none-any.whl\n",
      "Requirement already satisfied: idna<2.8,>=2.5 in /home/ec2-user/anaconda3/envs/python3/lib/python3.6/site-packages (from requests->geocoder) (2.6)\n",
      "Requirement already satisfied: chardet<3.1.0,>=3.0.2 in /home/ec2-user/anaconda3/envs/python3/lib/python3.6/site-packages (from requests->geocoder) (3.0.4)\n",
      "Requirement already satisfied: certifi>=2017.4.17 in /home/ec2-user/anaconda3/envs/python3/lib/python3.6/site-packages (from requests->geocoder) (2019.3.9)\n",
      "Requirement already satisfied: urllib3<1.25,>=1.21.1 in /home/ec2-user/anaconda3/envs/python3/lib/python3.6/site-packages (from requests->geocoder) (1.23)\n",
      "Requirement already satisfied: decorator in /home/ec2-user/anaconda3/envs/python3/lib/python3.6/site-packages (from ratelim->geocoder) (4.3.0)\n",
      "Building wheels for collected packages: future\n",
      "  Running setup.py bdist_wheel for future ... \u001b[?25ldone\n",
      "\u001b[?25h  Stored in directory: /home/ec2-user/.cache/pip/wheels/0c/61/d2/d6b7317325828fbb39ee6ad559dbe4664d0896da4721bf379e\n",
      "Successfully built future\n",
      "Installing collected packages: future, ratelim, geocoder\n",
      "Successfully installed future-0.17.1 geocoder-1.38.1 ratelim-0.1.6\n",
      "\u001b[33mYou are using pip version 10.0.1, however version 19.1.1 is available.\n",
      "You should consider upgrading via the 'pip install --upgrade pip' command.\u001b[0m\n"
     ]
    }
   ],
   "source": [
    "!pip install category_encoders\n",
    "!pip install geocoder"
   ]
  },
  {
   "cell_type": "code",
   "execution_count": 10,
   "metadata": {
    "colab": {
     "base_uri": "https://localhost:8080/",
     "height": 52
    },
    "colab_type": "code",
    "id": "yUWM4v-ok7Gw",
    "outputId": "eb404e9c-7f97-44a9-888c-8fb185fcf0af"
   },
   "outputs": [
    {
     "name": "stdout",
     "output_type": "stream",
     "text": [
      "gzip: listings.csv.gz: No such file or directory\r\n"
     ]
    }
   ],
   "source": [
    "!gunzip listings.csv.gz "
   ]
  },
  {
   "cell_type": "code",
   "execution_count": 165,
   "metadata": {
    "colab": {
     "base_uri": "https://localhost:8080/",
     "height": 72
    },
    "colab_type": "code",
    "id": "V2RkvUHmYhH9",
    "outputId": "3833b3cb-76ae-4af5-ae0e-1c3210bb924b"
   },
   "outputs": [
    {
     "name": "stderr",
     "output_type": "stream",
     "text": [
      "/home/ec2-user/anaconda3/envs/python3/lib/python3.6/site-packages/IPython/core/interactiveshell.py:2785: DtypeWarning: Columns (43) have mixed types. Specify dtype option on import or set low_memory=False.\n",
      "  interactivity=interactivity, compiler=compiler, result=result)\n"
     ]
    }
   ],
   "source": [
    "df_listing = pd.read_csv('la_listings.csv')"
   ]
  },
  {
   "cell_type": "code",
   "execution_count": 166,
   "metadata": {
    "colab": {
     "base_uri": "https://localhost:8080/",
     "height": 35
    },
    "colab_type": "code",
    "id": "rVIKOBca4HX6",
    "outputId": "79758418-0502-48eb-c13f-d382d71cd62a"
   },
   "outputs": [
    {
     "data": {
      "text/plain": [
       "(43954, 106)"
      ]
     },
     "execution_count": 166,
     "metadata": {},
     "output_type": "execute_result"
    }
   ],
   "source": [
    "df_listing.shape"
   ]
  },
  {
   "cell_type": "code",
   "execution_count": 167,
   "metadata": {
    "colab": {},
    "colab_type": "code",
    "id": "A4hAF60UwMJz"
   },
   "outputs": [],
   "source": [
    "pd.set_option('display.max_columns', None)  # Unlimited columns\n",
    "pd.set_option('display.max_rows', None)  # Unlimited rows"
   ]
  },
  {
   "cell_type": "code",
   "execution_count": 168,
   "metadata": {
    "colab": {
     "base_uri": "https://localhost:8080/",
     "height": 1000
    },
    "colab_type": "code",
    "id": "d-csQoFhzYFa",
    "outputId": "bf9f88c6-48b1-4b64-83f5-a40468d32444"
   },
   "outputs": [
    {
     "data": {
      "text/plain": [
       "id                                                  0\n",
       "listing_url                                         0\n",
       "scrape_id                                           0\n",
       "last_scraped                                        0\n",
       "name                                                4\n",
       "summary                                          1698\n",
       "space                                           11319\n",
       "description                                       954\n",
       "experiences_offered                                 0\n",
       "neighborhood_overview                           14977\n",
       "notes                                           21588\n",
       "transit                                         16853\n",
       "access                                          16670\n",
       "interaction                                     16005\n",
       "house_rules                                     13286\n",
       "thumbnail_url                                   43954\n",
       "medium_url                                      43954\n",
       "picture_url                                         0\n",
       "xl_picture_url                                  43954\n",
       "host_id                                             0\n",
       "host_url                                            0\n",
       "host_name                                           8\n",
       "host_since                                          8\n",
       "host_location                                     159\n",
       "host_about                                      15110\n",
       "host_response_time                               8311\n",
       "host_response_rate                               8311\n",
       "host_acceptance_rate                            43954\n",
       "host_is_superhost                                   8\n",
       "host_thumbnail_url                                  8\n",
       "host_picture_url                                    8\n",
       "host_neighbourhood                               7965\n",
       "host_listings_count                                 8\n",
       "host_total_listings_count                           8\n",
       "host_verifications                                  0\n",
       "host_has_profile_pic                                8\n",
       "host_identity_verified                              8\n",
       "street                                              0\n",
       "neighbourhood                                    2099\n",
       "neighbourhood_cleansed                              0\n",
       "neighbourhood_group_cleansed                    43954\n",
       "city                                               20\n",
       "state                                               2\n",
       "zipcode                                           530\n",
       "market                                             71\n",
       "smart_location                                      0\n",
       "country_code                                        0\n",
       "country                                             0\n",
       "latitude                                            0\n",
       "longitude                                           0\n",
       "is_location_exact                                   0\n",
       "property_type                                       0\n",
       "room_type                                           0\n",
       "accommodates                                        0\n",
       "bathrooms                                          24\n",
       "bedrooms                                           22\n",
       "beds                                               34\n",
       "bed_type                                            0\n",
       "amenities                                           0\n",
       "square_feet                                     43593\n",
       "price                                               0\n",
       "weekly_price                                    38795\n",
       "monthly_price                                   39217\n",
       "security_deposit                                10933\n",
       "cleaning_fee                                     6019\n",
       "guests_included                                     0\n",
       "extra_people                                        0\n",
       "minimum_nights                                      0\n",
       "maximum_nights                                      0\n",
       "minimum_minimum_nights                              0\n",
       "maximum_minimum_nights                              0\n",
       "minimum_maximum_nights                              0\n",
       "maximum_maximum_nights                              0\n",
       "minimum_nights_avg_ntm                              0\n",
       "maximum_nights_avg_ntm                              0\n",
       "calendar_updated                                    0\n",
       "has_availability                                    0\n",
       "availability_30                                     0\n",
       "availability_60                                     0\n",
       "availability_90                                     0\n",
       "availability_365                                    0\n",
       "calendar_last_scraped                               0\n",
       "number_of_reviews                                   0\n",
       "number_of_reviews_ltm                               0\n",
       "first_review                                     8545\n",
       "last_review                                      8545\n",
       "review_scores_rating                             9104\n",
       "review_scores_accuracy                           9123\n",
       "review_scores_cleanliness                        9122\n",
       "review_scores_checkin                            9152\n",
       "review_scores_communication                      9127\n",
       "review_scores_location                           9157\n",
       "review_scores_value                              9165\n",
       "requires_license                                    0\n",
       "license                                         43116\n",
       "jurisdiction_names                              11498\n",
       "instant_bookable                                    0\n",
       "is_business_travel_ready                            0\n",
       "cancellation_policy                                 0\n",
       "require_guest_profile_picture                       0\n",
       "require_guest_phone_verification                    0\n",
       "calculated_host_listings_count                      0\n",
       "calculated_host_listings_count_entire_homes         0\n",
       "calculated_host_listings_count_private_rooms        0\n",
       "calculated_host_listings_count_shared_rooms         0\n",
       "reviews_per_month                                8545\n",
       "dtype: int64"
      ]
     },
     "execution_count": 168,
     "metadata": {},
     "output_type": "execute_result"
    }
   ],
   "source": [
    "df_listing.isnull().sum()"
   ]
  },
  {
   "cell_type": "code",
   "execution_count": 169,
   "metadata": {
    "colab": {
     "base_uri": "https://localhost:8080/",
     "height": 407
    },
    "colab_type": "code",
    "id": "62F_66F-aON6",
    "outputId": "9724fa08-7173-4479-b793-60451ba81c9a"
   },
   "outputs": [
    {
     "data": {
      "text/html": [
       "<div>\n",
       "<style scoped>\n",
       "    .dataframe tbody tr th:only-of-type {\n",
       "        vertical-align: middle;\n",
       "    }\n",
       "\n",
       "    .dataframe tbody tr th {\n",
       "        vertical-align: top;\n",
       "    }\n",
       "\n",
       "    .dataframe thead th {\n",
       "        text-align: right;\n",
       "    }\n",
       "</style>\n",
       "<table border=\"1\" class=\"dataframe\">\n",
       "  <thead>\n",
       "    <tr style=\"text-align: right;\">\n",
       "      <th></th>\n",
       "      <th>id</th>\n",
       "      <th>listing_url</th>\n",
       "      <th>scrape_id</th>\n",
       "      <th>last_scraped</th>\n",
       "      <th>name</th>\n",
       "      <th>summary</th>\n",
       "      <th>space</th>\n",
       "      <th>description</th>\n",
       "      <th>experiences_offered</th>\n",
       "      <th>neighborhood_overview</th>\n",
       "      <th>notes</th>\n",
       "      <th>transit</th>\n",
       "      <th>access</th>\n",
       "      <th>interaction</th>\n",
       "      <th>house_rules</th>\n",
       "      <th>thumbnail_url</th>\n",
       "      <th>medium_url</th>\n",
       "      <th>picture_url</th>\n",
       "      <th>xl_picture_url</th>\n",
       "      <th>host_id</th>\n",
       "      <th>host_url</th>\n",
       "      <th>host_name</th>\n",
       "      <th>host_since</th>\n",
       "      <th>host_location</th>\n",
       "      <th>host_about</th>\n",
       "      <th>host_response_time</th>\n",
       "      <th>host_response_rate</th>\n",
       "      <th>host_acceptance_rate</th>\n",
       "      <th>host_is_superhost</th>\n",
       "      <th>host_thumbnail_url</th>\n",
       "      <th>host_picture_url</th>\n",
       "      <th>host_neighbourhood</th>\n",
       "      <th>host_listings_count</th>\n",
       "      <th>host_total_listings_count</th>\n",
       "      <th>host_verifications</th>\n",
       "      <th>host_has_profile_pic</th>\n",
       "      <th>host_identity_verified</th>\n",
       "      <th>street</th>\n",
       "      <th>neighbourhood</th>\n",
       "      <th>neighbourhood_cleansed</th>\n",
       "      <th>neighbourhood_group_cleansed</th>\n",
       "      <th>city</th>\n",
       "      <th>state</th>\n",
       "      <th>zipcode</th>\n",
       "      <th>market</th>\n",
       "      <th>smart_location</th>\n",
       "      <th>country_code</th>\n",
       "      <th>country</th>\n",
       "      <th>latitude</th>\n",
       "      <th>longitude</th>\n",
       "      <th>is_location_exact</th>\n",
       "      <th>property_type</th>\n",
       "      <th>room_type</th>\n",
       "      <th>accommodates</th>\n",
       "      <th>bathrooms</th>\n",
       "      <th>bedrooms</th>\n",
       "      <th>beds</th>\n",
       "      <th>bed_type</th>\n",
       "      <th>amenities</th>\n",
       "      <th>square_feet</th>\n",
       "      <th>price</th>\n",
       "      <th>weekly_price</th>\n",
       "      <th>monthly_price</th>\n",
       "      <th>security_deposit</th>\n",
       "      <th>cleaning_fee</th>\n",
       "      <th>guests_included</th>\n",
       "      <th>extra_people</th>\n",
       "      <th>minimum_nights</th>\n",
       "      <th>maximum_nights</th>\n",
       "      <th>minimum_minimum_nights</th>\n",
       "      <th>maximum_minimum_nights</th>\n",
       "      <th>minimum_maximum_nights</th>\n",
       "      <th>maximum_maximum_nights</th>\n",
       "      <th>minimum_nights_avg_ntm</th>\n",
       "      <th>maximum_nights_avg_ntm</th>\n",
       "      <th>calendar_updated</th>\n",
       "      <th>has_availability</th>\n",
       "      <th>availability_30</th>\n",
       "      <th>availability_60</th>\n",
       "      <th>availability_90</th>\n",
       "      <th>availability_365</th>\n",
       "      <th>calendar_last_scraped</th>\n",
       "      <th>number_of_reviews</th>\n",
       "      <th>number_of_reviews_ltm</th>\n",
       "      <th>first_review</th>\n",
       "      <th>last_review</th>\n",
       "      <th>review_scores_rating</th>\n",
       "      <th>review_scores_accuracy</th>\n",
       "      <th>review_scores_cleanliness</th>\n",
       "      <th>review_scores_checkin</th>\n",
       "      <th>review_scores_communication</th>\n",
       "      <th>review_scores_location</th>\n",
       "      <th>review_scores_value</th>\n",
       "      <th>requires_license</th>\n",
       "      <th>license</th>\n",
       "      <th>jurisdiction_names</th>\n",
       "      <th>instant_bookable</th>\n",
       "      <th>is_business_travel_ready</th>\n",
       "      <th>cancellation_policy</th>\n",
       "      <th>require_guest_profile_picture</th>\n",
       "      <th>require_guest_phone_verification</th>\n",
       "      <th>calculated_host_listings_count</th>\n",
       "      <th>calculated_host_listings_count_entire_homes</th>\n",
       "      <th>calculated_host_listings_count_private_rooms</th>\n",
       "      <th>calculated_host_listings_count_shared_rooms</th>\n",
       "      <th>reviews_per_month</th>\n",
       "    </tr>\n",
       "  </thead>\n",
       "  <tbody>\n",
       "    <tr>\n",
       "      <th>19411</th>\n",
       "      <td>3292367</td>\n",
       "      <td>https://www.airbnb.com/rooms/3292367</td>\n",
       "      <td>20190505154550</td>\n",
       "      <td>2019-05-06</td>\n",
       "      <td>Studio in Hollywod, no parking</td>\n",
       "      <td>Brand new Studio apartment, with brand new app...</td>\n",
       "      <td>Studio apartment comes equipped with brand new...</td>\n",
       "      <td>Brand new Studio apartment, with brand new app...</td>\n",
       "      <td>none</td>\n",
       "      <td>This studio apartment is in the middle of Holl...</td>\n",
       "      <td>NaN</td>\n",
       "      <td>Metro bus and Metro Red line is one block away.</td>\n",
       "      <td>NaN</td>\n",
       "      <td>NaN</td>\n",
       "      <td>NaN</td>\n",
       "      <td>NaN</td>\n",
       "      <td>NaN</td>\n",
       "      <td>https://a0.muscache.com/im/pictures/42483325/5...</td>\n",
       "      <td>NaN</td>\n",
       "      <td>16586625</td>\n",
       "      <td>https://www.airbnb.com/users/show/16586625</td>\n",
       "      <td>Steve</td>\n",
       "      <td>2014-06-09</td>\n",
       "      <td>Los Angeles, California, United States</td>\n",
       "      <td>Landlord</td>\n",
       "      <td>within a day</td>\n",
       "      <td>75%</td>\n",
       "      <td>NaN</td>\n",
       "      <td>f</td>\n",
       "      <td>https://a0.muscache.com/im/users/16586625/prof...</td>\n",
       "      <td>https://a0.muscache.com/im/users/16586625/prof...</td>\n",
       "      <td>Hollywood</td>\n",
       "      <td>2.0</td>\n",
       "      <td>2.0</td>\n",
       "      <td>['email', 'phone', 'reviews', 'kba']</td>\n",
       "      <td>t</td>\n",
       "      <td>t</td>\n",
       "      <td>Los Angeles, CA, United States</td>\n",
       "      <td>Hollywood Hills</td>\n",
       "      <td>Hollywood Hills</td>\n",
       "      <td>NaN</td>\n",
       "      <td>Los Angeles</td>\n",
       "      <td>CA</td>\n",
       "      <td>90028</td>\n",
       "      <td>Los Angeles</td>\n",
       "      <td>Los Angeles, CA</td>\n",
       "      <td>US</td>\n",
       "      <td>United States</td>\n",
       "      <td>34.10507</td>\n",
       "      <td>-118.34102</td>\n",
       "      <td>t</td>\n",
       "      <td>Apartment</td>\n",
       "      <td>Entire home/apt</td>\n",
       "      <td>2</td>\n",
       "      <td>1.0</td>\n",
       "      <td>0.0</td>\n",
       "      <td>1.0</td>\n",
       "      <td>Real Bed</td>\n",
       "      <td>{TV,\"Cable TV\",Internet,Wifi,\"Air conditioning...</td>\n",
       "      <td>NaN</td>\n",
       "      <td>$89.00</td>\n",
       "      <td>NaN</td>\n",
       "      <td>NaN</td>\n",
       "      <td>$150.00</td>\n",
       "      <td>$60.00</td>\n",
       "      <td>1</td>\n",
       "      <td>$0.00</td>\n",
       "      <td>1</td>\n",
       "      <td>1125</td>\n",
       "      <td>1</td>\n",
       "      <td>1</td>\n",
       "      <td>1125</td>\n",
       "      <td>1125</td>\n",
       "      <td>1.0</td>\n",
       "      <td>1125.0</td>\n",
       "      <td>4 weeks ago</td>\n",
       "      <td>t</td>\n",
       "      <td>6</td>\n",
       "      <td>20</td>\n",
       "      <td>43</td>\n",
       "      <td>308</td>\n",
       "      <td>2019-05-06</td>\n",
       "      <td>114</td>\n",
       "      <td>44</td>\n",
       "      <td>2014-08-18</td>\n",
       "      <td>2019-04-18</td>\n",
       "      <td>93.0</td>\n",
       "      <td>10.0</td>\n",
       "      <td>9.0</td>\n",
       "      <td>9.0</td>\n",
       "      <td>9.0</td>\n",
       "      <td>10.0</td>\n",
       "      <td>9.0</td>\n",
       "      <td>f</td>\n",
       "      <td>NaN</td>\n",
       "      <td>{\"City of Los Angeles\",\" CA\"}</td>\n",
       "      <td>f</td>\n",
       "      <td>f</td>\n",
       "      <td>strict_14_with_grace_period</td>\n",
       "      <td>f</td>\n",
       "      <td>f</td>\n",
       "      <td>2</td>\n",
       "      <td>2</td>\n",
       "      <td>0</td>\n",
       "      <td>0</td>\n",
       "      <td>1.98</td>\n",
       "    </tr>\n",
       "    <tr>\n",
       "      <th>5159</th>\n",
       "      <td>15098178</td>\n",
       "      <td>https://www.airbnb.com/rooms/15098178</td>\n",
       "      <td>20190505154550</td>\n",
       "      <td>2019-05-05</td>\n",
       "      <td>Ultra Hip Venice Beach House</td>\n",
       "      <td>My place is close to Venice Boardwalk-Santa Mo...</td>\n",
       "      <td>The space has tile floors for a clean polished...</td>\n",
       "      <td>My place is close to Venice Boardwalk-Santa Mo...</td>\n",
       "      <td>none</td>\n",
       "      <td>NaN</td>\n",
       "      <td>There's plenty of street parking, bike rentals...</td>\n",
       "      <td>There are bikes you can use the house.  Also l...</td>\n",
       "      <td>Guest has access to all common areas of the ho...</td>\n",
       "      <td>There's other air bnb people in the house.  Ev...</td>\n",
       "      <td>- Only smoking outside front patio - Can be fl...</td>\n",
       "      <td>NaN</td>\n",
       "      <td>NaN</td>\n",
       "      <td>https://a0.muscache.com/im/pictures/2df38aa7-e...</td>\n",
       "      <td>NaN</td>\n",
       "      <td>52465307</td>\n",
       "      <td>https://www.airbnb.com/users/show/52465307</td>\n",
       "      <td>Dol</td>\n",
       "      <td>2015-12-27</td>\n",
       "      <td>Los Angeles, California, United States</td>\n",
       "      <td>NaN</td>\n",
       "      <td>within an hour</td>\n",
       "      <td>80%</td>\n",
       "      <td>NaN</td>\n",
       "      <td>f</td>\n",
       "      <td>https://a0.muscache.com/im/pictures/523ff2b8-a...</td>\n",
       "      <td>https://a0.muscache.com/im/pictures/523ff2b8-a...</td>\n",
       "      <td>Venice</td>\n",
       "      <td>3.0</td>\n",
       "      <td>3.0</td>\n",
       "      <td>['email', 'phone', 'facebook', 'reviews', 'kba']</td>\n",
       "      <td>t</td>\n",
       "      <td>t</td>\n",
       "      <td>Los Angeles, CA, United States</td>\n",
       "      <td>Venice</td>\n",
       "      <td>Venice</td>\n",
       "      <td>NaN</td>\n",
       "      <td>Los Angeles</td>\n",
       "      <td>CA</td>\n",
       "      <td>90291</td>\n",
       "      <td>Los Angeles</td>\n",
       "      <td>Los Angeles, CA</td>\n",
       "      <td>US</td>\n",
       "      <td>United States</td>\n",
       "      <td>33.99782</td>\n",
       "      <td>-118.47642</td>\n",
       "      <td>t</td>\n",
       "      <td>Guesthouse</td>\n",
       "      <td>Private room</td>\n",
       "      <td>3</td>\n",
       "      <td>1.0</td>\n",
       "      <td>1.0</td>\n",
       "      <td>2.0</td>\n",
       "      <td>Real Bed</td>\n",
       "      <td>{TV,Internet,Wifi,Kitchen,\"Free parking on pre...</td>\n",
       "      <td>NaN</td>\n",
       "      <td>$98.00</td>\n",
       "      <td>NaN</td>\n",
       "      <td>NaN</td>\n",
       "      <td>NaN</td>\n",
       "      <td>$30.00</td>\n",
       "      <td>1</td>\n",
       "      <td>$25.00</td>\n",
       "      <td>2</td>\n",
       "      <td>18</td>\n",
       "      <td>2</td>\n",
       "      <td>2</td>\n",
       "      <td>18</td>\n",
       "      <td>18</td>\n",
       "      <td>2.0</td>\n",
       "      <td>18.0</td>\n",
       "      <td>3 months ago</td>\n",
       "      <td>t</td>\n",
       "      <td>0</td>\n",
       "      <td>0</td>\n",
       "      <td>0</td>\n",
       "      <td>0</td>\n",
       "      <td>2019-05-05</td>\n",
       "      <td>4</td>\n",
       "      <td>0</td>\n",
       "      <td>2016-09-25</td>\n",
       "      <td>2018-04-26</td>\n",
       "      <td>73.0</td>\n",
       "      <td>7.0</td>\n",
       "      <td>7.0</td>\n",
       "      <td>9.0</td>\n",
       "      <td>9.0</td>\n",
       "      <td>9.0</td>\n",
       "      <td>7.0</td>\n",
       "      <td>f</td>\n",
       "      <td>NaN</td>\n",
       "      <td>{\"City of Los Angeles\",\" CA\"}</td>\n",
       "      <td>t</td>\n",
       "      <td>f</td>\n",
       "      <td>strict_14_with_grace_period</td>\n",
       "      <td>f</td>\n",
       "      <td>f</td>\n",
       "      <td>3</td>\n",
       "      <td>0</td>\n",
       "      <td>3</td>\n",
       "      <td>0</td>\n",
       "      <td>0.13</td>\n",
       "    </tr>\n",
       "  </tbody>\n",
       "</table>\n",
       "</div>"
      ],
      "text/plain": [
       "             id                            listing_url       scrape_id  \\\n",
       "19411   3292367   https://www.airbnb.com/rooms/3292367  20190505154550   \n",
       "5159   15098178  https://www.airbnb.com/rooms/15098178  20190505154550   \n",
       "\n",
       "      last_scraped                            name  \\\n",
       "19411   2019-05-06  Studio in Hollywod, no parking   \n",
       "5159    2019-05-05    Ultra Hip Venice Beach House   \n",
       "\n",
       "                                                 summary  \\\n",
       "19411  Brand new Studio apartment, with brand new app...   \n",
       "5159   My place is close to Venice Boardwalk-Santa Mo...   \n",
       "\n",
       "                                                   space  \\\n",
       "19411  Studio apartment comes equipped with brand new...   \n",
       "5159   The space has tile floors for a clean polished...   \n",
       "\n",
       "                                             description experiences_offered  \\\n",
       "19411  Brand new Studio apartment, with brand new app...                none   \n",
       "5159   My place is close to Venice Boardwalk-Santa Mo...                none   \n",
       "\n",
       "                                   neighborhood_overview  \\\n",
       "19411  This studio apartment is in the middle of Holl...   \n",
       "5159                                                 NaN   \n",
       "\n",
       "                                                   notes  \\\n",
       "19411                                                NaN   \n",
       "5159   There's plenty of street parking, bike rentals...   \n",
       "\n",
       "                                                 transit  \\\n",
       "19411    Metro bus and Metro Red line is one block away.   \n",
       "5159   There are bikes you can use the house.  Also l...   \n",
       "\n",
       "                                                  access  \\\n",
       "19411                                                NaN   \n",
       "5159   Guest has access to all common areas of the ho...   \n",
       "\n",
       "                                             interaction  \\\n",
       "19411                                                NaN   \n",
       "5159   There's other air bnb people in the house.  Ev...   \n",
       "\n",
       "                                             house_rules  thumbnail_url  \\\n",
       "19411                                                NaN            NaN   \n",
       "5159   - Only smoking outside front patio - Can be fl...            NaN   \n",
       "\n",
       "       medium_url                                        picture_url  \\\n",
       "19411         NaN  https://a0.muscache.com/im/pictures/42483325/5...   \n",
       "5159          NaN  https://a0.muscache.com/im/pictures/2df38aa7-e...   \n",
       "\n",
       "       xl_picture_url   host_id                                    host_url  \\\n",
       "19411             NaN  16586625  https://www.airbnb.com/users/show/16586625   \n",
       "5159              NaN  52465307  https://www.airbnb.com/users/show/52465307   \n",
       "\n",
       "      host_name  host_since                           host_location  \\\n",
       "19411     Steve  2014-06-09  Los Angeles, California, United States   \n",
       "5159        Dol  2015-12-27  Los Angeles, California, United States   \n",
       "\n",
       "      host_about host_response_time host_response_rate  host_acceptance_rate  \\\n",
       "19411   Landlord       within a day                75%                   NaN   \n",
       "5159         NaN     within an hour                80%                   NaN   \n",
       "\n",
       "      host_is_superhost                                 host_thumbnail_url  \\\n",
       "19411                 f  https://a0.muscache.com/im/users/16586625/prof...   \n",
       "5159                  f  https://a0.muscache.com/im/pictures/523ff2b8-a...   \n",
       "\n",
       "                                        host_picture_url host_neighbourhood  \\\n",
       "19411  https://a0.muscache.com/im/users/16586625/prof...          Hollywood   \n",
       "5159   https://a0.muscache.com/im/pictures/523ff2b8-a...             Venice   \n",
       "\n",
       "       host_listings_count  host_total_listings_count  \\\n",
       "19411                  2.0                        2.0   \n",
       "5159                   3.0                        3.0   \n",
       "\n",
       "                                     host_verifications host_has_profile_pic  \\\n",
       "19411              ['email', 'phone', 'reviews', 'kba']                    t   \n",
       "5159   ['email', 'phone', 'facebook', 'reviews', 'kba']                    t   \n",
       "\n",
       "      host_identity_verified                          street    neighbourhood  \\\n",
       "19411                      t  Los Angeles, CA, United States  Hollywood Hills   \n",
       "5159                       t  Los Angeles, CA, United States           Venice   \n",
       "\n",
       "      neighbourhood_cleansed  neighbourhood_group_cleansed         city state  \\\n",
       "19411        Hollywood Hills                           NaN  Los Angeles    CA   \n",
       "5159                  Venice                           NaN  Los Angeles    CA   \n",
       "\n",
       "      zipcode       market   smart_location country_code        country  \\\n",
       "19411   90028  Los Angeles  Los Angeles, CA           US  United States   \n",
       "5159    90291  Los Angeles  Los Angeles, CA           US  United States   \n",
       "\n",
       "       latitude  longitude is_location_exact property_type        room_type  \\\n",
       "19411  34.10507 -118.34102                 t     Apartment  Entire home/apt   \n",
       "5159   33.99782 -118.47642                 t    Guesthouse     Private room   \n",
       "\n",
       "       accommodates  bathrooms  bedrooms  beds  bed_type  \\\n",
       "19411             2        1.0       0.0   1.0  Real Bed   \n",
       "5159              3        1.0       1.0   2.0  Real Bed   \n",
       "\n",
       "                                               amenities  square_feet   price  \\\n",
       "19411  {TV,\"Cable TV\",Internet,Wifi,\"Air conditioning...          NaN  $89.00   \n",
       "5159   {TV,Internet,Wifi,Kitchen,\"Free parking on pre...          NaN  $98.00   \n",
       "\n",
       "      weekly_price monthly_price security_deposit cleaning_fee  \\\n",
       "19411          NaN           NaN          $150.00       $60.00   \n",
       "5159           NaN           NaN              NaN       $30.00   \n",
       "\n",
       "       guests_included extra_people  minimum_nights  maximum_nights  \\\n",
       "19411                1        $0.00               1            1125   \n",
       "5159                 1       $25.00               2              18   \n",
       "\n",
       "       minimum_minimum_nights  maximum_minimum_nights  minimum_maximum_nights  \\\n",
       "19411                       1                       1                    1125   \n",
       "5159                        2                       2                      18   \n",
       "\n",
       "       maximum_maximum_nights  minimum_nights_avg_ntm  maximum_nights_avg_ntm  \\\n",
       "19411                    1125                     1.0                  1125.0   \n",
       "5159                       18                     2.0                    18.0   \n",
       "\n",
       "      calendar_updated has_availability  availability_30  availability_60  \\\n",
       "19411      4 weeks ago                t                6               20   \n",
       "5159      3 months ago                t                0                0   \n",
       "\n",
       "       availability_90  availability_365 calendar_last_scraped  \\\n",
       "19411               43               308            2019-05-06   \n",
       "5159                 0                 0            2019-05-05   \n",
       "\n",
       "       number_of_reviews  number_of_reviews_ltm first_review last_review  \\\n",
       "19411                114                     44   2014-08-18  2019-04-18   \n",
       "5159                   4                      0   2016-09-25  2018-04-26   \n",
       "\n",
       "       review_scores_rating  review_scores_accuracy  \\\n",
       "19411                  93.0                    10.0   \n",
       "5159                   73.0                     7.0   \n",
       "\n",
       "       review_scores_cleanliness  review_scores_checkin  \\\n",
       "19411                        9.0                    9.0   \n",
       "5159                         7.0                    9.0   \n",
       "\n",
       "       review_scores_communication  review_scores_location  \\\n",
       "19411                          9.0                    10.0   \n",
       "5159                           9.0                     9.0   \n",
       "\n",
       "       review_scores_value requires_license license  \\\n",
       "19411                  9.0                f     NaN   \n",
       "5159                   7.0                f     NaN   \n",
       "\n",
       "                  jurisdiction_names instant_bookable  \\\n",
       "19411  {\"City of Los Angeles\",\" CA\"}                f   \n",
       "5159   {\"City of Los Angeles\",\" CA\"}                t   \n",
       "\n",
       "      is_business_travel_ready          cancellation_policy  \\\n",
       "19411                        f  strict_14_with_grace_period   \n",
       "5159                         f  strict_14_with_grace_period   \n",
       "\n",
       "      require_guest_profile_picture require_guest_phone_verification  \\\n",
       "19411                             f                                f   \n",
       "5159                              f                                f   \n",
       "\n",
       "       calculated_host_listings_count  \\\n",
       "19411                               2   \n",
       "5159                                3   \n",
       "\n",
       "       calculated_host_listings_count_entire_homes  \\\n",
       "19411                                            2   \n",
       "5159                                             0   \n",
       "\n",
       "       calculated_host_listings_count_private_rooms  \\\n",
       "19411                                             0   \n",
       "5159                                              3   \n",
       "\n",
       "       calculated_host_listings_count_shared_rooms  reviews_per_month  \n",
       "19411                                            0               1.98  \n",
       "5159                                             0               0.13  "
      ]
     },
     "execution_count": 169,
     "metadata": {},
     "output_type": "execute_result"
    }
   ],
   "source": [
    "df_listing.sample(2)"
   ]
  },
  {
   "cell_type": "code",
   "execution_count": 170,
   "metadata": {
    "colab": {},
    "colab_type": "code",
    "id": "HYBk43oGaUuZ"
   },
   "outputs": [],
   "source": [
    "# Dropping columns which are either.\n",
    "# 1. Difficult to parse. (NLP)\n",
    "# 2. Not much variance.\n",
    "# 3. To many NaN values\n",
    "# 4. Carries no valuable information.\n",
    "\n",
    "columns = ['listing_url',\n",
    "           'scrape_id',\n",
    "           'last_scraped',\n",
    "           'name',\n",
    "           'summary',\n",
    "           'space',\n",
    "           'description',\n",
    "           'experiences_offered',\n",
    "           'neighborhood_overview',\n",
    "           'notes',\n",
    "           'transit',\n",
    "           'access',\n",
    "           'interaction',\n",
    "           'house_rules',\n",
    "           'thumbnail_url',\n",
    "           'medium_url',\n",
    "           'picture_url',\n",
    "           'xl_picture_url',\n",
    "           'host_id',\n",
    "           'host_url',\n",
    "           'host_name',\n",
    "           'host_location',\n",
    "           'host_about',\n",
    "           'host_acceptance_rate',\n",
    "           'host_thumbnail_url',\n",
    "           'host_picture_url',\n",
    "           'host_neighbourhood',\n",
    "           'host_listings_count',\n",
    "           'host_verifications',\n",
    "           'street',\n",
    "           'neighbourhood',\n",
    "           'neighbourhood_cleansed',\n",
    "           'neighbourhood_group_cleansed',\n",
    "           'city',\n",
    "           'state',\n",
    "           'market',\n",
    "           'smart_location',\n",
    "           'country_code',\n",
    "           'country',\n",
    "           'calendar_last_scraped',\n",
    "           'license',\n",
    "           'jurisdiction_names',\n",
    "           'square_feet',\n",
    "           'weekly_price',\n",
    "           'monthly_price']\n",
    "\n",
    "df_listing.drop(columns=columns, inplace=True)"
   ]
  },
  {
   "cell_type": "code",
   "execution_count": 171,
   "metadata": {
    "colab": {
     "base_uri": "https://localhost:8080/",
     "height": 121
    },
    "colab_type": "code",
    "id": "myUHOaJhsR9m",
    "outputId": "60c301ee-7d8e-4c39-ad31-fec5eff00370"
   },
   "outputs": [
    {
     "data": {
      "text/plain": [
       "0    $1,000.00\n",
       "1      $400.00\n",
       "2      $100.00\n",
       "3          NaN\n",
       "4        $0.00\n",
       "Name: security_deposit, dtype: object"
      ]
     },
     "execution_count": 171,
     "metadata": {},
     "output_type": "execute_result"
    }
   ],
   "source": [
    "df_listing.security_deposit.head()"
   ]
  },
  {
   "cell_type": "code",
   "execution_count": 172,
   "metadata": {
    "colab": {},
    "colab_type": "code",
    "id": "_FzOfP_CuO_H"
   },
   "outputs": [],
   "source": [
    "import geocoder\n",
    "from time import sleep\n",
    "\n",
    "def get_zipcode_from_latlng(lat, lng):\n",
    "  \n",
    "  # Update MapBox API key\n",
    "  MAPBOX_ACCESS_TOKEN=\"pk.eyJ1IjoidGZveDE5OTMiLCJhIjoiY2p4Y2htNGwxMDNocDNzbWt3a3o3aHBnZCJ9.zKfqq6BHvhpKlnDk94-_XA\"\n",
    "  \n",
    "  latlng = [lat, lng]\n",
    "  g = geocoder.mapbox(latlng, key=MAPBOX_ACCESS_TOKEN, method='reverse')\n",
    "  sleep(1)\n",
    "  \n",
    "  if not g.ok:\n",
    "    return np.nan\n",
    "  \n",
    "  print(f\"{lat},{lng},{g.json['postal']}\")\n",
    "  \n",
    "  return g.json['postal']\n",
    "\n",
    "def fetch_zipcode(row):\n",
    "  if isinstance(row['zipcode'], float) and np.isnan(row['zipcode']):\n",
    "    return get_zipcode_from_latlng(row['latitude'], row['longitude'])\n",
    "\n",
    "  return row['zipcode']\n",
    "\n",
    "def cleanup_zipcode(col):\n",
    "  clean_up = {\n",
    "      'Near 91304': '91304',\n",
    "      '90014-3002': '90014',\n",
    "      '90028\\n\\n90017': '90028',\n",
    "      '91744-3228': '91744',\n",
    "      '90039-2715': '90039',\n",
    "      'CA91780': '91780',\n",
    "      'CA91748': '91748',\n",
    "      '91001-2243': '91001',\n",
    "      '139 S Valencia Ave, Glendora. 91741': '91741',\n",
    "      'CA 91765': '91765',\n",
    "      '90005-3747': '90005',\n",
    "      '90036-2514': '90036',\n",
    "      '0': np.nan,\n",
    "      '900': np.nan,\n",
    "      '91606-1412': '91606',\n",
    "      90.0: np.nan\n",
    "  }\n",
    "  \n",
    "  if col in clean_up:\n",
    "    return clean_up[col]\n",
    "  \n",
    "  if isinstance(col, str):\n",
    "    return col\n",
    "  \n",
    "  if np.isnan(col):\n",
    "    return col\n",
    "  \n",
    "  return str(col).split(\".\")[0]"
   ]
  },
  {
   "cell_type": "code",
   "execution_count": 173,
   "metadata": {
    "colab": {
     "base_uri": "https://localhost:8080/",
     "height": 55
    },
    "colab_type": "code",
    "id": "iK0WiV7-fRql",
    "outputId": "ea1b33f6-1f49-46a2-8435-25c688e45dde"
   },
   "outputs": [],
   "source": [
    "# Clean up zipcodes\n",
    "#df_listing['zipcode'] = \\\n",
    "#    df_listing['zipcode'].apply(cleanup_zipcode)\n",
    "\n",
    "# Update missing zipcodesw\n",
    "#df_listing['zipcode'] = \\\n",
    "# df_listing.apply(fetch_zipcode, axis=1)\n",
    "\n",
    "# Export the csv file to avoid invoking of MapBox API repeatedly\n",
    "#df_listing.to_csv('listings_with_zipcode.csv', index = False, header=True)\n",
    "\n",
    "#df_listing['zipcode'].nunique()\n"
   ]
  },
  {
   "cell_type": "code",
   "execution_count": 174,
   "metadata": {
    "colab": {},
    "colab_type": "code",
    "id": "Ro0-xSlMgTW-"
   },
   "outputs": [],
   "source": [
    "# Re-init df_listing\n",
    "df_listing = pd.read_csv('listings_with_zipcode.csv')"
   ]
  },
  {
   "cell_type": "code",
   "execution_count": 175,
   "metadata": {
    "colab": {},
    "colab_type": "code",
    "id": "Offio2kTkM8M"
   },
   "outputs": [],
   "source": [
    "def cleanup_hostresponserate(col):\n",
    "  if isinstance(col, float):\n",
    "    return 0.0\n",
    "  \n",
    "  return int(col.replace('%',''))\n",
    "\n",
    "def cleanup_securitydeposit(col):\n",
    "  if isinstance(col, float):\n",
    "    return 0.0\n",
    "  \n",
    "  return float(col.replace('$','').replace(',',''))\n",
    "\n",
    "def cleanup_cleaningfee(col):\n",
    "  if isinstance(col, float):\n",
    "    return 0.0\n",
    "  \n",
    "  return float(col.replace('$','').replace(',',''))"
   ]
  },
  {
   "cell_type": "code",
   "execution_count": 176,
   "metadata": {
    "colab": {},
    "colab_type": "code",
    "id": "OirFQQIvn0ui"
   },
   "outputs": [],
   "source": [
    "# Clean up procedure to removew NaNs\n",
    "\n",
    "# Fill NaNs as unknown which shall be Label Encoded later\n",
    "df_listing.host_response_time.fillna(value='unknown', inplace=True)\n",
    "\n",
    "# Drop rows with NaN for following columns\n",
    "df_listing.host_since.dropna(inplace=True)\n",
    "df_listing.dropna(subset=['host_since', \n",
    "                  'host_is_superhost', \n",
    "                  'host_total_listings_count', \n",
    "                  'host_has_profile_pic', \n",
    "                  'host_identity_verified',\n",
    "                  'bathrooms',\n",
    "                  'bedrooms',\n",
    "                  'beds'], inplace=True)\n",
    "\n",
    "# Drop columns which shall not be used for modeling\n",
    "columns = ['first_review',\n",
    "           'last_review']\n",
    "\n",
    "df_listing.drop(columns=columns, inplace=True)\n",
    "\n",
    "# Convert response rate to float. Here replacing NaN with 0.\n",
    "df_listing['host_response_rate'] = \\\n",
    "    df_listing['host_response_rate'].apply(cleanup_hostresponserate)\n",
    "\n",
    "# Convert security deposit to float. Here replacing NaN with 0.\n",
    "df_listing['security_deposit'] = \\\n",
    "    df_listing['security_deposit'].apply(cleanup_securitydeposit)\n",
    "\n",
    "# Convert cleaning fee to float. Here replacing NaN with 0.\n",
    "df_listing['cleaning_fee'] = \\\n",
    "    df_listing['cleaning_fee'].apply(cleanup_cleaningfee)\n",
    "\n",
    "# Update the missing rewiew score values with median value.\n",
    "review_columns = ['review_scores_rating',\n",
    "                  'review_scores_accuracy',\n",
    "                  'review_scores_cleanliness',\n",
    "                  'review_scores_checkin',\n",
    "                  'review_scores_communication',\n",
    "                  'review_scores_location',\n",
    "                  'review_scores_value']\n",
    "\n",
    "for column in review_columns:\n",
    "  median = df_listing[column].median()\n",
    "  df_listing[column] = \\\n",
    "    df_listing[column].apply(lambda x: median if np.isnan(x) else x)\n",
    "\n",
    "# Update the missing rewiew per month values with mean value .\n",
    "mean = df_listing['reviews_per_month'].mean()\n",
    "df_listing['reviews_per_month'] = \\\n",
    "    df_listing['reviews_per_month'].apply(lambda x: mean if np.isnan(x) else x)"
   ]
  },
  {
   "cell_type": "code",
   "execution_count": 177,
   "metadata": {
    "colab": {
     "base_uri": "https://localhost:8080/",
     "height": 35
    },
    "colab_type": "code",
    "id": "3eWojlHgmiqY",
    "outputId": "9d526ceb-e1bb-4581-d925-7dedc2e44ea8"
   },
   "outputs": [
    {
     "data": {
      "text/plain": [
       "id                                              0\n",
       "host_since                                      0\n",
       "host_response_time                              0\n",
       "host_response_rate                              0\n",
       "host_is_superhost                               0\n",
       "host_total_listings_count                       0\n",
       "host_has_profile_pic                            0\n",
       "host_identity_verified                          0\n",
       "zipcode                                         2\n",
       "latitude                                        0\n",
       "longitude                                       0\n",
       "is_location_exact                               0\n",
       "property_type                                   0\n",
       "room_type                                       0\n",
       "accommodates                                    0\n",
       "bathrooms                                       0\n",
       "bedrooms                                        0\n",
       "beds                                            0\n",
       "bed_type                                        0\n",
       "amenities                                       0\n",
       "price                                           0\n",
       "security_deposit                                0\n",
       "cleaning_fee                                    0\n",
       "guests_included                                 0\n",
       "extra_people                                    0\n",
       "minimum_nights                                  0\n",
       "maximum_nights                                  0\n",
       "minimum_minimum_nights                          0\n",
       "maximum_minimum_nights                          0\n",
       "minimum_maximum_nights                          0\n",
       "maximum_maximum_nights                          0\n",
       "minimum_nights_avg_ntm                          0\n",
       "maximum_nights_avg_ntm                          0\n",
       "calendar_updated                                0\n",
       "has_availability                                0\n",
       "availability_30                                 0\n",
       "availability_60                                 0\n",
       "availability_90                                 0\n",
       "availability_365                                0\n",
       "number_of_reviews                               0\n",
       "number_of_reviews_ltm                           0\n",
       "review_scores_rating                            0\n",
       "review_scores_accuracy                          0\n",
       "review_scores_cleanliness                       0\n",
       "review_scores_checkin                           0\n",
       "review_scores_communication                     0\n",
       "review_scores_location                          0\n",
       "review_scores_value                             0\n",
       "requires_license                                0\n",
       "instant_bookable                                0\n",
       "is_business_travel_ready                        0\n",
       "cancellation_policy                             0\n",
       "require_guest_profile_picture                   0\n",
       "require_guest_phone_verification                0\n",
       "calculated_host_listings_count                  0\n",
       "calculated_host_listings_count_entire_homes     0\n",
       "calculated_host_listings_count_private_rooms    0\n",
       "calculated_host_listings_count_shared_rooms     0\n",
       "reviews_per_month                               0\n",
       "dtype: int64"
      ]
     },
     "execution_count": 177,
     "metadata": {},
     "output_type": "execute_result"
    }
   ],
   "source": [
    "df_listing.isnull().sum()"
   ]
  },
  {
   "cell_type": "code",
   "execution_count": 178,
   "metadata": {
    "colab": {},
    "colab_type": "code",
    "id": "gLt6zZxDkvde"
   },
   "outputs": [],
   "source": [
    "# Feature Engineering\n",
    "import category_encoders as ce\n",
    "from datetime import datetime"
   ]
  },
  {
   "cell_type": "code",
   "execution_count": 179,
   "metadata": {
    "colab": {},
    "colab_type": "code",
    "id": "lDTUs2bDumYP"
   },
   "outputs": [],
   "source": [
    "# Derive the number of days since hosting from host since.\n",
    "# Then to avoid colinearity drop host since.\n",
    "today = datetime.today()\n",
    "\n",
    "df_listing['host_since'] = pd.to_datetime(df_listing['host_since'])\n",
    "df_listing['host_since_in_days'] = \\\n",
    "   df_listing['host_since'].apply(lambda x: (today - x).days)\n",
    "\n",
    "df_listing.drop(columns=['host_since'], inplace=True)\n",
    "\n",
    "# Update to numerical form\n",
    "df_listing['host_is_superhost'] = \\\n",
    "   df_listing['host_is_superhost'].apply(lambda x: 1 if x == 't' else 0)\n",
    "df_listing['host_has_profile_pic'] = \\\n",
    "   df_listing['host_has_profile_pic'].apply(lambda x: 1 if x == 't' else 0)\n",
    "df_listing['host_identity_verified'] = \\\n",
    "   df_listing['host_identity_verified'].apply(lambda x: 1 if x == 't' else 0)\n",
    "df_listing['is_location_exact'] = \\\n",
    "   df_listing['is_location_exact'].apply(lambda x: 1 if x == 't' else 0)\n",
    "\n",
    "\n",
    "# Updating the property type to lis only top 10\n",
    "v = df_listing['property_type'].value_counts() <= 366\n",
    "\n",
    "df_listing.loc[df_listing['property_type'].isin(v.index[v]), \\\n",
    "               'property_type'] = 'Other'\n",
    "\n",
    "# Get the total number of listed amenities. Here all amenities are \n",
    "# considered to be of same weightable but this is not true mostly.\n",
    "df_listing['amenities_count'] = \\\n",
    "   df_listing['amenities'].apply(lambda x: len(x.split(\",\")))\n",
    "\n",
    "df_listing.drop(columns=['amenities'], inplace=True)\n",
    "\n",
    " #Convert price to float\n",
    "df_listing['price'] = \\\n",
    "   df_listing['price'].apply(lambda x: \n",
    "                               float(x.replace('$','').replace(',','')))\n",
    "\n",
    "# Planning to use adjusted price form calendar. So drop this price.\n",
    "#df_listing.drop(columns=['price'], inplace=True)\n",
    "\n",
    "# Convert extra people cost to float\n",
    "df_listing['extra_people'] = \\\n",
    "    df_listing['extra_people'].apply(lambda x: \\\n",
    "                                     float(x.replace('$','').replace(',','')))\n",
    "\n",
    "# Group the updates into days, weeks, months, years and never.\n",
    "calendar_updated = {'today': 'days',\n",
    "'2 weeks ago': 'weeks',\n",
    "'a week ago': 'weeks',\n",
    "'yesterday': 'days',\n",
    "'3 weeks ago': 'weeks',\n",
    "'2 months ago': 'months',\n",
    "'3 days ago': 'days',\n",
    "'4 days ago': 'days',\n",
    "'4 weeks ago': 'weeks',\n",
    "'3 months ago': 'months',\n",
    "'5 days ago': 'days',\n",
    "'5 weeks ago': 'months',\n",
    "'2 days ago': 'days',\n",
    "'4 months ago': 'months',\n",
    "'6 weeks ago': 'months',\n",
    "'5 months ago': 'months',\n",
    "'6 months ago': 'months',\n",
    "'6 days ago': 'days',\n",
    "'9 months ago': 'months',\n",
    "'7 weeks ago': 'months',\n",
    "'7 months ago': 'months',\n",
    "'10 months ago': 'months',\n",
    "'8 months ago': 'months',\n",
    "'11 months ago': 'months',\n",
    "'1 week ago': 'weeks',\n",
    "'15 months ago': 'years',\n",
    "'14 months ago': 'years',\n",
    "'12 months ago': 'years',\n",
    "'16 months ago': 'years',\n",
    "'17 months ago': 'years',\n",
    "'13 months ago': 'years',\n",
    "'23 months ago': 'years',\n",
    "'22 months ago': 'years',\n",
    "'21 months ago': 'years',\n",
    "'18 months ago': 'years',\n",
    "'20 months ago': 'years',\n",
    "'19 months ago': 'years',\n",
    "'24 months ago': 'years',\n",
    "'35 months ago': 'years',\n",
    "'34 months ago': 'years',\n",
    "'26 months ago': 'years',\n",
    "'25 months ago': 'years',\n",
    "'33 months ago': 'years',\n",
    "'30 months ago': 'years',\n",
    "'never': 'never',\n",
    "'28 months ago': 'years',\n",
    "'27 months ago': 'years',\n",
    "'29 months ago': 'years',\n",
    "'36 months ago': 'years',\n",
    "'31 months ago': 'years',\n",
    "'41 months ago': 'years',\n",
    "'37 months ago': 'years',\n",
    "'39 months ago': 'years',\n",
    "'42 months ago': 'years',\n",
    "'32 months ago': 'years',\n",
    "'38 months ago': 'years',\n",
    "'46 months ago': 'years',\n",
    "'40 months ago': 'years',\n",
    "'44 months ago': 'years',\n",
    "'45 months ago': 'years',\n",
    "'43 months ago': 'years',\n",
    "'47 months ago': 'years',\n",
    "'48 months ago': 'years',\n",
    "'49 months ago': 'years',\n",
    "'53 months ago': 'years',\n",
    "'51 months ago': 'years',\n",
    "'57 months ago': 'years',\n",
    "'54 months ago': 'years',\n",
    "'52 months ago': 'years',\n",
    "'50 months ago': 'years',\n",
    "'56 months ago': 'years',\n",
    "'59 months ago': 'years',\n",
    "'61 months ago': 'years',\n",
    "'55 months ago': 'years',\n",
    "'60 months ago': 'years',\n",
    "'58 months ago': 'years',\n",
    "'87 months ago': 'years',\n",
    "'62 months ago': 'years',\n",
    "'65 months ago': 'years',\n",
    "'72 months ago': 'years',\n",
    "'70 months ago': 'years'}\n",
    "\n",
    "df_listing['calendar_updated'] = \\\n",
    "    df_listing['calendar_updated'].apply(lambda x: calendar_updated[x])\n",
    "\n",
    "#  0 variance to dropping it.\n",
    "df_listing.drop(columns=['has_availability'], inplace=True)\n",
    "\n",
    "# Update to numerical form\n",
    "df_listing['requires_license'] = \\\n",
    "   df_listing['requires_license'].apply(lambda x: 1 if x == 't' else 0)\n",
    "df_listing['instant_bookable'] = \\\n",
    "   df_listing['instant_bookable'].apply(lambda x: 1 if x == 't' else 0)\n",
    "\n",
    "#  0 variance to dropping it.\n",
    "df_listing.drop(columns=['is_business_travel_ready'], inplace=True)\n",
    "\n",
    "# Update to numerical form\n",
    "df_listing['require_guest_profile_picture'] = \\\n",
    "   df_listing['require_guest_profile_picture'].apply(lambda x: 1 if x == 't' else 0)\n",
    "df_listing['require_guest_phone_verification'] = \\\n",
    "   df_listing['require_guest_phone_verification'].apply(lambda x: 1 if x == 't' else 0)\n"
   ]
  },
  {
   "cell_type": "code",
   "execution_count": 180,
   "metadata": {},
   "outputs": [
    {
     "data": {
      "text/plain": [
       "0     105.0\n",
       "1     145.0\n",
       "2      75.0\n",
       "3    5000.0\n",
       "4     120.0\n",
       "Name: price, dtype: float64"
      ]
     },
     "execution_count": 180,
     "metadata": {},
     "output_type": "execute_result"
    }
   ],
   "source": [
    "df_listing['price'].head()"
   ]
  },
  {
   "cell_type": "code",
   "execution_count": 181,
   "metadata": {
    "colab": {
     "base_uri": "https://localhost:8080/",
     "height": 69
    },
    "colab_type": "code",
    "id": "p4Blo9z-JGOp",
    "outputId": "77a1395f-bfe2-4e32-bab8-cfdfe2000f54"
   },
   "outputs": [
    {
     "data": {
      "text/plain": [
       "0    42808\n",
       "1     1077\n",
       "Name: require_guest_phone_verification, dtype: int64"
      ]
     },
     "execution_count": 181,
     "metadata": {},
     "output_type": "execute_result"
    }
   ],
   "source": [
    "df_listing.require_guest_phone_verification.value_counts()"
   ]
  },
  {
   "cell_type": "code",
   "execution_count": 182,
   "metadata": {},
   "outputs": [
    {
     "data": {
      "text/plain": [
       "(43885,)"
      ]
     },
     "execution_count": 182,
     "metadata": {},
     "output_type": "execute_result"
    }
   ],
   "source": [
    "df_target = df_listing['price']\n",
    "df_target = df_listing['price'].replace(0, np.median(df_listing['price']))\n",
    "df_target.shape"
   ]
  },
  {
   "cell_type": "code",
   "execution_count": 183,
   "metadata": {},
   "outputs": [
    {
     "data": {
      "text/plain": [
       "(43885, 57)"
      ]
     },
     "execution_count": 183,
     "metadata": {},
     "output_type": "execute_result"
    }
   ],
   "source": [
    "df_features = df_listing\n",
    "df_features['price'].replace(0, np.median(df_listing['price']))\n",
    "df_features.shape"
   ]
  },
  {
   "cell_type": "code",
   "execution_count": 184,
   "metadata": {},
   "outputs": [],
   "source": [
    "df_features = df_features.drop(['price'], axis=1)"
   ]
  },
  {
   "cell_type": "code",
   "execution_count": 344,
   "metadata": {},
   "outputs": [],
   "source": [
    "from sklearn.model_selection import train_test_split\n",
    "X_train, X_test, y_train, y_test = train_test_split(df_features, df_target, test_size = 0.2)"
   ]
  },
  {
   "cell_type": "code",
   "execution_count": 345,
   "metadata": {},
   "outputs": [
    {
     "data": {
      "text/plain": [
       "((35108, 56), (35108,), (8777, 56), (8777,))"
      ]
     },
     "execution_count": 345,
     "metadata": {},
     "output_type": "execute_result"
    }
   ],
   "source": [
    "X_train.shape, y_train.shape, X_test.shape, y_test.shape"
   ]
  },
  {
   "cell_type": "code",
   "execution_count": 346,
   "metadata": {},
   "outputs": [],
   "source": [
    "def log_transform(y_train, y_test):\n",
    "    y_train = y_train.copy()\n",
    "    y_test = y_test.copy()\n",
    "    \n",
    "    y_train = np.log(y_train)\n",
    "    y_test = np.log(y_test)\n",
    "    return y_train, y_test"
   ]
  },
  {
   "cell_type": "code",
   "execution_count": 347,
   "metadata": {},
   "outputs": [
    {
     "data": {
      "text/plain": [
       "((35108,), (8777,))"
      ]
     },
     "execution_count": 347,
     "metadata": {},
     "output_type": "execute_result"
    }
   ],
   "source": [
    "y_train, y_test = log_transform(y_train, y_test)\n",
    "y_train.shape, y_test.shape"
   ]
  },
  {
   "cell_type": "code",
   "execution_count": 348,
   "metadata": {},
   "outputs": [],
   "source": [
    "def encode(X_train, X_test):\n",
    "    X_train = X_train.copy()\n",
    "    X_test = X_test.copy()\n",
    "    \n",
    "    encode = ce.OrdinalEncoder()\n",
    "    X_train = encode.fit_transform(X_train)\n",
    "    X_test = encode.fit_transform(X_test)\n",
    "    \n",
    "    return X_train, X_test "
   ]
  },
  {
   "cell_type": "code",
   "execution_count": 349,
   "metadata": {},
   "outputs": [
    {
     "data": {
      "text/plain": [
       "((35108, 56), (8777, 56), (35108,), (8777,))"
      ]
     },
     "execution_count": 349,
     "metadata": {},
     "output_type": "execute_result"
    }
   ],
   "source": [
    "X_train, X_test = encode(X_train, X_test)\n",
    "X_train.shape, X_test.shape, y_train.shape, y_test.shape"
   ]
  },
  {
   "cell_type": "code",
   "execution_count": 350,
   "metadata": {},
   "outputs": [
    {
     "data": {
      "text/html": [
       "<div>\n",
       "<style scoped>\n",
       "    .dataframe tbody tr th:only-of-type {\n",
       "        vertical-align: middle;\n",
       "    }\n",
       "\n",
       "    .dataframe tbody tr th {\n",
       "        vertical-align: top;\n",
       "    }\n",
       "\n",
       "    .dataframe thead th {\n",
       "        text-align: right;\n",
       "    }\n",
       "</style>\n",
       "<table border=\"1\" class=\"dataframe\">\n",
       "  <thead>\n",
       "    <tr style=\"text-align: right;\">\n",
       "      <th></th>\n",
       "      <th>id</th>\n",
       "      <th>host_response_time</th>\n",
       "      <th>host_response_rate</th>\n",
       "      <th>host_is_superhost</th>\n",
       "      <th>host_total_listings_count</th>\n",
       "      <th>host_has_profile_pic</th>\n",
       "      <th>host_identity_verified</th>\n",
       "      <th>zipcode</th>\n",
       "      <th>latitude</th>\n",
       "      <th>longitude</th>\n",
       "      <th>is_location_exact</th>\n",
       "      <th>property_type</th>\n",
       "      <th>room_type</th>\n",
       "      <th>accommodates</th>\n",
       "      <th>bathrooms</th>\n",
       "      <th>bedrooms</th>\n",
       "      <th>beds</th>\n",
       "      <th>bed_type</th>\n",
       "      <th>security_deposit</th>\n",
       "      <th>cleaning_fee</th>\n",
       "      <th>guests_included</th>\n",
       "      <th>extra_people</th>\n",
       "      <th>minimum_nights</th>\n",
       "      <th>maximum_nights</th>\n",
       "      <th>minimum_minimum_nights</th>\n",
       "      <th>maximum_minimum_nights</th>\n",
       "      <th>minimum_maximum_nights</th>\n",
       "      <th>maximum_maximum_nights</th>\n",
       "      <th>minimum_nights_avg_ntm</th>\n",
       "      <th>maximum_nights_avg_ntm</th>\n",
       "      <th>calendar_updated</th>\n",
       "      <th>availability_30</th>\n",
       "      <th>availability_60</th>\n",
       "      <th>availability_90</th>\n",
       "      <th>availability_365</th>\n",
       "      <th>number_of_reviews</th>\n",
       "      <th>number_of_reviews_ltm</th>\n",
       "      <th>review_scores_rating</th>\n",
       "      <th>review_scores_accuracy</th>\n",
       "      <th>review_scores_cleanliness</th>\n",
       "      <th>review_scores_checkin</th>\n",
       "      <th>review_scores_communication</th>\n",
       "      <th>review_scores_location</th>\n",
       "      <th>review_scores_value</th>\n",
       "      <th>requires_license</th>\n",
       "      <th>instant_bookable</th>\n",
       "      <th>cancellation_policy</th>\n",
       "      <th>require_guest_profile_picture</th>\n",
       "      <th>require_guest_phone_verification</th>\n",
       "      <th>calculated_host_listings_count</th>\n",
       "      <th>calculated_host_listings_count_entire_homes</th>\n",
       "      <th>calculated_host_listings_count_private_rooms</th>\n",
       "      <th>calculated_host_listings_count_shared_rooms</th>\n",
       "      <th>reviews_per_month</th>\n",
       "      <th>host_since_in_days</th>\n",
       "      <th>amenities_count</th>\n",
       "    </tr>\n",
       "  </thead>\n",
       "  <tbody>\n",
       "    <tr>\n",
       "      <th>32230</th>\n",
       "      <td>32020479</td>\n",
       "      <td>1</td>\n",
       "      <td>100.0</td>\n",
       "      <td>0</td>\n",
       "      <td>1.0</td>\n",
       "      <td>1</td>\n",
       "      <td>0</td>\n",
       "      <td>90048.0</td>\n",
       "      <td>34.07479</td>\n",
       "      <td>-118.37129</td>\n",
       "      <td>1</td>\n",
       "      <td>1</td>\n",
       "      <td>1</td>\n",
       "      <td>1</td>\n",
       "      <td>1.0</td>\n",
       "      <td>1.0</td>\n",
       "      <td>1.0</td>\n",
       "      <td>1</td>\n",
       "      <td>0.0</td>\n",
       "      <td>150.0</td>\n",
       "      <td>1</td>\n",
       "      <td>0.0</td>\n",
       "      <td>30</td>\n",
       "      <td>60</td>\n",
       "      <td>30</td>\n",
       "      <td>30</td>\n",
       "      <td>60</td>\n",
       "      <td>60</td>\n",
       "      <td>30.0</td>\n",
       "      <td>60.0</td>\n",
       "      <td>1</td>\n",
       "      <td>0</td>\n",
       "      <td>0</td>\n",
       "      <td>0</td>\n",
       "      <td>0</td>\n",
       "      <td>0</td>\n",
       "      <td>0</td>\n",
       "      <td>97.0</td>\n",
       "      <td>10.0</td>\n",
       "      <td>10.0</td>\n",
       "      <td>10.0</td>\n",
       "      <td>10.0</td>\n",
       "      <td>10.0</td>\n",
       "      <td>10.0</td>\n",
       "      <td>0</td>\n",
       "      <td>0</td>\n",
       "      <td>1</td>\n",
       "      <td>0</td>\n",
       "      <td>0</td>\n",
       "      <td>1</td>\n",
       "      <td>0</td>\n",
       "      <td>1</td>\n",
       "      <td>0</td>\n",
       "      <td>1.889684</td>\n",
       "      <td>1809</td>\n",
       "      <td>26</td>\n",
       "    </tr>\n",
       "    <tr>\n",
       "      <th>18180</th>\n",
       "      <td>1637056</td>\n",
       "      <td>1</td>\n",
       "      <td>100.0</td>\n",
       "      <td>1</td>\n",
       "      <td>1.0</td>\n",
       "      <td>1</td>\n",
       "      <td>1</td>\n",
       "      <td>90048.0</td>\n",
       "      <td>34.06196</td>\n",
       "      <td>-118.36604</td>\n",
       "      <td>1</td>\n",
       "      <td>2</td>\n",
       "      <td>2</td>\n",
       "      <td>2</td>\n",
       "      <td>1.0</td>\n",
       "      <td>1.0</td>\n",
       "      <td>1.0</td>\n",
       "      <td>1</td>\n",
       "      <td>1000.0</td>\n",
       "      <td>100.0</td>\n",
       "      <td>2</td>\n",
       "      <td>100.0</td>\n",
       "      <td>3</td>\n",
       "      <td>1125</td>\n",
       "      <td>3</td>\n",
       "      <td>3</td>\n",
       "      <td>1125</td>\n",
       "      <td>1125</td>\n",
       "      <td>3.0</td>\n",
       "      <td>1125.0</td>\n",
       "      <td>2</td>\n",
       "      <td>26</td>\n",
       "      <td>56</td>\n",
       "      <td>86</td>\n",
       "      <td>361</td>\n",
       "      <td>89</td>\n",
       "      <td>18</td>\n",
       "      <td>100.0</td>\n",
       "      <td>10.0</td>\n",
       "      <td>10.0</td>\n",
       "      <td>10.0</td>\n",
       "      <td>10.0</td>\n",
       "      <td>10.0</td>\n",
       "      <td>10.0</td>\n",
       "      <td>0</td>\n",
       "      <td>0</td>\n",
       "      <td>2</td>\n",
       "      <td>0</td>\n",
       "      <td>0</td>\n",
       "      <td>1</td>\n",
       "      <td>1</td>\n",
       "      <td>0</td>\n",
       "      <td>0</td>\n",
       "      <td>1.390000</td>\n",
       "      <td>2118</td>\n",
       "      <td>20</td>\n",
       "    </tr>\n",
       "    <tr>\n",
       "      <th>26890</th>\n",
       "      <td>4279041</td>\n",
       "      <td>1</td>\n",
       "      <td>100.0</td>\n",
       "      <td>1</td>\n",
       "      <td>1.0</td>\n",
       "      <td>1</td>\n",
       "      <td>1</td>\n",
       "      <td>90272.0</td>\n",
       "      <td>34.04585</td>\n",
       "      <td>-118.53444</td>\n",
       "      <td>1</td>\n",
       "      <td>3</td>\n",
       "      <td>2</td>\n",
       "      <td>2</td>\n",
       "      <td>1.0</td>\n",
       "      <td>1.0</td>\n",
       "      <td>1.0</td>\n",
       "      <td>1</td>\n",
       "      <td>100.0</td>\n",
       "      <td>35.0</td>\n",
       "      <td>1</td>\n",
       "      <td>0.0</td>\n",
       "      <td>2</td>\n",
       "      <td>28</td>\n",
       "      <td>2</td>\n",
       "      <td>2</td>\n",
       "      <td>28</td>\n",
       "      <td>28</td>\n",
       "      <td>2.0</td>\n",
       "      <td>28.0</td>\n",
       "      <td>3</td>\n",
       "      <td>11</td>\n",
       "      <td>34</td>\n",
       "      <td>57</td>\n",
       "      <td>291</td>\n",
       "      <td>343</td>\n",
       "      <td>77</td>\n",
       "      <td>98.0</td>\n",
       "      <td>10.0</td>\n",
       "      <td>10.0</td>\n",
       "      <td>10.0</td>\n",
       "      <td>10.0</td>\n",
       "      <td>10.0</td>\n",
       "      <td>10.0</td>\n",
       "      <td>0</td>\n",
       "      <td>1</td>\n",
       "      <td>3</td>\n",
       "      <td>0</td>\n",
       "      <td>0</td>\n",
       "      <td>1</td>\n",
       "      <td>1</td>\n",
       "      <td>0</td>\n",
       "      <td>0</td>\n",
       "      <td>6.260000</td>\n",
       "      <td>2215</td>\n",
       "      <td>20</td>\n",
       "    </tr>\n",
       "    <tr>\n",
       "      <th>30711</th>\n",
       "      <td>24495224</td>\n",
       "      <td>1</td>\n",
       "      <td>100.0</td>\n",
       "      <td>0</td>\n",
       "      <td>2.0</td>\n",
       "      <td>1</td>\n",
       "      <td>0</td>\n",
       "      <td>91011.0</td>\n",
       "      <td>34.21906</td>\n",
       "      <td>-118.22518</td>\n",
       "      <td>1</td>\n",
       "      <td>4</td>\n",
       "      <td>2</td>\n",
       "      <td>8</td>\n",
       "      <td>3.5</td>\n",
       "      <td>4.0</td>\n",
       "      <td>4.0</td>\n",
       "      <td>1</td>\n",
       "      <td>0.0</td>\n",
       "      <td>119.0</td>\n",
       "      <td>8</td>\n",
       "      <td>40.0</td>\n",
       "      <td>2</td>\n",
       "      <td>60</td>\n",
       "      <td>2</td>\n",
       "      <td>2</td>\n",
       "      <td>60</td>\n",
       "      <td>60</td>\n",
       "      <td>2.0</td>\n",
       "      <td>60.0</td>\n",
       "      <td>3</td>\n",
       "      <td>17</td>\n",
       "      <td>29</td>\n",
       "      <td>46</td>\n",
       "      <td>307</td>\n",
       "      <td>40</td>\n",
       "      <td>40</td>\n",
       "      <td>89.0</td>\n",
       "      <td>9.0</td>\n",
       "      <td>8.0</td>\n",
       "      <td>10.0</td>\n",
       "      <td>10.0</td>\n",
       "      <td>10.0</td>\n",
       "      <td>9.0</td>\n",
       "      <td>0</td>\n",
       "      <td>0</td>\n",
       "      <td>1</td>\n",
       "      <td>0</td>\n",
       "      <td>0</td>\n",
       "      <td>2</td>\n",
       "      <td>2</td>\n",
       "      <td>0</td>\n",
       "      <td>0</td>\n",
       "      <td>3.410000</td>\n",
       "      <td>434</td>\n",
       "      <td>33</td>\n",
       "    </tr>\n",
       "    <tr>\n",
       "      <th>18477</th>\n",
       "      <td>32747544</td>\n",
       "      <td>1</td>\n",
       "      <td>100.0</td>\n",
       "      <td>0</td>\n",
       "      <td>2.0</td>\n",
       "      <td>1</td>\n",
       "      <td>0</td>\n",
       "      <td>90026.0</td>\n",
       "      <td>34.06582</td>\n",
       "      <td>-118.25784</td>\n",
       "      <td>1</td>\n",
       "      <td>1</td>\n",
       "      <td>2</td>\n",
       "      <td>6</td>\n",
       "      <td>2.0</td>\n",
       "      <td>3.0</td>\n",
       "      <td>3.0</td>\n",
       "      <td>1</td>\n",
       "      <td>150.0</td>\n",
       "      <td>190.0</td>\n",
       "      <td>6</td>\n",
       "      <td>35.0</td>\n",
       "      <td>2</td>\n",
       "      <td>15</td>\n",
       "      <td>2</td>\n",
       "      <td>2</td>\n",
       "      <td>15</td>\n",
       "      <td>15</td>\n",
       "      <td>2.0</td>\n",
       "      <td>15.0</td>\n",
       "      <td>2</td>\n",
       "      <td>4</td>\n",
       "      <td>8</td>\n",
       "      <td>14</td>\n",
       "      <td>14</td>\n",
       "      <td>9</td>\n",
       "      <td>9</td>\n",
       "      <td>100.0</td>\n",
       "      <td>10.0</td>\n",
       "      <td>10.0</td>\n",
       "      <td>10.0</td>\n",
       "      <td>10.0</td>\n",
       "      <td>10.0</td>\n",
       "      <td>10.0</td>\n",
       "      <td>0</td>\n",
       "      <td>1</td>\n",
       "      <td>1</td>\n",
       "      <td>0</td>\n",
       "      <td>0</td>\n",
       "      <td>2</td>\n",
       "      <td>2</td>\n",
       "      <td>0</td>\n",
       "      <td>0</td>\n",
       "      <td>4.740000</td>\n",
       "      <td>117</td>\n",
       "      <td>31</td>\n",
       "    </tr>\n",
       "  </tbody>\n",
       "</table>\n",
       "</div>"
      ],
      "text/plain": [
       "             id  host_response_time  host_response_rate  host_is_superhost  \\\n",
       "32230  32020479                   1               100.0                  0   \n",
       "18180   1637056                   1               100.0                  1   \n",
       "26890   4279041                   1               100.0                  1   \n",
       "30711  24495224                   1               100.0                  0   \n",
       "18477  32747544                   1               100.0                  0   \n",
       "\n",
       "       host_total_listings_count  host_has_profile_pic  \\\n",
       "32230                        1.0                     1   \n",
       "18180                        1.0                     1   \n",
       "26890                        1.0                     1   \n",
       "30711                        2.0                     1   \n",
       "18477                        2.0                     1   \n",
       "\n",
       "       host_identity_verified  zipcode  latitude  longitude  \\\n",
       "32230                       0  90048.0  34.07479 -118.37129   \n",
       "18180                       1  90048.0  34.06196 -118.36604   \n",
       "26890                       1  90272.0  34.04585 -118.53444   \n",
       "30711                       0  91011.0  34.21906 -118.22518   \n",
       "18477                       0  90026.0  34.06582 -118.25784   \n",
       "\n",
       "       is_location_exact  property_type  room_type  accommodates  bathrooms  \\\n",
       "32230                  1              1          1             1        1.0   \n",
       "18180                  1              2          2             2        1.0   \n",
       "26890                  1              3          2             2        1.0   \n",
       "30711                  1              4          2             8        3.5   \n",
       "18477                  1              1          2             6        2.0   \n",
       "\n",
       "       bedrooms  beds  bed_type  security_deposit  cleaning_fee  \\\n",
       "32230       1.0   1.0         1               0.0         150.0   \n",
       "18180       1.0   1.0         1            1000.0         100.0   \n",
       "26890       1.0   1.0         1             100.0          35.0   \n",
       "30711       4.0   4.0         1               0.0         119.0   \n",
       "18477       3.0   3.0         1             150.0         190.0   \n",
       "\n",
       "       guests_included  extra_people  minimum_nights  maximum_nights  \\\n",
       "32230                1           0.0              30              60   \n",
       "18180                2         100.0               3            1125   \n",
       "26890                1           0.0               2              28   \n",
       "30711                8          40.0               2              60   \n",
       "18477                6          35.0               2              15   \n",
       "\n",
       "       minimum_minimum_nights  maximum_minimum_nights  minimum_maximum_nights  \\\n",
       "32230                      30                      30                      60   \n",
       "18180                       3                       3                    1125   \n",
       "26890                       2                       2                      28   \n",
       "30711                       2                       2                      60   \n",
       "18477                       2                       2                      15   \n",
       "\n",
       "       maximum_maximum_nights  minimum_nights_avg_ntm  maximum_nights_avg_ntm  \\\n",
       "32230                      60                    30.0                    60.0   \n",
       "18180                    1125                     3.0                  1125.0   \n",
       "26890                      28                     2.0                    28.0   \n",
       "30711                      60                     2.0                    60.0   \n",
       "18477                      15                     2.0                    15.0   \n",
       "\n",
       "       calendar_updated  availability_30  availability_60  availability_90  \\\n",
       "32230                 1                0                0                0   \n",
       "18180                 2               26               56               86   \n",
       "26890                 3               11               34               57   \n",
       "30711                 3               17               29               46   \n",
       "18477                 2                4                8               14   \n",
       "\n",
       "       availability_365  number_of_reviews  number_of_reviews_ltm  \\\n",
       "32230                 0                  0                      0   \n",
       "18180               361                 89                     18   \n",
       "26890               291                343                     77   \n",
       "30711               307                 40                     40   \n",
       "18477                14                  9                      9   \n",
       "\n",
       "       review_scores_rating  review_scores_accuracy  \\\n",
       "32230                  97.0                    10.0   \n",
       "18180                 100.0                    10.0   \n",
       "26890                  98.0                    10.0   \n",
       "30711                  89.0                     9.0   \n",
       "18477                 100.0                    10.0   \n",
       "\n",
       "       review_scores_cleanliness  review_scores_checkin  \\\n",
       "32230                       10.0                   10.0   \n",
       "18180                       10.0                   10.0   \n",
       "26890                       10.0                   10.0   \n",
       "30711                        8.0                   10.0   \n",
       "18477                       10.0                   10.0   \n",
       "\n",
       "       review_scores_communication  review_scores_location  \\\n",
       "32230                         10.0                    10.0   \n",
       "18180                         10.0                    10.0   \n",
       "26890                         10.0                    10.0   \n",
       "30711                         10.0                    10.0   \n",
       "18477                         10.0                    10.0   \n",
       "\n",
       "       review_scores_value  requires_license  instant_bookable  \\\n",
       "32230                 10.0                 0                 0   \n",
       "18180                 10.0                 0                 0   \n",
       "26890                 10.0                 0                 1   \n",
       "30711                  9.0                 0                 0   \n",
       "18477                 10.0                 0                 1   \n",
       "\n",
       "       cancellation_policy  require_guest_profile_picture  \\\n",
       "32230                    1                              0   \n",
       "18180                    2                              0   \n",
       "26890                    3                              0   \n",
       "30711                    1                              0   \n",
       "18477                    1                              0   \n",
       "\n",
       "       require_guest_phone_verification  calculated_host_listings_count  \\\n",
       "32230                                 0                               1   \n",
       "18180                                 0                               1   \n",
       "26890                                 0                               1   \n",
       "30711                                 0                               2   \n",
       "18477                                 0                               2   \n",
       "\n",
       "       calculated_host_listings_count_entire_homes  \\\n",
       "32230                                            0   \n",
       "18180                                            1   \n",
       "26890                                            1   \n",
       "30711                                            2   \n",
       "18477                                            2   \n",
       "\n",
       "       calculated_host_listings_count_private_rooms  \\\n",
       "32230                                             1   \n",
       "18180                                             0   \n",
       "26890                                             0   \n",
       "30711                                             0   \n",
       "18477                                             0   \n",
       "\n",
       "       calculated_host_listings_count_shared_rooms  reviews_per_month  \\\n",
       "32230                                            0           1.889684   \n",
       "18180                                            0           1.390000   \n",
       "26890                                            0           6.260000   \n",
       "30711                                            0           3.410000   \n",
       "18477                                            0           4.740000   \n",
       "\n",
       "       host_since_in_days  amenities_count  \n",
       "32230                1809               26  \n",
       "18180                2118               20  \n",
       "26890                2215               20  \n",
       "30711                 434               33  \n",
       "18477                 117               31  "
      ]
     },
     "execution_count": 350,
     "metadata": {},
     "output_type": "execute_result"
    }
   ],
   "source": [
    "X_train.head()"
   ]
  },
  {
   "cell_type": "code",
   "execution_count": 351,
   "metadata": {},
   "outputs": [],
   "source": [
    "X_train['zipcode'] = X_train['zipcode'].replace(np.nan, np.mean(df_listing['zipcode']))\n",
    "X_test['zipcode'] = X_test['zipcode'].replace(np.nan, np.mean(df_listing['zipcode']))"
   ]
  },
  {
   "cell_type": "code",
   "execution_count": 352,
   "metadata": {},
   "outputs": [
    {
     "data": {
      "text/plain": [
       "((35108, 56), (8777, 56), (35108,), (8777,))"
      ]
     },
     "execution_count": 352,
     "metadata": {},
     "output_type": "execute_result"
    }
   ],
   "source": [
    "X_train.shape, X_test.shape, y_train.shape, y_test.shape"
   ]
  },
  {
   "cell_type": "code",
   "execution_count": 353,
   "metadata": {},
   "outputs": [
    {
     "data": {
      "text/plain": [
       "(0, 0)"
      ]
     },
     "execution_count": 353,
     "metadata": {},
     "output_type": "execute_result"
    }
   ],
   "source": [
    "X_train.isna().sum().sum(), X_test.isna().sum().sum()"
   ]
  },
  {
   "cell_type": "code",
   "execution_count": 354,
   "metadata": {},
   "outputs": [],
   "source": [
    "from sklearn.ensemble import RandomForestRegressor"
   ]
  },
  {
   "cell_type": "code",
   "execution_count": 355,
   "metadata": {},
   "outputs": [
    {
     "data": {
      "text/plain": [
       "RandomForestRegressor(bootstrap=True, criterion='mse', max_depth=None,\n",
       "           max_features='auto', max_leaf_nodes=None,\n",
       "           min_impurity_decrease=0.0, min_impurity_split=None,\n",
       "           min_samples_leaf=1, min_samples_split=2,\n",
       "           min_weight_fraction_leaf=0.0, n_estimators=50, n_jobs=-1,\n",
       "           oob_score=False, random_state=42, verbose=0, warm_start=False)"
      ]
     },
     "execution_count": 355,
     "metadata": {},
     "output_type": "execute_result"
    }
   ],
   "source": [
    "model = RandomForestRegressor(max_depth = None, n_estimators=50, \n",
    "                               n_jobs = -1, random_state = 42)\n",
    "\n",
    "model.fit(X_train, y_train)"
   ]
  },
  {
   "cell_type": "code",
   "execution_count": 356,
   "metadata": {},
   "outputs": [
    {
     "name": "stdout",
     "output_type": "stream",
     "text": [
      "0.7965296382835174\n"
     ]
    }
   ],
   "source": [
    "#reasonable score given the low MAE value below\n",
    "print(model.score(X_test, y_test))\n",
    "y_pred = model.predict(X_test)"
   ]
  },
  {
   "cell_type": "code",
   "execution_count": 357,
   "metadata": {},
   "outputs": [],
   "source": [
    "from sklearn.metrics import mean_absolute_error"
   ]
  },
  {
   "cell_type": "code",
   "execution_count": 358,
   "metadata": {},
   "outputs": [
    {
     "data": {
      "text/plain": [
       "(0.25851734934961507, 0.3864478181923765)"
      ]
     },
     "execution_count": 358,
     "metadata": {},
     "output_type": "execute_result"
    }
   ],
   "source": [
    "from sklearn.metrics import mean_absolute_error\n",
    "from sklearn.metrics import mean_squared_error\n",
    "\n",
    "mae = mean_absolute_error(y_test, y_pred)\n",
    "\n",
    "rmse = (mean_squared_error(y_test, y_pred))**(1/2)\n",
    "mae, rmse"
   ]
  },
  {
   "cell_type": "code",
   "execution_count": 359,
   "metadata": {},
   "outputs": [
    {
     "data": {
      "text/plain": [
       "<matplotlib.axes._subplots.AxesSubplot at 0x7f28b53abef0>"
      ]
     },
     "execution_count": 359,
     "metadata": {},
     "output_type": "execute_result"
    },
    {
     "data": {
      "image/png": "[encoded data removed]",
      "text/plain": [
       "<Figure size 360x1440 with 1 Axes>"
      ]
     },
     "metadata": {},
     "output_type": "display_data"
    }
   ],
   "source": [
    "figsize=(5, 20)\n",
    "plt.figure(figsize=figsize)\n",
    "importances = pd.Series(model.feature_importances_, X_test.columns).sort_values()\n",
    "importances.plot.barh()"
   ]
  },
  {
   "cell_type": "code",
   "execution_count": 360,
   "metadata": {},
   "outputs": [],
   "source": [
    "features = ['bedrooms', 'bathrooms', 'room_type', 'cleaning_fee',\n",
    "            'zipcode', 'accommodates','security_deposit',\n",
    "            'amenities_count', 'host_since_in_days']\n",
    "X_train2 = X_train[features]\n",
    "X_test2 = X_test[features]\n"
   ]
  },
  {
   "cell_type": "code",
   "execution_count": 367,
   "metadata": {},
   "outputs": [
    {
     "data": {
      "text/plain": [
       "RandomForestRegressor(bootstrap=True, criterion='mse', max_depth=None,\n",
       "           max_features='auto', max_leaf_nodes=None,\n",
       "           min_impurity_decrease=0.0, min_impurity_split=None,\n",
       "           min_samples_leaf=1, min_samples_split=2,\n",
       "           min_weight_fraction_leaf=0.0, n_estimators=200, n_jobs=-1,\n",
       "           oob_score=False, random_state=42, verbose=0, warm_start=False)"
      ]
     },
     "execution_count": 367,
     "metadata": {},
     "output_type": "execute_result"
    }
   ],
   "source": [
    "model = RandomForestRegressor(max_depth = None, n_estimators=200, \n",
    "                               n_jobs = -1, random_state = 42)\n",
    "\n",
    "model.fit(X_train2, y_train)"
   ]
  },
  {
   "cell_type": "code",
   "execution_count": 370,
   "metadata": {},
   "outputs": [
    {
     "name": "stdout",
     "output_type": "stream",
     "text": [
      "0.7614504022007791\n"
     ]
    }
   ],
   "source": [
    "#reasonable score given the low MAE value below\n",
    "print(model.score(X_test2, y_test))"
   ]
  },
  {
   "cell_type": "code",
   "execution_count": 371,
   "metadata": {},
   "outputs": [],
   "source": [
    "from sklearn.metrics import mean_absolute_error"
   ]
  },
  {
   "cell_type": "code",
   "execution_count": 372,
   "metadata": {},
   "outputs": [
    {
     "data": {
      "text/plain": [
       "(0.2550151578945854, 0.38339283746471964)"
      ]
     },
     "execution_count": 372,
     "metadata": {},
     "output_type": "execute_result"
    }
   ],
   "source": [
    "from sklearn.metrics import mean_absolute_error\n",
    "from sklearn.metrics import mean_squared_error\n",
    "\n",
    "mae = mean_absolute_error(y_test, y_pred)\n",
    "\n",
    "rmse = (mean_squared_error(y_test, y_pred))**(1/2)\n",
    "mae, rmse"
   ]
  },
  {
   "cell_type": "code",
   "execution_count": 374,
   "metadata": {},
   "outputs": [
    {
     "data": {
      "text/plain": [
       "<matplotlib.axes._subplots.AxesSubplot at 0x7f28afa02390>"
      ]
     },
     "execution_count": 374,
     "metadata": {},
     "output_type": "execute_result"
    },
    {
     "data": {
      "image/png": "[encoded data removed]",
      "text/plain": [
       "<Figure size 360x360 with 1 Axes>"
      ]
     },
     "metadata": {},
     "output_type": "display_data"
    }
   ],
   "source": [
    "figsize=(5, 5)\n",
    "plt.figure(figsize=figsize)\n",
    "importances = pd.Series(model.feature_importances_, X_train2.columns).sort_values()\n",
    "importances.plot.barh()"
   ]
  },
  {
   "cell_type": "code",
   "execution_count": 375,
   "metadata": {},
   "outputs": [],
   "source": [
    "from xgboost import XGBRegressor"
   ]
  },
  {
   "cell_type": "code",
   "execution_count": 376,
   "metadata": {},
   "outputs": [],
   "source": [
    "xgb = XGBRegressor(max_depth=3, learning_rate=0.1, \n",
    "                   n_estimators=100, verbosity=1, n_jobs=-1, \n",
    "                   random_state=42)"
   ]
  },
  {
   "cell_type": "code",
   "execution_count": 377,
   "metadata": {},
   "outputs": [
    {
     "name": "stderr",
     "output_type": "stream",
     "text": [
      "/home/ec2-user/anaconda3/envs/python3/lib/python3.6/site-packages/xgboost/core.py:587: FutureWarning: Series.base is deprecated and will be removed in a future version\n",
      "  if getattr(data, 'base', None) is not None and \\\n"
     ]
    },
    {
     "name": "stdout",
     "output_type": "stream",
     "text": [
      "[21:13:33] WARNING: /workspace/src/objective/regression_obj.cu:152: reg:linear is now deprecated in favor of reg:squarederror.\n"
     ]
    },
    {
     "data": {
      "text/plain": [
       "XGBRegressor(base_score=0.5, booster='gbtree', colsample_bylevel=1,\n",
       "       colsample_bynode=1, colsample_bytree=1, gamma=0,\n",
       "       importance_type='gain', learning_rate=0.1, max_delta_step=0,\n",
       "       max_depth=3, min_child_weight=1, missing=None, n_estimators=100,\n",
       "       n_jobs=-1, nthread=None, objective='reg:linear', random_state=42,\n",
       "       reg_alpha=0, reg_lambda=1, scale_pos_weight=1, seed=None,\n",
       "       silent=None, subsample=1, verbosity=1)"
      ]
     },
     "execution_count": 377,
     "metadata": {},
     "output_type": "execute_result"
    }
   ],
   "source": [
    "xgb.fit(X_train, y_train)"
   ]
  },
  {
   "cell_type": "code",
   "execution_count": 378,
   "metadata": {},
   "outputs": [
    {
     "data": {
      "text/plain": [
       "0.7875697217393922"
      ]
     },
     "execution_count": 378,
     "metadata": {},
     "output_type": "execute_result"
    }
   ],
   "source": [
    "xgb.score(X_test, y_test)"
   ]
  },
  {
   "cell_type": "code",
   "execution_count": 379,
   "metadata": {},
   "outputs": [
    {
     "data": {
      "text/plain": [
       "<matplotlib.axes._subplots.AxesSubplot at 0x7f28b72bbc50>"
      ]
     },
     "execution_count": 379,
     "metadata": {},
     "output_type": "execute_result"
    },
    {
     "data": {
      "image/png": "[encoded data removed]",
      "text/plain": [
       "<Figure size 360x1080 with 1 Axes>"
      ]
     },
     "metadata": {},
     "output_type": "display_data"
    }
   ],
   "source": [
    "figsize=(5, 15)\n",
    "plt.figure(figsize=figsize)\n",
    "importances = pd.Series(xgb.feature_importances_, X_test.columns).sort_values()\n",
    "importances.plot.barh()"
   ]
  },
  {
   "cell_type": "code",
   "execution_count": 380,
   "metadata": {},
   "outputs": [],
   "source": [
    "features = ['bedrooms', 'room_type', 'bathrooms', 'security_deposit',\n",
    "           'accommodates', 'cleaning_fee', 'review_scores_location',\n",
    "           'availability_30', 'calculated_host_listings_count_shared_rooms']\n",
    "           \n",
    "X_train3 = X_train[features]\n",
    "X_test3 = X_test[features]"
   ]
  },
  {
   "cell_type": "code",
   "execution_count": 381,
   "metadata": {},
   "outputs": [],
   "source": [
    "xgb = XGBRegressor(max_depth=3, learning_rate=0.1, \n",
    "                   n_estimators=100, verbosity=1, n_jobs=-1, \n",
    "                   random_state=42)"
   ]
  },
  {
   "cell_type": "code",
   "execution_count": 387,
   "metadata": {},
   "outputs": [
    {
     "name": "stderr",
     "output_type": "stream",
     "text": [
      "/home/ec2-user/anaconda3/envs/python3/lib/python3.6/site-packages/xgboost/core.py:587: FutureWarning: Series.base is deprecated and will be removed in a future version\n",
      "  if getattr(data, 'base', None) is not None and \\\n"
     ]
    },
    {
     "name": "stdout",
     "output_type": "stream",
     "text": [
      "[21:14:11] WARNING: /workspace/src/objective/regression_obj.cu:152: reg:linear is now deprecated in favor of reg:squarederror.\n"
     ]
    },
    {
     "data": {
      "text/plain": [
       "XGBRegressor(base_score=0.5, booster='gbtree', colsample_bylevel=1,\n",
       "       colsample_bynode=1, colsample_bytree=1, gamma=0,\n",
       "       importance_type='gain', learning_rate=0.1, max_delta_step=0,\n",
       "       max_depth=3, min_child_weight=1, missing=None, n_estimators=100,\n",
       "       n_jobs=-1, nthread=None, objective='reg:linear', random_state=42,\n",
       "       reg_alpha=0, reg_lambda=1, scale_pos_weight=1, seed=None,\n",
       "       silent=None, subsample=1, verbosity=1)"
      ]
     },
     "execution_count": 387,
     "metadata": {},
     "output_type": "execute_result"
    }
   ],
   "source": [
    "xgb.fit(X_train3, y_train)"
   ]
  },
  {
   "cell_type": "code",
   "execution_count": 388,
   "metadata": {},
   "outputs": [
    {
     "data": {
      "text/plain": [
       "0.7353484236846697"
      ]
     },
     "execution_count": 388,
     "metadata": {},
     "output_type": "execute_result"
    }
   ],
   "source": [
    "xgb.score(X_test3, y_test)"
   ]
  },
  {
   "cell_type": "code",
   "execution_count": 390,
   "metadata": {},
   "outputs": [
    {
     "data": {
      "text/plain": [
       "<matplotlib.axes._subplots.AxesSubplot at 0x7f28bb99b588>"
      ]
     },
     "execution_count": 390,
     "metadata": {},
     "output_type": "execute_result"
    },
    {
     "data": {
      "image/png": "[encoded data removed]",
      "text/plain": [
       "<Figure size 360x360 with 1 Axes>"
      ]
     },
     "metadata": {},
     "output_type": "display_data"
    }
   ],
   "source": [
    "figsize=(5, 5)\n",
    "plt.figure(figsize=figsize)\n",
    "importances = pd.Series(xgb.feature_importances_, X_test3.columns).sort_values()\n",
    "importances.plot.barh()"
   ]
  }
 ],
 "metadata": {
  "accelerator": "GPU",
  "colab": {
   "name": "SJ1 Airbnb Price Predictions (Data Wrangling).ipynb",
   "provenance": [],
   "version": "0.3.2"
  },
  "kernelspec": {
   "display_name": "conda_python3",
   "language": "python",
   "name": "conda_python3"
  },
  "language_info": {
   "codemirror_mode": {
    "name": "ipython",
    "version": 3
   },
   "file_extension": ".py",
   "mimetype": "text/x-python",
   "name": "python",
   "nbconvert_exporter": "python",
   "pygments_lexer": "ipython3",
   "version": "3.6.5"
  }
 },
 "nbformat": 4,
 "nbformat_minor": 1
}
