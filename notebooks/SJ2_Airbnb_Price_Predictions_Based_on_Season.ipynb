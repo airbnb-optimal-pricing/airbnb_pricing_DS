{
  "nbformat": 4,
  "nbformat_minor": 0,
  "metadata": {
    "colab": {
      "name": "SJ2 Airbnb Price Predictions Based on Season.ipynb",
      "version": "0.3.2",
      "provenance": [],
      "include_colab_link": true
    },
    "kernelspec": {
      "name": "python3",
      "display_name": "Python 3"
    },
    "accelerator": "GPU"
  },
  "cells": [
    {
      "cell_type": "markdown",
      "metadata": {
        "id": "view-in-github",
        "colab_type": "text"
      },
      "source": [
        "<a href=\"https://colab.research.google.com/github/ShreyasJothish/airbnb_pricing_DS/blob/master/notebooks/SJ2_Airbnb_Price_Predictions_Based_on_Season.ipynb\" target=\"_parent\"><img src=\"https://colab.research.google.com/assets/colab-badge.svg\" alt=\"Open In Colab\"/></a>"
      ]
    },
    {
      "cell_type": "markdown",
      "metadata": {
        "id": "G2I2ists0gbO",
        "colab_type": "text"
      },
      "source": [
        "# Airbnb Price Predictions based on season.\n",
        "\n",
        "[Inside AirBnB](http://insideairbnb.com) have curated data that allows us to explore how Airbnb is really being used in cities around the world. For our analysis, we shall be using publicly available information about **Los Angeles, California, United States** Airbnb's listings as of **2019-05-05**.\n",
        "\n",
        "This specific notebook tries to explore the relationship between AirBnB pricing with respect to seasonality.\n",
        "\n",
        "**Date Compiled**: \n",
        "05 May, 2019\n",
        "\n",
        "**Country/City**:\n",
        "Los Angeles\n",
        "\n",
        "**File Name**:\n",
        "[calendar.csv.gz](http://data.insideairbnb.com/united-states/ca/los-angeles/2019-05-05/data/calendar.csv.gz)\n",
        "\n",
        "**Description**:\n",
        "Detailed Calendar Data for listings in Los Angeles\n",
        "\n"
      ]
    },
    {
      "cell_type": "markdown",
      "metadata": {
        "id": "CmKW7rCZ5vFD",
        "colab_type": "text"
      },
      "source": [
        "## Exploratory Data Analysis (EDA)\n",
        "\n",
        "**Reference**:\n",
        "https://nbviewer.jupyter.org/github/PBPatil/Exploratory_Data_Analysis-Wine_Quality_Dataset/blob/master/winequality_white.ipynb\n",
        "\n",
        "\n"
      ]
    },
    {
      "cell_type": "markdown",
      "metadata": {
        "id": "FG7mhJ-R67P_",
        "colab_type": "text"
      },
      "source": [
        "### Generic imports\n",
        "\n",
        "Importanting most common libraries which shall be used for EDA."
      ]
    },
    {
      "cell_type": "code",
      "metadata": {
        "id": "Cb8Y320n7SkP",
        "colab_type": "code",
        "colab": {
          "base_uri": "https://localhost:8080/",
          "height": 245
        },
        "outputId": "9627b947-8844-4d83-eb98-bf380d683bc2"
      },
      "source": [
        "!pip install -U seaborn"
      ],
      "execution_count": 1,
      "outputs": [
        {
          "output_type": "stream",
          "text": [
            "Requirement already up-to-date: seaborn in /usr/local/lib/python3.6/dist-packages (0.9.0)\n",
            "Requirement already satisfied, skipping upgrade: numpy>=1.9.3 in /usr/local/lib/python3.6/dist-packages (from seaborn) (1.16.4)\n",
            "Requirement already satisfied, skipping upgrade: pandas>=0.15.2 in /usr/local/lib/python3.6/dist-packages (from seaborn) (0.24.2)\n",
            "Requirement already satisfied, skipping upgrade: matplotlib>=1.4.3 in /usr/local/lib/python3.6/dist-packages (from seaborn) (3.0.3)\n",
            "Requirement already satisfied, skipping upgrade: scipy>=0.14.0 in /usr/local/lib/python3.6/dist-packages (from seaborn) (1.3.0)\n",
            "Requirement already satisfied, skipping upgrade: python-dateutil>=2.5.0 in /usr/local/lib/python3.6/dist-packages (from pandas>=0.15.2->seaborn) (2.5.3)\n",
            "Requirement already satisfied, skipping upgrade: pytz>=2011k in /usr/local/lib/python3.6/dist-packages (from pandas>=0.15.2->seaborn) (2018.9)\n",
            "Requirement already satisfied, skipping upgrade: kiwisolver>=1.0.1 in /usr/local/lib/python3.6/dist-packages (from matplotlib>=1.4.3->seaborn) (1.1.0)\n",
            "Requirement already satisfied, skipping upgrade: cycler>=0.10 in /usr/local/lib/python3.6/dist-packages (from matplotlib>=1.4.3->seaborn) (0.10.0)\n",
            "Requirement already satisfied, skipping upgrade: pyparsing!=2.0.4,!=2.1.2,!=2.1.6,>=2.0.1 in /usr/local/lib/python3.6/dist-packages (from matplotlib>=1.4.3->seaborn) (2.4.0)\n",
            "Requirement already satisfied, skipping upgrade: six>=1.5 in /usr/local/lib/python3.6/dist-packages (from python-dateutil>=2.5.0->pandas>=0.15.2->seaborn) (1.12.0)\n",
            "Requirement already satisfied, skipping upgrade: setuptools in /usr/local/lib/python3.6/dist-packages (from kiwisolver>=1.0.1->matplotlib>=1.4.3->seaborn) (41.0.1)\n"
          ],
          "name": "stdout"
        }
      ]
    },
    {
      "cell_type": "code",
      "metadata": {
        "id": "hN-YFLXJId8x",
        "colab_type": "code",
        "colab": {}
      },
      "source": [
        "import pandas as pd\n",
        "import numpy as np\n",
        "import seaborn as sns\n",
        "import matplotlib.pyplot as plt\n",
        "# To avoid calling plt.show() each time.\n",
        "%matplotlib inline"
      ],
      "execution_count": 0,
      "outputs": []
    },
    {
      "cell_type": "markdown",
      "metadata": {
        "id": "hLj7DLcm7bsb",
        "colab_type": "text"
      },
      "source": [
        "### Data Fetching\n",
        "\n",
        "Get the **calendar.csv.gz** from Inside AirBnB and extract it."
      ]
    },
    {
      "cell_type": "code",
      "metadata": {
        "id": "yUWM4v-ok7Gw",
        "colab_type": "code",
        "outputId": "0ea2fd2c-10e1-4565-c3dd-22259d8b5f1c",
        "colab": {
          "base_uri": "https://localhost:8080/",
          "height": 208
        }
      },
      "source": [
        "!wget \"http://data.insideairbnb.com/united-states/ca/los-angeles/2019-05-05/data/calendar.csv.gz\"\n",
        "!gunzip calendar.csv.gz"
      ],
      "execution_count": 3,
      "outputs": [
        {
          "output_type": "stream",
          "text": [
            "--2019-06-27 03:33:03--  http://data.insideairbnb.com/united-states/ca/los-angeles/2019-05-05/data/calendar.csv.gz\n",
            "Resolving data.insideairbnb.com (data.insideairbnb.com)... 52.216.177.154\n",
            "Connecting to data.insideairbnb.com (data.insideairbnb.com)|52.216.177.154|:80... connected.\n",
            "HTTP request sent, awaiting response... 200 OK\n",
            "Length: 47960382 (46M) [application/x-gzip]\n",
            "Saving to: ‘calendar.csv.gz’\n",
            "\n",
            "calendar.csv.gz     100%[===================>]  45.74M  33.7MB/s    in 1.4s    \n",
            "\n",
            "2019-06-27 03:33:05 (33.7 MB/s) - ‘calendar.csv.gz’ saved [47960382/47960382]\n",
            "\n"
          ],
          "name": "stdout"
        }
      ]
    },
    {
      "cell_type": "markdown",
      "metadata": {
        "id": "BdwEhuB08jVr",
        "colab_type": "text"
      },
      "source": [
        "### Load Dataset"
      ]
    },
    {
      "cell_type": "code",
      "metadata": {
        "id": "-zRqQHw9Pfrd",
        "colab_type": "code",
        "colab": {
          "base_uri": "https://localhost:8080/",
          "height": 202
        },
        "outputId": "d9f79eb2-7f0f-41b3-c3d3-f53db1a773de"
      },
      "source": [
        "df_cal = pd.read_csv('calendar.csv')\n",
        "df_cal.head()"
      ],
      "execution_count": 4,
      "outputs": [
        {
          "output_type": "execute_result",
          "data": {
            "text/html": [
              "<div>\n",
              "<style scoped>\n",
              "    .dataframe tbody tr th:only-of-type {\n",
              "        vertical-align: middle;\n",
              "    }\n",
              "\n",
              "    .dataframe tbody tr th {\n",
              "        vertical-align: top;\n",
              "    }\n",
              "\n",
              "    .dataframe thead th {\n",
              "        text-align: right;\n",
              "    }\n",
              "</style>\n",
              "<table border=\"1\" class=\"dataframe\">\n",
              "  <thead>\n",
              "    <tr style=\"text-align: right;\">\n",
              "      <th></th>\n",
              "      <th>listing_id</th>\n",
              "      <th>date</th>\n",
              "      <th>available</th>\n",
              "      <th>price</th>\n",
              "      <th>adjusted_price</th>\n",
              "      <th>minimum_nights</th>\n",
              "      <th>maximum_nights</th>\n",
              "    </tr>\n",
              "  </thead>\n",
              "  <tbody>\n",
              "    <tr>\n",
              "      <th>0</th>\n",
              "      <td>35922</td>\n",
              "      <td>2019-05-05</td>\n",
              "      <td>t</td>\n",
              "      <td>$900.00</td>\n",
              "      <td>$900.00</td>\n",
              "      <td>31.0</td>\n",
              "      <td>1125.0</td>\n",
              "    </tr>\n",
              "    <tr>\n",
              "      <th>1</th>\n",
              "      <td>85246</td>\n",
              "      <td>2019-05-05</td>\n",
              "      <td>f</td>\n",
              "      <td>$97.00</td>\n",
              "      <td>$97.00</td>\n",
              "      <td>5.0</td>\n",
              "      <td>190.0</td>\n",
              "    </tr>\n",
              "    <tr>\n",
              "      <th>2</th>\n",
              "      <td>85246</td>\n",
              "      <td>2019-05-06</td>\n",
              "      <td>f</td>\n",
              "      <td>$97.00</td>\n",
              "      <td>$97.00</td>\n",
              "      <td>5.0</td>\n",
              "      <td>190.0</td>\n",
              "    </tr>\n",
              "    <tr>\n",
              "      <th>3</th>\n",
              "      <td>85246</td>\n",
              "      <td>2019-05-07</td>\n",
              "      <td>f</td>\n",
              "      <td>$97.00</td>\n",
              "      <td>$97.00</td>\n",
              "      <td>5.0</td>\n",
              "      <td>190.0</td>\n",
              "    </tr>\n",
              "    <tr>\n",
              "      <th>4</th>\n",
              "      <td>85246</td>\n",
              "      <td>2019-05-08</td>\n",
              "      <td>f</td>\n",
              "      <td>$97.00</td>\n",
              "      <td>$97.00</td>\n",
              "      <td>5.0</td>\n",
              "      <td>190.0</td>\n",
              "    </tr>\n",
              "  </tbody>\n",
              "</table>\n",
              "</div>"
            ],
            "text/plain": [
              "   listing_id        date  ... minimum_nights maximum_nights\n",
              "0       35922  2019-05-05  ...           31.0         1125.0\n",
              "1       85246  2019-05-05  ...            5.0          190.0\n",
              "2       85246  2019-05-06  ...            5.0          190.0\n",
              "3       85246  2019-05-07  ...            5.0          190.0\n",
              "4       85246  2019-05-08  ...            5.0          190.0\n",
              "\n",
              "[5 rows x 7 columns]"
            ]
          },
          "metadata": {
            "tags": []
          },
          "execution_count": 4
        }
      ]
    },
    {
      "cell_type": "markdown",
      "metadata": {
        "id": "7POYSV6r84FV",
        "colab_type": "text"
      },
      "source": [
        "### Data Insights\n",
        "\n",
        "* Dimension of data.\n",
        "* Different features available.\n",
        "* Data types of  features available.\n",
        "* Check for NaN values.\n",
        "* Unique listing IDs."
      ]
    },
    {
      "cell_type": "code",
      "metadata": {
        "id": "WvBL3ZcC9iHh",
        "colab_type": "code",
        "colab": {
          "base_uri": "https://localhost:8080/",
          "height": 35
        },
        "outputId": "ff78f407-6acd-4229-ae2c-bea8b3aaf501"
      },
      "source": [
        "df_cal.shape"
      ],
      "execution_count": 5,
      "outputs": [
        {
          "output_type": "execute_result",
          "data": {
            "text/plain": [
              "(16043437, 7)"
            ]
          },
          "metadata": {
            "tags": []
          },
          "execution_count": 5
        }
      ]
    },
    {
      "cell_type": "code",
      "metadata": {
        "id": "0rIyFhKm9lcC",
        "colab_type": "code",
        "colab": {
          "base_uri": "https://localhost:8080/",
          "height": 52
        },
        "outputId": "29015bea-e182-4f18-fb52-f0353679f10c"
      },
      "source": [
        "df_cal.columns.values"
      ],
      "execution_count": 6,
      "outputs": [
        {
          "output_type": "execute_result",
          "data": {
            "text/plain": [
              "array(['listing_id', 'date', 'available', 'price', 'adjusted_price',\n",
              "       'minimum_nights', 'maximum_nights'], dtype=object)"
            ]
          },
          "metadata": {
            "tags": []
          },
          "execution_count": 6
        }
      ]
    },
    {
      "cell_type": "code",
      "metadata": {
        "id": "EIAjH01-Wcaf",
        "colab_type": "code",
        "outputId": "3214c8e0-fd83-4c72-924a-a45c7cc27fa8",
        "colab": {
          "base_uri": "https://localhost:8080/",
          "height": 156
        }
      },
      "source": [
        "df_cal.dtypes"
      ],
      "execution_count": 7,
      "outputs": [
        {
          "output_type": "execute_result",
          "data": {
            "text/plain": [
              "listing_id          int64\n",
              "date               object\n",
              "available          object\n",
              "price              object\n",
              "adjusted_price     object\n",
              "minimum_nights    float64\n",
              "maximum_nights    float64\n",
              "dtype: object"
            ]
          },
          "metadata": {
            "tags": []
          },
          "execution_count": 7
        }
      ]
    },
    {
      "cell_type": "code",
      "metadata": {
        "id": "uHs5ZFasXevY",
        "colab_type": "code",
        "outputId": "4666c7e7-8703-4e11-fe97-c0c227f5be32",
        "colab": {
          "base_uri": "https://localhost:8080/",
          "height": 156
        }
      },
      "source": [
        "df_cal.isnull().sum()"
      ],
      "execution_count": 8,
      "outputs": [
        {
          "output_type": "execute_result",
          "data": {
            "text/plain": [
              "listing_id          0\n",
              "date                0\n",
              "available           0\n",
              "price             365\n",
              "adjusted_price    365\n",
              "minimum_nights      6\n",
              "maximum_nights      6\n",
              "dtype: int64"
            ]
          },
          "metadata": {
            "tags": []
          },
          "execution_count": 8
        }
      ]
    },
    {
      "cell_type": "code",
      "metadata": {
        "id": "GPBNHUh6VxJY",
        "colab_type": "code",
        "outputId": "ef216468-2fb3-486e-deda-09643963992b",
        "colab": {
          "base_uri": "https://localhost:8080/",
          "height": 35
        }
      },
      "source": [
        "df_cal.listing_id.nunique()"
      ],
      "execution_count": 9,
      "outputs": [
        {
          "output_type": "execute_result",
          "data": {
            "text/plain": [
              "43954"
            ]
          },
          "metadata": {
            "tags": []
          },
          "execution_count": 9
        }
      ]
    },
    {
      "cell_type": "markdown",
      "metadata": {
        "id": "ItV6Dz_R-r0L",
        "colab_type": "text"
      },
      "source": [
        "#### Key Observations\n",
        "\n",
        "* Data has few object type values which needs to be converted to numerical values. \n",
        "* There  are two fields with respect to pricing (our targe variable).\n",
        "* There are few features with null/missing values."
      ]
    },
    {
      "cell_type": "markdown",
      "metadata": {
        "id": "Uqof2TkIHafi",
        "colab_type": "text"
      },
      "source": [
        "### Data Wrangling\n",
        "\n",
        "Convert object data types to more numerical data types.\n",
        "\n",
        "* Convert **price** and **adjusted price** feature to float.\n",
        "\n",
        "> To ensure reduced impact due to outliers, using median value to fill NaN for price and adjusted price. To calculate the median value initially by setting NaN to 0 and based on resulting median both price and adjusted price NaN values are initialized to 115.0.\n",
        "\n",
        "```python\n",
        "df_cal.price.fillna(value='$'+str(0.0), inplace=True)\n",
        "df_cal.price = df_cal.price.apply(lambda x: float(str(x)[1:].replace(',','')))\n",
        "\n",
        "df_cal.price.median()\n",
        "```\n",
        "\n",
        "* Convert **available** feature to int.\n",
        "\n",
        "* Fill NaN values in **minimum_nights** and **maximum_nights** with forward fill.\n",
        "\n",
        "> This is not important since the number of missing values are less. So either drop records or retain it with fillna.\n",
        "\n",
        "* Extract season related information from **date** feature.\n",
        "\n",
        "> This is done by extracting Month, Day of the Month and Day of the Week information."
      ]
    },
    {
      "cell_type": "code",
      "metadata": {
        "id": "WRiovT_xDaAp",
        "colab_type": "code",
        "colab": {}
      },
      "source": [
        "# Convert price to float\n",
        "df_cal.price.fillna(value='$'+str(115.0), inplace=True)\n",
        "df_cal.price = df_cal.price.apply(lambda x: float(str(x)[1:].replace(',','')))\n",
        "\n",
        "df_cal.adjusted_price.fillna(value='$'+str(115.0), inplace=True)\n",
        "df_cal.adjusted_price = \\\n",
        "    df_cal.adjusted_price.apply(lambda x: float(str(x)[1:].replace(',','')))\n",
        "\n",
        "# Update to numerical form\n",
        "df_cal['available'] = \\\n",
        "   df_cal['available'].apply(lambda x: 1 if x == 't' else 0)\n",
        "\n",
        "# Handle NaN values\n",
        "df_cal.minimum_nights.fillna(method='ffill', inplace=True)\n",
        "df_cal.maximum_nights.fillna(method='ffill', inplace=True)\n",
        "\n",
        "# Add data and season related information\n",
        "df_cal['date'] = pd.to_datetime(df_cal['date'])\n",
        "df_cal['month'] = df_cal['date'].dt.month\n",
        "df_cal['day_of_month'] = df_cal['date'].dt.day\n",
        "df_cal['day_of_week'] = df_cal['date'].dt.weekday"
      ],
      "execution_count": 0,
      "outputs": []
    },
    {
      "cell_type": "markdown",
      "metadata": {
        "id": "Bs_nVzzXlyz1",
        "colab_type": "text"
      },
      "source": [
        "### Summary Statistics"
      ]
    },
    {
      "cell_type": "code",
      "metadata": {
        "id": "NgAiWxTJl8Jr",
        "colab_type": "code",
        "colab": {
          "base_uri": "https://localhost:8080/",
          "height": 294
        },
        "outputId": "010422ca-0d64-484d-ea87-7442bc9c8ab2"
      },
      "source": [
        "df_cal.describe()"
      ],
      "execution_count": 11,
      "outputs": [
        {
          "output_type": "execute_result",
          "data": {
            "text/html": [
              "<div>\n",
              "<style scoped>\n",
              "    .dataframe tbody tr th:only-of-type {\n",
              "        vertical-align: middle;\n",
              "    }\n",
              "\n",
              "    .dataframe tbody tr th {\n",
              "        vertical-align: top;\n",
              "    }\n",
              "\n",
              "    .dataframe thead th {\n",
              "        text-align: right;\n",
              "    }\n",
              "</style>\n",
              "<table border=\"1\" class=\"dataframe\">\n",
              "  <thead>\n",
              "    <tr style=\"text-align: right;\">\n",
              "      <th></th>\n",
              "      <th>listing_id</th>\n",
              "      <th>available</th>\n",
              "      <th>price</th>\n",
              "      <th>adjusted_price</th>\n",
              "      <th>minimum_nights</th>\n",
              "      <th>maximum_nights</th>\n",
              "      <th>month</th>\n",
              "      <th>day_of_month</th>\n",
              "      <th>day_of_week</th>\n",
              "    </tr>\n",
              "  </thead>\n",
              "  <tbody>\n",
              "    <tr>\n",
              "      <th>count</th>\n",
              "      <td>1.604344e+07</td>\n",
              "      <td>1.604344e+07</td>\n",
              "      <td>1.604344e+07</td>\n",
              "      <td>1.604344e+07</td>\n",
              "      <td>1.604344e+07</td>\n",
              "      <td>1.604344e+07</td>\n",
              "      <td>1.604344e+07</td>\n",
              "      <td>1.604344e+07</td>\n",
              "      <td>1.604344e+07</td>\n",
              "    </tr>\n",
              "    <tr>\n",
              "      <th>mean</th>\n",
              "      <td>2.006356e+07</td>\n",
              "      <td>4.435412e-01</td>\n",
              "      <td>2.109703e+02</td>\n",
              "      <td>2.108694e+02</td>\n",
              "      <td>5.731630e+00</td>\n",
              "      <td>6.640367e+02</td>\n",
              "      <td>6.517787e+00</td>\n",
              "      <td>1.578745e+01</td>\n",
              "      <td>2.999604e+00</td>\n",
              "    </tr>\n",
              "    <tr>\n",
              "      <th>std</th>\n",
              "      <td>9.871730e+06</td>\n",
              "      <td>4.968022e-01</td>\n",
              "      <td>5.117769e+02</td>\n",
              "      <td>5.117214e+02</td>\n",
              "      <td>2.292801e+01</td>\n",
              "      <td>4.853246e+03</td>\n",
              "      <td>3.455028e+00</td>\n",
              "      <td>8.803930e+00</td>\n",
              "      <td>2.003439e+00</td>\n",
              "    </tr>\n",
              "    <tr>\n",
              "      <th>min</th>\n",
              "      <td>1.090000e+02</td>\n",
              "      <td>0.000000e+00</td>\n",
              "      <td>0.000000e+00</td>\n",
              "      <td>0.000000e+00</td>\n",
              "      <td>1.000000e+00</td>\n",
              "      <td>1.000000e+00</td>\n",
              "      <td>1.000000e+00</td>\n",
              "      <td>1.000000e+00</td>\n",
              "      <td>0.000000e+00</td>\n",
              "    </tr>\n",
              "    <tr>\n",
              "      <th>25%</th>\n",
              "      <td>1.295381e+07</td>\n",
              "      <td>0.000000e+00</td>\n",
              "      <td>7.300000e+01</td>\n",
              "      <td>7.300000e+01</td>\n",
              "      <td>1.000000e+00</td>\n",
              "      <td>3.000000e+01</td>\n",
              "      <td>4.000000e+00</td>\n",
              "      <td>8.000000e+00</td>\n",
              "      <td>1.000000e+00</td>\n",
              "    </tr>\n",
              "    <tr>\n",
              "      <th>50%</th>\n",
              "      <td>2.137141e+07</td>\n",
              "      <td>0.000000e+00</td>\n",
              "      <td>1.150000e+02</td>\n",
              "      <td>1.150000e+02</td>\n",
              "      <td>2.000000e+00</td>\n",
              "      <td>1.125000e+03</td>\n",
              "      <td>7.000000e+00</td>\n",
              "      <td>1.600000e+01</td>\n",
              "      <td>3.000000e+00</td>\n",
              "    </tr>\n",
              "    <tr>\n",
              "      <th>75%</th>\n",
              "      <td>2.867831e+07</td>\n",
              "      <td>1.000000e+00</td>\n",
              "      <td>1.950000e+02</td>\n",
              "      <td>1.950000e+02</td>\n",
              "      <td>3.000000e+00</td>\n",
              "      <td>1.125000e+03</td>\n",
              "      <td>1.000000e+01</td>\n",
              "      <td>2.300000e+01</td>\n",
              "      <td>5.000000e+00</td>\n",
              "    </tr>\n",
              "    <tr>\n",
              "      <th>max</th>\n",
              "      <td>3.442641e+07</td>\n",
              "      <td>1.000000e+00</td>\n",
              "      <td>2.500000e+04</td>\n",
              "      <td>2.500000e+04</td>\n",
              "      <td>3.000000e+03</td>\n",
              "      <td>1.000000e+06</td>\n",
              "      <td>1.200000e+01</td>\n",
              "      <td>3.100000e+01</td>\n",
              "      <td>6.000000e+00</td>\n",
              "    </tr>\n",
              "  </tbody>\n",
              "</table>\n",
              "</div>"
            ],
            "text/plain": [
              "         listing_id     available  ...  day_of_month   day_of_week\n",
              "count  1.604344e+07  1.604344e+07  ...  1.604344e+07  1.604344e+07\n",
              "mean   2.006356e+07  4.435412e-01  ...  1.578745e+01  2.999604e+00\n",
              "std    9.871730e+06  4.968022e-01  ...  8.803930e+00  2.003439e+00\n",
              "min    1.090000e+02  0.000000e+00  ...  1.000000e+00  0.000000e+00\n",
              "25%    1.295381e+07  0.000000e+00  ...  8.000000e+00  1.000000e+00\n",
              "50%    2.137141e+07  0.000000e+00  ...  1.600000e+01  3.000000e+00\n",
              "75%    2.867831e+07  1.000000e+00  ...  2.300000e+01  5.000000e+00\n",
              "max    3.442641e+07  1.000000e+00  ...  3.100000e+01  6.000000e+00\n",
              "\n",
              "[8 rows x 9 columns]"
            ]
          },
          "metadata": {
            "tags": []
          },
          "execution_count": 11
        }
      ]
    },
    {
      "cell_type": "code",
      "metadata": {
        "id": "2WQVnT8Sloop",
        "colab_type": "code",
        "colab": {
          "base_uri": "https://localhost:8080/",
          "height": 208
        },
        "outputId": "5460aab8-cd16-4b8c-9036-3e8602b5500d"
      },
      "source": [
        "# Check for NaN values\n",
        "df_cal.isnull().sum()"
      ],
      "execution_count": 12,
      "outputs": [
        {
          "output_type": "execute_result",
          "data": {
            "text/plain": [
              "listing_id        0\n",
              "date              0\n",
              "available         0\n",
              "price             0\n",
              "adjusted_price    0\n",
              "minimum_nights    0\n",
              "maximum_nights    0\n",
              "month             0\n",
              "day_of_month      0\n",
              "day_of_week       0\n",
              "dtype: int64"
            ]
          },
          "metadata": {
            "tags": []
          },
          "execution_count": 12
        }
      ]
    },
    {
      "cell_type": "markdown",
      "metadata": {
        "id": "6nZs5LpWj-to",
        "colab_type": "text"
      },
      "source": [
        "### Check correlation\n",
        "\n",
        "It is important to check correlation of features with target and between themselves for better modeling."
      ]
    },
    {
      "cell_type": "code",
      "metadata": {
        "id": "p0m-7ycbClsz",
        "colab_type": "code",
        "colab": {
          "base_uri": "https://localhost:8080/",
          "height": 347
        },
        "outputId": "f1aa8a84-a675-492d-d074-12fdac0887c0"
      },
      "source": [
        "plt.figure(figsize=(6,4))\n",
        "sns.heatmap(df_cal.corr(),cmap='Blues',annot=False);"
      ],
      "execution_count": 13,
      "outputs": [
        {
          "output_type": "display_data",
          "data": {
            "image/png": "[encoded data removed]",
            "text/plain": [
              "<Figure size 432x288 with 2 Axes>"
            ]
          },
          "metadata": {
            "tags": []
          }
        }
      ]
    },
    {
      "cell_type": "code",
      "metadata": {
        "id": "oWlL2EhbGtKk",
        "colab_type": "code",
        "colab": {
          "base_uri": "https://localhost:8080/",
          "height": 455
        },
        "outputId": "4ac78e2b-ba06-4723-9f49-af6558031dcd"
      },
      "source": [
        "#Price correlation matrix\n",
        "k = 10 #number of variables for heatmap\n",
        "cols = df_cal.corr().nlargest(k, 'price')['price'].index\n",
        "cm = df_cal[cols].corr()\n",
        "plt.figure(figsize=(10,6))\n",
        "sns.heatmap(cm, annot=True, cmap = 'viridis');"
      ],
      "execution_count": 14,
      "outputs": [
        {
          "output_type": "display_data",
          "data": {
            "image/png": "[encoded data removed]",
            "text/plain": [
              "<Figure size 720x432 with 2 Axes>"
            ]
          },
          "metadata": {
            "tags": []
          }
        }
      ]
    },
    {
      "cell_type": "code",
      "metadata": {
        "id": "u8v1nSvTPzS8",
        "colab_type": "code",
        "outputId": "9b008649-f3ee-456a-cf91-a6c4abe85b51",
        "colab": {
          "base_uri": "https://localhost:8080/",
          "height": 35
        }
      },
      "source": [
        "df_cal_price_diff = df_cal[df_cal[\"adjusted_price\"] != df_cal[\"price\"]]\n",
        "df_cal_price_diff.listing_id.nunique()"
      ],
      "execution_count": 15,
      "outputs": [
        {
          "output_type": "execute_result",
          "data": {
            "text/plain": [
              "996"
            ]
          },
          "metadata": {
            "tags": []
          },
          "execution_count": 15
        }
      ]
    },
    {
      "cell_type": "code",
      "metadata": {
        "id": "gwWVQc06RYXW",
        "colab_type": "code",
        "outputId": "1696e8cc-dcc9-44db-fae4-2418f1e462fb",
        "colab": {
          "base_uri": "https://localhost:8080/",
          "height": 35
        }
      },
      "source": [
        "df_cal.listing_id.nunique()"
      ],
      "execution_count": 16,
      "outputs": [
        {
          "output_type": "execute_result",
          "data": {
            "text/plain": [
              "43954"
            ]
          },
          "metadata": {
            "tags": []
          },
          "execution_count": 16
        }
      ]
    },
    {
      "cell_type": "markdown",
      "metadata": {
        "id": "_wJWHT69nDQE",
        "colab_type": "text"
      },
      "source": [
        "#### Key Observations\n",
        "\n",
        "* **adjusted_price** feature and **price** feature are highly correlated. So we can choose either one.\n",
        "\n",
        "* **listing_id** feature is unique identifier of the listings. So shall not be included in modeling.\n",
        "\n",
        "* **date** feature has been feature engineered to fetch needed information. So can be dropped too."
      ]
    },
    {
      "cell_type": "code",
      "metadata": {
        "id": "xzLhj_b7R1dc",
        "colab_type": "code",
        "colab": {}
      },
      "source": [
        "columns = ['adjusted_price', 'listing_id', 'date']\n",
        "df_cal.drop(columns=columns, inplace=True)"
      ],
      "execution_count": 0,
      "outputs": []
    },
    {
      "cell_type": "code",
      "metadata": {
        "id": "HaQhCu1Ntwi6",
        "colab_type": "code",
        "colab": {
          "base_uri": "https://localhost:8080/",
          "height": 1000
        },
        "outputId": "0ce7ced1-b44d-480f-e9ce-76fad1833976"
      },
      "source": [
        "# red_square = dict(markerfacecolor='r', marker='s')\n",
        "columns = df_cal.columns.values\n",
        "\n",
        "for column in columns:\n",
        "  fig, ax = plt.subplots()\n",
        "  ax.set_title(column)\n",
        "  ax.boxplot(df_cal[column])"
      ],
      "execution_count": 18,
      "outputs": [
        {
          "output_type": "display_data",
          "data": {
            "image/png": "[encoded data removed]",
            "text/plain": [
              "<Figure size 432x288 with 1 Axes>"
            ]
          },
          "metadata": {
            "tags": []
          }
        },
        {
          "output_type": "display_data",
          "data": {
            "image/png": "[encoded data removed]",
            "text/plain": [
              "<Figure size 432x288 with 1 Axes>"
            ]
          },
          "metadata": {
            "tags": []
          }
        },
        {
          "output_type": "display_data",
          "data": {
            "image/png": "[encoded data removed]",
            "text/plain": [
              "<Figure size 432x288 with 1 Axes>"
            ]
          },
          "metadata": {
            "tags": []
          }
        },
        {
          "output_type": "display_data",
          "data": {
            "image/png": "[encoded data removed]",
            "text/plain": [
              "<Figure size 432x288 with 1 Axes>"
            ]
          },
          "metadata": {
            "tags": []
          }
        },
        {
          "output_type": "display_data",
          "data": {
            "image/png": "[encoded data removed]",
            "text/plain": [
              "<Figure size 432x288 with 1 Axes>"
            ]
          },
          "metadata": {
            "tags": []
          }
        },
        {
          "output_type": "display_data",
          "data": {
            "image/png": "[encoded data removed]",
            "text/plain": [
              "<Figure size 432x288 with 1 Axes>"
            ]
          },
          "metadata": {
            "tags": []
          }
        },
        {
          "output_type": "display_data",
          "data": {
            "image/png": "[encoded data removed]",
            "text/plain": [
              "<Figure size 432x288 with 1 Axes>"
            ]
          },
          "metadata": {
            "tags": []
          }
        }
      ]
    },
    {
      "cell_type": "markdown",
      "metadata": {
        "id": "eU0zBkeIqql-",
        "colab_type": "text"
      },
      "source": [
        "### Check Target"
      ]
    },
    {
      "cell_type": "code",
      "metadata": {
        "id": "06-h6cCSq0Lp",
        "colab_type": "code",
        "colab": {
          "base_uri": "https://localhost:8080/",
          "height": 35
        },
        "outputId": "ffe25b19-d111-4ed3-dfa8-b0778072fc45"
      },
      "source": [
        "df_cal.price.nunique()"
      ],
      "execution_count": 19,
      "outputs": [
        {
          "output_type": "execute_result",
          "data": {
            "text/plain": [
              "4496"
            ]
          },
          "metadata": {
            "tags": []
          },
          "execution_count": 19
        }
      ]
    },
    {
      "cell_type": "code",
      "metadata": {
        "id": "5ZOWpfYKqQ_Q",
        "colab_type": "code",
        "colab": {
          "base_uri": "https://localhost:8080/",
          "height": 283
        },
        "outputId": "324edda8-7ecc-404e-9b36-d41df02bf186"
      },
      "source": [
        "sns.distplot(df_cal['price'],kde=True);"
      ],
      "execution_count": 20,
      "outputs": [
        {
          "output_type": "display_data",
          "data": {
            "image/png": "[encoded data removed]",
            "text/plain": [
              "<Figure size 432x288 with 1 Axes>"
            ]
          },
          "metadata": {
            "tags": []
          }
        }
      ]
    },
    {
      "cell_type": "code",
      "metadata": {
        "id": "i5IBJBxv7Lss",
        "colab_type": "code",
        "colab": {
          "base_uri": "https://localhost:8080/",
          "height": 572
        },
        "outputId": "d0dc5b64-9bc6-42f8-ee6d-5b6baa277f8e"
      },
      "source": [
        "columns = ['month','day_of_week','day_of_week']\n",
        "\n",
        "for column in columns:\n",
        "  print(df_cal.groupby([column])['price'].mean())"
      ],
      "execution_count": 21,
      "outputs": [
        {
          "output_type": "stream",
          "text": [
            "month\n",
            "1     212.542453\n",
            "2     212.925850\n",
            "3     213.169289\n",
            "4     212.802370\n",
            "5     200.769774\n",
            "6     209.438184\n",
            "7     213.753582\n",
            "8     212.652466\n",
            "9     206.047727\n",
            "10    210.659751\n",
            "11    212.407607\n",
            "12    214.170340\n",
            "Name: price, dtype: float64\n",
            "day_of_week\n",
            "0    208.074802\n",
            "1    207.857334\n",
            "2    208.145134\n",
            "3    208.927051\n",
            "4    217.212912\n",
            "5    217.686761\n",
            "6    208.935991\n",
            "Name: price, dtype: float64\n",
            "day_of_week\n",
            "0    208.074802\n",
            "1    207.857334\n",
            "2    208.145134\n",
            "3    208.927051\n",
            "4    217.212912\n",
            "5    217.686761\n",
            "6    208.935991\n",
            "Name: price, dtype: float64\n"
          ],
          "name": "stdout"
        }
      ]
    },
    {
      "cell_type": "markdown",
      "metadata": {
        "id": "Pw4sK5GTriT8",
        "colab_type": "text"
      },
      "source": [
        "#### Key Observations\n",
        "\n",
        "* Target data i.e. **price** appears to be having many outliers and skewed to right. So log normalization is needed.\n",
        "\n",
        "> Note:  One particular listing has price set to 0. This is making log transformation fail with error \"RuntimeWarning: divide by zero encountered in log\". So dropping such entries.\n",
        "\n",
        "* Drop the original **price** column."
      ]
    },
    {
      "cell_type": "code",
      "metadata": {
        "id": "3nGWyKQFrQdz",
        "colab_type": "code",
        "colab": {}
      },
      "source": [
        "df_cal = df_cal[df_cal['price'] > 0]\n",
        "df_cal['logprice'] = np.log(df_cal['price'])\n",
        "\n",
        "df_cal.drop(columns=['price'], inplace=True)"
      ],
      "execution_count": 0,
      "outputs": []
    },
    {
      "cell_type": "markdown",
      "metadata": {
        "id": "2OrkeLO7FUh_",
        "colab_type": "text"
      },
      "source": [
        "## Data Modelling\n",
        "\n",
        "We shall now work with different Machine Learning models and check for feature importance.\n",
        "\n",
        "Here we are dealing with regression problem so to start with we can use Linear models like Linear Regression and Ridge Regression (since there are many outliers).\n",
        "\n",
        "Followed by Tree ensembles (Random Forest Regressor) and boosting models (XGB Regressor).\n",
        "\n",
        "For metrics we shall use R^2 (coefficient of determination) regression score function."
      ]
    },
    {
      "cell_type": "markdown",
      "metadata": {
        "id": "uspEH2jzLKdu",
        "colab_type": "text"
      },
      "source": [
        "### Model Preprocessing"
      ]
    },
    {
      "cell_type": "markdown",
      "metadata": {
        "id": "h20cX1PeLefR",
        "colab_type": "text"
      },
      "source": [
        "Split data into features and target."
      ]
    },
    {
      "cell_type": "code",
      "metadata": {
        "id": "i3vDBBBDLiCq",
        "colab_type": "code",
        "colab": {}
      },
      "source": [
        "X = df_cal.drop(columns=['logprice'])\n",
        "y = df_cal['logprice']"
      ],
      "execution_count": 0,
      "outputs": []
    },
    {
      "cell_type": "markdown",
      "metadata": {
        "id": "5g5wtY27LBF5",
        "colab_type": "text"
      },
      "source": [
        "Split data into train and test using k-fold cross-validation with independent test data set."
      ]
    },
    {
      "cell_type": "code",
      "metadata": {
        "id": "rrn3ugKoK7Ti",
        "colab_type": "code",
        "colab": {}
      },
      "source": [
        "from sklearn.model_selection import train_test_split\n",
        "\n",
        "X_train, X_test, y_train, y_test = train_test_split(X, y, \n",
        "                                                    test_size=0.25,\n",
        "                                                    shuffle=True,\n",
        "                                                    random_state=42\n",
        "                                                   )"
      ],
      "execution_count": 0,
      "outputs": []
    },
    {
      "cell_type": "markdown",
      "metadata": {
        "id": "c9AVHNIGF2sN",
        "colab_type": "text"
      },
      "source": [
        "### Linear Regression"
      ]
    },
    {
      "cell_type": "code",
      "metadata": {
        "id": "RDJ0blAaJeOr",
        "colab_type": "code",
        "colab": {}
      },
      "source": [
        "from sklearn.pipeline import make_pipeline\n",
        "from sklearn.preprocessing import RobustScaler\n",
        "\n",
        "from sklearn.model_selection import GridSearchCV\n",
        "\n",
        "from sklearn.metrics import r2_score, mean_squared_error"
      ],
      "execution_count": 0,
      "outputs": []
    },
    {
      "cell_type": "code",
      "metadata": {
        "id": "tppHY-X1xfiO",
        "colab_type": "code",
        "colab": {}
      },
      "source": [
        "from sklearn.linear_model import LinearRegression\n",
        "\n",
        "pipeline = make_pipeline(RobustScaler(),\n",
        "                         LinearRegression())"
      ],
      "execution_count": 0,
      "outputs": []
    },
    {
      "cell_type": "code",
      "metadata": {
        "id": "FOp7Ot4ILAeU",
        "colab_type": "code",
        "colab": {
          "base_uri": "https://localhost:8080/",
          "height": 503
        },
        "outputId": "cee1285c-3238-4a8a-eb7a-d84337d1fd7a"
      },
      "source": [
        "param_grid = {\n",
        "}\n",
        "\n",
        "gridsearch = GridSearchCV(pipeline, param_grid=param_grid, cv=3, \n",
        "                         scoring='r2', verbose=20)\n",
        "\n",
        "gridsearch.fit(X_train, y_train)"
      ],
      "execution_count": 29,
      "outputs": [
        {
          "output_type": "stream",
          "text": [
            "Fitting 3 folds for each of 1 candidates, totalling 3 fits\n"
          ],
          "name": "stdout"
        },
        {
          "output_type": "stream",
          "text": [
            "[Parallel(n_jobs=1)]: Using backend SequentialBackend with 1 concurrent workers.\n"
          ],
          "name": "stderr"
        },
        {
          "output_type": "stream",
          "text": [
            "[CV]  ................................................................\n",
            "[CV] .................................... , score=0.012, total=   5.6s\n",
            "[CV]  ................................................................\n"
          ],
          "name": "stdout"
        },
        {
          "output_type": "stream",
          "text": [
            "[Parallel(n_jobs=1)]: Done   1 out of   1 | elapsed:    5.6s remaining:    0.0s\n"
          ],
          "name": "stderr"
        },
        {
          "output_type": "stream",
          "text": [
            "[CV] .................................... , score=0.013, total=   4.9s\n",
            "[CV]  ................................................................\n"
          ],
          "name": "stdout"
        },
        {
          "output_type": "stream",
          "text": [
            "[Parallel(n_jobs=1)]: Done   2 out of   2 | elapsed:   10.6s remaining:    0.0s\n"
          ],
          "name": "stderr"
        },
        {
          "output_type": "stream",
          "text": [
            "[CV] .................................... , score=0.013, total=   4.9s\n"
          ],
          "name": "stdout"
        },
        {
          "output_type": "stream",
          "text": [
            "[Parallel(n_jobs=1)]: Done   3 out of   3 | elapsed:   15.5s remaining:    0.0s\n",
            "[Parallel(n_jobs=1)]: Done   3 out of   3 | elapsed:   15.5s finished\n"
          ],
          "name": "stderr"
        },
        {
          "output_type": "execute_result",
          "data": {
            "text/plain": [
              "GridSearchCV(cv=3, error_score='raise-deprecating',\n",
              "             estimator=Pipeline(memory=None,\n",
              "                                steps=[('robustscaler',\n",
              "                                        RobustScaler(copy=True,\n",
              "                                                     quantile_range=(25.0,\n",
              "                                                                     75.0),\n",
              "                                                     with_centering=True,\n",
              "                                                     with_scaling=True)),\n",
              "                                       ('linearregression',\n",
              "                                        LinearRegression(copy_X=True,\n",
              "                                                         fit_intercept=True,\n",
              "                                                         n_jobs=None,\n",
              "                                                         normalize=False))],\n",
              "                                verbose=False),\n",
              "             iid='warn', n_jobs=None, param_grid={}, pre_dispatch='2*n_jobs',\n",
              "             refit=True, return_train_score=False, scoring='r2', verbose=20)"
            ]
          },
          "metadata": {
            "tags": []
          },
          "execution_count": 29
        }
      ]
    },
    {
      "cell_type": "code",
      "metadata": {
        "id": "u97P2Bl4-UI7",
        "colab_type": "code",
        "colab": {
          "base_uri": "https://localhost:8080/",
          "height": 35
        },
        "outputId": "923d370e-d8c3-4174-f9b1-0a86c3bd5256"
      },
      "source": [
        "# Best cross validation score\n",
        "print('Cross Validation Score:', gridsearch.best_score_)"
      ],
      "execution_count": 30,
      "outputs": [
        {
          "output_type": "stream",
          "text": [
            "Cross Validation Score: 0.012530784982855092\n"
          ],
          "name": "stdout"
        }
      ]
    },
    {
      "cell_type": "code",
      "metadata": {
        "id": "VYYUpo9M_F_P",
        "colab_type": "code",
        "colab": {
          "base_uri": "https://localhost:8080/",
          "height": 35
        },
        "outputId": "cf7fe0af-803f-4ce5-8190-5fe94286c99b"
      },
      "source": [
        "#Get the best model and check it against test data set.\n",
        "\n",
        "# Predict with X_test features\n",
        "y_pred = gridsearch.predict(X_test)\n",
        "\n",
        "# Compare predictions to y_test labels\n",
        "test_score = r2_score(y_test, y_pred)\n",
        "print('R^2 Score on test data set:', test_score)"
      ],
      "execution_count": 31,
      "outputs": [
        {
          "output_type": "stream",
          "text": [
            "R^2 Score on test data set: 0.012509629420891732\n"
          ],
          "name": "stdout"
        }
      ]
    },
    {
      "cell_type": "code",
      "metadata": {
        "id": "ILFyT2ZoAl8u",
        "colab_type": "code",
        "colab": {
          "base_uri": "https://localhost:8080/",
          "height": 87
        },
        "outputId": "8978df24-74e4-48a2-b8a2-5841b079a4ea"
      },
      "source": [
        "from sklearn.linear_model import LinearRegression\n",
        "\n",
        "model = LinearRegression()\n",
        "model.fit(X_train, y_train)\n",
        "\n",
        "print(\"Slope Coefficient: \", model.coef_)\n",
        "print(\"\\nIntercept Value: \", model.intercept_)\n",
        "\n",
        "beta_0 = model.intercept_\n",
        "beta_i = model.coef_"
      ],
      "execution_count": 32,
      "outputs": [
        {
          "output_type": "stream",
          "text": [
            "Slope Coefficient:  [ 1.85771587e-01  6.32397816e-04  1.98090817e-06 -2.19295486e-03\n",
            " -1.15851335e-04  5.15120017e-03]\n",
            "\n",
            "Intercept Value:  4.742546145039939\n"
          ],
          "name": "stdout"
        }
      ]
    },
    {
      "cell_type": "code",
      "metadata": {
        "id": "OpL9ZoaAAtou",
        "colab_type": "code",
        "colab": {
          "base_uri": "https://localhost:8080/",
          "height": 69
        },
        "outputId": "d9f8c610-6292-4fa6-ca64-089c17547e5b"
      },
      "source": [
        "y_test_predict = model.predict(X_test)\n",
        "\n",
        "MSE = mean_squared_error(y_test, y_test_predict)\n",
        "\n",
        "RMSE = (np.sqrt(MSE))\n",
        "\n",
        "print('MSE is {}'.format(MSE))\n",
        "print('RMSE is {}'.format(RMSE))\n",
        "\n",
        "R2 = r2_score(y_test, y_test_predict)\n",
        "\n",
        "print('R^2 is {}'.format(R2))"
      ],
      "execution_count": 36,
      "outputs": [
        {
          "output_type": "stream",
          "text": [
            "MSE is 0.713483669395738\n",
            "RMSE is 0.8446796252992835\n",
            "R^2 is 0.012509629420891732\n"
          ],
          "name": "stdout"
        }
      ]
    },
    {
      "cell_type": "markdown",
      "metadata": {
        "id": "wTL3aXwvF8CI",
        "colab_type": "text"
      },
      "source": [
        "### Ridge Regression"
      ]
    },
    {
      "cell_type": "markdown",
      "metadata": {
        "id": "eYu93gDhGV2_",
        "colab_type": "text"
      },
      "source": [
        "### Random Forest"
      ]
    },
    {
      "cell_type": "markdown",
      "metadata": {
        "id": "V7k2CjWAGbHX",
        "colab_type": "text"
      },
      "source": [
        "### Boosting Algorithm"
      ]
    }
  ]
}