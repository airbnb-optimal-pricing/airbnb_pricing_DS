{
 "cells": [
  {
   "cell_type": "code",
   "execution_count": 4,
   "metadata": {
    "colab": {},
    "colab_type": "code",
    "id": "hN-YFLXJId8x"
   },
   "outputs": [],
   "source": [
    "# Generic imports\n",
    "import pandas as pd\n",
    "import numpy as np\n",
    "import matplotlib.pyplot as plt\n",
    "import seaborn as sns"
   ]
  },
  {
   "cell_type": "code",
   "execution_count": 135,
   "metadata": {},
   "outputs": [
    {
     "name": "stdout",
     "output_type": "stream",
     "text": [
      "Collecting pip\n",
      "\u001b[?25l  Downloading https://files.pythonhosted.org/packages/5c/e0/be401c003291b56efc55aeba6a80ab790d3d4cece2778288d65323009420/pip-19.1.1-py2.py3-none-any.whl (1.4MB)\n",
      "\u001b[K    100% |████████████████████████████████| 1.4MB 21.7MB/s ta 0:00:01\n",
      "\u001b[?25hInstalling collected packages: pip\n",
      "  Found existing installation: pip 10.0.1\n",
      "    Uninstalling pip-10.0.1:\n",
      "      Successfully uninstalled pip-10.0.1\n",
      "Successfully installed pip-19.1.1\n"
     ]
    }
   ],
   "source": [
    "!pip install --upgrade pip"
   ]
  },
  {
   "cell_type": "code",
   "execution_count": 136,
   "metadata": {},
   "outputs": [
    {
     "name": "stdout",
     "output_type": "stream",
     "text": [
      "Requirement already satisfied: seaborn in /home/ec2-user/anaconda3/envs/python3/lib/python3.6/site-packages (0.9.0)\r\n",
      "Requirement already satisfied: matplotlib>=1.4.3 in /home/ec2-user/anaconda3/envs/python3/lib/python3.6/site-packages (from seaborn) (3.0.3)\r\n",
      "Requirement already satisfied: pandas>=0.15.2 in /home/ec2-user/anaconda3/envs/python3/lib/python3.6/site-packages (from seaborn) (0.24.2)\r\n",
      "Requirement already satisfied: scipy>=0.14.0 in /home/ec2-user/anaconda3/envs/python3/lib/python3.6/site-packages (from seaborn) (1.1.0)\r\n",
      "Requirement already satisfied: numpy>=1.9.3 in /home/ec2-user/anaconda3/envs/python3/lib/python3.6/site-packages (from seaborn) (1.15.4)\r\n",
      "Requirement already satisfied: pyparsing!=2.0.4,!=2.1.2,!=2.1.6,>=2.0.1 in /home/ec2-user/anaconda3/envs/python3/lib/python3.6/site-packages (from matplotlib>=1.4.3->seaborn) (2.2.0)\r\n",
      "Requirement already satisfied: kiwisolver>=1.0.1 in /home/ec2-user/anaconda3/envs/python3/lib/python3.6/site-packages (from matplotlib>=1.4.3->seaborn) (1.0.1)\r\n",
      "Requirement already satisfied: python-dateutil>=2.1 in /home/ec2-user/anaconda3/envs/python3/lib/python3.6/site-packages (from matplotlib>=1.4.3->seaborn) (2.7.3)\r\n",
      "Requirement already satisfied: cycler>=0.10 in /home/ec2-user/anaconda3/envs/python3/lib/python3.6/site-packages (from matplotlib>=1.4.3->seaborn) (0.10.0)\r\n",
      "Requirement already satisfied: pytz>=2011k in /home/ec2-user/anaconda3/envs/python3/lib/python3.6/site-packages (from pandas>=0.15.2->seaborn) (2018.4)\r\n",
      "Requirement already satisfied: setuptools in /home/ec2-user/anaconda3/envs/python3/lib/python3.6/site-packages (from kiwisolver>=1.0.1->matplotlib>=1.4.3->seaborn) (39.1.0)\r\n",
      "Requirement already satisfied: six>=1.5 in /home/ec2-user/anaconda3/envs/python3/lib/python3.6/site-packages (from python-dateutil>=2.1->matplotlib>=1.4.3->seaborn) (1.11.0)\r\n"
     ]
    }
   ],
   "source": [
    "!pip install seaborn"
   ]
  },
  {
   "cell_type": "code",
   "execution_count": 203,
   "metadata": {},
   "outputs": [
    {
     "name": "stdout",
     "output_type": "stream",
     "text": [
      "Collecting xgboost\n",
      "\u001b[?25l  Downloading https://files.pythonhosted.org/packages/c1/24/5fe7237b2eca13ee0cfb100bec8c23f4e69ce9df852a64b0493d49dae4e0/xgboost-0.90-py2.py3-none-manylinux1_x86_64.whl (142.8MB)\n",
      "\u001b[K    100% |████████████████████████████████| 142.8MB 350kB/s eta 0:00:01\n",
      "\u001b[?25hRequirement already satisfied: scipy in /home/ec2-user/anaconda3/envs/python3/lib/python3.6/site-packages (from xgboost) (1.1.0)\n",
      "Requirement already satisfied: numpy in /home/ec2-user/anaconda3/envs/python3/lib/python3.6/site-packages (from xgboost) (1.15.4)\n",
      "Installing collected packages: xgboost\n",
      "Successfully installed xgboost-0.90\n",
      "\u001b[33mYou are using pip version 10.0.1, however version 19.1.1 is available.\n",
      "You should consider upgrading via the 'pip install --upgrade pip' command.\u001b[0m\n"
     ]
    }
   ],
   "source": [
    "!pip install xgboost"
   ]
  },
  {
   "cell_type": "code",
   "execution_count": 2,
   "metadata": {
    "colab": {
     "base_uri": "https://localhost:8080/",
     "height": 399
    },
    "colab_type": "code",
    "id": "Pu_kvcZqoibT",
    "outputId": "8e065d0c-5300-4abf-d166-a5c321dda356"
   },
   "outputs": [
    {
     "name": "stdout",
     "output_type": "stream",
     "text": [
      "Collecting category_encoders\n",
      "\u001b[?25l  Downloading https://files.pythonhosted.org/packages/6e/a1/f7a22f144f33be78afeb06bfa78478e8284a64263a3c09b1ef54e673841e/category_encoders-2.0.0-py2.py3-none-any.whl (87kB)\n",
      "\u001b[K    100% |████████████████████████████████| 92kB 4.0MB/s ta 0:00:011\n",
      "\u001b[?25hRequirement already satisfied: patsy>=0.4.1 in /home/ec2-user/anaconda3/envs/python3/lib/python3.6/site-packages (from category_encoders) (0.5.0)\n",
      "Requirement already satisfied: scikit-learn>=0.20.0 in /home/ec2-user/anaconda3/envs/python3/lib/python3.6/site-packages (from category_encoders) (0.20.3)\n",
      "Requirement already satisfied: scipy>=0.19.0 in /home/ec2-user/anaconda3/envs/python3/lib/python3.6/site-packages (from category_encoders) (1.1.0)\n",
      "Requirement already satisfied: statsmodels>=0.6.1 in /home/ec2-user/anaconda3/envs/python3/lib/python3.6/site-packages (from category_encoders) (0.9.0)\n",
      "Requirement already satisfied: numpy>=1.11.3 in /home/ec2-user/anaconda3/envs/python3/lib/python3.6/site-packages (from category_encoders) (1.15.4)\n",
      "Requirement already satisfied: pandas>=0.21.1 in /home/ec2-user/anaconda3/envs/python3/lib/python3.6/site-packages (from category_encoders) (0.24.2)\n",
      "Requirement already satisfied: six in /home/ec2-user/anaconda3/envs/python3/lib/python3.6/site-packages (from patsy>=0.4.1->category_encoders) (1.11.0)\n",
      "Requirement already satisfied: python-dateutil>=2.5.0 in /home/ec2-user/anaconda3/envs/python3/lib/python3.6/site-packages (from pandas>=0.21.1->category_encoders) (2.7.3)\n",
      "Requirement already satisfied: pytz>=2011k in /home/ec2-user/anaconda3/envs/python3/lib/python3.6/site-packages (from pandas>=0.21.1->category_encoders) (2018.4)\n",
      "Installing collected packages: category-encoders\n",
      "Successfully installed category-encoders-2.0.0\n",
      "\u001b[33mYou are using pip version 10.0.1, however version 19.1.1 is available.\n",
      "You should consider upgrading via the 'pip install --upgrade pip' command.\u001b[0m\n",
      "Collecting geocoder\n",
      "\u001b[?25l  Downloading https://files.pythonhosted.org/packages/4f/6b/13166c909ad2f2d76b929a4227c952630ebaf0d729f6317eb09cbceccbab/geocoder-1.38.1-py2.py3-none-any.whl (98kB)\n",
      "\u001b[K    100% |████████████████████████████████| 102kB 3.2MB/s a 0:00:011\n",
      "\u001b[?25hRequirement already satisfied: click in /home/ec2-user/anaconda3/envs/python3/lib/python3.6/site-packages (from geocoder) (6.7)\n",
      "Requirement already satisfied: requests in /home/ec2-user/anaconda3/envs/python3/lib/python3.6/site-packages (from geocoder) (2.20.0)\n",
      "Requirement already satisfied: six in /home/ec2-user/anaconda3/envs/python3/lib/python3.6/site-packages (from geocoder) (1.11.0)\n",
      "Collecting future (from geocoder)\n",
      "\u001b[?25l  Downloading https://files.pythonhosted.org/packages/90/52/e20466b85000a181e1e144fd8305caf2cf475e2f9674e797b222f8105f5f/future-0.17.1.tar.gz (829kB)\n",
      "\u001b[K    100% |████████████████████████████████| 829kB 22.8MB/s ta 0:00:01\n",
      "\u001b[?25hCollecting ratelim (from geocoder)\n",
      "  Downloading https://files.pythonhosted.org/packages/f2/98/7e6d147fd16a10a5f821db6e25f192265d6ecca3d82957a4fdd592cad49c/ratelim-0.1.6-py2.py3-none-any.whl\n",
      "Requirement already satisfied: idna<2.8,>=2.5 in /home/ec2-user/anaconda3/envs/python3/lib/python3.6/site-packages (from requests->geocoder) (2.6)\n",
      "Requirement already satisfied: chardet<3.1.0,>=3.0.2 in /home/ec2-user/anaconda3/envs/python3/lib/python3.6/site-packages (from requests->geocoder) (3.0.4)\n",
      "Requirement already satisfied: certifi>=2017.4.17 in /home/ec2-user/anaconda3/envs/python3/lib/python3.6/site-packages (from requests->geocoder) (2019.3.9)\n",
      "Requirement already satisfied: urllib3<1.25,>=1.21.1 in /home/ec2-user/anaconda3/envs/python3/lib/python3.6/site-packages (from requests->geocoder) (1.23)\n",
      "Requirement already satisfied: decorator in /home/ec2-user/anaconda3/envs/python3/lib/python3.6/site-packages (from ratelim->geocoder) (4.3.0)\n",
      "Building wheels for collected packages: future\n",
      "  Running setup.py bdist_wheel for future ... \u001b[?25ldone\n",
      "\u001b[?25h  Stored in directory: /home/ec2-user/.cache/pip/wheels/0c/61/d2/d6b7317325828fbb39ee6ad559dbe4664d0896da4721bf379e\n",
      "Successfully built future\n",
      "Installing collected packages: future, ratelim, geocoder\n",
      "Successfully installed future-0.17.1 geocoder-1.38.1 ratelim-0.1.6\n",
      "\u001b[33mYou are using pip version 10.0.1, however version 19.1.1 is available.\n",
      "You should consider upgrading via the 'pip install --upgrade pip' command.\u001b[0m\n"
     ]
    }
   ],
   "source": [
    "!pip install category_encoders\n",
    "!pip install geocoder"
   ]
  },
  {
   "cell_type": "code",
   "execution_count": 10,
   "metadata": {
    "colab": {
     "base_uri": "https://localhost:8080/",
     "height": 52
    },
    "colab_type": "code",
    "id": "yUWM4v-ok7Gw",
    "outputId": "eb404e9c-7f97-44a9-888c-8fb185fcf0af"
   },
   "outputs": [
    {
     "name": "stdout",
     "output_type": "stream",
     "text": [
      "gzip: listings.csv.gz: No such file or directory\r\n"
     ]
    }
   ],
   "source": [
    "!gunzip listings.csv.gz "
   ]
  },
  {
   "cell_type": "code",
   "execution_count": 5,
   "metadata": {
    "colab": {
     "base_uri": "https://localhost:8080/",
     "height": 72
    },
    "colab_type": "code",
    "id": "V2RkvUHmYhH9",
    "outputId": "3833b3cb-76ae-4af5-ae0e-1c3210bb924b"
   },
   "outputs": [
    {
     "name": "stderr",
     "output_type": "stream",
     "text": [
      "/home/ec2-user/anaconda3/envs/python3/lib/python3.6/site-packages/IPython/core/interactiveshell.py:2785: DtypeWarning: Columns (43) have mixed types. Specify dtype option on import or set low_memory=False.\n",
      "  interactivity=interactivity, compiler=compiler, result=result)\n"
     ]
    }
   ],
   "source": [
    "df_listing = pd.read_csv('la_listings.csv')"
   ]
  },
  {
   "cell_type": "code",
   "execution_count": 6,
   "metadata": {
    "colab": {
     "base_uri": "https://localhost:8080/",
     "height": 35
    },
    "colab_type": "code",
    "id": "rVIKOBca4HX6",
    "outputId": "79758418-0502-48eb-c13f-d382d71cd62a"
   },
   "outputs": [
    {
     "data": {
      "text/plain": [
       "(43954, 106)"
      ]
     },
     "execution_count": 6,
     "metadata": {},
     "output_type": "execute_result"
    }
   ],
   "source": [
    "df_listing.shape"
   ]
  },
  {
   "cell_type": "code",
   "execution_count": 7,
   "metadata": {
    "colab": {},
    "colab_type": "code",
    "id": "A4hAF60UwMJz"
   },
   "outputs": [],
   "source": [
    "pd.set_option('display.max_columns', None)  # Unlimited columns\n",
    "pd.set_option('display.max_rows', None)  # Unlimited rows"
   ]
  },
  {
   "cell_type": "code",
   "execution_count": 8,
   "metadata": {
    "colab": {
     "base_uri": "https://localhost:8080/",
     "height": 1000
    },
    "colab_type": "code",
    "id": "d-csQoFhzYFa",
    "outputId": "bf9f88c6-48b1-4b64-83f5-a40468d32444"
   },
   "outputs": [
    {
     "data": {
      "text/plain": [
       "id                                                  0\n",
       "listing_url                                         0\n",
       "scrape_id                                           0\n",
       "last_scraped                                        0\n",
       "name                                                4\n",
       "summary                                          1698\n",
       "space                                           11319\n",
       "description                                       954\n",
       "experiences_offered                                 0\n",
       "neighborhood_overview                           14977\n",
       "notes                                           21588\n",
       "transit                                         16853\n",
       "access                                          16670\n",
       "interaction                                     16005\n",
       "house_rules                                     13286\n",
       "thumbnail_url                                   43954\n",
       "medium_url                                      43954\n",
       "picture_url                                         0\n",
       "xl_picture_url                                  43954\n",
       "host_id                                             0\n",
       "host_url                                            0\n",
       "host_name                                           8\n",
       "host_since                                          8\n",
       "host_location                                     159\n",
       "host_about                                      15110\n",
       "host_response_time                               8311\n",
       "host_response_rate                               8311\n",
       "host_acceptance_rate                            43954\n",
       "host_is_superhost                                   8\n",
       "host_thumbnail_url                                  8\n",
       "host_picture_url                                    8\n",
       "host_neighbourhood                               7965\n",
       "host_listings_count                                 8\n",
       "host_total_listings_count                           8\n",
       "host_verifications                                  0\n",
       "host_has_profile_pic                                8\n",
       "host_identity_verified                              8\n",
       "street                                              0\n",
       "neighbourhood                                    2099\n",
       "neighbourhood_cleansed                              0\n",
       "neighbourhood_group_cleansed                    43954\n",
       "city                                               20\n",
       "state                                               2\n",
       "zipcode                                           530\n",
       "market                                             71\n",
       "smart_location                                      0\n",
       "country_code                                        0\n",
       "country                                             0\n",
       "latitude                                            0\n",
       "longitude                                           0\n",
       "is_location_exact                                   0\n",
       "property_type                                       0\n",
       "room_type                                           0\n",
       "accommodates                                        0\n",
       "bathrooms                                          24\n",
       "bedrooms                                           22\n",
       "beds                                               34\n",
       "bed_type                                            0\n",
       "amenities                                           0\n",
       "square_feet                                     43593\n",
       "price                                               0\n",
       "weekly_price                                    38795\n",
       "monthly_price                                   39217\n",
       "security_deposit                                10933\n",
       "cleaning_fee                                     6019\n",
       "guests_included                                     0\n",
       "extra_people                                        0\n",
       "minimum_nights                                      0\n",
       "maximum_nights                                      0\n",
       "minimum_minimum_nights                              0\n",
       "maximum_minimum_nights                              0\n",
       "minimum_maximum_nights                              0\n",
       "maximum_maximum_nights                              0\n",
       "minimum_nights_avg_ntm                              0\n",
       "maximum_nights_avg_ntm                              0\n",
       "calendar_updated                                    0\n",
       "has_availability                                    0\n",
       "availability_30                                     0\n",
       "availability_60                                     0\n",
       "availability_90                                     0\n",
       "availability_365                                    0\n",
       "calendar_last_scraped                               0\n",
       "number_of_reviews                                   0\n",
       "number_of_reviews_ltm                               0\n",
       "first_review                                     8545\n",
       "last_review                                      8545\n",
       "review_scores_rating                             9104\n",
       "review_scores_accuracy                           9123\n",
       "review_scores_cleanliness                        9122\n",
       "review_scores_checkin                            9152\n",
       "review_scores_communication                      9127\n",
       "review_scores_location                           9157\n",
       "review_scores_value                              9165\n",
       "requires_license                                    0\n",
       "license                                         43116\n",
       "jurisdiction_names                              11498\n",
       "instant_bookable                                    0\n",
       "is_business_travel_ready                            0\n",
       "cancellation_policy                                 0\n",
       "require_guest_profile_picture                       0\n",
       "require_guest_phone_verification                    0\n",
       "calculated_host_listings_count                      0\n",
       "calculated_host_listings_count_entire_homes         0\n",
       "calculated_host_listings_count_private_rooms        0\n",
       "calculated_host_listings_count_shared_rooms         0\n",
       "reviews_per_month                                8545\n",
       "dtype: int64"
      ]
     },
     "execution_count": 8,
     "metadata": {},
     "output_type": "execute_result"
    }
   ],
   "source": [
    "df_listing.isnull().sum()"
   ]
  },
  {
   "cell_type": "code",
   "execution_count": 9,
   "metadata": {
    "colab": {
     "base_uri": "https://localhost:8080/",
     "height": 407
    },
    "colab_type": "code",
    "id": "62F_66F-aON6",
    "outputId": "9724fa08-7173-4479-b793-60451ba81c9a"
   },
   "outputs": [
    {
     "data": {
      "text/html": [
       "<div>\n",
       "<style scoped>\n",
       "    .dataframe tbody tr th:only-of-type {\n",
       "        vertical-align: middle;\n",
       "    }\n",
       "\n",
       "    .dataframe tbody tr th {\n",
       "        vertical-align: top;\n",
       "    }\n",
       "\n",
       "    .dataframe thead th {\n",
       "        text-align: right;\n",
       "    }\n",
       "</style>\n",
       "<table border=\"1\" class=\"dataframe\">\n",
       "  <thead>\n",
       "    <tr style=\"text-align: right;\">\n",
       "      <th></th>\n",
       "      <th>id</th>\n",
       "      <th>listing_url</th>\n",
       "      <th>scrape_id</th>\n",
       "      <th>last_scraped</th>\n",
       "      <th>name</th>\n",
       "      <th>summary</th>\n",
       "      <th>space</th>\n",
       "      <th>description</th>\n",
       "      <th>experiences_offered</th>\n",
       "      <th>neighborhood_overview</th>\n",
       "      <th>notes</th>\n",
       "      <th>transit</th>\n",
       "      <th>access</th>\n",
       "      <th>interaction</th>\n",
       "      <th>house_rules</th>\n",
       "      <th>thumbnail_url</th>\n",
       "      <th>medium_url</th>\n",
       "      <th>picture_url</th>\n",
       "      <th>xl_picture_url</th>\n",
       "      <th>host_id</th>\n",
       "      <th>host_url</th>\n",
       "      <th>host_name</th>\n",
       "      <th>host_since</th>\n",
       "      <th>host_location</th>\n",
       "      <th>host_about</th>\n",
       "      <th>host_response_time</th>\n",
       "      <th>host_response_rate</th>\n",
       "      <th>host_acceptance_rate</th>\n",
       "      <th>host_is_superhost</th>\n",
       "      <th>host_thumbnail_url</th>\n",
       "      <th>host_picture_url</th>\n",
       "      <th>host_neighbourhood</th>\n",
       "      <th>host_listings_count</th>\n",
       "      <th>host_total_listings_count</th>\n",
       "      <th>host_verifications</th>\n",
       "      <th>host_has_profile_pic</th>\n",
       "      <th>host_identity_verified</th>\n",
       "      <th>street</th>\n",
       "      <th>neighbourhood</th>\n",
       "      <th>neighbourhood_cleansed</th>\n",
       "      <th>neighbourhood_group_cleansed</th>\n",
       "      <th>city</th>\n",
       "      <th>state</th>\n",
       "      <th>zipcode</th>\n",
       "      <th>market</th>\n",
       "      <th>smart_location</th>\n",
       "      <th>country_code</th>\n",
       "      <th>country</th>\n",
       "      <th>latitude</th>\n",
       "      <th>longitude</th>\n",
       "      <th>is_location_exact</th>\n",
       "      <th>property_type</th>\n",
       "      <th>room_type</th>\n",
       "      <th>accommodates</th>\n",
       "      <th>bathrooms</th>\n",
       "      <th>bedrooms</th>\n",
       "      <th>beds</th>\n",
       "      <th>bed_type</th>\n",
       "      <th>amenities</th>\n",
       "      <th>square_feet</th>\n",
       "      <th>price</th>\n",
       "      <th>weekly_price</th>\n",
       "      <th>monthly_price</th>\n",
       "      <th>security_deposit</th>\n",
       "      <th>cleaning_fee</th>\n",
       "      <th>guests_included</th>\n",
       "      <th>extra_people</th>\n",
       "      <th>minimum_nights</th>\n",
       "      <th>maximum_nights</th>\n",
       "      <th>minimum_minimum_nights</th>\n",
       "      <th>maximum_minimum_nights</th>\n",
       "      <th>minimum_maximum_nights</th>\n",
       "      <th>maximum_maximum_nights</th>\n",
       "      <th>minimum_nights_avg_ntm</th>\n",
       "      <th>maximum_nights_avg_ntm</th>\n",
       "      <th>calendar_updated</th>\n",
       "      <th>has_availability</th>\n",
       "      <th>availability_30</th>\n",
       "      <th>availability_60</th>\n",
       "      <th>availability_90</th>\n",
       "      <th>availability_365</th>\n",
       "      <th>calendar_last_scraped</th>\n",
       "      <th>number_of_reviews</th>\n",
       "      <th>number_of_reviews_ltm</th>\n",
       "      <th>first_review</th>\n",
       "      <th>last_review</th>\n",
       "      <th>review_scores_rating</th>\n",
       "      <th>review_scores_accuracy</th>\n",
       "      <th>review_scores_cleanliness</th>\n",
       "      <th>review_scores_checkin</th>\n",
       "      <th>review_scores_communication</th>\n",
       "      <th>review_scores_location</th>\n",
       "      <th>review_scores_value</th>\n",
       "      <th>requires_license</th>\n",
       "      <th>license</th>\n",
       "      <th>jurisdiction_names</th>\n",
       "      <th>instant_bookable</th>\n",
       "      <th>is_business_travel_ready</th>\n",
       "      <th>cancellation_policy</th>\n",
       "      <th>require_guest_profile_picture</th>\n",
       "      <th>require_guest_phone_verification</th>\n",
       "      <th>calculated_host_listings_count</th>\n",
       "      <th>calculated_host_listings_count_entire_homes</th>\n",
       "      <th>calculated_host_listings_count_private_rooms</th>\n",
       "      <th>calculated_host_listings_count_shared_rooms</th>\n",
       "      <th>reviews_per_month</th>\n",
       "    </tr>\n",
       "  </thead>\n",
       "  <tbody>\n",
       "    <tr>\n",
       "      <th>22685</th>\n",
       "      <td>4239896</td>\n",
       "      <td>https://www.airbnb.com/rooms/4239896</td>\n",
       "      <td>20190505154550</td>\n",
       "      <td>2019-05-06</td>\n",
       "      <td>Peaceful, laid back Hollywood Hills retreat</td>\n",
       "      <td>Our lovely Hollywood Hills home is tucked away...</td>\n",
       "      <td>It's a peaceful spot that feels like you're li...</td>\n",
       "      <td>Our lovely Hollywood Hills home is tucked away...</td>\n",
       "      <td>none</td>\n",
       "      <td>It's central to a bunch of cool areas -  Holly...</td>\n",
       "      <td>NaN</td>\n",
       "      <td>No - you'll need a car, but that's LA for you!</td>\n",
       "      <td>You can access my entire home with the excepti...</td>\n",
       "      <td>I work a lot of hours but when I'm home I'm a ...</td>\n",
       "      <td>I expect guests to have a great time and to be...</td>\n",
       "      <td>NaN</td>\n",
       "      <td>NaN</td>\n",
       "      <td>https://a0.muscache.com/im/pictures/53248837/c...</td>\n",
       "      <td>NaN</td>\n",
       "      <td>5075884</td>\n",
       "      <td>https://www.airbnb.com/users/show/5075884</td>\n",
       "      <td>Bec</td>\n",
       "      <td>2013-02-13</td>\n",
       "      <td>Los Angeles, California, United States</td>\n",
       "      <td>I'm an Australian and live in LA. I'm in film ...</td>\n",
       "      <td>a few days or more</td>\n",
       "      <td>0%</td>\n",
       "      <td>NaN</td>\n",
       "      <td>f</td>\n",
       "      <td>https://a0.muscache.com/im/users/5075884/profi...</td>\n",
       "      <td>https://a0.muscache.com/im/users/5075884/profi...</td>\n",
       "      <td>Cahuenga Pass</td>\n",
       "      <td>2.0</td>\n",
       "      <td>2.0</td>\n",
       "      <td>['email', 'phone', 'facebook', 'reviews', 'jum...</td>\n",
       "      <td>t</td>\n",
       "      <td>t</td>\n",
       "      <td>Los Angeles, CA, United States</td>\n",
       "      <td>Cahuenga Pass</td>\n",
       "      <td>Hollywood Hills</td>\n",
       "      <td>NaN</td>\n",
       "      <td>Los Angeles</td>\n",
       "      <td>CA</td>\n",
       "      <td>90068</td>\n",
       "      <td>Los Angeles</td>\n",
       "      <td>Los Angeles, CA</td>\n",
       "      <td>US</td>\n",
       "      <td>United States</td>\n",
       "      <td>34.11972</td>\n",
       "      <td>-118.34510</td>\n",
       "      <td>t</td>\n",
       "      <td>House</td>\n",
       "      <td>Private room</td>\n",
       "      <td>2</td>\n",
       "      <td>1.0</td>\n",
       "      <td>1.0</td>\n",
       "      <td>1.0</td>\n",
       "      <td>Real Bed</td>\n",
       "      <td>{TV,Internet,Wifi,\"Air conditioning\",Kitchen,\"...</td>\n",
       "      <td>NaN</td>\n",
       "      <td>$175.00</td>\n",
       "      <td>$450.00</td>\n",
       "      <td>$1,650.00</td>\n",
       "      <td>NaN</td>\n",
       "      <td>NaN</td>\n",
       "      <td>1</td>\n",
       "      <td>$0.00</td>\n",
       "      <td>3</td>\n",
       "      <td>1125</td>\n",
       "      <td>3</td>\n",
       "      <td>3</td>\n",
       "      <td>1125</td>\n",
       "      <td>1125</td>\n",
       "      <td>3.0</td>\n",
       "      <td>1125.0</td>\n",
       "      <td>4 months ago</td>\n",
       "      <td>t</td>\n",
       "      <td>0</td>\n",
       "      <td>0</td>\n",
       "      <td>30</td>\n",
       "      <td>119</td>\n",
       "      <td>2019-05-06</td>\n",
       "      <td>0</td>\n",
       "      <td>0</td>\n",
       "      <td>NaN</td>\n",
       "      <td>NaN</td>\n",
       "      <td>NaN</td>\n",
       "      <td>NaN</td>\n",
       "      <td>NaN</td>\n",
       "      <td>NaN</td>\n",
       "      <td>NaN</td>\n",
       "      <td>NaN</td>\n",
       "      <td>NaN</td>\n",
       "      <td>f</td>\n",
       "      <td>NaN</td>\n",
       "      <td>{\"City of Los Angeles\",\" CA\"}</td>\n",
       "      <td>t</td>\n",
       "      <td>f</td>\n",
       "      <td>flexible</td>\n",
       "      <td>f</td>\n",
       "      <td>f</td>\n",
       "      <td>2</td>\n",
       "      <td>1</td>\n",
       "      <td>1</td>\n",
       "      <td>0</td>\n",
       "      <td>NaN</td>\n",
       "    </tr>\n",
       "    <tr>\n",
       "      <th>39031</th>\n",
       "      <td>12826454</td>\n",
       "      <td>https://www.airbnb.com/rooms/12826454</td>\n",
       "      <td>20190505154550</td>\n",
       "      <td>2019-05-06</td>\n",
       "      <td>Private Contemporary with Panoramic Views!!!</td>\n",
       "      <td>Perfectly Located!!! This contemporary 3 bed/ ...</td>\n",
       "      <td>Plenty of light amazing energy , watching the ...</td>\n",
       "      <td>Perfectly Located!!! This contemporary 3 bed/ ...</td>\n",
       "      <td>none</td>\n",
       "      <td>Spectacular views, quiet, safe and great stree...</td>\n",
       "      <td>Pets Allowed!</td>\n",
       "      <td>Recommend renting a car or using Uber, but gre...</td>\n",
       "      <td>Entire home, backyard, fountain-Pool (great fo...</td>\n",
       "      <td>Every few days to make sure everything is A-OK</td>\n",
       "      <td>Children are welcome, but must have supervisio...</td>\n",
       "      <td>NaN</td>\n",
       "      <td>NaN</td>\n",
       "      <td>https://a0.muscache.com/im/pictures/a13cb850-0...</td>\n",
       "      <td>NaN</td>\n",
       "      <td>52773540</td>\n",
       "      <td>https://www.airbnb.com/users/show/52773540</td>\n",
       "      <td>Fariba</td>\n",
       "      <td>2015-12-30</td>\n",
       "      <td>Los Angeles, California, United States</td>\n",
       "      <td>Professional and Knowledgeable. Aims to Please.</td>\n",
       "      <td>within an hour</td>\n",
       "      <td>100%</td>\n",
       "      <td>NaN</td>\n",
       "      <td>t</td>\n",
       "      <td>https://a0.muscache.com/im/pictures/user/a3382...</td>\n",
       "      <td>https://a0.muscache.com/im/pictures/user/a3382...</td>\n",
       "      <td>Sherman Oaks</td>\n",
       "      <td>1.0</td>\n",
       "      <td>1.0</td>\n",
       "      <td>['email', 'phone', 'facebook', 'reviews', 'jum...</td>\n",
       "      <td>t</td>\n",
       "      <td>t</td>\n",
       "      <td>Los Angeles, CA, United States</td>\n",
       "      <td>Sherman Oaks</td>\n",
       "      <td>Sherman Oaks</td>\n",
       "      <td>NaN</td>\n",
       "      <td>Los Angeles</td>\n",
       "      <td>CA</td>\n",
       "      <td>91423</td>\n",
       "      <td>Los Angeles</td>\n",
       "      <td>Los Angeles, CA</td>\n",
       "      <td>US</td>\n",
       "      <td>United States</td>\n",
       "      <td>34.14077</td>\n",
       "      <td>-118.44515</td>\n",
       "      <td>t</td>\n",
       "      <td>House</td>\n",
       "      <td>Entire home/apt</td>\n",
       "      <td>6</td>\n",
       "      <td>3.5</td>\n",
       "      <td>3.0</td>\n",
       "      <td>3.0</td>\n",
       "      <td>Real Bed</td>\n",
       "      <td>{TV,\"Cable TV\",Wifi,\"Air conditioning\",Pool,Ki...</td>\n",
       "      <td>NaN</td>\n",
       "      <td>$450.00</td>\n",
       "      <td>NaN</td>\n",
       "      <td>NaN</td>\n",
       "      <td>$1,500.00</td>\n",
       "      <td>$200.00</td>\n",
       "      <td>4</td>\n",
       "      <td>$85.00</td>\n",
       "      <td>2</td>\n",
       "      <td>365</td>\n",
       "      <td>2</td>\n",
       "      <td>2</td>\n",
       "      <td>365</td>\n",
       "      <td>365</td>\n",
       "      <td>2.0</td>\n",
       "      <td>365.0</td>\n",
       "      <td>4 days ago</td>\n",
       "      <td>t</td>\n",
       "      <td>19</td>\n",
       "      <td>34</td>\n",
       "      <td>64</td>\n",
       "      <td>322</td>\n",
       "      <td>2019-05-06</td>\n",
       "      <td>30</td>\n",
       "      <td>29</td>\n",
       "      <td>2018-01-01</td>\n",
       "      <td>2019-04-14</td>\n",
       "      <td>99.0</td>\n",
       "      <td>10.0</td>\n",
       "      <td>10.0</td>\n",
       "      <td>10.0</td>\n",
       "      <td>10.0</td>\n",
       "      <td>10.0</td>\n",
       "      <td>10.0</td>\n",
       "      <td>f</td>\n",
       "      <td>NaN</td>\n",
       "      <td>{\"City of Los Angeles\",\" CA\"}</td>\n",
       "      <td>f</td>\n",
       "      <td>f</td>\n",
       "      <td>moderate</td>\n",
       "      <td>f</td>\n",
       "      <td>f</td>\n",
       "      <td>1</td>\n",
       "      <td>1</td>\n",
       "      <td>0</td>\n",
       "      <td>0</td>\n",
       "      <td>1.83</td>\n",
       "    </tr>\n",
       "  </tbody>\n",
       "</table>\n",
       "</div>"
      ],
      "text/plain": [
       "             id                            listing_url       scrape_id  \\\n",
       "22685   4239896   https://www.airbnb.com/rooms/4239896  20190505154550   \n",
       "39031  12826454  https://www.airbnb.com/rooms/12826454  20190505154550   \n",
       "\n",
       "      last_scraped                                          name  \\\n",
       "22685   2019-05-06   Peaceful, laid back Hollywood Hills retreat   \n",
       "39031   2019-05-06  Private Contemporary with Panoramic Views!!!   \n",
       "\n",
       "                                                 summary  \\\n",
       "22685  Our lovely Hollywood Hills home is tucked away...   \n",
       "39031  Perfectly Located!!! This contemporary 3 bed/ ...   \n",
       "\n",
       "                                                   space  \\\n",
       "22685  It's a peaceful spot that feels like you're li...   \n",
       "39031  Plenty of light amazing energy , watching the ...   \n",
       "\n",
       "                                             description experiences_offered  \\\n",
       "22685  Our lovely Hollywood Hills home is tucked away...                none   \n",
       "39031  Perfectly Located!!! This contemporary 3 bed/ ...                none   \n",
       "\n",
       "                                   neighborhood_overview          notes  \\\n",
       "22685  It's central to a bunch of cool areas -  Holly...            NaN   \n",
       "39031  Spectacular views, quiet, safe and great stree...  Pets Allowed!   \n",
       "\n",
       "                                                 transit  \\\n",
       "22685     No - you'll need a car, but that's LA for you!   \n",
       "39031  Recommend renting a car or using Uber, but gre...   \n",
       "\n",
       "                                                  access  \\\n",
       "22685  You can access my entire home with the excepti...   \n",
       "39031  Entire home, backyard, fountain-Pool (great fo...   \n",
       "\n",
       "                                             interaction  \\\n",
       "22685  I work a lot of hours but when I'm home I'm a ...   \n",
       "39031     Every few days to make sure everything is A-OK   \n",
       "\n",
       "                                             house_rules  thumbnail_url  \\\n",
       "22685  I expect guests to have a great time and to be...            NaN   \n",
       "39031  Children are welcome, but must have supervisio...            NaN   \n",
       "\n",
       "       medium_url                                        picture_url  \\\n",
       "22685         NaN  https://a0.muscache.com/im/pictures/53248837/c...   \n",
       "39031         NaN  https://a0.muscache.com/im/pictures/a13cb850-0...   \n",
       "\n",
       "       xl_picture_url   host_id                                    host_url  \\\n",
       "22685             NaN   5075884   https://www.airbnb.com/users/show/5075884   \n",
       "39031             NaN  52773540  https://www.airbnb.com/users/show/52773540   \n",
       "\n",
       "      host_name  host_since                           host_location  \\\n",
       "22685       Bec  2013-02-13  Los Angeles, California, United States   \n",
       "39031    Fariba  2015-12-30  Los Angeles, California, United States   \n",
       "\n",
       "                                              host_about  host_response_time  \\\n",
       "22685  I'm an Australian and live in LA. I'm in film ...  a few days or more   \n",
       "39031    Professional and Knowledgeable. Aims to Please.      within an hour   \n",
       "\n",
       "      host_response_rate  host_acceptance_rate host_is_superhost  \\\n",
       "22685                 0%                   NaN                 f   \n",
       "39031               100%                   NaN                 t   \n",
       "\n",
       "                                      host_thumbnail_url  \\\n",
       "22685  https://a0.muscache.com/im/users/5075884/profi...   \n",
       "39031  https://a0.muscache.com/im/pictures/user/a3382...   \n",
       "\n",
       "                                        host_picture_url host_neighbourhood  \\\n",
       "22685  https://a0.muscache.com/im/users/5075884/profi...      Cahuenga Pass   \n",
       "39031  https://a0.muscache.com/im/pictures/user/a3382...       Sherman Oaks   \n",
       "\n",
       "       host_listings_count  host_total_listings_count  \\\n",
       "22685                  2.0                        2.0   \n",
       "39031                  1.0                        1.0   \n",
       "\n",
       "                                      host_verifications host_has_profile_pic  \\\n",
       "22685  ['email', 'phone', 'facebook', 'reviews', 'jum...                    t   \n",
       "39031  ['email', 'phone', 'facebook', 'reviews', 'jum...                    t   \n",
       "\n",
       "      host_identity_verified                          street  neighbourhood  \\\n",
       "22685                      t  Los Angeles, CA, United States  Cahuenga Pass   \n",
       "39031                      t  Los Angeles, CA, United States   Sherman Oaks   \n",
       "\n",
       "      neighbourhood_cleansed  neighbourhood_group_cleansed         city state  \\\n",
       "22685        Hollywood Hills                           NaN  Los Angeles    CA   \n",
       "39031           Sherman Oaks                           NaN  Los Angeles    CA   \n",
       "\n",
       "      zipcode       market   smart_location country_code        country  \\\n",
       "22685   90068  Los Angeles  Los Angeles, CA           US  United States   \n",
       "39031   91423  Los Angeles  Los Angeles, CA           US  United States   \n",
       "\n",
       "       latitude  longitude is_location_exact property_type        room_type  \\\n",
       "22685  34.11972 -118.34510                 t         House     Private room   \n",
       "39031  34.14077 -118.44515                 t         House  Entire home/apt   \n",
       "\n",
       "       accommodates  bathrooms  bedrooms  beds  bed_type  \\\n",
       "22685             2        1.0       1.0   1.0  Real Bed   \n",
       "39031             6        3.5       3.0   3.0  Real Bed   \n",
       "\n",
       "                                               amenities  square_feet  \\\n",
       "22685  {TV,Internet,Wifi,\"Air conditioning\",Kitchen,\"...          NaN   \n",
       "39031  {TV,\"Cable TV\",Wifi,\"Air conditioning\",Pool,Ki...          NaN   \n",
       "\n",
       "         price weekly_price monthly_price security_deposit cleaning_fee  \\\n",
       "22685  $175.00      $450.00     $1,650.00              NaN          NaN   \n",
       "39031  $450.00          NaN           NaN        $1,500.00      $200.00   \n",
       "\n",
       "       guests_included extra_people  minimum_nights  maximum_nights  \\\n",
       "22685                1        $0.00               3            1125   \n",
       "39031                4       $85.00               2             365   \n",
       "\n",
       "       minimum_minimum_nights  maximum_minimum_nights  minimum_maximum_nights  \\\n",
       "22685                       3                       3                    1125   \n",
       "39031                       2                       2                     365   \n",
       "\n",
       "       maximum_maximum_nights  minimum_nights_avg_ntm  maximum_nights_avg_ntm  \\\n",
       "22685                    1125                     3.0                  1125.0   \n",
       "39031                     365                     2.0                   365.0   \n",
       "\n",
       "      calendar_updated has_availability  availability_30  availability_60  \\\n",
       "22685     4 months ago                t                0                0   \n",
       "39031       4 days ago                t               19               34   \n",
       "\n",
       "       availability_90  availability_365 calendar_last_scraped  \\\n",
       "22685               30               119            2019-05-06   \n",
       "39031               64               322            2019-05-06   \n",
       "\n",
       "       number_of_reviews  number_of_reviews_ltm first_review last_review  \\\n",
       "22685                  0                      0          NaN         NaN   \n",
       "39031                 30                     29   2018-01-01  2019-04-14   \n",
       "\n",
       "       review_scores_rating  review_scores_accuracy  \\\n",
       "22685                   NaN                     NaN   \n",
       "39031                  99.0                    10.0   \n",
       "\n",
       "       review_scores_cleanliness  review_scores_checkin  \\\n",
       "22685                        NaN                    NaN   \n",
       "39031                       10.0                   10.0   \n",
       "\n",
       "       review_scores_communication  review_scores_location  \\\n",
       "22685                          NaN                     NaN   \n",
       "39031                         10.0                    10.0   \n",
       "\n",
       "       review_scores_value requires_license license  \\\n",
       "22685                  NaN                f     NaN   \n",
       "39031                 10.0                f     NaN   \n",
       "\n",
       "                  jurisdiction_names instant_bookable  \\\n",
       "22685  {\"City of Los Angeles\",\" CA\"}                t   \n",
       "39031  {\"City of Los Angeles\",\" CA\"}                f   \n",
       "\n",
       "      is_business_travel_ready cancellation_policy  \\\n",
       "22685                        f            flexible   \n",
       "39031                        f            moderate   \n",
       "\n",
       "      require_guest_profile_picture require_guest_phone_verification  \\\n",
       "22685                             f                                f   \n",
       "39031                             f                                f   \n",
       "\n",
       "       calculated_host_listings_count  \\\n",
       "22685                               2   \n",
       "39031                               1   \n",
       "\n",
       "       calculated_host_listings_count_entire_homes  \\\n",
       "22685                                            1   \n",
       "39031                                            1   \n",
       "\n",
       "       calculated_host_listings_count_private_rooms  \\\n",
       "22685                                             1   \n",
       "39031                                             0   \n",
       "\n",
       "       calculated_host_listings_count_shared_rooms  reviews_per_month  \n",
       "22685                                            0                NaN  \n",
       "39031                                            0               1.83  "
      ]
     },
     "execution_count": 9,
     "metadata": {},
     "output_type": "execute_result"
    }
   ],
   "source": [
    "df_listing.sample(2)"
   ]
  },
  {
   "cell_type": "code",
   "execution_count": 10,
   "metadata": {
    "colab": {},
    "colab_type": "code",
    "id": "HYBk43oGaUuZ"
   },
   "outputs": [],
   "source": [
    "# Dropping columns which are either.\n",
    "# 1. Difficult to parse. (NLP)\n",
    "# 2. Not much variance.\n",
    "# 3. To many NaN values\n",
    "# 4. Carries no valuable information.\n",
    "\n",
    "columns = ['listing_url',\n",
    "           'scrape_id',\n",
    "           'last_scraped',\n",
    "           'name',\n",
    "           'summary',\n",
    "           'space',\n",
    "           'description',\n",
    "           'experiences_offered',\n",
    "           'neighborhood_overview',\n",
    "           'notes',\n",
    "           'transit',\n",
    "           'access',\n",
    "           'interaction',\n",
    "           'house_rules',\n",
    "           'thumbnail_url',\n",
    "           'medium_url',\n",
    "           'picture_url',\n",
    "           'xl_picture_url',\n",
    "           'host_id',\n",
    "           'host_url',\n",
    "           'host_name',\n",
    "           'host_location',\n",
    "           'host_about',\n",
    "           'host_acceptance_rate',\n",
    "           'host_thumbnail_url',\n",
    "           'host_picture_url',\n",
    "           'host_neighbourhood',\n",
    "           'host_listings_count',\n",
    "           'host_verifications',\n",
    "           'street',\n",
    "           'neighbourhood',\n",
    "           'neighbourhood_cleansed',\n",
    "           'neighbourhood_group_cleansed',\n",
    "           'city',\n",
    "           'state',\n",
    "           'market',\n",
    "           'smart_location',\n",
    "           'country_code',\n",
    "           'country',\n",
    "           'calendar_last_scraped',\n",
    "           'license',\n",
    "           'jurisdiction_names',\n",
    "           'square_feet',\n",
    "           'weekly_price',\n",
    "           'monthly_price']\n",
    "\n",
    "df_listing.drop(columns=columns, inplace=True)"
   ]
  },
  {
   "cell_type": "code",
   "execution_count": 11,
   "metadata": {
    "colab": {
     "base_uri": "https://localhost:8080/",
     "height": 121
    },
    "colab_type": "code",
    "id": "myUHOaJhsR9m",
    "outputId": "60c301ee-7d8e-4c39-ad31-fec5eff00370"
   },
   "outputs": [
    {
     "data": {
      "text/plain": [
       "0    $1,000.00\n",
       "1      $400.00\n",
       "2      $100.00\n",
       "3          NaN\n",
       "4        $0.00\n",
       "Name: security_deposit, dtype: object"
      ]
     },
     "execution_count": 11,
     "metadata": {},
     "output_type": "execute_result"
    }
   ],
   "source": [
    "df_listing.security_deposit.head()"
   ]
  },
  {
   "cell_type": "code",
   "execution_count": 12,
   "metadata": {
    "colab": {},
    "colab_type": "code",
    "id": "_FzOfP_CuO_H"
   },
   "outputs": [],
   "source": [
    "import geocoder\n",
    "from time import sleep\n",
    "\n",
    "def get_zipcode_from_latlng(lat, lng):\n",
    "  \n",
    "  # Update MapBox API key\n",
    "  MAPBOX_ACCESS_TOKEN=\"pk.eyJ1IjoidGZveDE5OTMiLCJhIjoiY2p4Y2htNGwxMDNocDNzbWt3a3o3aHBnZCJ9.zKfqq6BHvhpKlnDk94-_XA\"\n",
    "  \n",
    "  latlng = [lat, lng]\n",
    "  g = geocoder.mapbox(latlng, key=MAPBOX_ACCESS_TOKEN, method='reverse')\n",
    "  sleep(1)\n",
    "  \n",
    "  if not g.ok:\n",
    "    return np.nan\n",
    "  \n",
    "  print(f\"{lat},{lng},{g.json['postal']}\")\n",
    "  \n",
    "  return g.json['postal']\n",
    "\n",
    "def fetch_zipcode(row):\n",
    "  if isinstance(row['zipcode'], float) and np.isnan(row['zipcode']):\n",
    "    return get_zipcode_from_latlng(row['latitude'], row['longitude'])\n",
    "\n",
    "  return row['zipcode']\n",
    "\n",
    "def cleanup_zipcode(col):\n",
    "  clean_up = {\n",
    "      'Near 91304': '91304',\n",
    "      '90014-3002': '90014',\n",
    "      '90028\\n\\n90017': '90028',\n",
    "      '91744-3228': '91744',\n",
    "      '90039-2715': '90039',\n",
    "      'CA91780': '91780',\n",
    "      'CA91748': '91748',\n",
    "      '91001-2243': '91001',\n",
    "      '139 S Valencia Ave, Glendora. 91741': '91741',\n",
    "      'CA 91765': '91765',\n",
    "      '90005-3747': '90005',\n",
    "      '90036-2514': '90036',\n",
    "      '0': np.nan,\n",
    "      '900': np.nan,\n",
    "      '91606-1412': '91606',\n",
    "      90.0: np.nan\n",
    "  }\n",
    "  \n",
    "  if col in clean_up:\n",
    "    return clean_up[col]\n",
    "  \n",
    "  if isinstance(col, str):\n",
    "    return col\n",
    "  \n",
    "  if np.isnan(col):\n",
    "    return col\n",
    "  \n",
    "  return str(col).split(\".\")[0]"
   ]
  },
  {
   "cell_type": "code",
   "execution_count": 13,
   "metadata": {
    "colab": {
     "base_uri": "https://localhost:8080/",
     "height": 55
    },
    "colab_type": "code",
    "id": "iK0WiV7-fRql",
    "outputId": "ea1b33f6-1f49-46a2-8435-25c688e45dde"
   },
   "outputs": [],
   "source": [
    "# Clean up zipcodes\n",
    "#df_listing['zipcode'] = \\\n",
    "#    df_listing['zipcode'].apply(cleanup_zipcode)\n",
    "\n",
    "# Update missing zipcodesw\n",
    "#df_listing['zipcode'] = \\\n",
    "# df_listing.apply(fetch_zipcode, axis=1)\n",
    "\n",
    "# Export the csv file to avoid invoking of MapBox API repeatedly\n",
    "#df_listing.to_csv('listings_with_zipcode.csv', index = False, header=True)\n",
    "\n",
    "#df_listing['zipcode'].nunique()\n"
   ]
  },
  {
   "cell_type": "code",
   "execution_count": 14,
   "metadata": {
    "colab": {},
    "colab_type": "code",
    "id": "Ro0-xSlMgTW-"
   },
   "outputs": [],
   "source": [
    "# Re-init df_listing\n",
    "df_listing = pd.read_csv('listings_with_zipcode.csv')"
   ]
  },
  {
   "cell_type": "code",
   "execution_count": 15,
   "metadata": {
    "colab": {},
    "colab_type": "code",
    "id": "Offio2kTkM8M"
   },
   "outputs": [],
   "source": [
    "def cleanup_hostresponserate(col):\n",
    "  if isinstance(col, float):\n",
    "    return 0.0\n",
    "  \n",
    "  return int(col.replace('%',''))\n",
    "\n",
    "def cleanup_securitydeposit(col):\n",
    "  if isinstance(col, float):\n",
    "    return 0.0\n",
    "  \n",
    "  return float(col.replace('$','').replace(',',''))\n",
    "\n",
    "def cleanup_cleaningfee(col):\n",
    "  if isinstance(col, float):\n",
    "    return 0.0\n",
    "  \n",
    "  return float(col.replace('$','').replace(',',''))"
   ]
  },
  {
   "cell_type": "code",
   "execution_count": 16,
   "metadata": {
    "colab": {},
    "colab_type": "code",
    "id": "OirFQQIvn0ui"
   },
   "outputs": [],
   "source": [
    "# Clean up procedure to removew NaNs\n",
    "\n",
    "# Fill NaNs as unknown which shall be Label Encoded later\n",
    "df_listing.host_response_time.fillna(value='unknown', inplace=True)\n",
    "\n",
    "# Drop rows with NaN for following columns\n",
    "df_listing.host_since.dropna(inplace=True)\n",
    "df_listing.dropna(subset=['host_since', \n",
    "                  'host_is_superhost', \n",
    "                  'host_total_listings_count', \n",
    "                  'host_has_profile_pic', \n",
    "                  'host_identity_verified',\n",
    "                  'bathrooms',\n",
    "                  'bedrooms',\n",
    "                  'beds'], inplace=True)\n",
    "\n",
    "# Drop columns which shall not be used for modeling\n",
    "columns = ['first_review',\n",
    "           'last_review']\n",
    "\n",
    "df_listing.drop(columns=columns, inplace=True)\n",
    "\n",
    "# Convert response rate to float. Here replacing NaN with 0.\n",
    "df_listing['host_response_rate'] = \\\n",
    "    df_listing['host_response_rate'].apply(cleanup_hostresponserate)\n",
    "\n",
    "# Convert security deposit to float. Here replacing NaN with 0.\n",
    "df_listing['security_deposit'] = \\\n",
    "    df_listing['security_deposit'].apply(cleanup_securitydeposit)\n",
    "\n",
    "# Convert cleaning fee to float. Here replacing NaN with 0.\n",
    "df_listing['cleaning_fee'] = \\\n",
    "    df_listing['cleaning_fee'].apply(cleanup_cleaningfee)\n",
    "\n",
    "# Update the missing rewiew score values with median value.\n",
    "review_columns = ['review_scores_rating',\n",
    "                  'review_scores_accuracy',\n",
    "                  'review_scores_cleanliness',\n",
    "                  'review_scores_checkin',\n",
    "                  'review_scores_communication',\n",
    "                  'review_scores_location',\n",
    "                  'review_scores_value']\n",
    "\n",
    "for column in review_columns:\n",
    "  median = df_listing[column].median()\n",
    "  df_listing[column] = \\\n",
    "    df_listing[column].apply(lambda x: median if np.isnan(x) else x)\n",
    "\n",
    "# Update the missing rewiew per month values with mean value .\n",
    "mean = df_listing['reviews_per_month'].mean()\n",
    "df_listing['reviews_per_month'] = \\\n",
    "    df_listing['reviews_per_month'].apply(lambda x: mean if np.isnan(x) else x)"
   ]
  },
  {
   "cell_type": "code",
   "execution_count": 17,
   "metadata": {
    "colab": {
     "base_uri": "https://localhost:8080/",
     "height": 35
    },
    "colab_type": "code",
    "id": "3eWojlHgmiqY",
    "outputId": "9d526ceb-e1bb-4581-d925-7dedc2e44ea8"
   },
   "outputs": [
    {
     "data": {
      "text/plain": [
       "id                                              0\n",
       "host_since                                      0\n",
       "host_response_time                              0\n",
       "host_response_rate                              0\n",
       "host_is_superhost                               0\n",
       "host_total_listings_count                       0\n",
       "host_has_profile_pic                            0\n",
       "host_identity_verified                          0\n",
       "zipcode                                         2\n",
       "latitude                                        0\n",
       "longitude                                       0\n",
       "is_location_exact                               0\n",
       "property_type                                   0\n",
       "room_type                                       0\n",
       "accommodates                                    0\n",
       "bathrooms                                       0\n",
       "bedrooms                                        0\n",
       "beds                                            0\n",
       "bed_type                                        0\n",
       "amenities                                       0\n",
       "price                                           0\n",
       "security_deposit                                0\n",
       "cleaning_fee                                    0\n",
       "guests_included                                 0\n",
       "extra_people                                    0\n",
       "minimum_nights                                  0\n",
       "maximum_nights                                  0\n",
       "minimum_minimum_nights                          0\n",
       "maximum_minimum_nights                          0\n",
       "minimum_maximum_nights                          0\n",
       "maximum_maximum_nights                          0\n",
       "minimum_nights_avg_ntm                          0\n",
       "maximum_nights_avg_ntm                          0\n",
       "calendar_updated                                0\n",
       "has_availability                                0\n",
       "availability_30                                 0\n",
       "availability_60                                 0\n",
       "availability_90                                 0\n",
       "availability_365                                0\n",
       "number_of_reviews                               0\n",
       "number_of_reviews_ltm                           0\n",
       "review_scores_rating                            0\n",
       "review_scores_accuracy                          0\n",
       "review_scores_cleanliness                       0\n",
       "review_scores_checkin                           0\n",
       "review_scores_communication                     0\n",
       "review_scores_location                          0\n",
       "review_scores_value                             0\n",
       "requires_license                                0\n",
       "instant_bookable                                0\n",
       "is_business_travel_ready                        0\n",
       "cancellation_policy                             0\n",
       "require_guest_profile_picture                   0\n",
       "require_guest_phone_verification                0\n",
       "calculated_host_listings_count                  0\n",
       "calculated_host_listings_count_entire_homes     0\n",
       "calculated_host_listings_count_private_rooms    0\n",
       "calculated_host_listings_count_shared_rooms     0\n",
       "reviews_per_month                               0\n",
       "dtype: int64"
      ]
     },
     "execution_count": 17,
     "metadata": {},
     "output_type": "execute_result"
    }
   ],
   "source": [
    "df_listing.isnull().sum()"
   ]
  },
  {
   "cell_type": "code",
   "execution_count": 18,
   "metadata": {
    "colab": {},
    "colab_type": "code",
    "id": "gLt6zZxDkvde"
   },
   "outputs": [],
   "source": [
    "# Feature Engineering\n",
    "import category_encoders as ce\n",
    "from datetime import datetime"
   ]
  },
  {
   "cell_type": "code",
   "execution_count": 19,
   "metadata": {
    "colab": {},
    "colab_type": "code",
    "id": "lDTUs2bDumYP"
   },
   "outputs": [],
   "source": [
    "# Derive the number of days since hosting from host since.\n",
    "# Then to avoid colinearity drop host since.\n",
    "today = datetime.today()\n",
    "\n",
    "df_listing['host_since'] = pd.to_datetime(df_listing['host_since'])\n",
    "df_listing['host_since_in_days'] = \\\n",
    "   df_listing['host_since'].apply(lambda x: (today - x).days)\n",
    "\n",
    "df_listing.drop(columns=['host_since'], inplace=True)\n",
    "\n",
    "# Update to numerical form\n",
    "df_listing['host_is_superhost'] = \\\n",
    "   df_listing['host_is_superhost'].apply(lambda x: 1 if x == 't' else 0)\n",
    "df_listing['host_has_profile_pic'] = \\\n",
    "   df_listing['host_has_profile_pic'].apply(lambda x: 1 if x == 't' else 0)\n",
    "df_listing['host_identity_verified'] = \\\n",
    "   df_listing['host_identity_verified'].apply(lambda x: 1 if x == 't' else 0)\n",
    "df_listing['is_location_exact'] = \\\n",
    "   df_listing['is_location_exact'].apply(lambda x: 1 if x == 't' else 0)\n",
    "\n",
    "\n",
    "# Updating the property type to lis only top 10\n",
    "v = df_listing['property_type'].value_counts() <= 366\n",
    "\n",
    "df_listing.loc[df_listing['property_type'].isin(v.index[v]), \\\n",
    "               'property_type'] = 'Other'\n",
    "\n",
    "# Get the total number of listed amenities. Here all amenities are \n",
    "# considered to be of same weightable but this is not true mostly.\n",
    "df_listing['amenities_count'] = \\\n",
    "   df_listing['amenities'].apply(lambda x: len(x.split(\",\")))\n",
    "\n",
    "df_listing.drop(columns=['amenities'], inplace=True)\n",
    "\n",
    " #Convert price to float\n",
    "df_listing['price'] = \\\n",
    "   df_listing['price'].apply(lambda x: \n",
    "                               float(x.replace('$','').replace(',','')))\n",
    "\n",
    "# Planning to use adjusted price form calendar. So drop this price.\n",
    "#df_listing.drop(columns=['price'], inplace=True)\n",
    "\n",
    "# Convert extra people cost to float\n",
    "df_listing['extra_people'] = \\\n",
    "    df_listing['extra_people'].apply(lambda x: \\\n",
    "                                     float(x.replace('$','').replace(',','')))\n",
    "\n",
    "# Group the updates into days, weeks, months, years and never.\n",
    "calendar_updated = {'today': 'days',\n",
    "'2 weeks ago': 'weeks',\n",
    "'a week ago': 'weeks',\n",
    "'yesterday': 'days',\n",
    "'3 weeks ago': 'weeks',\n",
    "'2 months ago': 'months',\n",
    "'3 days ago': 'days',\n",
    "'4 days ago': 'days',\n",
    "'4 weeks ago': 'weeks',\n",
    "'3 months ago': 'months',\n",
    "'5 days ago': 'days',\n",
    "'5 weeks ago': 'months',\n",
    "'2 days ago': 'days',\n",
    "'4 months ago': 'months',\n",
    "'6 weeks ago': 'months',\n",
    "'5 months ago': 'months',\n",
    "'6 months ago': 'months',\n",
    "'6 days ago': 'days',\n",
    "'9 months ago': 'months',\n",
    "'7 weeks ago': 'months',\n",
    "'7 months ago': 'months',\n",
    "'10 months ago': 'months',\n",
    "'8 months ago': 'months',\n",
    "'11 months ago': 'months',\n",
    "'1 week ago': 'weeks',\n",
    "'15 months ago': 'years',\n",
    "'14 months ago': 'years',\n",
    "'12 months ago': 'years',\n",
    "'16 months ago': 'years',\n",
    "'17 months ago': 'years',\n",
    "'13 months ago': 'years',\n",
    "'23 months ago': 'years',\n",
    "'22 months ago': 'years',\n",
    "'21 months ago': 'years',\n",
    "'18 months ago': 'years',\n",
    "'20 months ago': 'years',\n",
    "'19 months ago': 'years',\n",
    "'24 months ago': 'years',\n",
    "'35 months ago': 'years',\n",
    "'34 months ago': 'years',\n",
    "'26 months ago': 'years',\n",
    "'25 months ago': 'years',\n",
    "'33 months ago': 'years',\n",
    "'30 months ago': 'years',\n",
    "'never': 'never',\n",
    "'28 months ago': 'years',\n",
    "'27 months ago': 'years',\n",
    "'29 months ago': 'years',\n",
    "'36 months ago': 'years',\n",
    "'31 months ago': 'years',\n",
    "'41 months ago': 'years',\n",
    "'37 months ago': 'years',\n",
    "'39 months ago': 'years',\n",
    "'42 months ago': 'years',\n",
    "'32 months ago': 'years',\n",
    "'38 months ago': 'years',\n",
    "'46 months ago': 'years',\n",
    "'40 months ago': 'years',\n",
    "'44 months ago': 'years',\n",
    "'45 months ago': 'years',\n",
    "'43 months ago': 'years',\n",
    "'47 months ago': 'years',\n",
    "'48 months ago': 'years',\n",
    "'49 months ago': 'years',\n",
    "'53 months ago': 'years',\n",
    "'51 months ago': 'years',\n",
    "'57 months ago': 'years',\n",
    "'54 months ago': 'years',\n",
    "'52 months ago': 'years',\n",
    "'50 months ago': 'years',\n",
    "'56 months ago': 'years',\n",
    "'59 months ago': 'years',\n",
    "'61 months ago': 'years',\n",
    "'55 months ago': 'years',\n",
    "'60 months ago': 'years',\n",
    "'58 months ago': 'years',\n",
    "'87 months ago': 'years',\n",
    "'62 months ago': 'years',\n",
    "'65 months ago': 'years',\n",
    "'72 months ago': 'years',\n",
    "'70 months ago': 'years'}\n",
    "\n",
    "df_listing['calendar_updated'] = \\\n",
    "    df_listing['calendar_updated'].apply(lambda x: calendar_updated[x])\n",
    "\n",
    "#  0 variance to dropping it.\n",
    "df_listing.drop(columns=['has_availability'], inplace=True)\n",
    "\n",
    "# Update to numerical form\n",
    "df_listing['requires_license'] = \\\n",
    "   df_listing['requires_license'].apply(lambda x: 1 if x == 't' else 0)\n",
    "df_listing['instant_bookable'] = \\\n",
    "   df_listing['instant_bookable'].apply(lambda x: 1 if x == 't' else 0)\n",
    "\n",
    "#  0 variance to dropping it.\n",
    "df_listing.drop(columns=['is_business_travel_ready'], inplace=True)\n",
    "\n",
    "# Update to numerical form\n",
    "df_listing['require_guest_profile_picture'] = \\\n",
    "   df_listing['require_guest_profile_picture'].apply(lambda x: 1 if x == 't' else 0)\n",
    "df_listing['require_guest_phone_verification'] = \\\n",
    "   df_listing['require_guest_phone_verification'].apply(lambda x: 1 if x == 't' else 0)\n"
   ]
  },
  {
   "cell_type": "code",
   "execution_count": 20,
   "metadata": {},
   "outputs": [
    {
     "data": {
      "text/plain": [
       "0     105.0\n",
       "1     145.0\n",
       "2      75.0\n",
       "3    5000.0\n",
       "4     120.0\n",
       "Name: price, dtype: float64"
      ]
     },
     "execution_count": 20,
     "metadata": {},
     "output_type": "execute_result"
    }
   ],
   "source": [
    "df_listing['price'].head()"
   ]
  },
  {
   "cell_type": "code",
   "execution_count": 21,
   "metadata": {
    "colab": {
     "base_uri": "https://localhost:8080/",
     "height": 69
    },
    "colab_type": "code",
    "id": "p4Blo9z-JGOp",
    "outputId": "77a1395f-bfe2-4e32-bab8-cfdfe2000f54"
   },
   "outputs": [
    {
     "data": {
      "text/plain": [
       "0    42808\n",
       "1     1077\n",
       "Name: require_guest_phone_verification, dtype: int64"
      ]
     },
     "execution_count": 21,
     "metadata": {},
     "output_type": "execute_result"
    }
   ],
   "source": [
    "df_listing.require_guest_phone_verification.value_counts()"
   ]
  },
  {
   "cell_type": "code",
   "execution_count": 22,
   "metadata": {},
   "outputs": [
    {
     "data": {
      "text/plain": [
       "(43885,)"
      ]
     },
     "execution_count": 22,
     "metadata": {},
     "output_type": "execute_result"
    }
   ],
   "source": [
    "df_target = df_listing['price']\n",
    "df_target = df_listing['price'].replace(0, np.median(df_listing['price']))\n",
    "df_target.shape"
   ]
  },
  {
   "cell_type": "code",
   "execution_count": 23,
   "metadata": {},
   "outputs": [],
   "source": [
    "df_features = df_listing\n",
    "df_features['price'].replace(0, np.median(df_listing['price']))\n",
    "df_features.shape\n",
    "#df for exploring visuals, as it includes price\n",
    "df_visuals = df_features"
   ]
  },
  {
   "cell_type": "code",
   "execution_count": 24,
   "metadata": {},
   "outputs": [],
   "source": [
    "df_features = df_features.drop(['price'], axis=1)"
   ]
  },
  {
   "cell_type": "code",
   "execution_count": 25,
   "metadata": {},
   "outputs": [],
   "source": [
    "from sklearn.model_selection import train_test_split\n",
    "X_train, X_test, y_train, y_test = train_test_split(df_features, df_target, test_size = 0.2)"
   ]
  },
  {
   "cell_type": "code",
   "execution_count": 26,
   "metadata": {},
   "outputs": [
    {
     "data": {
      "text/plain": [
       "((35108, 56), (35108,), (8777, 56), (8777,))"
      ]
     },
     "execution_count": 26,
     "metadata": {},
     "output_type": "execute_result"
    }
   ],
   "source": [
    "X_train.shape, y_train.shape, X_test.shape, y_test.shape"
   ]
  },
  {
   "cell_type": "code",
   "execution_count": 27,
   "metadata": {},
   "outputs": [],
   "source": [
    "def log_transform(y_train, y_test):\n",
    "    y_train = y_train.copy()\n",
    "    y_test = y_test.copy()\n",
    "    \n",
    "    y_train = np.log(y_train)\n",
    "    y_test = np.log(y_test)\n",
    "    return y_train, y_test"
   ]
  },
  {
   "cell_type": "code",
   "execution_count": 28,
   "metadata": {},
   "outputs": [
    {
     "data": {
      "text/plain": [
       "((35108,), (8777,))"
      ]
     },
     "execution_count": 28,
     "metadata": {},
     "output_type": "execute_result"
    }
   ],
   "source": [
    "y_train, y_test = log_transform(y_train, y_test)\n",
    "y_train.shape, y_test.shape"
   ]
  },
  {
   "cell_type": "code",
   "execution_count": 29,
   "metadata": {},
   "outputs": [],
   "source": [
    "def encode(X_train, X_test):\n",
    "    X_train = X_train.copy()\n",
    "    X_test = X_test.copy()\n",
    "    \n",
    "    encode = ce.OrdinalEncoder()\n",
    "    X_train = encode.fit_transform(X_train)\n",
    "    X_test = encode.fit_transform(X_test)\n",
    "    \n",
    "    return X_train, X_test "
   ]
  },
  {
   "cell_type": "code",
   "execution_count": 30,
   "metadata": {},
   "outputs": [
    {
     "data": {
      "text/plain": [
       "((35108, 56), (8777, 56), (35108,), (8777,))"
      ]
     },
     "execution_count": 30,
     "metadata": {},
     "output_type": "execute_result"
    }
   ],
   "source": [
    "X_train, X_test = encode(X_train, X_test)\n",
    "X_train.shape, X_test.shape, y_train.shape, y_test.shape"
   ]
  },
  {
   "cell_type": "code",
   "execution_count": 31,
   "metadata": {},
   "outputs": [
    {
     "data": {
      "text/html": [
       "<div>\n",
       "<style scoped>\n",
       "    .dataframe tbody tr th:only-of-type {\n",
       "        vertical-align: middle;\n",
       "    }\n",
       "\n",
       "    .dataframe tbody tr th {\n",
       "        vertical-align: top;\n",
       "    }\n",
       "\n",
       "    .dataframe thead th {\n",
       "        text-align: right;\n",
       "    }\n",
       "</style>\n",
       "<table border=\"1\" class=\"dataframe\">\n",
       "  <thead>\n",
       "    <tr style=\"text-align: right;\">\n",
       "      <th></th>\n",
       "      <th>id</th>\n",
       "      <th>host_response_time</th>\n",
       "      <th>host_response_rate</th>\n",
       "      <th>host_is_superhost</th>\n",
       "      <th>host_total_listings_count</th>\n",
       "      <th>host_has_profile_pic</th>\n",
       "      <th>host_identity_verified</th>\n",
       "      <th>zipcode</th>\n",
       "      <th>latitude</th>\n",
       "      <th>longitude</th>\n",
       "      <th>is_location_exact</th>\n",
       "      <th>property_type</th>\n",
       "      <th>room_type</th>\n",
       "      <th>accommodates</th>\n",
       "      <th>bathrooms</th>\n",
       "      <th>bedrooms</th>\n",
       "      <th>beds</th>\n",
       "      <th>bed_type</th>\n",
       "      <th>security_deposit</th>\n",
       "      <th>cleaning_fee</th>\n",
       "      <th>guests_included</th>\n",
       "      <th>extra_people</th>\n",
       "      <th>minimum_nights</th>\n",
       "      <th>maximum_nights</th>\n",
       "      <th>minimum_minimum_nights</th>\n",
       "      <th>maximum_minimum_nights</th>\n",
       "      <th>minimum_maximum_nights</th>\n",
       "      <th>maximum_maximum_nights</th>\n",
       "      <th>minimum_nights_avg_ntm</th>\n",
       "      <th>maximum_nights_avg_ntm</th>\n",
       "      <th>calendar_updated</th>\n",
       "      <th>availability_30</th>\n",
       "      <th>availability_60</th>\n",
       "      <th>availability_90</th>\n",
       "      <th>availability_365</th>\n",
       "      <th>number_of_reviews</th>\n",
       "      <th>number_of_reviews_ltm</th>\n",
       "      <th>review_scores_rating</th>\n",
       "      <th>review_scores_accuracy</th>\n",
       "      <th>review_scores_cleanliness</th>\n",
       "      <th>review_scores_checkin</th>\n",
       "      <th>review_scores_communication</th>\n",
       "      <th>review_scores_location</th>\n",
       "      <th>review_scores_value</th>\n",
       "      <th>requires_license</th>\n",
       "      <th>instant_bookable</th>\n",
       "      <th>cancellation_policy</th>\n",
       "      <th>require_guest_profile_picture</th>\n",
       "      <th>require_guest_phone_verification</th>\n",
       "      <th>calculated_host_listings_count</th>\n",
       "      <th>calculated_host_listings_count_entire_homes</th>\n",
       "      <th>calculated_host_listings_count_private_rooms</th>\n",
       "      <th>calculated_host_listings_count_shared_rooms</th>\n",
       "      <th>reviews_per_month</th>\n",
       "      <th>host_since_in_days</th>\n",
       "      <th>amenities_count</th>\n",
       "    </tr>\n",
       "  </thead>\n",
       "  <tbody>\n",
       "    <tr>\n",
       "      <th>1953</th>\n",
       "      <td>18362450</td>\n",
       "      <td>1</td>\n",
       "      <td>100.0</td>\n",
       "      <td>1</td>\n",
       "      <td>4.0</td>\n",
       "      <td>1</td>\n",
       "      <td>1</td>\n",
       "      <td>90068.0</td>\n",
       "      <td>34.10828</td>\n",
       "      <td>-118.32893</td>\n",
       "      <td>0</td>\n",
       "      <td>1</td>\n",
       "      <td>1</td>\n",
       "      <td>4</td>\n",
       "      <td>1.0</td>\n",
       "      <td>1.0</td>\n",
       "      <td>2.0</td>\n",
       "      <td>1</td>\n",
       "      <td>100.0</td>\n",
       "      <td>25.0</td>\n",
       "      <td>1</td>\n",
       "      <td>0.0</td>\n",
       "      <td>1</td>\n",
       "      <td>1125</td>\n",
       "      <td>1</td>\n",
       "      <td>1</td>\n",
       "      <td>1125</td>\n",
       "      <td>1125</td>\n",
       "      <td>1.0</td>\n",
       "      <td>1125.0</td>\n",
       "      <td>1</td>\n",
       "      <td>5</td>\n",
       "      <td>19</td>\n",
       "      <td>47</td>\n",
       "      <td>71</td>\n",
       "      <td>225</td>\n",
       "      <td>112</td>\n",
       "      <td>95.0</td>\n",
       "      <td>10.0</td>\n",
       "      <td>10.0</td>\n",
       "      <td>10.0</td>\n",
       "      <td>10.0</td>\n",
       "      <td>10.0</td>\n",
       "      <td>10.0</td>\n",
       "      <td>0</td>\n",
       "      <td>1</td>\n",
       "      <td>1</td>\n",
       "      <td>0</td>\n",
       "      <td>0</td>\n",
       "      <td>4</td>\n",
       "      <td>4</td>\n",
       "      <td>0</td>\n",
       "      <td>0</td>\n",
       "      <td>9.110000</td>\n",
       "      <td>1767</td>\n",
       "      <td>28</td>\n",
       "    </tr>\n",
       "    <tr>\n",
       "      <th>27660</th>\n",
       "      <td>2564649</td>\n",
       "      <td>2</td>\n",
       "      <td>0.0</td>\n",
       "      <td>0</td>\n",
       "      <td>2.0</td>\n",
       "      <td>1</td>\n",
       "      <td>1</td>\n",
       "      <td>90069.0</td>\n",
       "      <td>34.08504</td>\n",
       "      <td>-118.38671</td>\n",
       "      <td>1</td>\n",
       "      <td>1</td>\n",
       "      <td>1</td>\n",
       "      <td>4</td>\n",
       "      <td>1.0</td>\n",
       "      <td>1.0</td>\n",
       "      <td>1.0</td>\n",
       "      <td>1</td>\n",
       "      <td>300.0</td>\n",
       "      <td>125.0</td>\n",
       "      <td>2</td>\n",
       "      <td>0.0</td>\n",
       "      <td>5</td>\n",
       "      <td>16</td>\n",
       "      <td>5</td>\n",
       "      <td>5</td>\n",
       "      <td>16</td>\n",
       "      <td>16</td>\n",
       "      <td>5.0</td>\n",
       "      <td>16.0</td>\n",
       "      <td>2</td>\n",
       "      <td>0</td>\n",
       "      <td>0</td>\n",
       "      <td>0</td>\n",
       "      <td>0</td>\n",
       "      <td>8</td>\n",
       "      <td>0</td>\n",
       "      <td>100.0</td>\n",
       "      <td>10.0</td>\n",
       "      <td>10.0</td>\n",
       "      <td>10.0</td>\n",
       "      <td>10.0</td>\n",
       "      <td>10.0</td>\n",
       "      <td>10.0</td>\n",
       "      <td>0</td>\n",
       "      <td>1</td>\n",
       "      <td>1</td>\n",
       "      <td>0</td>\n",
       "      <td>0</td>\n",
       "      <td>2</td>\n",
       "      <td>2</td>\n",
       "      <td>0</td>\n",
       "      <td>0</td>\n",
       "      <td>0.140000</td>\n",
       "      <td>2316</td>\n",
       "      <td>24</td>\n",
       "    </tr>\n",
       "    <tr>\n",
       "      <th>32920</th>\n",
       "      <td>23381766</td>\n",
       "      <td>2</td>\n",
       "      <td>0.0</td>\n",
       "      <td>0</td>\n",
       "      <td>1.0</td>\n",
       "      <td>1</td>\n",
       "      <td>1</td>\n",
       "      <td>91706.0</td>\n",
       "      <td>34.08216</td>\n",
       "      <td>-117.97790</td>\n",
       "      <td>0</td>\n",
       "      <td>1</td>\n",
       "      <td>2</td>\n",
       "      <td>2</td>\n",
       "      <td>1.5</td>\n",
       "      <td>1.0</td>\n",
       "      <td>1.0</td>\n",
       "      <td>1</td>\n",
       "      <td>100.0</td>\n",
       "      <td>20.0</td>\n",
       "      <td>1</td>\n",
       "      <td>0.0</td>\n",
       "      <td>7</td>\n",
       "      <td>1125</td>\n",
       "      <td>7</td>\n",
       "      <td>7</td>\n",
       "      <td>1125</td>\n",
       "      <td>1125</td>\n",
       "      <td>7.0</td>\n",
       "      <td>1125.0</td>\n",
       "      <td>3</td>\n",
       "      <td>0</td>\n",
       "      <td>0</td>\n",
       "      <td>0</td>\n",
       "      <td>0</td>\n",
       "      <td>0</td>\n",
       "      <td>0</td>\n",
       "      <td>97.0</td>\n",
       "      <td>10.0</td>\n",
       "      <td>10.0</td>\n",
       "      <td>10.0</td>\n",
       "      <td>10.0</td>\n",
       "      <td>10.0</td>\n",
       "      <td>10.0</td>\n",
       "      <td>0</td>\n",
       "      <td>1</td>\n",
       "      <td>2</td>\n",
       "      <td>0</td>\n",
       "      <td>0</td>\n",
       "      <td>1</td>\n",
       "      <td>0</td>\n",
       "      <td>0</td>\n",
       "      <td>1</td>\n",
       "      <td>1.889684</td>\n",
       "      <td>1277</td>\n",
       "      <td>18</td>\n",
       "    </tr>\n",
       "    <tr>\n",
       "      <th>35167</th>\n",
       "      <td>2105792</td>\n",
       "      <td>2</td>\n",
       "      <td>0.0</td>\n",
       "      <td>0</td>\n",
       "      <td>1.0</td>\n",
       "      <td>1</td>\n",
       "      <td>1</td>\n",
       "      <td>90048.0</td>\n",
       "      <td>34.07553</td>\n",
       "      <td>-118.36792</td>\n",
       "      <td>1</td>\n",
       "      <td>1</td>\n",
       "      <td>1</td>\n",
       "      <td>2</td>\n",
       "      <td>1.0</td>\n",
       "      <td>1.0</td>\n",
       "      <td>1.0</td>\n",
       "      <td>1</td>\n",
       "      <td>0.0</td>\n",
       "      <td>60.0</td>\n",
       "      <td>1</td>\n",
       "      <td>0.0</td>\n",
       "      <td>4</td>\n",
       "      <td>21</td>\n",
       "      <td>4</td>\n",
       "      <td>4</td>\n",
       "      <td>21</td>\n",
       "      <td>21</td>\n",
       "      <td>4.0</td>\n",
       "      <td>21.0</td>\n",
       "      <td>3</td>\n",
       "      <td>0</td>\n",
       "      <td>0</td>\n",
       "      <td>0</td>\n",
       "      <td>0</td>\n",
       "      <td>8</td>\n",
       "      <td>0</td>\n",
       "      <td>98.0</td>\n",
       "      <td>10.0</td>\n",
       "      <td>10.0</td>\n",
       "      <td>10.0</td>\n",
       "      <td>10.0</td>\n",
       "      <td>10.0</td>\n",
       "      <td>10.0</td>\n",
       "      <td>0</td>\n",
       "      <td>0</td>\n",
       "      <td>1</td>\n",
       "      <td>0</td>\n",
       "      <td>0</td>\n",
       "      <td>1</td>\n",
       "      <td>1</td>\n",
       "      <td>0</td>\n",
       "      <td>0</td>\n",
       "      <td>0.130000</td>\n",
       "      <td>2015</td>\n",
       "      <td>13</td>\n",
       "    </tr>\n",
       "    <tr>\n",
       "      <th>32685</th>\n",
       "      <td>27288642</td>\n",
       "      <td>2</td>\n",
       "      <td>0.0</td>\n",
       "      <td>0</td>\n",
       "      <td>1.0</td>\n",
       "      <td>1</td>\n",
       "      <td>0</td>\n",
       "      <td>90014.0</td>\n",
       "      <td>34.04511</td>\n",
       "      <td>-118.25225</td>\n",
       "      <td>1</td>\n",
       "      <td>2</td>\n",
       "      <td>1</td>\n",
       "      <td>2</td>\n",
       "      <td>1.0</td>\n",
       "      <td>0.0</td>\n",
       "      <td>1.0</td>\n",
       "      <td>1</td>\n",
       "      <td>0.0</td>\n",
       "      <td>45.0</td>\n",
       "      <td>1</td>\n",
       "      <td>0.0</td>\n",
       "      <td>2</td>\n",
       "      <td>3</td>\n",
       "      <td>2</td>\n",
       "      <td>2</td>\n",
       "      <td>3</td>\n",
       "      <td>3</td>\n",
       "      <td>2.0</td>\n",
       "      <td>3.0</td>\n",
       "      <td>2</td>\n",
       "      <td>0</td>\n",
       "      <td>0</td>\n",
       "      <td>0</td>\n",
       "      <td>0</td>\n",
       "      <td>6</td>\n",
       "      <td>6</td>\n",
       "      <td>97.0</td>\n",
       "      <td>10.0</td>\n",
       "      <td>8.0</td>\n",
       "      <td>10.0</td>\n",
       "      <td>10.0</td>\n",
       "      <td>10.0</td>\n",
       "      <td>10.0</td>\n",
       "      <td>0</td>\n",
       "      <td>0</td>\n",
       "      <td>2</td>\n",
       "      <td>0</td>\n",
       "      <td>0</td>\n",
       "      <td>1</td>\n",
       "      <td>1</td>\n",
       "      <td>0</td>\n",
       "      <td>0</td>\n",
       "      <td>0.780000</td>\n",
       "      <td>335</td>\n",
       "      <td>19</td>\n",
       "    </tr>\n",
       "  </tbody>\n",
       "</table>\n",
       "</div>"
      ],
      "text/plain": [
       "             id  host_response_time  host_response_rate  host_is_superhost  \\\n",
       "1953   18362450                   1               100.0                  1   \n",
       "27660   2564649                   2                 0.0                  0   \n",
       "32920  23381766                   2                 0.0                  0   \n",
       "35167   2105792                   2                 0.0                  0   \n",
       "32685  27288642                   2                 0.0                  0   \n",
       "\n",
       "       host_total_listings_count  host_has_profile_pic  \\\n",
       "1953                         4.0                     1   \n",
       "27660                        2.0                     1   \n",
       "32920                        1.0                     1   \n",
       "35167                        1.0                     1   \n",
       "32685                        1.0                     1   \n",
       "\n",
       "       host_identity_verified  zipcode  latitude  longitude  \\\n",
       "1953                        1  90068.0  34.10828 -118.32893   \n",
       "27660                       1  90069.0  34.08504 -118.38671   \n",
       "32920                       1  91706.0  34.08216 -117.97790   \n",
       "35167                       1  90048.0  34.07553 -118.36792   \n",
       "32685                       0  90014.0  34.04511 -118.25225   \n",
       "\n",
       "       is_location_exact  property_type  room_type  accommodates  bathrooms  \\\n",
       "1953                   0              1          1             4        1.0   \n",
       "27660                  1              1          1             4        1.0   \n",
       "32920                  0              1          2             2        1.5   \n",
       "35167                  1              1          1             2        1.0   \n",
       "32685                  1              2          1             2        1.0   \n",
       "\n",
       "       bedrooms  beds  bed_type  security_deposit  cleaning_fee  \\\n",
       "1953        1.0   2.0         1             100.0          25.0   \n",
       "27660       1.0   1.0         1             300.0         125.0   \n",
       "32920       1.0   1.0         1             100.0          20.0   \n",
       "35167       1.0   1.0         1               0.0          60.0   \n",
       "32685       0.0   1.0         1               0.0          45.0   \n",
       "\n",
       "       guests_included  extra_people  minimum_nights  maximum_nights  \\\n",
       "1953                 1           0.0               1            1125   \n",
       "27660                2           0.0               5              16   \n",
       "32920                1           0.0               7            1125   \n",
       "35167                1           0.0               4              21   \n",
       "32685                1           0.0               2               3   \n",
       "\n",
       "       minimum_minimum_nights  maximum_minimum_nights  minimum_maximum_nights  \\\n",
       "1953                        1                       1                    1125   \n",
       "27660                       5                       5                      16   \n",
       "32920                       7                       7                    1125   \n",
       "35167                       4                       4                      21   \n",
       "32685                       2                       2                       3   \n",
       "\n",
       "       maximum_maximum_nights  minimum_nights_avg_ntm  maximum_nights_avg_ntm  \\\n",
       "1953                     1125                     1.0                  1125.0   \n",
       "27660                      16                     5.0                    16.0   \n",
       "32920                    1125                     7.0                  1125.0   \n",
       "35167                      21                     4.0                    21.0   \n",
       "32685                       3                     2.0                     3.0   \n",
       "\n",
       "       calendar_updated  availability_30  availability_60  availability_90  \\\n",
       "1953                  1                5               19               47   \n",
       "27660                 2                0                0                0   \n",
       "32920                 3                0                0                0   \n",
       "35167                 3                0                0                0   \n",
       "32685                 2                0                0                0   \n",
       "\n",
       "       availability_365  number_of_reviews  number_of_reviews_ltm  \\\n",
       "1953                 71                225                    112   \n",
       "27660                 0                  8                      0   \n",
       "32920                 0                  0                      0   \n",
       "35167                 0                  8                      0   \n",
       "32685                 0                  6                      6   \n",
       "\n",
       "       review_scores_rating  review_scores_accuracy  \\\n",
       "1953                   95.0                    10.0   \n",
       "27660                 100.0                    10.0   \n",
       "32920                  97.0                    10.0   \n",
       "35167                  98.0                    10.0   \n",
       "32685                  97.0                    10.0   \n",
       "\n",
       "       review_scores_cleanliness  review_scores_checkin  \\\n",
       "1953                        10.0                   10.0   \n",
       "27660                       10.0                   10.0   \n",
       "32920                       10.0                   10.0   \n",
       "35167                       10.0                   10.0   \n",
       "32685                        8.0                   10.0   \n",
       "\n",
       "       review_scores_communication  review_scores_location  \\\n",
       "1953                          10.0                    10.0   \n",
       "27660                         10.0                    10.0   \n",
       "32920                         10.0                    10.0   \n",
       "35167                         10.0                    10.0   \n",
       "32685                         10.0                    10.0   \n",
       "\n",
       "       review_scores_value  requires_license  instant_bookable  \\\n",
       "1953                  10.0                 0                 1   \n",
       "27660                 10.0                 0                 1   \n",
       "32920                 10.0                 0                 1   \n",
       "35167                 10.0                 0                 0   \n",
       "32685                 10.0                 0                 0   \n",
       "\n",
       "       cancellation_policy  require_guest_profile_picture  \\\n",
       "1953                     1                              0   \n",
       "27660                    1                              0   \n",
       "32920                    2                              0   \n",
       "35167                    1                              0   \n",
       "32685                    2                              0   \n",
       "\n",
       "       require_guest_phone_verification  calculated_host_listings_count  \\\n",
       "1953                                  0                               4   \n",
       "27660                                 0                               2   \n",
       "32920                                 0                               1   \n",
       "35167                                 0                               1   \n",
       "32685                                 0                               1   \n",
       "\n",
       "       calculated_host_listings_count_entire_homes  \\\n",
       "1953                                             4   \n",
       "27660                                            2   \n",
       "32920                                            0   \n",
       "35167                                            1   \n",
       "32685                                            1   \n",
       "\n",
       "       calculated_host_listings_count_private_rooms  \\\n",
       "1953                                              0   \n",
       "27660                                             0   \n",
       "32920                                             0   \n",
       "35167                                             0   \n",
       "32685                                             0   \n",
       "\n",
       "       calculated_host_listings_count_shared_rooms  reviews_per_month  \\\n",
       "1953                                             0           9.110000   \n",
       "27660                                            0           0.140000   \n",
       "32920                                            1           1.889684   \n",
       "35167                                            0           0.130000   \n",
       "32685                                            0           0.780000   \n",
       "\n",
       "       host_since_in_days  amenities_count  \n",
       "1953                 1767               28  \n",
       "27660                2316               24  \n",
       "32920                1277               18  \n",
       "35167                2015               13  \n",
       "32685                 335               19  "
      ]
     },
     "execution_count": 31,
     "metadata": {},
     "output_type": "execute_result"
    }
   ],
   "source": [
    "X_train.head()"
   ]
  },
  {
   "cell_type": "code",
   "execution_count": 32,
   "metadata": {},
   "outputs": [],
   "source": [
    "X_train['zipcode'] = X_train['zipcode'].replace(np.nan, np.mean(df_listing['zipcode']))\n",
    "X_test['zipcode'] = X_test['zipcode'].replace(np.nan, np.mean(df_listing['zipcode']))"
   ]
  },
  {
   "cell_type": "code",
   "execution_count": 33,
   "metadata": {},
   "outputs": [
    {
     "data": {
      "text/plain": [
       "((35108, 56), (8777, 56), (35108,), (8777,))"
      ]
     },
     "execution_count": 33,
     "metadata": {},
     "output_type": "execute_result"
    }
   ],
   "source": [
    "X_train.shape, X_test.shape, y_train.shape, y_test.shape"
   ]
  },
  {
   "cell_type": "code",
   "execution_count": 34,
   "metadata": {},
   "outputs": [
    {
     "data": {
      "text/plain": [
       "(0, 0)"
      ]
     },
     "execution_count": 34,
     "metadata": {},
     "output_type": "execute_result"
    }
   ],
   "source": [
    "X_train.isna().sum().sum(), X_test.isna().sum().sum()"
   ]
  },
  {
   "cell_type": "code",
   "execution_count": 35,
   "metadata": {},
   "outputs": [],
   "source": [
    "from sklearn.ensemble import RandomForestRegressor"
   ]
  },
  {
   "cell_type": "code",
   "execution_count": 33,
   "metadata": {},
   "outputs": [
    {
     "data": {
      "text/plain": [
       "RandomForestRegressor(bootstrap=True, criterion='mse', max_depth=None,\n",
       "           max_features='auto', max_leaf_nodes=None,\n",
       "           min_impurity_decrease=0.0, min_impurity_split=None,\n",
       "           min_samples_leaf=1, min_samples_split=2,\n",
       "           min_weight_fraction_leaf=0.0, n_estimators=50, n_jobs=-1,\n",
       "           oob_score=False, random_state=42, verbose=0, warm_start=False)"
      ]
     },
     "execution_count": 33,
     "metadata": {},
     "output_type": "execute_result"
    }
   ],
   "source": [
    "model = RandomForestRegressor(max_depth = None, n_estimators=50, \n",
    "                               n_jobs = -1, random_state = 42)\n",
    "\n",
    "model.fit(X_train, y_train)"
   ]
  },
  {
   "cell_type": "code",
   "execution_count": 34,
   "metadata": {},
   "outputs": [
    {
     "name": "stdout",
     "output_type": "stream",
     "text": [
      "0.801790731781251\n"
     ]
    }
   ],
   "source": [
    "#reasonable score given the low MAE value below\n",
    "print(model.score(X_test, y_test))\n",
    "y_pred = model.predict(X_test)"
   ]
  },
  {
   "cell_type": "code",
   "execution_count": 35,
   "metadata": {},
   "outputs": [],
   "source": [
    "from sklearn.metrics import mean_absolute_error"
   ]
  },
  {
   "cell_type": "code",
   "execution_count": 36,
   "metadata": {},
   "outputs": [
    {
     "data": {
      "text/plain": [
       "(0.2527453855459131, 0.37261016203782604)"
      ]
     },
     "execution_count": 36,
     "metadata": {},
     "output_type": "execute_result"
    }
   ],
   "source": [
    "from sklearn.metrics import mean_absolute_error\n",
    "from sklearn.metrics import mean_squared_error\n",
    "\n",
    "mae = mean_absolute_error(y_test, y_pred)\n",
    "\n",
    "rmse = (mean_squared_error(y_test, y_pred))**(1/2)\n",
    "mae, rmse"
   ]
  },
  {
   "cell_type": "code",
   "execution_count": 37,
   "metadata": {},
   "outputs": [
    {
     "data": {
      "text/plain": [
       "<matplotlib.axes._subplots.AxesSubplot at 0x7f5d72963d30>"
      ]
     },
     "execution_count": 37,
     "metadata": {},
     "output_type": "execute_result"
    },
    {
     "data": {
      "image/png": "[encoded data removed]",
      "text/plain": [
       "<Figure size 360x1440 with 1 Axes>"
      ]
     },
     "metadata": {},
     "output_type": "display_data"
    }
   ],
   "source": [
    "figsize=(5, 20)\n",
    "plt.figure(figsize=figsize)\n",
    "importances = pd.Series(model.feature_importances_, X_test.columns).sort_values()\n",
    "importances.plot.barh()"
   ]
  },
  {
   "cell_type": "code",
   "execution_count": 38,
   "metadata": {},
   "outputs": [],
   "source": [
    "features = ['bedrooms', 'bathrooms', 'room_type', 'cleaning_fee',\n",
    "            'zipcode', 'accommodates','security_deposit',\n",
    "            'amenities_count', 'host_since_in_days']\n",
    "X_train2 = X_train[features]\n",
    "X_test2 = X_test[features]\n"
   ]
  },
  {
   "cell_type": "code",
   "execution_count": 39,
   "metadata": {},
   "outputs": [
    {
     "data": {
      "text/plain": [
       "RandomForestRegressor(bootstrap=True, criterion='mse', max_depth=None,\n",
       "           max_features='auto', max_leaf_nodes=None,\n",
       "           min_impurity_decrease=0.0, min_impurity_split=None,\n",
       "           min_samples_leaf=1, min_samples_split=2,\n",
       "           min_weight_fraction_leaf=0.0, n_estimators=200, n_jobs=-1,\n",
       "           oob_score=False, random_state=42, verbose=0, warm_start=False)"
      ]
     },
     "execution_count": 39,
     "metadata": {},
     "output_type": "execute_result"
    }
   ],
   "source": [
    "model = RandomForestRegressor(max_depth = None, n_estimators=200, \n",
    "                               n_jobs = -1, random_state = 42)\n",
    "\n",
    "model.fit(X_train2, y_train)"
   ]
  },
  {
   "cell_type": "code",
   "execution_count": 40,
   "metadata": {},
   "outputs": [
    {
     "name": "stdout",
     "output_type": "stream",
     "text": [
      "0.7657732146471461\n"
     ]
    }
   ],
   "source": [
    "#reasonable score given the low MAE value below\n",
    "print(model.score(X_test2, y_test))"
   ]
  },
  {
   "cell_type": "code",
   "execution_count": 41,
   "metadata": {},
   "outputs": [],
   "source": [
    "from sklearn.metrics import mean_absolute_error"
   ]
  },
  {
   "cell_type": "code",
   "execution_count": 42,
   "metadata": {},
   "outputs": [
    {
     "data": {
      "text/plain": [
       "(0.2527453855459131, 0.37261016203782604)"
      ]
     },
     "execution_count": 42,
     "metadata": {},
     "output_type": "execute_result"
    }
   ],
   "source": [
    "from sklearn.metrics import mean_absolute_error\n",
    "from sklearn.metrics import mean_squared_error\n",
    "\n",
    "mae = mean_absolute_error(y_test, y_pred)\n",
    "\n",
    "rmse = (mean_squared_error(y_test, y_pred))**(1/2)\n",
    "mae, rmse"
   ]
  },
  {
   "cell_type": "code",
   "execution_count": 43,
   "metadata": {},
   "outputs": [
    {
     "data": {
      "text/plain": [
       "<matplotlib.axes._subplots.AxesSubplot at 0x7f5d721a8438>"
      ]
     },
     "execution_count": 43,
     "metadata": {},
     "output_type": "execute_result"
    },
    {
     "data": {
      "image/png": "[encoded data removed]",
      "text/plain": [
       "<Figure size 360x360 with 1 Axes>"
      ]
     },
     "metadata": {},
     "output_type": "display_data"
    }
   ],
   "source": [
    "figsize=(5, 5)\n",
    "plt.figure(figsize=figsize)\n",
    "importances = pd.Series(model.feature_importances_, X_train2.columns).sort_values()\n",
    "importances.plot.barh()"
   ]
  },
  {
   "cell_type": "code",
   "execution_count": 44,
   "metadata": {},
   "outputs": [],
   "source": [
    "from xgboost import XGBRegressor"
   ]
  },
  {
   "cell_type": "code",
   "execution_count": 45,
   "metadata": {},
   "outputs": [],
   "source": [
    "xgb = XGBRegressor(max_depth=3, learning_rate=0.1, \n",
    "                   n_estimators=100, verbosity=1, n_jobs=-1, \n",
    "                   random_state=42)"
   ]
  },
  {
   "cell_type": "code",
   "execution_count": 46,
   "metadata": {},
   "outputs": [
    {
     "name": "stderr",
     "output_type": "stream",
     "text": [
      "/home/ec2-user/anaconda3/envs/python3/lib/python3.6/site-packages/xgboost/core.py:587: FutureWarning: Series.base is deprecated and will be removed in a future version\n",
      "  if getattr(data, 'base', None) is not None and \\\n"
     ]
    },
    {
     "name": "stdout",
     "output_type": "stream",
     "text": [
      "[22:23:37] WARNING: /workspace/src/objective/regression_obj.cu:152: reg:linear is now deprecated in favor of reg:squarederror.\n"
     ]
    },
    {
     "data": {
      "text/plain": [
       "XGBRegressor(base_score=0.5, booster='gbtree', colsample_bylevel=1,\n",
       "       colsample_bynode=1, colsample_bytree=1, gamma=0,\n",
       "       importance_type='gain', learning_rate=0.1, max_delta_step=0,\n",
       "       max_depth=3, min_child_weight=1, missing=None, n_estimators=100,\n",
       "       n_jobs=-1, nthread=None, objective='reg:linear', random_state=42,\n",
       "       reg_alpha=0, reg_lambda=1, scale_pos_weight=1, seed=None,\n",
       "       silent=None, subsample=1, verbosity=1)"
      ]
     },
     "execution_count": 46,
     "metadata": {},
     "output_type": "execute_result"
    }
   ],
   "source": [
    "xgb.fit(X_train, y_train)"
   ]
  },
  {
   "cell_type": "code",
   "execution_count": 47,
   "metadata": {},
   "outputs": [
    {
     "data": {
      "text/plain": [
       "0.7927191234185116"
      ]
     },
     "execution_count": 47,
     "metadata": {},
     "output_type": "execute_result"
    }
   ],
   "source": [
    "xgb.score(X_test, y_test)"
   ]
  },
  {
   "cell_type": "code",
   "execution_count": 48,
   "metadata": {},
   "outputs": [
    {
     "data": {
      "text/plain": [
       "<matplotlib.axes._subplots.AxesSubplot at 0x7f5d7311bfd0>"
      ]
     },
     "execution_count": 48,
     "metadata": {},
     "output_type": "execute_result"
    },
    {
     "data": {
      "image/png": "[encoded data removed]",
      "text/plain": [
       "<Figure size 360x1080 with 1 Axes>"
      ]
     },
     "metadata": {},
     "output_type": "display_data"
    }
   ],
   "source": [
    "figsize=(5, 15)\n",
    "plt.figure(figsize=figsize)\n",
    "importances = pd.Series(xgb.feature_importances_, X_test.columns).sort_values()\n",
    "importances.plot.barh()"
   ]
  },
  {
   "cell_type": "code",
   "execution_count": 49,
   "metadata": {},
   "outputs": [],
   "source": [
    "features = ['bedrooms', 'room_type', 'bathrooms', 'security_deposit',\n",
    "           'accommodates', 'cleaning_fee', 'review_scores_location',\n",
    "           'availability_30', 'calculated_host_listings_count_shared_rooms']\n",
    "           \n",
    "X_train3 = X_train[features]\n",
    "X_test3 = X_test[features]"
   ]
  },
  {
   "cell_type": "code",
   "execution_count": 50,
   "metadata": {},
   "outputs": [],
   "source": [
    "xgb = XGBRegressor(max_depth=3, learning_rate=0.1, \n",
    "                   n_estimators=100, verbosity=1, n_jobs=-1, \n",
    "                   random_state=42)"
   ]
  },
  {
   "cell_type": "code",
   "execution_count": 51,
   "metadata": {},
   "outputs": [
    {
     "name": "stderr",
     "output_type": "stream",
     "text": [
      "/home/ec2-user/anaconda3/envs/python3/lib/python3.6/site-packages/xgboost/core.py:587: FutureWarning: Series.base is deprecated and will be removed in a future version\n",
      "  if getattr(data, 'base', None) is not None and \\\n"
     ]
    },
    {
     "name": "stdout",
     "output_type": "stream",
     "text": [
      "[22:23:41] WARNING: /workspace/src/objective/regression_obj.cu:152: reg:linear is now deprecated in favor of reg:squarederror.\n"
     ]
    },
    {
     "data": {
      "text/plain": [
       "XGBRegressor(base_score=0.5, booster='gbtree', colsample_bylevel=1,\n",
       "       colsample_bynode=1, colsample_bytree=1, gamma=0,\n",
       "       importance_type='gain', learning_rate=0.1, max_delta_step=0,\n",
       "       max_depth=3, min_child_weight=1, missing=None, n_estimators=100,\n",
       "       n_jobs=-1, nthread=None, objective='reg:linear', random_state=42,\n",
       "       reg_alpha=0, reg_lambda=1, scale_pos_weight=1, seed=None,\n",
       "       silent=None, subsample=1, verbosity=1)"
      ]
     },
     "execution_count": 51,
     "metadata": {},
     "output_type": "execute_result"
    }
   ],
   "source": [
    "xgb.fit(X_train3, y_train)"
   ]
  },
  {
   "cell_type": "code",
   "execution_count": 52,
   "metadata": {},
   "outputs": [
    {
     "data": {
      "text/plain": [
       "0.7369728092753254"
      ]
     },
     "execution_count": 52,
     "metadata": {},
     "output_type": "execute_result"
    }
   ],
   "source": [
    "xgb.score(X_test3, y_test)"
   ]
  },
  {
   "cell_type": "code",
   "execution_count": 53,
   "metadata": {},
   "outputs": [
    {
     "data": {
      "text/plain": [
       "<matplotlib.axes._subplots.AxesSubplot at 0x7f5d73e2a898>"
      ]
     },
     "execution_count": 53,
     "metadata": {},
     "output_type": "execute_result"
    },
    {
     "data": {
      "image/png": "[encoded data removed]",
      "text/plain": [
       "<Figure size 360x360 with 1 Axes>"
      ]
     },
     "metadata": {},
     "output_type": "display_data"
    }
   ],
   "source": [
    "figsize=(5, 5)\n",
    "plt.figure(figsize=figsize)\n",
    "importances = pd.Series(xgb.feature_importances_, X_test3.columns).sort_values()\n",
    "importances.plot.barh()"
   ]
  },
  {
   "cell_type": "code",
   "execution_count": 54,
   "metadata": {},
   "outputs": [
    {
     "data": {
      "text/html": [
       "<div>\n",
       "<style scoped>\n",
       "    .dataframe tbody tr th:only-of-type {\n",
       "        vertical-align: middle;\n",
       "    }\n",
       "\n",
       "    .dataframe tbody tr th {\n",
       "        vertical-align: top;\n",
       "    }\n",
       "\n",
       "    .dataframe thead th {\n",
       "        text-align: right;\n",
       "    }\n",
       "</style>\n",
       "<table border=\"1\" class=\"dataframe\">\n",
       "  <thead>\n",
       "    <tr style=\"text-align: right;\">\n",
       "      <th></th>\n",
       "      <th>id</th>\n",
       "      <th>host_response_time</th>\n",
       "      <th>host_response_rate</th>\n",
       "      <th>host_is_superhost</th>\n",
       "      <th>host_total_listings_count</th>\n",
       "      <th>host_has_profile_pic</th>\n",
       "      <th>host_identity_verified</th>\n",
       "      <th>zipcode</th>\n",
       "      <th>latitude</th>\n",
       "      <th>longitude</th>\n",
       "      <th>is_location_exact</th>\n",
       "      <th>property_type</th>\n",
       "      <th>room_type</th>\n",
       "      <th>accommodates</th>\n",
       "      <th>bathrooms</th>\n",
       "      <th>bedrooms</th>\n",
       "      <th>beds</th>\n",
       "      <th>bed_type</th>\n",
       "      <th>price</th>\n",
       "      <th>security_deposit</th>\n",
       "      <th>cleaning_fee</th>\n",
       "      <th>guests_included</th>\n",
       "      <th>extra_people</th>\n",
       "      <th>minimum_nights</th>\n",
       "      <th>maximum_nights</th>\n",
       "      <th>minimum_minimum_nights</th>\n",
       "      <th>maximum_minimum_nights</th>\n",
       "      <th>minimum_maximum_nights</th>\n",
       "      <th>maximum_maximum_nights</th>\n",
       "      <th>minimum_nights_avg_ntm</th>\n",
       "      <th>maximum_nights_avg_ntm</th>\n",
       "      <th>calendar_updated</th>\n",
       "      <th>availability_30</th>\n",
       "      <th>availability_60</th>\n",
       "      <th>availability_90</th>\n",
       "      <th>availability_365</th>\n",
       "      <th>number_of_reviews</th>\n",
       "      <th>number_of_reviews_ltm</th>\n",
       "      <th>review_scores_rating</th>\n",
       "      <th>review_scores_accuracy</th>\n",
       "      <th>review_scores_cleanliness</th>\n",
       "      <th>review_scores_checkin</th>\n",
       "      <th>review_scores_communication</th>\n",
       "      <th>review_scores_location</th>\n",
       "      <th>review_scores_value</th>\n",
       "      <th>requires_license</th>\n",
       "      <th>instant_bookable</th>\n",
       "      <th>cancellation_policy</th>\n",
       "      <th>require_guest_profile_picture</th>\n",
       "      <th>require_guest_phone_verification</th>\n",
       "      <th>calculated_host_listings_count</th>\n",
       "      <th>calculated_host_listings_count_entire_homes</th>\n",
       "      <th>calculated_host_listings_count_private_rooms</th>\n",
       "      <th>calculated_host_listings_count_shared_rooms</th>\n",
       "      <th>reviews_per_month</th>\n",
       "      <th>host_since_in_days</th>\n",
       "      <th>amenities_count</th>\n",
       "    </tr>\n",
       "  </thead>\n",
       "  <tbody>\n",
       "    <tr>\n",
       "      <th>0</th>\n",
       "      <td>20862235</td>\n",
       "      <td>within an hour</td>\n",
       "      <td>100.0</td>\n",
       "      <td>0</td>\n",
       "      <td>29.0</td>\n",
       "      <td>1</td>\n",
       "      <td>0</td>\n",
       "      <td>90402.0</td>\n",
       "      <td>34.02658</td>\n",
       "      <td>-118.50118</td>\n",
       "      <td>1</td>\n",
       "      <td>Apartment</td>\n",
       "      <td>Entire home/apt</td>\n",
       "      <td>2</td>\n",
       "      <td>1.0</td>\n",
       "      <td>0.0</td>\n",
       "      <td>2.0</td>\n",
       "      <td>Real Bed</td>\n",
       "      <td>105.0</td>\n",
       "      <td>1000.0</td>\n",
       "      <td>120.0</td>\n",
       "      <td>2</td>\n",
       "      <td>10.0</td>\n",
       "      <td>31</td>\n",
       "      <td>1125</td>\n",
       "      <td>31</td>\n",
       "      <td>31</td>\n",
       "      <td>1125</td>\n",
       "      <td>1125</td>\n",
       "      <td>31.0</td>\n",
       "      <td>1125.0</td>\n",
       "      <td>weeks</td>\n",
       "      <td>3</td>\n",
       "      <td>33</td>\n",
       "      <td>63</td>\n",
       "      <td>338</td>\n",
       "      <td>6</td>\n",
       "      <td>4</td>\n",
       "      <td>100.0</td>\n",
       "      <td>10.0</td>\n",
       "      <td>9.0</td>\n",
       "      <td>10.0</td>\n",
       "      <td>10.0</td>\n",
       "      <td>10.0</td>\n",
       "      <td>10.0</td>\n",
       "      <td>1</td>\n",
       "      <td>0</td>\n",
       "      <td>strict_14_with_grace_period</td>\n",
       "      <td>0</td>\n",
       "      <td>0</td>\n",
       "      <td>29</td>\n",
       "      <td>29</td>\n",
       "      <td>0</td>\n",
       "      <td>0</td>\n",
       "      <td>0.330000</td>\n",
       "      <td>1231</td>\n",
       "      <td>18</td>\n",
       "    </tr>\n",
       "    <tr>\n",
       "      <th>1</th>\n",
       "      <td>26165453</td>\n",
       "      <td>within an hour</td>\n",
       "      <td>100.0</td>\n",
       "      <td>1</td>\n",
       "      <td>1.0</td>\n",
       "      <td>1</td>\n",
       "      <td>0</td>\n",
       "      <td>90291.0</td>\n",
       "      <td>34.02066</td>\n",
       "      <td>-118.48708</td>\n",
       "      <td>1</td>\n",
       "      <td>Other</td>\n",
       "      <td>Entire home/apt</td>\n",
       "      <td>2</td>\n",
       "      <td>1.0</td>\n",
       "      <td>1.0</td>\n",
       "      <td>1.0</td>\n",
       "      <td>Real Bed</td>\n",
       "      <td>145.0</td>\n",
       "      <td>400.0</td>\n",
       "      <td>125.0</td>\n",
       "      <td>2</td>\n",
       "      <td>0.0</td>\n",
       "      <td>3</td>\n",
       "      <td>1123</td>\n",
       "      <td>3</td>\n",
       "      <td>60</td>\n",
       "      <td>1123</td>\n",
       "      <td>1123</td>\n",
       "      <td>21.1</td>\n",
       "      <td>1123.0</td>\n",
       "      <td>days</td>\n",
       "      <td>4</td>\n",
       "      <td>12</td>\n",
       "      <td>12</td>\n",
       "      <td>192</td>\n",
       "      <td>14</td>\n",
       "      <td>14</td>\n",
       "      <td>99.0</td>\n",
       "      <td>10.0</td>\n",
       "      <td>10.0</td>\n",
       "      <td>10.0</td>\n",
       "      <td>10.0</td>\n",
       "      <td>10.0</td>\n",
       "      <td>10.0</td>\n",
       "      <td>0</td>\n",
       "      <td>1</td>\n",
       "      <td>strict_14_with_grace_period</td>\n",
       "      <td>0</td>\n",
       "      <td>0</td>\n",
       "      <td>1</td>\n",
       "      <td>1</td>\n",
       "      <td>0</td>\n",
       "      <td>0</td>\n",
       "      <td>1.400000</td>\n",
       "      <td>1295</td>\n",
       "      <td>40</td>\n",
       "    </tr>\n",
       "    <tr>\n",
       "      <th>2</th>\n",
       "      <td>23371066</td>\n",
       "      <td>within a few hours</td>\n",
       "      <td>100.0</td>\n",
       "      <td>1</td>\n",
       "      <td>2.0</td>\n",
       "      <td>1</td>\n",
       "      <td>1</td>\n",
       "      <td>90403.0</td>\n",
       "      <td>34.03328</td>\n",
       "      <td>-118.48544</td>\n",
       "      <td>1</td>\n",
       "      <td>Apartment</td>\n",
       "      <td>Private room</td>\n",
       "      <td>2</td>\n",
       "      <td>1.0</td>\n",
       "      <td>1.0</td>\n",
       "      <td>1.0</td>\n",
       "      <td>Real Bed</td>\n",
       "      <td>75.0</td>\n",
       "      <td>100.0</td>\n",
       "      <td>45.0</td>\n",
       "      <td>1</td>\n",
       "      <td>0.0</td>\n",
       "      <td>3</td>\n",
       "      <td>8</td>\n",
       "      <td>3</td>\n",
       "      <td>3</td>\n",
       "      <td>8</td>\n",
       "      <td>8</td>\n",
       "      <td>3.0</td>\n",
       "      <td>8.0</td>\n",
       "      <td>weeks</td>\n",
       "      <td>10</td>\n",
       "      <td>32</td>\n",
       "      <td>57</td>\n",
       "      <td>57</td>\n",
       "      <td>22</td>\n",
       "      <td>16</td>\n",
       "      <td>100.0</td>\n",
       "      <td>10.0</td>\n",
       "      <td>10.0</td>\n",
       "      <td>10.0</td>\n",
       "      <td>10.0</td>\n",
       "      <td>10.0</td>\n",
       "      <td>10.0</td>\n",
       "      <td>1</td>\n",
       "      <td>0</td>\n",
       "      <td>strict_14_with_grace_period</td>\n",
       "      <td>0</td>\n",
       "      <td>0</td>\n",
       "      <td>1</td>\n",
       "      <td>0</td>\n",
       "      <td>1</td>\n",
       "      <td>0</td>\n",
       "      <td>1.560000</td>\n",
       "      <td>3425</td>\n",
       "      <td>20</td>\n",
       "    </tr>\n",
       "    <tr>\n",
       "      <th>3</th>\n",
       "      <td>29922373</td>\n",
       "      <td>within a day</td>\n",
       "      <td>100.0</td>\n",
       "      <td>0</td>\n",
       "      <td>1.0</td>\n",
       "      <td>1</td>\n",
       "      <td>0</td>\n",
       "      <td>90272.0</td>\n",
       "      <td>34.04060</td>\n",
       "      <td>-118.54477</td>\n",
       "      <td>1</td>\n",
       "      <td>Villa</td>\n",
       "      <td>Entire home/apt</td>\n",
       "      <td>8</td>\n",
       "      <td>6.0</td>\n",
       "      <td>5.0</td>\n",
       "      <td>5.0</td>\n",
       "      <td>Real Bed</td>\n",
       "      <td>5000.0</td>\n",
       "      <td>0.0</td>\n",
       "      <td>0.0</td>\n",
       "      <td>1</td>\n",
       "      <td>0.0</td>\n",
       "      <td>7</td>\n",
       "      <td>1125</td>\n",
       "      <td>7</td>\n",
       "      <td>7</td>\n",
       "      <td>1125</td>\n",
       "      <td>1125</td>\n",
       "      <td>7.0</td>\n",
       "      <td>1125.0</td>\n",
       "      <td>months</td>\n",
       "      <td>27</td>\n",
       "      <td>57</td>\n",
       "      <td>87</td>\n",
       "      <td>177</td>\n",
       "      <td>0</td>\n",
       "      <td>0</td>\n",
       "      <td>97.0</td>\n",
       "      <td>10.0</td>\n",
       "      <td>10.0</td>\n",
       "      <td>10.0</td>\n",
       "      <td>10.0</td>\n",
       "      <td>10.0</td>\n",
       "      <td>10.0</td>\n",
       "      <td>0</td>\n",
       "      <td>1</td>\n",
       "      <td>flexible</td>\n",
       "      <td>0</td>\n",
       "      <td>0</td>\n",
       "      <td>1</td>\n",
       "      <td>1</td>\n",
       "      <td>0</td>\n",
       "      <td>0</td>\n",
       "      <td>1.889684</td>\n",
       "      <td>2907</td>\n",
       "      <td>18</td>\n",
       "    </tr>\n",
       "    <tr>\n",
       "      <th>4</th>\n",
       "      <td>20541717</td>\n",
       "      <td>within an hour</td>\n",
       "      <td>100.0</td>\n",
       "      <td>0</td>\n",
       "      <td>1.0</td>\n",
       "      <td>1</td>\n",
       "      <td>0</td>\n",
       "      <td>90401.0</td>\n",
       "      <td>34.01752</td>\n",
       "      <td>-118.49219</td>\n",
       "      <td>1</td>\n",
       "      <td>Apartment</td>\n",
       "      <td>Entire home/apt</td>\n",
       "      <td>2</td>\n",
       "      <td>1.0</td>\n",
       "      <td>1.0</td>\n",
       "      <td>0.0</td>\n",
       "      <td>Real Bed</td>\n",
       "      <td>120.0</td>\n",
       "      <td>0.0</td>\n",
       "      <td>65.0</td>\n",
       "      <td>2</td>\n",
       "      <td>50.0</td>\n",
       "      <td>1</td>\n",
       "      <td>1125</td>\n",
       "      <td>1</td>\n",
       "      <td>2</td>\n",
       "      <td>1125</td>\n",
       "      <td>1125</td>\n",
       "      <td>1.3</td>\n",
       "      <td>1125.0</td>\n",
       "      <td>days</td>\n",
       "      <td>2</td>\n",
       "      <td>7</td>\n",
       "      <td>25</td>\n",
       "      <td>42</td>\n",
       "      <td>110</td>\n",
       "      <td>70</td>\n",
       "      <td>93.0</td>\n",
       "      <td>10.0</td>\n",
       "      <td>9.0</td>\n",
       "      <td>10.0</td>\n",
       "      <td>10.0</td>\n",
       "      <td>10.0</td>\n",
       "      <td>9.0</td>\n",
       "      <td>1</td>\n",
       "      <td>1</td>\n",
       "      <td>strict_14_with_grace_period</td>\n",
       "      <td>0</td>\n",
       "      <td>0</td>\n",
       "      <td>1</td>\n",
       "      <td>1</td>\n",
       "      <td>0</td>\n",
       "      <td>0</td>\n",
       "      <td>6.060000</td>\n",
       "      <td>677</td>\n",
       "      <td>15</td>\n",
       "    </tr>\n",
       "  </tbody>\n",
       "</table>\n",
       "</div>"
      ],
      "text/plain": [
       "         id  host_response_time  host_response_rate  host_is_superhost  \\\n",
       "0  20862235      within an hour               100.0                  0   \n",
       "1  26165453      within an hour               100.0                  1   \n",
       "2  23371066  within a few hours               100.0                  1   \n",
       "3  29922373        within a day               100.0                  0   \n",
       "4  20541717      within an hour               100.0                  0   \n",
       "\n",
       "   host_total_listings_count  host_has_profile_pic  host_identity_verified  \\\n",
       "0                       29.0                     1                       0   \n",
       "1                        1.0                     1                       0   \n",
       "2                        2.0                     1                       1   \n",
       "3                        1.0                     1                       0   \n",
       "4                        1.0                     1                       0   \n",
       "\n",
       "   zipcode  latitude  longitude  is_location_exact property_type  \\\n",
       "0  90402.0  34.02658 -118.50118                  1     Apartment   \n",
       "1  90291.0  34.02066 -118.48708                  1         Other   \n",
       "2  90403.0  34.03328 -118.48544                  1     Apartment   \n",
       "3  90272.0  34.04060 -118.54477                  1         Villa   \n",
       "4  90401.0  34.01752 -118.49219                  1     Apartment   \n",
       "\n",
       "         room_type  accommodates  bathrooms  bedrooms  beds  bed_type   price  \\\n",
       "0  Entire home/apt             2        1.0       0.0   2.0  Real Bed   105.0   \n",
       "1  Entire home/apt             2        1.0       1.0   1.0  Real Bed   145.0   \n",
       "2     Private room             2        1.0       1.0   1.0  Real Bed    75.0   \n",
       "3  Entire home/apt             8        6.0       5.0   5.0  Real Bed  5000.0   \n",
       "4  Entire home/apt             2        1.0       1.0   0.0  Real Bed   120.0   \n",
       "\n",
       "   security_deposit  cleaning_fee  guests_included  extra_people  \\\n",
       "0            1000.0         120.0                2          10.0   \n",
       "1             400.0         125.0                2           0.0   \n",
       "2             100.0          45.0                1           0.0   \n",
       "3               0.0           0.0                1           0.0   \n",
       "4               0.0          65.0                2          50.0   \n",
       "\n",
       "   minimum_nights  maximum_nights  minimum_minimum_nights  \\\n",
       "0              31            1125                      31   \n",
       "1               3            1123                       3   \n",
       "2               3               8                       3   \n",
       "3               7            1125                       7   \n",
       "4               1            1125                       1   \n",
       "\n",
       "   maximum_minimum_nights  minimum_maximum_nights  maximum_maximum_nights  \\\n",
       "0                      31                    1125                    1125   \n",
       "1                      60                    1123                    1123   \n",
       "2                       3                       8                       8   \n",
       "3                       7                    1125                    1125   \n",
       "4                       2                    1125                    1125   \n",
       "\n",
       "   minimum_nights_avg_ntm  maximum_nights_avg_ntm calendar_updated  \\\n",
       "0                    31.0                  1125.0            weeks   \n",
       "1                    21.1                  1123.0             days   \n",
       "2                     3.0                     8.0            weeks   \n",
       "3                     7.0                  1125.0           months   \n",
       "4                     1.3                  1125.0             days   \n",
       "\n",
       "   availability_30  availability_60  availability_90  availability_365  \\\n",
       "0                3               33               63               338   \n",
       "1                4               12               12               192   \n",
       "2               10               32               57                57   \n",
       "3               27               57               87               177   \n",
       "4                2                7               25                42   \n",
       "\n",
       "   number_of_reviews  number_of_reviews_ltm  review_scores_rating  \\\n",
       "0                  6                      4                 100.0   \n",
       "1                 14                     14                  99.0   \n",
       "2                 22                     16                 100.0   \n",
       "3                  0                      0                  97.0   \n",
       "4                110                     70                  93.0   \n",
       "\n",
       "   review_scores_accuracy  review_scores_cleanliness  review_scores_checkin  \\\n",
       "0                    10.0                        9.0                   10.0   \n",
       "1                    10.0                       10.0                   10.0   \n",
       "2                    10.0                       10.0                   10.0   \n",
       "3                    10.0                       10.0                   10.0   \n",
       "4                    10.0                        9.0                   10.0   \n",
       "\n",
       "   review_scores_communication  review_scores_location  review_scores_value  \\\n",
       "0                         10.0                    10.0                 10.0   \n",
       "1                         10.0                    10.0                 10.0   \n",
       "2                         10.0                    10.0                 10.0   \n",
       "3                         10.0                    10.0                 10.0   \n",
       "4                         10.0                    10.0                  9.0   \n",
       "\n",
       "   requires_license  instant_bookable          cancellation_policy  \\\n",
       "0                 1                 0  strict_14_with_grace_period   \n",
       "1                 0                 1  strict_14_with_grace_period   \n",
       "2                 1                 0  strict_14_with_grace_period   \n",
       "3                 0                 1                     flexible   \n",
       "4                 1                 1  strict_14_with_grace_period   \n",
       "\n",
       "   require_guest_profile_picture  require_guest_phone_verification  \\\n",
       "0                              0                                 0   \n",
       "1                              0                                 0   \n",
       "2                              0                                 0   \n",
       "3                              0                                 0   \n",
       "4                              0                                 0   \n",
       "\n",
       "   calculated_host_listings_count  \\\n",
       "0                              29   \n",
       "1                               1   \n",
       "2                               1   \n",
       "3                               1   \n",
       "4                               1   \n",
       "\n",
       "   calculated_host_listings_count_entire_homes  \\\n",
       "0                                           29   \n",
       "1                                            1   \n",
       "2                                            0   \n",
       "3                                            1   \n",
       "4                                            1   \n",
       "\n",
       "   calculated_host_listings_count_private_rooms  \\\n",
       "0                                             0   \n",
       "1                                             0   \n",
       "2                                             1   \n",
       "3                                             0   \n",
       "4                                             0   \n",
       "\n",
       "   calculated_host_listings_count_shared_rooms  reviews_per_month  \\\n",
       "0                                            0           0.330000   \n",
       "1                                            0           1.400000   \n",
       "2                                            0           1.560000   \n",
       "3                                            0           1.889684   \n",
       "4                                            0           6.060000   \n",
       "\n",
       "   host_since_in_days  amenities_count  \n",
       "0                1231               18  \n",
       "1                1295               40  \n",
       "2                3425               20  \n",
       "3                2907               18  \n",
       "4                 677               15  "
      ]
     },
     "execution_count": 54,
     "metadata": {},
     "output_type": "execute_result"
    }
   ],
   "source": [
    "df_listing.head()"
   ]
  },
  {
   "cell_type": "code",
   "execution_count": 369,
   "metadata": {},
   "outputs": [
    {
     "data": {
      "image/png": "[encoded data removed]",
      "text/plain": [
       "<Figure size 432x288 with 1 Axes>"
      ]
     },
     "metadata": {},
     "output_type": "display_data"
    }
   ],
   "source": [
    "sns.barplot(x='host_is_superhost', y='host_response_time', data=df_listing,\n",
    "            palette = sns.color_palette(\"husl\", 5), ci=None)\n",
    "\n",
    "plt.xlabel('Host is Superhost')\n",
    "plt.ylabel('Host Response Time')\n",
    "\n",
    "plt.title(\"There's the 'Super' in Superhost for you!\");"
   ]
  },
  {
   "cell_type": "code",
   "execution_count": 58,
   "metadata": {},
   "outputs": [
    {
     "data": {
      "text/plain": [
       "<seaborn.axisgrid.FacetGrid at 0x7f5d73504c88>"
      ]
     },
     "execution_count": 58,
     "metadata": {},
     "output_type": "execute_result"
    },
    {
     "data": {
      "text/plain": [
       "<Figure size 360x360 with 0 Axes>"
      ]
     },
     "metadata": {},
     "output_type": "display_data"
    },
    {
     "data": {
      "image/png": "[encoded data removed]",
      "text/plain": [
       "<Figure size 360x360 with 1 Axes>"
      ]
     },
     "metadata": {},
     "output_type": "display_data"
    }
   ],
   "source": [
    "figsize=(5, 5)\n",
    "plt.figure(figsize=figsize)\n",
    "sns.relplot(x='security_deposit', y='cleaning_fee', data=df_listing)"
   ]
  },
  {
   "cell_type": "code",
   "execution_count": null,
   "metadata": {},
   "outputs": [],
   "source": [
    "['1-28', '29-56', '57-84', '85-112']"
   ]
  },
  {
   "cell_type": "code",
   "execution_count": 362,
   "metadata": {
    "scrolled": true
   },
   "outputs": [
    {
     "data": {
      "image/png": "[encoded data removed]",
      "text/plain": [
       "<Figure size 864x360 with 1 Axes>"
      ]
     },
     "metadata": {},
     "output_type": "display_data"
    }
   ],
   "source": [
    "df_visuals['Amenities'] = pd.cut(df_visuals['amenities_count'], 4)\n",
    "type(df_visuals['amenities_bucket'])\n",
    "\n",
    "figsize=(12, 5)\n",
    "fig = plt.figure(figsize=figsize)\n",
    "sns.barplot(x='Amenities', y='price', data=df_visuals, ci=None,\n",
    "           palette = sns.color_palette(\"husl\", 4))\n",
    "\n",
    "\n",
    "plt.xlabel('Amenities')\n",
    "plt.ylabel('Price')\n",
    "\n",
    "plt.title(\"Don't Forget to Count all your Amenities!\")\n",
    "plt.xticks([0, 1, 2, 3], ['1-28', '29-56', '57-84', '85-122']);"
   ]
  },
  {
   "cell_type": "code",
   "execution_count": 357,
   "metadata": {},
   "outputs": [
    {
     "data": {
      "image/png": "[encoded data removed]",
      "text/plain": [
       "<Figure size 720x360 with 1 Axes>"
      ]
     },
     "metadata": {},
     "output_type": "display_data"
    }
   ],
   "source": [
    "figsize=(10, 5)\n",
    "plt.figure(figsize=figsize)\n",
    "\n",
    "sns.barplot(x='price', y='cancellation_policy', data=df_visuals, ci=None,\n",
    "            palette = sns.color_palette(\"husl\", 9),  \n",
    "            order=['moderate','flexible','strict','strict_14_with_grace_period',\n",
    "                   'super_strict_30','super_strict_60','luxury_super_strict_95',\n",
    "                   'luxury_moderate','luxury_no_refund'])\n",
    "\n",
    "plt.xlabel('Price')\n",
    "plt.ylabel('Cancelation Policy')\n",
    "\n",
    "plt.title('Ca)\n",
    "plt.yticks([0, 4, 8], ['Flexible', 'Moderate', 'Super Strict']);"
   ]
  },
  {
   "cell_type": "code",
   "execution_count": null,
   "metadata": {},
   "outputs": [],
   "source": [
    "plt.xticks([0, 2, 4, 6, 8, 10, 12, 14, 16, 18, 20, 22, 24, 26, 28], [0, 1, 2, 3, 4, 5, 6, 7, 8, 9, 10, 11, 12, 13, 15])"
   ]
  },
  {
   "cell_type": "code",
   "execution_count": 350,
   "metadata": {},
   "outputs": [
    {
     "data": {
      "image/png": "[encoded data removed]",
      "text/plain": [
       "<Figure size 1080x504 with 1 Axes>"
      ]
     },
     "metadata": {},
     "output_type": "display_data"
    }
   ],
   "source": [
    "figsize=(15, 7)\n",
    "plt.figure(figsize=figsize)\n",
    "sns.barplot(x='bathrooms', y='bedrooms', data=df_visuals, ci=None, \n",
    "           palette = sns.color_palette(\"husl\", 30))\n",
    "\n",
    "plt.xlabel('Bathrooms')\n",
    "plt.ylabel('Bedrroms')\n",
    "\n",
    "plt.xticks([0, 2, 4, 6, 8, 10, 12, 14, 16, 18, 20, 22, 24, 26, 28],\n",
    "           [0, 1, 2, 3, 4, 5, 6, 7, 8, 9, 10, 11, 12, 13, 15]);"
   ]
  },
  {
   "cell_type": "code",
   "execution_count": 348,
   "metadata": {},
   "outputs": [
    {
     "data": {
      "text/plain": [
       "Text(0.5, 1.0, 'Make Sure to Have a Great Bed!')"
      ]
     },
     "execution_count": 348,
     "metadata": {},
     "output_type": "execute_result"
    },
    {
     "data": {
      "image/png": "[encoded data removed]",
      "text/plain": [
       "<Figure size 1080x504 with 1 Axes>"
      ]
     },
     "metadata": {},
     "output_type": "display_data"
    }
   ],
   "source": [
    "figsize=(15, 7)\n",
    "plt.figure(figsize=figsize)\n",
    "sns.barplot(x='bed_type', y='price', data=df_visuals, ci=None, \n",
    "           palette = sns.color_palette(\"husl\", 30))\n",
    "\n",
    "plt.xlabel('Bed Type')\n",
    "plt.ylabel('Price');\n",
    "\n",
    "plt.title('Make Sure to Have a Great Bed!')"
   ]
  },
  {
   "cell_type": "code",
   "execution_count": 68,
   "metadata": {},
   "outputs": [
    {
     "data": {
      "image/png": "[encoded data removed]",
      "text/plain": [
       "<Figure size 504x504 with 1 Axes>"
      ]
     },
     "metadata": {},
     "output_type": "display_data"
    }
   ],
   "source": [
    "figsize=(7, 7)\n",
    "plt.figure(figsize=figsize)\n",
    "sns.barplot(x='instant_bookable', y='price', data=df_visuals, ci=None, \n",
    "           palette = sns.color_palette(\"husl\", 3))\n",
    "\n",
    "plt.ylim(150, 230)\n",
    "sns.set_style(\"whitegrid\", {'axes.grid' : False})\n",
    "plt.title('Increase your Listing with Instant Bookable!');\n",
    "plt.xlabel('Instant Bookable')\n",
    "plt.ylabel('Price')\n",
    "\n",
    "\n",
    "plt.xticks([0, 1], ['Yes', 'No']);"
   ]
  },
  {
   "cell_type": "code",
   "execution_count": 62,
   "metadata": {},
   "outputs": [
    {
     "data": {
      "text/plain": [
       "(100, 200)"
      ]
     },
     "execution_count": 62,
     "metadata": {},
     "output_type": "execute_result"
    },
    {
     "data": {
      "image/png": "[encoded data removed]",
      "text/plain": [
       "<Figure size 720x504 with 1 Axes>"
      ]
     },
     "metadata": {},
     "output_type": "display_data"
    }
   ],
   "source": [
    "df_visuals['Review Scores Rating'] = pd.cut(df_visuals['review_scores_rating'], 2)\n",
    "\n",
    "figsize=(10, 7)\n",
    "plt.figure(figsize=figsize)\n",
    "sns.barplot(x='Review Scores Rating', y='price', data=df_visuals, ci=None, \n",
    "           palette = sns.color_palette(\"husl\", 2))\n",
    "\n",
    "#plt.ylim(150, 230)\n",
    "sns.set_style(\"whitegrid\", {'axes.grid' : False})\n",
    "plt.title('Get those Review Scores up!');\n",
    "plt.xlabel('Review Score Rating')\n",
    "plt.ylabel('Price')\n",
    "\n",
    "\n",
    "plt.xticks([0, 1], ['20-60', '60-100']);\n",
    "plt.ylim(100, 200)"
   ]
  },
  {
   "cell_type": "code",
   "execution_count": null,
   "metadata": {},
   "outputs": [],
   "source": []
  }
 ],
 "metadata": {
  "accelerator": "GPU",
  "colab": {
   "name": "SJ1 Airbnb Price Predictions (Data Wrangling).ipynb",
   "provenance": [],
   "version": "0.3.2"
  },
  "kernelspec": {
   "display_name": "conda_python3",
   "language": "python",
   "name": "conda_python3"
  },
  "language_info": {
   "codemirror_mode": {
    "name": "ipython",
    "version": 3
   },
   "file_extension": ".py",
   "mimetype": "text/x-python",
   "name": "python",
   "nbconvert_exporter": "python",
   "pygments_lexer": "ipython3",
   "version": "3.6.5"
  }
 },
 "nbformat": 4,
 "nbformat_minor": 1
}
