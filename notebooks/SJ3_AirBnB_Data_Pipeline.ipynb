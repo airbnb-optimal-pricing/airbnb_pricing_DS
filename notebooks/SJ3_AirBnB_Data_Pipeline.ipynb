{
  "nbformat": 4,
  "nbformat_minor": 0,
  "metadata": {
    "colab": {
      "name": "AirBnB Data Pipeline.ipynb",
      "version": "0.3.2",
      "provenance": [],
      "include_colab_link": true
    },
    "kernelspec": {
      "name": "python3",
      "display_name": "Python 3"
    }
  },
  "cells": [
    {
      "cell_type": "markdown",
      "metadata": {
        "id": "view-in-github",
        "colab_type": "text"
      },
      "source": [
        "<a href=\"https://colab.research.google.com/github/ShreyasJothish/airbnb_pricing_DS/blob/master/SJ2%20AirBnB_Data_Pipeline.ipynb\" target=\"_parent\"><img src=\"https://colab.research.google.com/assets/colab-badge.svg\" alt=\"Open In Colab\"/></a>"
      ]
    },
    {
      "cell_type": "markdown",
      "metadata": {
        "id": "CDhXhk42qGrN",
        "colab_type": "text"
      },
      "source": [
        "# Web Scrpaing Notebook:\n",
        "\n",
        "\n",
        "This notebook contains code to fetch the latest data across world from [InsideAirBnB](http://insideairbnb.com/get-the-data.html)"
      ]
    },
    {
      "cell_type": "markdown",
      "metadata": {
        "id": "koYJi4Pqqiyb",
        "colab_type": "text"
      },
      "source": [
        "### Web Scrapping\n",
        "\n",
        "Using BeautifulSoup library we shall fetch the data for each city listed in InsideAirBnB website.\n",
        "\n",
        "Reference: [Tutorial: Python Web Scraping Using BeautifulSoup](https://www.dataquest.io/blog/web-scraping-tutorial-python)"
      ]
    },
    {
      "cell_type": "code",
      "metadata": {
        "id": "PDjsZMX6-RWK",
        "colab_type": "code",
        "colab": {}
      },
      "source": [
        "import requests\n",
        "from bs4 import BeautifulSoup\n",
        "\n",
        "page = requests.get(\"http://insideairbnb.com/get-the-data.html\")\n",
        "\n",
        "if page.status_code != 200:\n",
        "  print(\"Error: Request to InsideAirBnB is failing\")"
      ],
      "execution_count": 0,
      "outputs": []
    },
    {
      "cell_type": "markdown",
      "metadata": {
        "id": "owimKaAUrEMQ",
        "colab_type": "text"
      },
      "source": [
        "On exploring the web site structure it is found the url links to download the data is present in under tags **td**. Here we shall extract the data based on this **td** tag. The **td** tags contain information for archieved data across years for the same city and this is ignored.\n",
        "\n",
        "Here we are interested in fetching only Listing information in each city. So only url to **listings.csv.gz** is used."
      ]
    },
    {
      "cell_type": "code",
      "metadata": {
        "id": "IBTvSbsO-fp-",
        "colab_type": "code",
        "colab": {}
      },
      "source": [
        "soup = BeautifulSoup(page.content, 'html.parser')\n",
        "# print(soup.prettify())\n",
        "\n",
        "td_tags = soup.find_all('td')"
      ],
      "execution_count": 0,
      "outputs": []
    },
    {
      "cell_type": "code",
      "metadata": {
        "id": "yusiLy23-43Q",
        "colab_type": "code",
        "colab": {
          "base_uri": "https://localhost:8080/",
          "height": 1000
        },
        "outputId": "857a4956-5711-41d4-f560-efb3fe38c275"
      },
      "source": [
        "# To ensure only the latest data for a particular city is used.\n",
        "city_set = set()\n",
        "\n",
        "# To maintain city level summary for data fetched.\n",
        "city_data = []\n",
        "\n",
        "for td_tag in td_tags:\n",
        "  link_list = [a['href'] for a in td_tag.find_all('a', href=True)]\n",
        "  \n",
        "  # Fetch only listings.csv.gz data.\n",
        "  if len(link_list) > 0 and link_list[0].find('listings.csv.gz') != -1:\n",
        "    \n",
        "    url = link_list[0]\n",
        "    \n",
        "    # Summary for each city is got by parsing the url itself.\n",
        "    url_split = link_list[0].split('/')\n",
        "    \n",
        "    # InsideAirBnB follows a particular url format which is used as reference\n",
        "    # for parsing.\n",
        "    if len(url_split) != 9:\n",
        "      print(f\"Error: URL not following the format {url}\")\n",
        "      \n",
        "      # It is seen the data for ireland is fetched but the url format is\n",
        "      # different as compared to others. So this special handling is needed.\n",
        "      if url_split[3] == \"ireland\":\n",
        "        print(\"Info: Special handling for Ireland\")\n",
        "        country = url_split[3]\n",
        "        region = url_split[3]\n",
        "        city = url_split[3]\n",
        "        date =  url_split[4]\n",
        "    \n",
        "        if city not in city_set:\n",
        "          city_set.add(city)\n",
        "          print([country, region, city, date, url])\n",
        "          city_data.append([country, region, city, date, url])\n",
        "    else:\n",
        "      country = url_split[3]\n",
        "      region = url_split[4]\n",
        "      city = url_split[5]\n",
        "      date =  url_split[6]\n",
        "    \n",
        "      if city not in city_set:\n",
        "        city_set.add(city)\n",
        "        city_data.append([country, region, city, date, url])\n",
        "\n",
        "# Check summary information of each city.\n",
        "print(f\"Total number of city information fetched: {len(city_data)}\")\n",
        "print(\"Info: Start summary information of each city\")\n",
        "for city in city_data:\n",
        "  print(city)\n",
        "print(\"Info: Completed summary information of each city \")"
      ],
      "execution_count": 3,
      "outputs": [
        {
          "output_type": "stream",
          "text": [
            "Error: URL not following the format http://data.insideairbnb.com/ireland/2019-05-12/data/listings.csv.gz\n",
            "Info: Special handling for Ireland\n",
            "['ireland', 'ireland', 'ireland', '2019-05-12', 'http://data.insideairbnb.com/ireland/2019-05-12/data/listings.csv.gz']\n",
            "Error: URL not following the format http://data.insideairbnb.com/united-states/2016-04-18/data/listings.csv.gz\n",
            "Total number of city information fetched: 100\n",
            "Info: Start summary information of each city\n",
            "['the-netherlands', 'north-holland', 'amsterdam', '2019-05-06', 'http://data.insideairbnb.com/the-netherlands/north-holland/amsterdam/2019-05-06/data/listings.csv.gz']\n",
            "['belgium', 'vlg', 'antwerp', '2019-05-23', 'http://data.insideairbnb.com/belgium/vlg/antwerp/2019-05-23/data/listings.csv.gz']\n",
            "['united-states', 'nc', 'asheville', '2019-06-26', 'http://data.insideairbnb.com/united-states/nc/asheville/2019-06-26/data/listings.csv.gz']\n",
            "['greece', 'attica', 'athens', '2019-06-10', 'http://data.insideairbnb.com/greece/attica/athens/2019-06-10/data/listings.csv.gz']\n",
            "['united-states', 'tx', 'austin', '2019-05-14', 'http://data.insideairbnb.com/united-states/tx/austin/2019-05-14/data/listings.csv.gz']\n",
            "['spain', 'catalonia', 'barcelona', '2019-05-14', 'http://data.insideairbnb.com/spain/catalonia/barcelona/2019-05-14/data/listings.csv.gz']\n",
            "['australia', 'sa', 'barossa-valley', '2019-05-22', 'http://data.insideairbnb.com/australia/sa/barossa-valley/2019-05-22/data/listings.csv.gz']\n",
            "['australia', 'vic', 'barwon-south-west-vic', '2019-06-25', 'http://data.insideairbnb.com/australia/vic/barwon-south-west-vic/2019-06-25/data/listings.csv.gz']\n",
            "['china', 'beijing', 'beijing', '2019-05-21', 'http://data.insideairbnb.com/china/beijing/beijing/2019-05-21/data/listings.csv.gz']\n",
            "['belize', 'bz', 'belize', '2019-05-26', 'http://data.insideairbnb.com/belize/bz/belize/2019-05-26/data/listings.csv.gz']\n",
            "['italy', 'lombardia', 'bergamo', '2019-05-30', 'http://data.insideairbnb.com/italy/lombardia/bergamo/2019-05-30/data/listings.csv.gz']\n",
            "['germany', 'be', 'berlin', '2019-05-14', 'http://data.insideairbnb.com/germany/be/berlin/2019-05-14/data/listings.csv.gz']\n",
            "['italy', 'emilia-romagna', 'bologna', '2019-06-08', 'http://data.insideairbnb.com/italy/emilia-romagna/bologna/2019-06-08/data/listings.csv.gz']\n",
            "['france', 'nouvelle-aquitaine', 'bordeaux', '2019-05-23', 'http://data.insideairbnb.com/france/nouvelle-aquitaine/bordeaux/2019-05-23/data/listings.csv.gz']\n",
            "['united-states', 'ma', 'boston', '2019-05-19', 'http://data.insideairbnb.com/united-states/ma/boston/2019-05-19/data/listings.csv.gz']\n",
            "['united-kingdom', 'england', 'bristol', '2019-05-19', 'http://data.insideairbnb.com/united-kingdom/england/bristol/2019-05-19/data/listings.csv.gz']\n",
            "['united-states', 'fl', 'broward-county', '2019-05-19', 'http://data.insideairbnb.com/united-states/fl/broward-county/2019-05-19/data/listings.csv.gz']\n",
            "['belgium', 'bru', 'brussels', '2019-06-10', 'http://data.insideairbnb.com/belgium/bru/brussels/2019-06-10/data/listings.csv.gz']\n",
            "['argentina', 'ciudad-aut%C3%B3noma-de-buenos-aires', 'buenos-aires', '2019-04-17', 'http://data.insideairbnb.com/argentina/ciudad-aut%C3%B3noma-de-buenos-aires/buenos-aires/2019-04-17/data/listings.csv.gz']\n",
            "['united-states', 'ma', 'cambridge', '2019-06-24', 'http://data.insideairbnb.com/united-states/ma/cambridge/2019-06-24/data/listings.csv.gz']\n",
            "['south-africa', 'wc', 'cape-town', '2019-05-23', 'http://data.insideairbnb.com/south-africa/wc/cape-town/2019-05-23/data/listings.csv.gz']\n",
            "['united-states', 'il', 'chicago', '2019-05-19', 'http://data.insideairbnb.com/united-states/il/chicago/2019-05-19/data/listings.csv.gz']\n",
            "['united-states', 'nv', 'clark-county-nv', '2019-06-25', 'http://data.insideairbnb.com/united-states/nv/clark-county-nv/2019-06-25/data/listings.csv.gz']\n",
            "['united-states', 'oh', 'columbus', '2019-05-18', 'http://data.insideairbnb.com/united-states/oh/columbus/2019-05-18/data/listings.csv.gz']\n",
            "['denmark', 'hovedstaden', 'copenhagen', '2019-06-27', 'http://data.insideairbnb.com/denmark/hovedstaden/copenhagen/2019-06-27/data/listings.csv.gz']\n",
            "['greece', 'crete', 'crete', '2019-06-26', 'http://data.insideairbnb.com/greece/crete/crete/2019-06-26/data/listings.csv.gz']\n",
            "['united-states', 'co', 'denver', '2019-05-29', 'http://data.insideairbnb.com/united-states/co/denver/2019-05-29/data/listings.csv.gz']\n",
            "['ireland', 'leinster', 'dublin', '2019-06-25', 'http://data.insideairbnb.com/ireland/leinster/dublin/2019-06-25/data/listings.csv.gz']\n",
            "['united-kingdom', 'scotland', 'edinburgh', '2019-05-24', 'http://data.insideairbnb.com/united-kingdom/scotland/edinburgh/2019-05-24/data/listings.csv.gz']\n",
            "['spain', 'pv', 'euskadi', '2019-06-30', 'http://data.insideairbnb.com/spain/pv/euskadi/2019-06-30/data/listings.csv.gz']\n",
            "['italy', 'toscana', 'florence', '2019-05-21', 'http://data.insideairbnb.com/italy/toscana/florence/2019-05-21/data/listings.csv.gz']\n",
            "['switzerland', 'geneva', 'geneva', '2019-05-25', 'http://data.insideairbnb.com/switzerland/geneva/geneva/2019-05-25/data/listings.csv.gz']\n",
            "['belgium', 'vlg', 'ghent', '2019-06-16', 'http://data.insideairbnb.com/belgium/vlg/ghent/2019-06-16/data/listings.csv.gz']\n",
            "['spain', 'catalonia', 'girona', '2019-05-29', 'http://data.insideairbnb.com/spain/catalonia/girona/2019-05-29/data/listings.csv.gz']\n",
            "['united-kingdom', 'england', 'greater-manchester', '2019-05-14', 'http://data.insideairbnb.com/united-kingdom/england/greater-manchester/2019-05-14/data/listings.csv.gz']\n",
            "['united-states', 'hi', 'hawaii', '2019-06-03', 'http://data.insideairbnb.com/united-states/hi/hawaii/2019-06-03/data/listings.csv.gz']\n",
            "['china', 'hk', 'hong-kong', '2019-06-10', 'http://data.insideairbnb.com/china/hk/hong-kong/2019-06-10/data/listings.csv.gz']\n",
            "['ireland', 'ireland', 'ireland', '2019-05-12', 'http://data.insideairbnb.com/ireland/2019-05-12/data/listings.csv.gz']\n",
            "['turkey', 'marmara', 'istanbul', '2019-05-29', 'http://data.insideairbnb.com/turkey/marmara/istanbul/2019-05-29/data/listings.csv.gz']\n",
            "['united-states', 'nj', 'jersey-city', '2019-06-29', 'http://data.insideairbnb.com/united-states/nj/jersey-city/2019-06-29/data/listings.csv.gz']\n",
            "['portugal', 'lisbon', 'lisbon', '2019-06-26', 'http://data.insideairbnb.com/portugal/lisbon/lisbon/2019-06-26/data/listings.csv.gz']\n",
            "['united-kingdom', 'england', 'london', '2019-06-05', 'http://data.insideairbnb.com/united-kingdom/england/london/2019-06-05/data/listings.csv.gz']\n",
            "['united-states', 'ca', 'los-angeles', '2019-05-05', 'http://data.insideairbnb.com/united-states/ca/los-angeles/2019-05-05/data/listings.csv.gz']\n",
            "['france', 'auvergne-rhone-alpes', 'lyon', '2019-05-23', 'http://data.insideairbnb.com/france/auvergne-rhone-alpes/lyon/2019-05-23/data/listings.csv.gz']\n",
            "['spain', 'comunidad-de-madrid', 'madrid', '2019-05-14', 'http://data.insideairbnb.com/spain/comunidad-de-madrid/madrid/2019-05-14/data/listings.csv.gz']\n",
            "['spain', 'andaluc%C3%ADa', 'malaga', '2019-05-30', 'http://data.insideairbnb.com/spain/andaluc%C3%ADa/malaga/2019-05-30/data/listings.csv.gz']\n",
            "['spain', 'islas-baleares', 'mallorca', '2019-06-27', 'http://data.insideairbnb.com/spain/islas-baleares/mallorca/2019-06-27/data/listings.csv.gz']\n",
            "['united-kingdom', 'england', 'manchester', '2016-04-10', 'http://data.insideairbnb.com/united-kingdom/england/manchester/2016-04-10/data/listings.csv.gz']\n",
            "['australia', 'vic', 'melbourne', '2019-06-04', 'http://data.insideairbnb.com/australia/vic/melbourne/2019-06-04/data/listings.csv.gz']\n",
            "['spain', 'islas-baleares', 'menorca', '2019-06-30', 'http://data.insideairbnb.com/spain/islas-baleares/menorca/2019-06-30/data/listings.csv.gz']\n",
            "['mexico', 'df', 'mexico-city', '2019-05-22', 'http://data.insideairbnb.com/mexico/df/mexico-city/2019-05-22/data/listings.csv.gz']\n",
            "['italy', 'lombardy', 'milan', '2019-05-14', 'http://data.insideairbnb.com/italy/lombardy/milan/2019-05-14/data/listings.csv.gz']\n",
            "['canada', 'qc', 'montreal', '2019-06-10', 'http://data.insideairbnb.com/canada/qc/montreal/2019-06-10/data/listings.csv.gz']\n",
            "['germany', 'bv', 'munich', '2019-05-22', 'http://data.insideairbnb.com/germany/bv/munich/2019-05-22/data/listings.csv.gz']\n",
            "['italy', 'campania', 'naples', '2019-05-14', 'http://data.insideairbnb.com/italy/campania/naples/2019-05-14/data/listings.csv.gz']\n",
            "['united-states', 'tn', 'nashville', '2019-06-11', 'http://data.insideairbnb.com/united-states/tn/nashville/2019-06-11/data/listings.csv.gz']\n",
            "['united-states', 'la', 'new-orleans', '2019-05-05', 'http://data.insideairbnb.com/united-states/la/new-orleans/2019-05-05/data/listings.csv.gz']\n",
            "['united-states', 'ny', 'new-york-city', '2019-06-02', 'http://data.insideairbnb.com/united-states/ny/new-york-city/2019-06-02/data/listings.csv.gz']\n",
            "['australia', 'nsw', 'northern-rivers', '2019-05-29', 'http://data.insideairbnb.com/australia/nsw/northern-rivers/2019-05-29/data/listings.csv.gz']\n",
            "['united-states', 'ca', 'oakland', '2019-05-18', 'http://data.insideairbnb.com/united-states/ca/oakland/2019-05-18/data/listings.csv.gz']\n",
            "['norway', 'oslo', 'oslo', '2019-05-28', 'http://data.insideairbnb.com/norway/oslo/oslo/2019-05-28/data/listings.csv.gz']\n",
            "['canada', 'on', 'ottawa', '2019-05-31', 'http://data.insideairbnb.com/canada/on/ottawa/2019-05-31/data/listings.csv.gz']\n",
            "['united-states', 'ca', 'pacific-grove', '2019-05-31', 'http://data.insideairbnb.com/united-states/ca/pacific-grove/2019-05-31/data/listings.csv.gz']\n",
            "['france', 'ile-de-france', 'paris', '2019-06-05', 'http://data.insideairbnb.com/france/ile-de-france/paris/2019-06-05/data/listings.csv.gz']\n",
            "['united-states', 'or', 'portland', '2019-06-07', 'http://data.insideairbnb.com/united-states/or/portland/2019-06-07/data/listings.csv.gz']\n",
            "['portugal', 'norte', 'porto', '2019-06-25', 'http://data.insideairbnb.com/portugal/norte/porto/2019-06-25/data/listings.csv.gz']\n",
            "['czech-republic', 'prague', 'prague', '2019-05-28', 'http://data.insideairbnb.com/czech-republic/prague/prague/2019-05-28/data/listings.csv.gz']\n",
            "['italy', 'puglia', 'puglia', '2019-05-29', 'http://data.insideairbnb.com/italy/puglia/puglia/2019-05-29/data/listings.csv.gz']\n",
            "['canada', 'qc', 'quebec-city', '2019-06-06', 'http://data.insideairbnb.com/canada/qc/quebec-city/2019-06-06/data/listings.csv.gz']\n",
            "['united-states', 'ri', 'rhode-island', '2019-06-30', 'http://data.insideairbnb.com/united-states/ri/rhode-island/2019-06-30/data/listings.csv.gz']\n",
            "['brazil', 'rj', 'rio-de-janeiro', '2019-05-21', 'http://data.insideairbnb.com/brazil/rj/rio-de-janeiro/2019-05-21/data/listings.csv.gz']\n",
            "['italy', 'lazio', 'rome', '2019-05-14', 'http://data.insideairbnb.com/italy/lazio/rome/2019-05-14/data/listings.csv.gz']\n",
            "['united-states', 'or', 'salem-or', '2019-06-06', 'http://data.insideairbnb.com/united-states/or/salem-or/2019-06-06/data/listings.csv.gz']\n",
            "['united-states', 'ca', 'san-diego', '2019-05-18', 'http://data.insideairbnb.com/united-states/ca/san-diego/2019-05-18/data/listings.csv.gz']\n",
            "['united-states', 'ca', 'san-francisco', '2019-06-02', 'http://data.insideairbnb.com/united-states/ca/san-francisco/2019-06-02/data/listings.csv.gz']\n",
            "['united-states', 'ca', 'santa-clara-county', '2019-06-06', 'http://data.insideairbnb.com/united-states/ca/santa-clara-county/2019-06-06/data/listings.csv.gz']\n",
            "['united-states', 'ca', 'santa-cruz-county', '2019-06-30', 'http://data.insideairbnb.com/united-states/ca/santa-cruz-county/2019-06-30/data/listings.csv.gz']\n",
            "['chile', 'rm', 'santiago', '2019-03-15', 'http://data.insideairbnb.com/chile/rm/santiago/2019-03-15/data/listings.csv.gz']\n",
            "['united-states', 'wa', 'seattle', '2019-05-18', 'http://data.insideairbnb.com/united-states/wa/seattle/2019-05-18/data/listings.csv.gz']\n",
            "['spain', 'andaluc%C3%ADa', 'sevilla', '2019-05-29', 'http://data.insideairbnb.com/spain/andaluc%C3%ADa/sevilla/2019-05-29/data/listings.csv.gz']\n",
            "['italy', 'sicilia', 'sicily', '2019-05-28', 'http://data.insideairbnb.com/italy/sicilia/sicily/2019-05-28/data/listings.csv.gz']\n",
            "['singapore', 'sg', 'singapore', '2019-05-23', 'http://data.insideairbnb.com/singapore/sg/singapore/2019-05-23/data/listings.csv.gz']\n",
            "['greece', 'south-aegean', 'south-aegean', '2019-05-28', 'http://data.insideairbnb.com/greece/south-aegean/south-aegean/2019-05-28/data/listings.csv.gz']\n",
            "['sweden', 'stockholms-l%C3%A4n', 'stockholm', '2019-06-28', 'http://data.insideairbnb.com/sweden/stockholms-l%C3%A4n/stockholm/2019-06-28/data/listings.csv.gz']\n",
            "['australia', 'nsw', 'sydney', '2019-06-04', 'http://data.insideairbnb.com/australia/nsw/sydney/2019-06-04/data/listings.csv.gz']\n",
            "['taiwan', 'northern-taiwan', 'taipei', '2019-05-31', 'http://data.insideairbnb.com/taiwan/northern-taiwan/taipei/2019-05-31/data/listings.csv.gz']\n",
            "['australia', 'tas', 'tasmania', '2019-05-05', 'http://data.insideairbnb.com/australia/tas/tasmania/2019-05-05/data/listings.csv.gz']\n",
            "['greece', 'central-macedonia', 'thessaloniki', '2019-06-11', 'http://data.insideairbnb.com/greece/central-macedonia/thessaloniki/2019-06-11/data/listings.csv.gz']\n",
            "['japan', 'kant%C5%8D', 'tokyo', '2019-06-27', 'http://data.insideairbnb.com/japan/kant%C5%8D/tokyo/2019-06-27/data/listings.csv.gz']\n",
            "['canada', 'on', 'toronto', '2019-06-04', 'http://data.insideairbnb.com/canada/on/toronto/2019-06-04/data/listings.csv.gz']\n",
            "['italy', 'trentino-alto-adige-s%C3%BCdtirol', 'trentino', '2015-10-12', 'http://data.insideairbnb.com/italy/trentino-alto-adige-s%C3%BCdtirol/trentino/2015-10-12/data/listings.csv.gz']\n",
            "['united-states', 'mn', 'twin-cities-msa', '2019-06-02', 'http://data.insideairbnb.com/united-states/mn/twin-cities-msa/2019-06-02/data/listings.csv.gz']\n",
            "['spain', 'vc', 'valencia', '2019-05-31', 'http://data.insideairbnb.com/spain/vc/valencia/2019-05-31/data/listings.csv.gz']\n",
            "['canada', 'bc', 'vancouver', '2019-06-07', 'http://data.insideairbnb.com/canada/bc/vancouver/2019-06-07/data/listings.csv.gz']\n",
            "['switzerland', 'vd', 'vaud', '2019-05-29', 'http://data.insideairbnb.com/switzerland/vd/vaud/2019-05-29/data/listings.csv.gz']\n",
            "['italy', 'veneto', 'venice', '2019-06-07', 'http://data.insideairbnb.com/italy/veneto/venice/2019-06-07/data/listings.csv.gz']\n",
            "['canada', 'bc', 'victoria', '2019-05-26', 'http://data.insideairbnb.com/canada/bc/victoria/2019-05-26/data/listings.csv.gz']\n",
            "['austria', 'vienna', 'vienna', '2019-06-11', 'http://data.insideairbnb.com/austria/vienna/vienna/2019-06-11/data/listings.csv.gz']\n",
            "['united-states', 'dc', 'washington-dc', '2019-06-16', 'http://data.insideairbnb.com/united-states/dc/washington-dc/2019-06-16/data/listings.csv.gz']\n",
            "['australia', 'wa', 'western-australia', '2019-05-05', 'http://data.insideairbnb.com/australia/wa/western-australia/2019-05-05/data/listings.csv.gz']\n",
            "Info: Completed summary information of each city \n"
          ],
          "name": "stdout"
        }
      ]
    },
    {
      "cell_type": "markdown",
      "metadata": {
        "id": "RXM-VkVAupjf",
        "colab_type": "text"
      },
      "source": [
        "### Merging Data \n",
        "\n",
        "The data from each city shall be consolidated together into one single dataframe. This shall be used for further data wrangling and modeling."
      ]
    },
    {
      "cell_type": "code",
      "metadata": {
        "id": "3s0jPNR8vSve",
        "colab_type": "code",
        "colab": {}
      },
      "source": [
        "import time\n",
        "import gzip\n",
        "import pandas as pd\n",
        "import os"
      ],
      "execution_count": 0,
      "outputs": []
    },
    {
      "cell_type": "code",
      "metadata": {
        "id": "nIXiYWeGL-MD",
        "colab_type": "code",
        "colab": {
          "base_uri": "https://localhost:8080/",
          "height": 1000
        },
        "outputId": "01a1bf60-c5d1-4d86-f0b0-d2a8a5e2e659"
      },
      "source": [
        "# Consolidated data frame to hold data for all cities together.\n",
        "df_all = pd.DataFrame()\n",
        "\n",
        "for city in city_data:\n",
        "  city_name = city[2]\n",
        "  url = city[4]\n",
        "  print(f\"Info: Downloading data for {city_name} with url {url}\")\n",
        "  \n",
        "  r = requests.get(url)\n",
        "  \n",
        "  # Retrieve HTTP meta-data.\n",
        "  if r.status_code != 200:\n",
        "    print(f\"Error: Request to {url} failed with status {r.status_code}\")\n",
        "    continue\n",
        "  \n",
        "  # Fetch the data locally.\n",
        "  file_name = f\"{city_name}_listings.csv.gz\"\n",
        "  with open(file_name, 'wb') as f:  \n",
        "    f.write(r.content)\n",
        "    \n",
        "  # Unzip and load the file to data frame.\n",
        "  with gzip.open(file_name) as f:\n",
        "    df = pd.read_csv(f)\n",
        "    \n",
        "    print(f\"Info: Shape of data within {file_name}: {df.shape}\")\n",
        "    \n",
        "    if df_all.empty:\n",
        "      df_all = df\n",
        "    else:\n",
        "      df_all = pd.concat([df_all, df])\n",
        "  \n",
        "  print(f\"Info: Shape of concatenated dataframe: {df_all.shape}\")\n",
        "  \n",
        "  # Remove file \n",
        "  os.remove(file_name)\n",
        "  print(f\"Info: Removed {file_name}!\")\n",
        "  \n",
        "  # Sleep for short duration to ensure server is not loaded\n",
        "  time.sleep(10)"
      ],
      "execution_count": 5,
      "outputs": [
        {
          "output_type": "stream",
          "text": [
            "Info: Downloading data for amsterdam with url http://data.insideairbnb.com/the-netherlands/north-holland/amsterdam/2019-05-06/data/listings.csv.gz\n"
          ],
          "name": "stdout"
        },
        {
          "output_type": "stream",
          "text": [
            "/usr/local/lib/python3.6/dist-packages/IPython/core/interactiveshell.py:2718: DtypeWarning: Columns (94) have mixed types. Specify dtype option on import or set low_memory=False.\n",
            "  interactivity=interactivity, compiler=compiler, result=result)\n"
          ],
          "name": "stderr"
        },
        {
          "output_type": "stream",
          "text": [
            "Info: Shape of data within amsterdam_listings.csv.gz: (19619, 106)\n",
            "Info: Shape of concatenated dataframe: (19619, 106)\n",
            "Info: Removed amsterdam_listings.csv.gz!\n",
            "Info: Downloading data for antwerp with url http://data.insideairbnb.com/belgium/vlg/antwerp/2019-05-23/data/listings.csv.gz\n",
            "Info: Shape of data within antwerp_listings.csv.gz: (2035, 106)\n",
            "Info: Shape of concatenated dataframe: (21654, 106)\n",
            "Info: Removed antwerp_listings.csv.gz!\n",
            "Info: Downloading data for asheville with url http://data.insideairbnb.com/united-states/nc/asheville/2019-06-26/data/listings.csv.gz\n",
            "Info: Shape of data within asheville_listings.csv.gz: (2170, 106)\n",
            "Info: Shape of concatenated dataframe: (23824, 106)\n",
            "Info: Removed asheville_listings.csv.gz!\n",
            "Info: Downloading data for athens with url http://data.insideairbnb.com/greece/attica/athens/2019-06-10/data/listings.csv.gz\n"
          ],
          "name": "stdout"
        },
        {
          "output_type": "stream",
          "text": [
            "/usr/local/lib/python3.6/dist-packages/IPython/core/interactiveshell.py:2718: DtypeWarning: Columns (61,62) have mixed types. Specify dtype option on import or set low_memory=False.\n",
            "  interactivity=interactivity, compiler=compiler, result=result)\n"
          ],
          "name": "stderr"
        },
        {
          "output_type": "stream",
          "text": [
            "Info: Shape of data within athens_listings.csv.gz: (10414, 106)\n",
            "Info: Shape of concatenated dataframe: (34238, 106)\n",
            "Info: Removed athens_listings.csv.gz!\n",
            "Info: Downloading data for austin with url http://data.insideairbnb.com/united-states/tx/austin/2019-05-14/data/listings.csv.gz\n",
            "Info: Shape of data within austin_listings.csv.gz: (11792, 106)\n",
            "Info: Shape of concatenated dataframe: (46030, 106)\n",
            "Info: Removed austin_listings.csv.gz!\n",
            "Info: Downloading data for barcelona with url http://data.insideairbnb.com/spain/catalonia/barcelona/2019-05-14/data/listings.csv.gz\n"
          ],
          "name": "stdout"
        },
        {
          "output_type": "stream",
          "text": [
            "/usr/local/lib/python3.6/dist-packages/IPython/core/interactiveshell.py:2718: DtypeWarning: Columns (43,61,62) have mixed types. Specify dtype option on import or set low_memory=False.\n",
            "  interactivity=interactivity, compiler=compiler, result=result)\n"
          ],
          "name": "stderr"
        },
        {
          "output_type": "stream",
          "text": [
            "Info: Shape of data within barcelona_listings.csv.gz: (18302, 106)\n",
            "Info: Shape of concatenated dataframe: (64332, 106)\n",
            "Info: Removed barcelona_listings.csv.gz!\n",
            "Info: Downloading data for barossa-valley with url http://data.insideairbnb.com/australia/sa/barossa-valley/2019-05-22/data/listings.csv.gz\n",
            "Info: Shape of data within barossa-valley_listings.csv.gz: (240, 106)\n",
            "Info: Shape of concatenated dataframe: (64572, 106)\n",
            "Info: Removed barossa-valley_listings.csv.gz!\n",
            "Info: Downloading data for barwon-south-west-vic with url http://data.insideairbnb.com/australia/vic/barwon-south-west-vic/2019-06-25/data/listings.csv.gz\n",
            "Info: Shape of data within barwon-south-west-vic_listings.csv.gz: (5077, 106)\n",
            "Info: Shape of concatenated dataframe: (69649, 106)\n",
            "Info: Removed barwon-south-west-vic_listings.csv.gz!\n",
            "Info: Downloading data for beijing with url http://data.insideairbnb.com/china/beijing/beijing/2019-05-21/data/listings.csv.gz\n"
          ],
          "name": "stdout"
        },
        {
          "output_type": "stream",
          "text": [
            "/usr/local/lib/python3.6/dist-packages/IPython/core/interactiveshell.py:2718: DtypeWarning: Columns (43,61,62,95) have mixed types. Specify dtype option on import or set low_memory=False.\n",
            "  interactivity=interactivity, compiler=compiler, result=result)\n"
          ],
          "name": "stderr"
        },
        {
          "output_type": "stream",
          "text": [
            "Info: Shape of data within beijing_listings.csv.gz: (31457, 106)\n",
            "Info: Shape of concatenated dataframe: (101106, 106)\n",
            "Info: Removed beijing_listings.csv.gz!\n",
            "Info: Downloading data for belize with url http://data.insideairbnb.com/belize/bz/belize/2019-05-26/data/listings.csv.gz\n",
            "Info: Shape of data within belize_listings.csv.gz: (2558, 106)\n",
            "Info: Shape of concatenated dataframe: (103664, 106)\n",
            "Info: Removed belize_listings.csv.gz!\n",
            "Info: Downloading data for bergamo with url http://data.insideairbnb.com/italy/lombardia/bergamo/2019-05-30/data/listings.csv.gz\n",
            "Info: Shape of data within bergamo_listings.csv.gz: (2412, 106)\n",
            "Info: Shape of concatenated dataframe: (106076, 106)\n",
            "Info: Removed bergamo_listings.csv.gz!\n",
            "Info: Downloading data for berlin with url http://data.insideairbnb.com/germany/be/berlin/2019-05-14/data/listings.csv.gz\n",
            "Info: Shape of data within berlin_listings.csv.gz: (23536, 106)\n",
            "Info: Shape of concatenated dataframe: (129612, 106)\n",
            "Info: Removed berlin_listings.csv.gz!\n",
            "Info: Downloading data for bologna with url http://data.insideairbnb.com/italy/emilia-romagna/bologna/2019-06-08/data/listings.csv.gz\n",
            "Info: Shape of data within bologna_listings.csv.gz: (4169, 106)\n",
            "Info: Shape of concatenated dataframe: (133781, 106)\n",
            "Info: Removed bologna_listings.csv.gz!\n",
            "Info: Downloading data for bordeaux with url http://data.insideairbnb.com/france/nouvelle-aquitaine/bordeaux/2019-05-23/data/listings.csv.gz\n",
            "Info: Shape of data within bordeaux_listings.csv.gz: (10099, 106)\n",
            "Info: Shape of concatenated dataframe: (143880, 106)\n",
            "Info: Removed bordeaux_listings.csv.gz!\n",
            "Info: Downloading data for boston with url http://data.insideairbnb.com/united-states/ma/boston/2019-05-19/data/listings.csv.gz\n",
            "Info: Shape of data within boston_listings.csv.gz: (6241, 106)\n",
            "Info: Shape of concatenated dataframe: (150121, 106)\n",
            "Info: Removed boston_listings.csv.gz!\n",
            "Info: Downloading data for bristol with url http://data.insideairbnb.com/united-kingdom/england/bristol/2019-05-19/data/listings.csv.gz\n",
            "Info: Shape of data within bristol_listings.csv.gz: (2570, 106)\n",
            "Info: Shape of concatenated dataframe: (152691, 106)\n",
            "Info: Removed bristol_listings.csv.gz!\n",
            "Info: Downloading data for broward-county with url http://data.insideairbnb.com/united-states/fl/broward-county/2019-05-19/data/listings.csv.gz\n",
            "Info: Shape of data within broward-county_listings.csv.gz: (9165, 106)\n",
            "Info: Shape of concatenated dataframe: (161856, 106)\n",
            "Info: Removed broward-county_listings.csv.gz!\n",
            "Info: Downloading data for brussels with url http://data.insideairbnb.com/belgium/bru/brussels/2019-06-10/data/listings.csv.gz\n",
            "Info: Shape of data within brussels_listings.csv.gz: (8478, 106)\n",
            "Info: Shape of concatenated dataframe: (170334, 106)\n",
            "Info: Removed brussels_listings.csv.gz!\n",
            "Info: Downloading data for buenos-aires with url http://data.insideairbnb.com/argentina/ciudad-aut%C3%B3noma-de-buenos-aires/buenos-aires/2019-04-17/data/listings.csv.gz\n"
          ],
          "name": "stdout"
        },
        {
          "output_type": "stream",
          "text": [
            "/usr/local/lib/python3.6/dist-packages/IPython/core/interactiveshell.py:2718: DtypeWarning: Columns (61,62,95) have mixed types. Specify dtype option on import or set low_memory=False.\n",
            "  interactivity=interactivity, compiler=compiler, result=result)\n"
          ],
          "name": "stderr"
        },
        {
          "output_type": "stream",
          "text": [
            "Info: Shape of data within buenos-aires_listings.csv.gz: (18708, 106)\n",
            "Info: Shape of concatenated dataframe: (189042, 106)\n",
            "Info: Removed buenos-aires_listings.csv.gz!\n",
            "Info: Downloading data for cambridge with url http://data.insideairbnb.com/united-states/ma/cambridge/2019-06-24/data/listings.csv.gz\n",
            "Info: Shape of data within cambridge_listings.csv.gz: (1369, 106)\n",
            "Info: Shape of concatenated dataframe: (190411, 106)\n",
            "Info: Removed cambridge_listings.csv.gz!\n",
            "Info: Downloading data for cape-town with url http://data.insideairbnb.com/south-africa/wc/cape-town/2019-05-23/data/listings.csv.gz\n"
          ],
          "name": "stdout"
        },
        {
          "output_type": "stream",
          "text": [
            "/usr/local/lib/python3.6/dist-packages/IPython/core/interactiveshell.py:2718: DtypeWarning: Columns (43) have mixed types. Specify dtype option on import or set low_memory=False.\n",
            "  interactivity=interactivity, compiler=compiler, result=result)\n"
          ],
          "name": "stderr"
        },
        {
          "output_type": "stream",
          "text": [
            "Info: Shape of data within cape-town_listings.csv.gz: (22486, 106)\n",
            "Info: Shape of concatenated dataframe: (212897, 106)\n",
            "Info: Removed cape-town_listings.csv.gz!\n",
            "Info: Downloading data for chicago with url http://data.insideairbnb.com/united-states/il/chicago/2019-05-19/data/listings.csv.gz\n",
            "Info: Shape of data within chicago_listings.csv.gz: (8169, 106)\n",
            "Info: Shape of concatenated dataframe: (221066, 106)\n",
            "Info: Removed chicago_listings.csv.gz!\n",
            "Info: Downloading data for clark-county-nv with url http://data.insideairbnb.com/united-states/nv/clark-county-nv/2019-06-25/data/listings.csv.gz\n",
            "Info: Shape of data within clark-county-nv_listings.csv.gz: (9369, 106)\n",
            "Info: Shape of concatenated dataframe: (230435, 106)\n",
            "Info: Removed clark-county-nv_listings.csv.gz!\n",
            "Info: Downloading data for columbus with url http://data.insideairbnb.com/united-states/oh/columbus/2019-05-18/data/listings.csv.gz\n",
            "Info: Shape of data within columbus_listings.csv.gz: (1363, 106)\n",
            "Info: Shape of concatenated dataframe: (231798, 106)\n",
            "Info: Removed columbus_listings.csv.gz!\n",
            "Info: Downloading data for copenhagen with url http://data.insideairbnb.com/denmark/hovedstaden/copenhagen/2019-06-27/data/listings.csv.gz\n",
            "Info: Shape of data within copenhagen_listings.csv.gz: (27657, 106)\n",
            "Info: Shape of concatenated dataframe: (259455, 106)\n",
            "Info: Removed copenhagen_listings.csv.gz!\n",
            "Info: Downloading data for crete with url http://data.insideairbnb.com/greece/crete/crete/2019-06-26/data/listings.csv.gz\n",
            "Info: Shape of data within crete_listings.csv.gz: (17183, 106)\n",
            "Info: Shape of concatenated dataframe: (276638, 106)\n",
            "Info: Removed crete_listings.csv.gz!\n",
            "Info: Downloading data for denver with url http://data.insideairbnb.com/united-states/co/denver/2019-05-29/data/listings.csv.gz\n",
            "Info: Shape of data within denver_listings.csv.gz: (4659, 106)\n",
            "Info: Shape of concatenated dataframe: (281297, 106)\n",
            "Info: Removed denver_listings.csv.gz!\n",
            "Info: Downloading data for dublin with url http://data.insideairbnb.com/ireland/leinster/dublin/2019-06-25/data/listings.csv.gz\n",
            "Info: Shape of data within dublin_listings.csv.gz: (9902, 106)\n",
            "Info: Shape of concatenated dataframe: (291199, 106)\n",
            "Info: Removed dublin_listings.csv.gz!\n",
            "Info: Downloading data for edinburgh with url http://data.insideairbnb.com/united-kingdom/scotland/edinburgh/2019-05-24/data/listings.csv.gz\n",
            "Info: Shape of data within edinburgh_listings.csv.gz: (12671, 106)\n",
            "Info: Shape of concatenated dataframe: (303870, 106)\n",
            "Info: Removed edinburgh_listings.csv.gz!\n",
            "Info: Downloading data for euskadi with url http://data.insideairbnb.com/spain/pv/euskadi/2019-06-30/data/listings.csv.gz\n",
            "Info: Shape of data within euskadi_listings.csv.gz: (5173, 106)\n",
            "Info: Shape of concatenated dataframe: (309043, 106)\n",
            "Info: Removed euskadi_listings.csv.gz!\n",
            "Info: Downloading data for florence with url http://data.insideairbnb.com/italy/toscana/florence/2019-05-21/data/listings.csv.gz\n"
          ],
          "name": "stdout"
        },
        {
          "output_type": "stream",
          "text": [
            "/usr/local/lib/python3.6/dist-packages/IPython/core/interactiveshell.py:2718: DtypeWarning: Columns (43,94) have mixed types. Specify dtype option on import or set low_memory=False.\n",
            "  interactivity=interactivity, compiler=compiler, result=result)\n"
          ],
          "name": "stderr"
        },
        {
          "output_type": "stream",
          "text": [
            "Info: Shape of data within florence_listings.csv.gz: (11762, 106)\n",
            "Info: Shape of concatenated dataframe: (320805, 106)\n",
            "Info: Removed florence_listings.csv.gz!\n",
            "Info: Downloading data for geneva with url http://data.insideairbnb.com/switzerland/geneva/geneva/2019-05-25/data/listings.csv.gz\n",
            "Info: Shape of data within geneva_listings.csv.gz: (2976, 106)\n",
            "Info: Shape of concatenated dataframe: (323781, 106)\n",
            "Info: Removed geneva_listings.csv.gz!\n",
            "Info: Downloading data for ghent with url http://data.insideairbnb.com/belgium/vlg/ghent/2019-06-16/data/listings.csv.gz\n",
            "Info: Shape of data within ghent_listings.csv.gz: (1265, 106)\n",
            "Info: Shape of concatenated dataframe: (325046, 106)\n",
            "Info: Removed ghent_listings.csv.gz!\n",
            "Info: Downloading data for girona with url http://data.insideairbnb.com/spain/catalonia/girona/2019-05-29/data/listings.csv.gz\n",
            "Info: Shape of data within girona_listings.csv.gz: (17478, 106)\n",
            "Info: Shape of concatenated dataframe: (342524, 106)\n",
            "Info: Removed girona_listings.csv.gz!\n",
            "Info: Downloading data for greater-manchester with url http://data.insideairbnb.com/united-kingdom/england/greater-manchester/2019-05-14/data/listings.csv.gz\n",
            "Info: Shape of data within greater-manchester_listings.csv.gz: (4166, 106)\n",
            "Info: Shape of concatenated dataframe: (346690, 106)\n",
            "Info: Removed greater-manchester_listings.csv.gz!\n",
            "Info: Downloading data for hawaii with url http://data.insideairbnb.com/united-states/hi/hawaii/2019-06-03/data/listings.csv.gz\n",
            "Info: Shape of data within hawaii_listings.csv.gz: (25706, 106)\n",
            "Info: Shape of concatenated dataframe: (372396, 106)\n",
            "Info: Removed hawaii_listings.csv.gz!\n",
            "Info: Downloading data for hong-kong with url http://data.insideairbnb.com/china/hk/hong-kong/2019-06-10/data/listings.csv.gz\n"
          ],
          "name": "stdout"
        },
        {
          "output_type": "stream",
          "text": [
            "/usr/local/lib/python3.6/dist-packages/IPython/core/interactiveshell.py:2718: DtypeWarning: Columns (61,62,94) have mixed types. Specify dtype option on import or set low_memory=False.\n",
            "  interactivity=interactivity, compiler=compiler, result=result)\n"
          ],
          "name": "stderr"
        },
        {
          "output_type": "stream",
          "text": [
            "Info: Shape of data within hong-kong_listings.csv.gz: (12107, 106)\n",
            "Info: Shape of concatenated dataframe: (384503, 106)\n",
            "Info: Removed hong-kong_listings.csv.gz!\n",
            "Info: Downloading data for ireland with url http://data.insideairbnb.com/ireland/2019-05-12/data/listings.csv.gz\n",
            "Info: Shape of data within ireland_listings.csv.gz: (27852, 111)\n"
          ],
          "name": "stdout"
        },
        {
          "output_type": "stream",
          "text": [
            "/usr/local/lib/python3.6/dist-packages/ipykernel_launcher.py:29: FutureWarning: Sorting because non-concatenation axis is not aligned. A future version\n",
            "of pandas will change to not sort by default.\n",
            "\n",
            "To accept the future behavior, pass 'sort=False'.\n",
            "\n",
            "To retain the current behavior and silence the warning, pass 'sort=True'.\n",
            "\n"
          ],
          "name": "stderr"
        },
        {
          "output_type": "stream",
          "text": [
            "Info: Shape of concatenated dataframe: (412355, 113)\n",
            "Info: Removed ireland_listings.csv.gz!\n",
            "Info: Downloading data for istanbul with url http://data.insideairbnb.com/turkey/marmara/istanbul/2019-05-29/data/listings.csv.gz\n",
            "Info: Shape of data within istanbul_listings.csv.gz: (18589, 106)\n",
            "Info: Shape of concatenated dataframe: (430944, 113)\n",
            "Info: Removed istanbul_listings.csv.gz!\n",
            "Info: Downloading data for jersey-city with url http://data.insideairbnb.com/united-states/nj/jersey-city/2019-06-29/data/listings.csv.gz\n",
            "Info: Shape of data within jersey-city_listings.csv.gz: (2877, 106)\n",
            "Info: Shape of concatenated dataframe: (433821, 113)\n",
            "Info: Removed jersey-city_listings.csv.gz!\n",
            "Info: Downloading data for lisbon with url http://data.insideairbnb.com/portugal/lisbon/lisbon/2019-06-26/data/listings.csv.gz\n"
          ],
          "name": "stdout"
        },
        {
          "output_type": "stream",
          "text": [
            "/usr/local/lib/python3.6/dist-packages/IPython/core/interactiveshell.py:2718: DtypeWarning: Columns (61) have mixed types. Specify dtype option on import or set low_memory=False.\n",
            "  interactivity=interactivity, compiler=compiler, result=result)\n"
          ],
          "name": "stderr"
        },
        {
          "output_type": "stream",
          "text": [
            "Info: Shape of data within lisbon_listings.csv.gz: (24423, 106)\n",
            "Info: Shape of concatenated dataframe: (458244, 113)\n",
            "Info: Removed lisbon_listings.csv.gz!\n",
            "Info: Downloading data for london with url http://data.insideairbnb.com/united-kingdom/england/london/2019-06-05/data/listings.csv.gz\n",
            "Info: Shape of data within london_listings.csv.gz: (82029, 106)\n",
            "Info: Shape of concatenated dataframe: (540273, 113)\n",
            "Info: Removed london_listings.csv.gz!\n",
            "Info: Downloading data for los-angeles with url http://data.insideairbnb.com/united-states/ca/los-angeles/2019-05-05/data/listings.csv.gz\n",
            "Info: Shape of data within los-angeles_listings.csv.gz: (43954, 106)\n",
            "Info: Shape of concatenated dataframe: (584227, 113)\n",
            "Info: Removed los-angeles_listings.csv.gz!\n",
            "Info: Downloading data for lyon with url http://data.insideairbnb.com/france/auvergne-rhone-alpes/lyon/2019-05-23/data/listings.csv.gz\n",
            "Info: Shape of data within lyon_listings.csv.gz: (11212, 106)\n",
            "Info: Shape of concatenated dataframe: (595439, 113)\n",
            "Info: Removed lyon_listings.csv.gz!\n",
            "Info: Downloading data for madrid with url http://data.insideairbnb.com/spain/comunidad-de-madrid/madrid/2019-05-14/data/listings.csv.gz\n",
            "Info: Shape of data within madrid_listings.csv.gz: (18808, 106)\n",
            "Info: Shape of concatenated dataframe: (614247, 113)\n",
            "Info: Removed madrid_listings.csv.gz!\n",
            "Info: Downloading data for malaga with url http://data.insideairbnb.com/spain/andaluc%C3%ADa/malaga/2019-05-30/data/listings.csv.gz\n",
            "Info: Shape of data within malaga_listings.csv.gz: (5442, 106)\n",
            "Info: Shape of concatenated dataframe: (619689, 113)\n",
            "Info: Removed malaga_listings.csv.gz!\n",
            "Info: Downloading data for mallorca with url http://data.insideairbnb.com/spain/islas-baleares/mallorca/2019-06-27/data/listings.csv.gz\n",
            "Info: Shape of data within mallorca_listings.csv.gz: (16773, 106)\n",
            "Info: Shape of concatenated dataframe: (636462, 113)\n",
            "Info: Removed mallorca_listings.csv.gz!\n",
            "Info: Downloading data for manchester with url http://data.insideairbnb.com/united-kingdom/england/manchester/2016-04-10/data/listings.csv.gz\n",
            "Info: Shape of data within manchester_listings.csv.gz: (865, 96)\n",
            "Info: Shape of concatenated dataframe: (637327, 113)\n",
            "Info: Removed manchester_listings.csv.gz!\n",
            "Info: Downloading data for melbourne with url http://data.insideairbnb.com/australia/vic/melbourne/2019-06-04/data/listings.csv.gz\n",
            "Info: Shape of data within melbourne_listings.csv.gz: (23741, 106)\n",
            "Info: Shape of concatenated dataframe: (661068, 113)\n",
            "Info: Removed melbourne_listings.csv.gz!\n",
            "Info: Downloading data for menorca with url http://data.insideairbnb.com/spain/islas-baleares/menorca/2019-06-30/data/listings.csv.gz\n",
            "Info: Shape of data within menorca_listings.csv.gz: (2928, 106)\n",
            "Info: Shape of concatenated dataframe: (663996, 113)\n",
            "Info: Removed menorca_listings.csv.gz!\n",
            "Info: Downloading data for mexico-city with url http://data.insideairbnb.com/mexico/df/mexico-city/2019-05-22/data/listings.csv.gz\n"
          ],
          "name": "stdout"
        },
        {
          "output_type": "stream",
          "text": [
            "/usr/local/lib/python3.6/dist-packages/IPython/core/interactiveshell.py:2718: DtypeWarning: Columns (43,61,62,94) have mixed types. Specify dtype option on import or set low_memory=False.\n",
            "  interactivity=interactivity, compiler=compiler, result=result)\n"
          ],
          "name": "stderr"
        },
        {
          "output_type": "stream",
          "text": [
            "Info: Shape of data within mexico-city_listings.csv.gz: (18348, 106)\n",
            "Info: Shape of concatenated dataframe: (682344, 113)\n",
            "Info: Removed mexico-city_listings.csv.gz!\n",
            "Info: Downloading data for milan with url http://data.insideairbnb.com/italy/lombardy/milan/2019-05-14/data/listings.csv.gz\n",
            "Info: Shape of data within milan_listings.csv.gz: (20627, 106)\n",
            "Info: Shape of concatenated dataframe: (702971, 113)\n",
            "Info: Removed milan_listings.csv.gz!\n",
            "Info: Downloading data for montreal with url http://data.insideairbnb.com/canada/qc/montreal/2019-06-10/data/listings.csv.gz\n",
            "Info: Shape of data within montreal_listings.csv.gz: (20933, 106)\n",
            "Info: Shape of concatenated dataframe: (723904, 113)\n",
            "Info: Removed montreal_listings.csv.gz!\n",
            "Info: Downloading data for munich with url http://data.insideairbnb.com/germany/bv/munich/2019-05-22/data/listings.csv.gz\n",
            "Info: Shape of data within munich_listings.csv.gz: (9881, 106)\n",
            "Info: Shape of concatenated dataframe: (733785, 113)\n",
            "Info: Removed munich_listings.csv.gz!\n",
            "Info: Downloading data for naples with url http://data.insideairbnb.com/italy/campania/naples/2019-05-14/data/listings.csv.gz\n",
            "Info: Shape of data within naples_listings.csv.gz: (7816, 106)\n",
            "Info: Shape of concatenated dataframe: (741601, 113)\n",
            "Info: Removed naples_listings.csv.gz!\n",
            "Info: Downloading data for nashville with url http://data.insideairbnb.com/united-states/tn/nashville/2019-06-11/data/listings.csv.gz\n",
            "Info: Shape of data within nashville_listings.csv.gz: (6962, 106)\n",
            "Info: Shape of concatenated dataframe: (748563, 113)\n",
            "Info: Removed nashville_listings.csv.gz!\n",
            "Info: Downloading data for new-orleans with url http://data.insideairbnb.com/united-states/la/new-orleans/2019-05-05/data/listings.csv.gz\n",
            "Info: Shape of data within new-orleans_listings.csv.gz: (6962, 106)\n",
            "Info: Shape of concatenated dataframe: (755525, 113)\n",
            "Info: Removed new-orleans_listings.csv.gz!\n",
            "Info: Downloading data for new-york-city with url http://data.insideairbnb.com/united-states/ny/new-york-city/2019-06-02/data/listings.csv.gz\n"
          ],
          "name": "stdout"
        },
        {
          "output_type": "stream",
          "text": [
            "/usr/local/lib/python3.6/dist-packages/IPython/core/interactiveshell.py:2718: DtypeWarning: Columns (43,61,62,94,95) have mixed types. Specify dtype option on import or set low_memory=False.\n",
            "  interactivity=interactivity, compiler=compiler, result=result)\n"
          ],
          "name": "stderr"
        },
        {
          "output_type": "stream",
          "text": [
            "Info: Shape of data within new-york-city_listings.csv.gz: (48801, 106)\n",
            "Info: Shape of concatenated dataframe: (804326, 113)\n",
            "Info: Removed new-york-city_listings.csv.gz!\n",
            "Info: Downloading data for northern-rivers with url http://data.insideairbnb.com/australia/nsw/northern-rivers/2019-05-29/data/listings.csv.gz\n",
            "Info: Shape of data within northern-rivers_listings.csv.gz: (5750, 106)\n",
            "Info: Shape of concatenated dataframe: (810076, 113)\n",
            "Info: Removed northern-rivers_listings.csv.gz!\n",
            "Info: Downloading data for oakland with url http://data.insideairbnb.com/united-states/ca/oakland/2019-05-18/data/listings.csv.gz\n",
            "Info: Shape of data within oakland_listings.csv.gz: (3167, 106)\n",
            "Info: Shape of concatenated dataframe: (813243, 113)\n",
            "Info: Removed oakland_listings.csv.gz!\n",
            "Info: Downloading data for oslo with url http://data.insideairbnb.com/norway/oslo/oslo/2019-05-28/data/listings.csv.gz\n",
            "Info: Shape of data within oslo_listings.csv.gz: (8192, 106)\n",
            "Info: Shape of concatenated dataframe: (821435, 113)\n",
            "Info: Removed oslo_listings.csv.gz!\n",
            "Info: Downloading data for ottawa with url http://data.insideairbnb.com/canada/on/ottawa/2019-05-31/data/listings.csv.gz\n",
            "Info: Shape of data within ottawa_listings.csv.gz: (3081, 106)\n",
            "Info: Shape of concatenated dataframe: (824516, 113)\n",
            "Info: Removed ottawa_listings.csv.gz!\n",
            "Info: Downloading data for pacific-grove with url http://data.insideairbnb.com/united-states/ca/pacific-grove/2019-05-31/data/listings.csv.gz\n",
            "Info: Shape of data within pacific-grove_listings.csv.gz: (228, 106)\n",
            "Info: Shape of concatenated dataframe: (824744, 113)\n",
            "Info: Removed pacific-grove_listings.csv.gz!\n",
            "Info: Downloading data for paris with url http://data.insideairbnb.com/france/ile-de-france/paris/2019-06-05/data/listings.csv.gz\n",
            "Info: Shape of data within paris_listings.csv.gz: (60822, 106)\n",
            "Info: Shape of concatenated dataframe: (885566, 113)\n",
            "Info: Removed paris_listings.csv.gz!\n",
            "Info: Downloading data for portland with url http://data.insideairbnb.com/united-states/or/portland/2019-06-07/data/listings.csv.gz\n",
            "Info: Shape of data within portland_listings.csv.gz: (5585, 106)\n",
            "Info: Shape of concatenated dataframe: (891151, 113)\n",
            "Info: Removed portland_listings.csv.gz!\n",
            "Info: Downloading data for porto with url http://data.insideairbnb.com/portugal/norte/porto/2019-06-25/data/listings.csv.gz\n",
            "Info: Shape of data within porto_listings.csv.gz: (10966, 106)\n",
            "Info: Shape of concatenated dataframe: (902117, 113)\n",
            "Info: Removed porto_listings.csv.gz!\n",
            "Info: Downloading data for prague with url http://data.insideairbnb.com/czech-republic/prague/prague/2019-05-28/data/listings.csv.gz\n",
            "Info: Shape of data within prague_listings.csv.gz: (13329, 106)\n",
            "Info: Shape of concatenated dataframe: (915446, 113)\n",
            "Info: Removed prague_listings.csv.gz!\n",
            "Info: Downloading data for puglia with url http://data.insideairbnb.com/italy/puglia/puglia/2019-05-29/data/listings.csv.gz\n",
            "Info: Shape of data within puglia_listings.csv.gz: (37118, 106)\n",
            "Info: Shape of concatenated dataframe: (952564, 113)\n",
            "Info: Removed puglia_listings.csv.gz!\n",
            "Info: Downloading data for quebec-city with url http://data.insideairbnb.com/canada/qc/quebec-city/2019-06-06/data/listings.csv.gz\n",
            "Info: Shape of data within quebec-city_listings.csv.gz: (3491, 106)\n",
            "Info: Shape of concatenated dataframe: (956055, 113)\n",
            "Info: Removed quebec-city_listings.csv.gz!\n",
            "Info: Downloading data for rhode-island with url http://data.insideairbnb.com/united-states/ri/rhode-island/2019-06-30/data/listings.csv.gz\n",
            "Info: Shape of data within rhode-island_listings.csv.gz: (3588, 106)\n",
            "Info: Shape of concatenated dataframe: (959643, 113)\n",
            "Info: Removed rhode-island_listings.csv.gz!\n",
            "Info: Downloading data for rio-de-janeiro with url http://data.insideairbnb.com/brazil/rj/rio-de-janeiro/2019-05-21/data/listings.csv.gz\n",
            "Info: Shape of data within rio-de-janeiro_listings.csv.gz: (35847, 106)\n",
            "Info: Shape of concatenated dataframe: (995490, 113)\n",
            "Info: Removed rio-de-janeiro_listings.csv.gz!\n",
            "Info: Downloading data for rome with url http://data.insideairbnb.com/italy/lazio/rome/2019-05-14/data/listings.csv.gz\n",
            "Info: Shape of data within rome_listings.csv.gz: (30619, 106)\n",
            "Info: Shape of concatenated dataframe: (1026109, 113)\n",
            "Info: Removed rome_listings.csv.gz!\n",
            "Info: Downloading data for salem-or with url http://data.insideairbnb.com/united-states/or/salem-or/2019-06-06/data/listings.csv.gz\n",
            "Info: Shape of data within salem-or_listings.csv.gz: (185, 106)\n",
            "Info: Shape of concatenated dataframe: (1026294, 113)\n",
            "Info: Removed salem-or_listings.csv.gz!\n",
            "Info: Downloading data for san-diego with url http://data.insideairbnb.com/united-states/ca/san-diego/2019-05-18/data/listings.csv.gz\n",
            "Info: Shape of data within san-diego_listings.csv.gz: (12333, 106)\n",
            "Info: Shape of concatenated dataframe: (1038627, 113)\n",
            "Info: Removed san-diego_listings.csv.gz!\n",
            "Info: Downloading data for san-francisco with url http://data.insideairbnb.com/united-states/ca/san-francisco/2019-06-02/data/listings.csv.gz\n",
            "Info: Shape of data within san-francisco_listings.csv.gz: (7575, 106)\n",
            "Info: Shape of concatenated dataframe: (1046202, 113)\n",
            "Info: Removed san-francisco_listings.csv.gz!\n",
            "Info: Downloading data for santa-clara-county with url http://data.insideairbnb.com/united-states/ca/santa-clara-county/2019-06-06/data/listings.csv.gz\n",
            "Info: Shape of data within santa-clara-county_listings.csv.gz: (6972, 106)\n",
            "Info: Shape of concatenated dataframe: (1053174, 113)\n",
            "Info: Removed santa-clara-county_listings.csv.gz!\n",
            "Info: Downloading data for santa-cruz-county with url http://data.insideairbnb.com/united-states/ca/santa-cruz-county/2019-06-30/data/listings.csv.gz\n",
            "Info: Shape of data within santa-cruz-county_listings.csv.gz: (1744, 106)\n",
            "Info: Shape of concatenated dataframe: (1054918, 113)\n",
            "Info: Removed santa-cruz-county_listings.csv.gz!\n",
            "Info: Downloading data for santiago with url http://data.insideairbnb.com/chile/rm/santiago/2019-03-15/data/listings.csv.gz\n",
            "Info: Shape of data within santiago_listings.csv.gz: (15790, 106)\n",
            "Info: Shape of concatenated dataframe: (1070708, 113)\n",
            "Info: Removed santiago_listings.csv.gz!\n",
            "Info: Downloading data for seattle with url http://data.insideairbnb.com/united-states/wa/seattle/2019-05-18/data/listings.csv.gz\n",
            "Info: Shape of data within seattle_listings.csv.gz: (8926, 106)\n",
            "Info: Shape of concatenated dataframe: (1079634, 113)\n",
            "Info: Removed seattle_listings.csv.gz!\n",
            "Info: Downloading data for sevilla with url http://data.insideairbnb.com/spain/andaluc%C3%ADa/sevilla/2019-05-29/data/listings.csv.gz\n",
            "Info: Shape of data within sevilla_listings.csv.gz: (5974, 106)\n",
            "Info: Shape of concatenated dataframe: (1085608, 113)\n",
            "Info: Removed sevilla_listings.csv.gz!\n",
            "Info: Downloading data for sicily with url http://data.insideairbnb.com/italy/sicilia/sicily/2019-05-28/data/listings.csv.gz\n",
            "Info: Shape of data within sicily_listings.csv.gz: (52761, 106)\n",
            "Info: Shape of concatenated dataframe: (1138369, 113)\n",
            "Info: Removed sicily_listings.csv.gz!\n",
            "Info: Downloading data for singapore with url http://data.insideairbnb.com/singapore/sg/singapore/2019-05-23/data/listings.csv.gz\n"
          ],
          "name": "stdout"
        },
        {
          "output_type": "stream",
          "text": [
            "/usr/local/lib/python3.6/dist-packages/IPython/core/interactiveshell.py:2718: DtypeWarning: Columns (42,43,61,62,94,95) have mixed types. Specify dtype option on import or set low_memory=False.\n",
            "  interactivity=interactivity, compiler=compiler, result=result)\n"
          ],
          "name": "stderr"
        },
        {
          "output_type": "stream",
          "text": [
            "Info: Shape of data within singapore_listings.csv.gz: (8325, 106)\n",
            "Info: Shape of concatenated dataframe: (1146694, 113)\n",
            "Info: Removed singapore_listings.csv.gz!\n",
            "Info: Downloading data for south-aegean with url http://data.insideairbnb.com/greece/south-aegean/south-aegean/2019-05-28/data/listings.csv.gz\n",
            "Info: Shape of data within south-aegean_listings.csv.gz: (21008, 106)\n",
            "Info: Shape of concatenated dataframe: (1167702, 113)\n",
            "Info: Removed south-aegean_listings.csv.gz!\n",
            "Info: Downloading data for stockholm with url http://data.insideairbnb.com/sweden/stockholms-l%C3%A4n/stockholm/2019-06-28/data/listings.csv.gz\n",
            "Info: Shape of data within stockholm_listings.csv.gz: (8012, 106)\n",
            "Info: Shape of concatenated dataframe: (1175714, 113)\n",
            "Info: Removed stockholm_listings.csv.gz!\n",
            "Info: Downloading data for sydney with url http://data.insideairbnb.com/australia/nsw/sydney/2019-06-04/data/listings.csv.gz\n",
            "Info: Shape of data within sydney_listings.csv.gz: (37644, 106)\n",
            "Info: Shape of concatenated dataframe: (1213358, 113)\n",
            "Info: Removed sydney_listings.csv.gz!\n",
            "Info: Downloading data for taipei with url http://data.insideairbnb.com/taiwan/northern-taiwan/taipei/2019-05-31/data/listings.csv.gz\n",
            "Info: Shape of data within taipei_listings.csv.gz: (9944, 106)\n",
            "Info: Shape of concatenated dataframe: (1223302, 113)\n",
            "Info: Removed taipei_listings.csv.gz!\n",
            "Info: Downloading data for tasmania with url http://data.insideairbnb.com/australia/tas/tasmania/2019-05-05/data/listings.csv.gz\n",
            "Info: Shape of data within tasmania_listings.csv.gz: (5377, 106)\n",
            "Info: Shape of concatenated dataframe: (1228679, 113)\n",
            "Info: Removed tasmania_listings.csv.gz!\n",
            "Info: Downloading data for thessaloniki with url http://data.insideairbnb.com/greece/central-macedonia/thessaloniki/2019-06-11/data/listings.csv.gz\n",
            "Info: Shape of data within thessaloniki_listings.csv.gz: (2646, 106)\n",
            "Info: Shape of concatenated dataframe: (1231325, 113)\n",
            "Info: Removed thessaloniki_listings.csv.gz!\n",
            "Info: Downloading data for tokyo with url http://data.insideairbnb.com/japan/kant%C5%8D/tokyo/2019-06-27/data/listings.csv.gz\n",
            "Error: Request to http://data.insideairbnb.com/japan/kant%C5%8D/tokyo/2019-06-27/data/listings.csv.gz failed with status 404\n",
            "Info: Downloading data for toronto with url http://data.insideairbnb.com/canada/on/toronto/2019-06-04/data/listings.csv.gz\n",
            "Info: Shape of data within toronto_listings.csv.gz: (20769, 106)\n",
            "Info: Shape of concatenated dataframe: (1252094, 113)\n",
            "Info: Removed toronto_listings.csv.gz!\n",
            "Info: Downloading data for trentino with url http://data.insideairbnb.com/italy/trentino-alto-adige-s%C3%BCdtirol/trentino/2015-10-12/data/listings.csv.gz\n",
            "Info: Shape of data within trentino_listings.csv.gz: (1847, 92)\n",
            "Info: Shape of concatenated dataframe: (1253941, 113)\n",
            "Info: Removed trentino_listings.csv.gz!\n",
            "Info: Downloading data for twin-cities-msa with url http://data.insideairbnb.com/united-states/mn/twin-cities-msa/2019-06-02/data/listings.csv.gz\n",
            "Info: Shape of data within twin-cities-msa_listings.csv.gz: (6607, 106)\n",
            "Info: Shape of concatenated dataframe: (1260548, 113)\n",
            "Info: Removed twin-cities-msa_listings.csv.gz!\n",
            "Info: Downloading data for valencia with url http://data.insideairbnb.com/spain/vc/valencia/2019-05-31/data/listings.csv.gz\n",
            "Info: Shape of data within valencia_listings.csv.gz: (6981, 106)\n",
            "Info: Shape of concatenated dataframe: (1267529, 113)\n",
            "Info: Removed valencia_listings.csv.gz!\n",
            "Info: Downloading data for vancouver with url http://data.insideairbnb.com/canada/bc/vancouver/2019-06-07/data/listings.csv.gz\n",
            "Info: Shape of data within vancouver_listings.csv.gz: (5601, 106)\n",
            "Info: Shape of concatenated dataframe: (1273130, 113)\n",
            "Info: Removed vancouver_listings.csv.gz!\n",
            "Info: Downloading data for vaud with url http://data.insideairbnb.com/switzerland/vd/vaud/2019-05-29/data/listings.csv.gz\n",
            "Info: Shape of data within vaud_listings.csv.gz: (4039, 106)\n",
            "Info: Shape of concatenated dataframe: (1277169, 113)\n",
            "Info: Removed vaud_listings.csv.gz!\n",
            "Info: Downloading data for venice with url http://data.insideairbnb.com/italy/veneto/venice/2019-06-07/data/listings.csv.gz\n",
            "Info: Shape of data within venice_listings.csv.gz: (8637, 106)\n",
            "Info: Shape of concatenated dataframe: (1285806, 113)\n",
            "Info: Removed venice_listings.csv.gz!\n",
            "Info: Downloading data for victoria with url http://data.insideairbnb.com/canada/bc/victoria/2019-05-26/data/listings.csv.gz\n",
            "Info: Shape of data within victoria_listings.csv.gz: (3655, 106)\n",
            "Info: Shape of concatenated dataframe: (1289461, 113)\n",
            "Info: Removed victoria_listings.csv.gz!\n",
            "Info: Downloading data for vienna with url http://data.insideairbnb.com/austria/vienna/vienna/2019-06-11/data/listings.csv.gz\n",
            "Info: Shape of data within vienna_listings.csv.gz: (11852, 106)\n",
            "Info: Shape of concatenated dataframe: (1301313, 113)\n",
            "Info: Removed vienna_listings.csv.gz!\n",
            "Info: Downloading data for washington-dc with url http://data.insideairbnb.com/united-states/dc/washington-dc/2019-06-16/data/listings.csv.gz\n",
            "Info: Shape of data within washington-dc_listings.csv.gz: (8994, 106)\n",
            "Info: Shape of concatenated dataframe: (1310307, 113)\n",
            "Info: Removed washington-dc_listings.csv.gz!\n",
            "Info: Downloading data for western-australia with url http://data.insideairbnb.com/australia/wa/western-australia/2019-05-05/data/listings.csv.gz\n",
            "Info: Shape of data within western-australia_listings.csv.gz: (12566, 106)\n",
            "Info: Shape of concatenated dataframe: (1322873, 113)\n",
            "Info: Removed western-australia_listings.csv.gz!\n"
          ],
          "name": "stdout"
        }
      ]
    }
  ]
}